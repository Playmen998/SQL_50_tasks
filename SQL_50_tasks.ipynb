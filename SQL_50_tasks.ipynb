{
  "nbformat": 4,
  "nbformat_minor": 0,
  "metadata": {
    "colab": {
      "provenance": [],
      "collapsed_sections": [
        "IBBNQmGKObZW",
        "yY9tTA8to7wF"
      ],
      "toc_visible": true,
      "authorship_tag": "ABX9TyMYtXXkUyPfoFCM7fDLRiQe",
      "include_colab_link": true
    },
    "kernelspec": {
      "name": "python3",
      "display_name": "Python 3"
    },
    "language_info": {
      "name": "python"
    }
  },
  "cells": [
    {
      "cell_type": "markdown",
      "metadata": {
        "id": "view-in-github",
        "colab_type": "text"
      },
      "source": [
        "<a href=\"https://colab.research.google.com/github/Playmen998/SQL_50_tasks/blob/main/SQL_50_tasks.ipynb\" target=\"_parent\"><img src=\"https://colab.research.google.com/assets/colab-badge.svg\" alt=\"Open In Colab\"/></a>"
      ]
    },
    {
      "cell_type": "markdown",
      "source": [
        "## Введение\n"
      ],
      "metadata": {
        "id": "MBnZfyulS_WE"
      }
    },
    {
      "cell_type": "markdown",
      "source": [
        "В данном ноутбуке разобраны 50 задач SQL разной сложности (easy, medium, hard). Запросы написаны на разных БД: sqlite3, MySql, Postgresql.  \n",
        "Задачи были взяты из разных источников:  \n",
        "Stepik SQL тренажер (https://stepik.org/course/63054/syllabus) - 9 задач  (БД - sqlite3)  \n",
        "Leetcode (https://leetcode.com/problemset/database/) - 7 задач (БД - sqlite3)  \n",
        "Stratascratch (https://platform.stratascratch.com/coding?code_type=1) - 24 задач (БД - MySql)  \n",
        "IT Resume (https://itresume.ru/problems) - 10 задач (БД - Postgresql)\n"
      ],
      "metadata": {
        "id": "ebjF9Bevask3"
      }
    },
    {
      "cell_type": "markdown",
      "source": [
        "#Подключим sqlite3"
      ],
      "metadata": {
        "id": "IeaVW97dbYcr"
      }
    },
    {
      "cell_type": "markdown",
      "source": [
        "Установим последнюю версию sqlite3"
      ],
      "metadata": {
        "id": "tihxcVJ5b3Jj"
      }
    },
    {
      "cell_type": "code",
      "source": [
        "!gdown --id 1BSHIKQ7rFw5BpTq5nw1UZfjPK_7Mpnbi\n",
        "!mv _sqlite3.cpython-37m-x86_64-linux-gnu.so /usr/lib/python3.7/lib-dynload/\n",
        "import os\n",
        "os.kill(os.getpid(), 9)"
      ],
      "metadata": {
        "colab": {
          "base_uri": "https://localhost:8080/"
        },
        "id": "7BZvrn9lb757",
        "outputId": "4e634cb3-3c18-40f1-ca77-857b0e13bf15"
      },
      "execution_count": null,
      "outputs": [
        {
          "output_type": "stream",
          "name": "stdout",
          "text": [
            "/usr/local/lib/python3.7/dist-packages/gdown/cli.py:131: FutureWarning: Option `--id` was deprecated in version 4.3.1 and will be removed in 5.0. You don't need to pass it anymore to use a file ID.\n",
            "  category=FutureWarning,\n",
            "Downloading...\n",
            "From: https://drive.google.com/uc?id=1BSHIKQ7rFw5BpTq5nw1UZfjPK_7Mpnbi\n",
            "To: /content/_sqlite3.cpython-37m-x86_64-linux-gnu.so\n",
            "100% 6.50M/6.50M [00:00<00:00, 173MB/s]\n"
          ]
        }
      ]
    },
    {
      "cell_type": "code",
      "source": [
        "import pandas as pd\n",
        "import numpy as np"
      ],
      "metadata": {
        "id": "tpPLKvPxc1vT"
      },
      "execution_count": null,
      "outputs": []
    },
    {
      "cell_type": "code",
      "source": [
        "import sqlite3"
      ],
      "metadata": {
        "id": "zAQa1e2abg1j"
      },
      "execution_count": null,
      "outputs": []
    },
    {
      "cell_type": "code",
      "source": [
        "sqlite3.sqlite_version"
      ],
      "metadata": {
        "colab": {
          "base_uri": "https://localhost:8080/",
          "height": 35
        },
        "id": "xv7G9ip1b0fb",
        "outputId": "f653fb30-6262-4eba-8c4f-b442709864b1"
      },
      "execution_count": null,
      "outputs": [
        {
          "output_type": "execute_result",
          "data": {
            "text/plain": [
              "'3.38.0'"
            ],
            "application/vnd.google.colaboratory.intrinsic+json": {
              "type": "string"
            }
          },
          "metadata": {},
          "execution_count": 41
        }
      ]
    },
    {
      "cell_type": "markdown",
      "source": [
        "Последняя версия sqlite3 на 20.09.22 это 3.38.0"
      ],
      "metadata": {
        "id": "e77VhO3fckXL"
      }
    },
    {
      "cell_type": "code",
      "source": [
        "con = sqlite3.connect('data')"
      ],
      "metadata": {
        "id": "U9YkCS-Xb7Br"
      },
      "execution_count": null,
      "outputs": []
    },
    {
      "cell_type": "code",
      "source": [
        "cur = con.cursor()"
      ],
      "metadata": {
        "id": "RIu3b4o7cxOL"
      },
      "execution_count": null,
      "outputs": []
    },
    {
      "cell_type": "markdown",
      "source": [
        "Создадим функцию select, чтобы делать запросы к БД "
      ],
      "metadata": {
        "id": "MH9C10FNN_s6"
      }
    },
    {
      "cell_type": "code",
      "source": [
        "def select(sql):\n",
        "  return pd.read_sql(sql,con)"
      ],
      "metadata": {
        "id": "7jnckaeNOY-V"
      },
      "execution_count": null,
      "outputs": []
    },
    {
      "cell_type": "markdown",
      "source": [
        "# Stepik"
      ],
      "metadata": {
        "id": "Z-oVeEQrDr2C"
      }
    },
    {
      "cell_type": "markdown",
      "source": [
        "**Все запросы написаны на sqlite3**"
      ],
      "metadata": {
        "id": "Cx9BfBTJWUxH"
      }
    },
    {
      "cell_type": "markdown",
      "source": [
        "## Внесем данные в БД (Тестирование)"
      ],
      "metadata": {
        "id": "IBBNQmGKObZW"
      }
    },
    {
      "cell_type": "code",
      "source": [
        "cur.execute(\"\"\"CREATE TABLE `student` (\n",
        "`student_id` INTEGER PRIMARY KEY AUTOINCREMENT,\n",
        "`name_student` varchar(50) DEFAULT NULL\n",
        ");\n",
        "\"\"\")\n",
        "con.commit()"
      ],
      "metadata": {
        "id": "HKdAkdX7cz1k"
      },
      "execution_count": null,
      "outputs": []
    },
    {
      "cell_type": "code",
      "source": [
        "cur.execute(\"\"\"CREATE TABLE `subject` (\n",
        "`subject_id` INTEGER PRIMARY KEY AUTOINCREMENT,\n",
        "`name_subject` varchar(30) DEFAULT NULL\n",
        ");\n",
        "\"\"\")\n",
        "con.commit()"
      ],
      "metadata": {
        "id": "plQ0YY_0LCVq"
      },
      "execution_count": null,
      "outputs": []
    },
    {
      "cell_type": "code",
      "source": [
        "cur.execute(\"\"\"CREATE TABLE `attempt` (\n",
        "`attempt_id` INTEGER PRIMARY KEY AUTOINCREMENT,\n",
        "student_id int DEFAULT NULL,\n",
        "`subject_id` int DEFAULT NULL,\n",
        "`date_attempt` date DEFAULT NULL,\n",
        "`result` int DEFAULT NULL,\n",
        "CONSTRAINT `attempt_ibfk_1` FOREIGN KEY (`student_id`) REFERENCES `student` (`student_id`) ON DELETE CASCADE,\n",
        "CONSTRAINT `attempt_ibfk_2` FOREIGN KEY (`subject_id`) REFERENCES `subject` (`subject_id`) ON DELETE CASCADE\n",
        ");\n",
        "\"\"\")\n",
        "con.commit()"
      ],
      "metadata": {
        "id": "Zh4m_KQSNQUZ"
      },
      "execution_count": null,
      "outputs": []
    },
    {
      "cell_type": "code",
      "source": [
        "cur.execute(\"\"\"CREATE TABLE `testing` (\n",
        "`testing_id` INTEGER PRIMARY KEY AUTOINCREMENT,\n",
        "`attempt_id` int DEFAULT NULL,\n",
        "`question_id` int DEFAULT NULL,\n",
        "`answer_id` int DEFAULT NULL,\n",
        "CONSTRAINT `testing_ibfk_1` FOREIGN KEY (`attempt_id`) REFERENCES `attempt` (`attempt_id`) ON DELETE CASCADE\n",
        ");\n",
        "\"\"\")\n",
        "con.commit()"
      ],
      "metadata": {
        "id": "OjVgsWUdNT3C"
      },
      "execution_count": null,
      "outputs": []
    },
    {
      "cell_type": "code",
      "source": [
        "cur.execute(\"\"\"CREATE TABLE `question` (\n",
        "`question_id` INTEGER PRIMARY KEY AUTOINCREMENT,\n",
        "`name_question` varchar(100) DEFAULT NULL, \n",
        "`subject_id` int DEFAULT NULL,\n",
        "CONSTRAINT `question_ibfk_1` FOREIGN KEY (`subject_id`) REFERENCES `subject` (`subject_id`) ON DELETE CASCADE\n",
        ");\n",
        "\"\"\")\n",
        "con.commit()"
      ],
      "metadata": {
        "id": "zLNP-2pqNYW5"
      },
      "execution_count": null,
      "outputs": []
    },
    {
      "cell_type": "code",
      "source": [
        "cur.execute(\"\"\"CREATE TABLE `answer` (\n",
        "`answer_id` INTEGER PRIMARY KEY AUTOINCREMENT,\n",
        "`name_answer` varchar(100) DEFAULT NULL,\n",
        "`question_id` int DEFAULT NULL,\n",
        "`is_correct` tinyint(1) DEFAULT NULL,\n",
        "CONSTRAINT `answer_ibfk_1` FOREIGN KEY (`question_id`) REFERENCES `question` (`question_id`) ON DELETE CASCADE\n",
        ");\n",
        "\"\"\")\n",
        "con.commit()"
      ],
      "metadata": {
        "id": "n8282dkqNcM6"
      },
      "execution_count": null,
      "outputs": []
    },
    {
      "cell_type": "code",
      "source": [
        "cur.execute(\"\"\"INSERT INTO student (student_id,name_student) VALUES\n",
        "(1,'Баранов Павел'),\n",
        "(2,'Абрамова Катя'),\n",
        "(3,'Семенов Иван'),\n",
        "(4,'Яковлева Галина');\n",
        "\"\"\")\n",
        "con.commit()"
      ],
      "metadata": {
        "id": "FOSSA_81Ngxh"
      },
      "execution_count": null,
      "outputs": []
    },
    {
      "cell_type": "code",
      "source": [
        "cur.execute(\"\"\"INSERT INTO attempt (attempt_id,student_id,subject_id,date_attempt,result) VALUES\n",
        "(1,1,2,'2020-03-23',67),\n",
        "(2,3,1,'2020-03-23',100),\n",
        "(3,4,2,'2020-03-26',0),\n",
        "(4,1,1,'2020-04-15',33),\n",
        "(5,3,1,'2020-04-15',67),\n",
        "(6,4,2,'2020-04-21',100),\n",
        "(7,3,1,'2020-05-17',33);\n",
        "\"\"\")\n",
        "con.commit()"
      ],
      "metadata": {
        "id": "PjA2OfvYNnHa"
      },
      "execution_count": null,
      "outputs": []
    },
    {
      "cell_type": "code",
      "source": [
        "cur.execute(\"\"\"INSERT INTO question (question_id,name_question,subject_id) VALUES\n",
        "(1,'Запрос на выборку начинается с ключевого слова:',1),\n",
        "(2,'Условие, по которому отбираются записи, задается после ключевого слова:',1),\n",
        "(3,'Для сортировки используется:',1),\n",
        "(4,'Какой запрос выбирает все записи из таблицы student:',1),\n",
        "(5,'Для внутреннего соединения таблиц используется оператор:',1),\n",
        "(6,'База данных - это:',2),\n",
        "(7,'Отношение - это:',2),\n",
        "(8,'Концептуальная модель используется для',2),\n",
        "(9,'Какой тип данных не допустим в реляционной таблице?',2);\n",
        "\"\"\")\n",
        "con.commit()"
      ],
      "metadata": {
        "id": "_6uXP90cNqe5"
      },
      "execution_count": null,
      "outputs": []
    },
    {
      "cell_type": "code",
      "source": [
        "cur.execute(\"\"\"INSERT INTO answer (answer_id,name_answer,question_id,is_correct) VALUES\n",
        "(1,'UPDATE',1,0),\n",
        "(2,'SELECT',1,1),\n",
        "(3,'INSERT',1,0),\n",
        "(4,'GROUP BY',2,0),\n",
        "(5,'FROM',2,0),\n",
        "(6,'WHERE',2,1),\n",
        "(7,'SELECT',2,0),\n",
        "(8,'SORT',3,0),\n",
        "(9,'ORDER BY',3,1),\n",
        "(10,'RANG BY',3,0),\n",
        "(11,'SELECT * FROM student',4,1),\n",
        "(12,'SELECT student',4,0),\n",
        "(13,'INNER JOIN',5,1),\n",
        "(14,'LEFT JOIN',5,0),\n",
        "(15,'RIGHT JOIN',5,0),\n",
        "(16,'CROSS JOIN',5,0),\n",
        "(17,'совокупность данных, организованных по определенным правилам',6,1),\n",
        "(18,'совокупность программ для хранения и обработки больших массивов информации',6,0),\n",
        "(19,'строка',7,0),\n",
        "(20,'столбец',7,0),\n",
        "(21,'таблица',7,1),\n",
        "(22,'обобщенное представление пользователей о данных',8,1),\n",
        "(23,'описание представления данных в памяти компьютера',8,0),\n",
        "(24,'база данных',8,0),\n",
        "(25,'file',9,1),\n",
        "(26,'INT',9,0),\n",
        "(27,'VARCHAR',9,0),\n",
        "(28,'DATE',9,0);\n",
        "\"\"\")\n",
        "con.commit()"
      ],
      "metadata": {
        "id": "mk87F0cRNj8Z"
      },
      "execution_count": null,
      "outputs": []
    },
    {
      "cell_type": "code",
      "source": [
        "cur.execute(\"\"\"INSERT INTO testing (testing_id,attempt_id,question_id,answer_id) VALUES\n",
        "(1,1,9,25),\n",
        "(2,1,7,19),\n",
        "(3,1,6,17),\n",
        "(4,2,3,9),\n",
        "(5,2,1,2),\n",
        "(6,2,4,11),\n",
        "(7,3,6,18),\n",
        "(8,3,8,24),\n",
        "(9,3,9,28),\n",
        "(10,4,1,2),\n",
        "(11,4,5,16),\n",
        "(12,4,3,10),\n",
        "(13,5,2,6),\n",
        "(14,5,1,2),\n",
        "(15,5,4,12),\n",
        "(16,6,6,17),\n",
        "(17,6,8,22),\n",
        "(18,6,7,21),\n",
        "(19,7,1,3),\n",
        "(20,7,4,11),\n",
        "(21,7,5,16);\n",
        "\"\"\")\n",
        "con.commit()"
      ],
      "metadata": {
        "id": "dG4e20FINczq"
      },
      "execution_count": null,
      "outputs": []
    },
    {
      "cell_type": "markdown",
      "source": [
        "Сделаем проверку"
      ],
      "metadata": {
        "id": "hVzuGL5lOo-d"
      }
    },
    {
      "cell_type": "code",
      "source": [
        "sql = '''select *\n",
        "from attempt\n",
        "'''"
      ],
      "metadata": {
        "id": "ncrD9ZmXNc2U"
      },
      "execution_count": null,
      "outputs": []
    },
    {
      "cell_type": "code",
      "source": [
        "select(sql)"
      ],
      "metadata": {
        "colab": {
          "base_uri": "https://localhost:8080/",
          "height": 269
        },
        "id": "JWzFjR0ANc5J",
        "outputId": "52ecfdfa-6ba5-474d-8708-643c373b64ce"
      },
      "execution_count": null,
      "outputs": [
        {
          "output_type": "execute_result",
          "data": {
            "text/plain": [
              "   attempt_id  student_id  subject_id date_attempt  result\n",
              "0           1           1           2   2020-03-23      67\n",
              "1           2           3           1   2020-03-23     100\n",
              "2           3           4           2   2020-03-26       0\n",
              "3           4           1           1   2020-04-15      33\n",
              "4           5           3           1   2020-04-15      67\n",
              "5           6           4           2   2020-04-21     100\n",
              "6           7           3           1   2020-05-17      33"
            ],
            "text/html": [
              "\n",
              "  <div id=\"df-772e68b8-038b-4eda-acb8-6f962bfa288c\">\n",
              "    <div class=\"colab-df-container\">\n",
              "      <div>\n",
              "<style scoped>\n",
              "    .dataframe tbody tr th:only-of-type {\n",
              "        vertical-align: middle;\n",
              "    }\n",
              "\n",
              "    .dataframe tbody tr th {\n",
              "        vertical-align: top;\n",
              "    }\n",
              "\n",
              "    .dataframe thead th {\n",
              "        text-align: right;\n",
              "    }\n",
              "</style>\n",
              "<table border=\"1\" class=\"dataframe\">\n",
              "  <thead>\n",
              "    <tr style=\"text-align: right;\">\n",
              "      <th></th>\n",
              "      <th>attempt_id</th>\n",
              "      <th>student_id</th>\n",
              "      <th>subject_id</th>\n",
              "      <th>date_attempt</th>\n",
              "      <th>result</th>\n",
              "    </tr>\n",
              "  </thead>\n",
              "  <tbody>\n",
              "    <tr>\n",
              "      <th>0</th>\n",
              "      <td>1</td>\n",
              "      <td>1</td>\n",
              "      <td>2</td>\n",
              "      <td>2020-03-23</td>\n",
              "      <td>67</td>\n",
              "    </tr>\n",
              "    <tr>\n",
              "      <th>1</th>\n",
              "      <td>2</td>\n",
              "      <td>3</td>\n",
              "      <td>1</td>\n",
              "      <td>2020-03-23</td>\n",
              "      <td>100</td>\n",
              "    </tr>\n",
              "    <tr>\n",
              "      <th>2</th>\n",
              "      <td>3</td>\n",
              "      <td>4</td>\n",
              "      <td>2</td>\n",
              "      <td>2020-03-26</td>\n",
              "      <td>0</td>\n",
              "    </tr>\n",
              "    <tr>\n",
              "      <th>3</th>\n",
              "      <td>4</td>\n",
              "      <td>1</td>\n",
              "      <td>1</td>\n",
              "      <td>2020-04-15</td>\n",
              "      <td>33</td>\n",
              "    </tr>\n",
              "    <tr>\n",
              "      <th>4</th>\n",
              "      <td>5</td>\n",
              "      <td>3</td>\n",
              "      <td>1</td>\n",
              "      <td>2020-04-15</td>\n",
              "      <td>67</td>\n",
              "    </tr>\n",
              "    <tr>\n",
              "      <th>5</th>\n",
              "      <td>6</td>\n",
              "      <td>4</td>\n",
              "      <td>2</td>\n",
              "      <td>2020-04-21</td>\n",
              "      <td>100</td>\n",
              "    </tr>\n",
              "    <tr>\n",
              "      <th>6</th>\n",
              "      <td>7</td>\n",
              "      <td>3</td>\n",
              "      <td>1</td>\n",
              "      <td>2020-05-17</td>\n",
              "      <td>33</td>\n",
              "    </tr>\n",
              "  </tbody>\n",
              "</table>\n",
              "</div>\n",
              "      <button class=\"colab-df-convert\" onclick=\"convertToInteractive('df-772e68b8-038b-4eda-acb8-6f962bfa288c')\"\n",
              "              title=\"Convert this dataframe to an interactive table.\"\n",
              "              style=\"display:none;\">\n",
              "        \n",
              "  <svg xmlns=\"http://www.w3.org/2000/svg\" height=\"24px\"viewBox=\"0 0 24 24\"\n",
              "       width=\"24px\">\n",
              "    <path d=\"M0 0h24v24H0V0z\" fill=\"none\"/>\n",
              "    <path d=\"M18.56 5.44l.94 2.06.94-2.06 2.06-.94-2.06-.94-.94-2.06-.94 2.06-2.06.94zm-11 1L8.5 8.5l.94-2.06 2.06-.94-2.06-.94L8.5 2.5l-.94 2.06-2.06.94zm10 10l.94 2.06.94-2.06 2.06-.94-2.06-.94-.94-2.06-.94 2.06-2.06.94z\"/><path d=\"M17.41 7.96l-1.37-1.37c-.4-.4-.92-.59-1.43-.59-.52 0-1.04.2-1.43.59L10.3 9.45l-7.72 7.72c-.78.78-.78 2.05 0 2.83L4 21.41c.39.39.9.59 1.41.59.51 0 1.02-.2 1.41-.59l7.78-7.78 2.81-2.81c.8-.78.8-2.07 0-2.86zM5.41 20L4 18.59l7.72-7.72 1.47 1.35L5.41 20z\"/>\n",
              "  </svg>\n",
              "      </button>\n",
              "      \n",
              "  <style>\n",
              "    .colab-df-container {\n",
              "      display:flex;\n",
              "      flex-wrap:wrap;\n",
              "      gap: 12px;\n",
              "    }\n",
              "\n",
              "    .colab-df-convert {\n",
              "      background-color: #E8F0FE;\n",
              "      border: none;\n",
              "      border-radius: 50%;\n",
              "      cursor: pointer;\n",
              "      display: none;\n",
              "      fill: #1967D2;\n",
              "      height: 32px;\n",
              "      padding: 0 0 0 0;\n",
              "      width: 32px;\n",
              "    }\n",
              "\n",
              "    .colab-df-convert:hover {\n",
              "      background-color: #E2EBFA;\n",
              "      box-shadow: 0px 1px 2px rgba(60, 64, 67, 0.3), 0px 1px 3px 1px rgba(60, 64, 67, 0.15);\n",
              "      fill: #174EA6;\n",
              "    }\n",
              "\n",
              "    [theme=dark] .colab-df-convert {\n",
              "      background-color: #3B4455;\n",
              "      fill: #D2E3FC;\n",
              "    }\n",
              "\n",
              "    [theme=dark] .colab-df-convert:hover {\n",
              "      background-color: #434B5C;\n",
              "      box-shadow: 0px 1px 3px 1px rgba(0, 0, 0, 0.15);\n",
              "      filter: drop-shadow(0px 1px 2px rgba(0, 0, 0, 0.3));\n",
              "      fill: #FFFFFF;\n",
              "    }\n",
              "  </style>\n",
              "\n",
              "      <script>\n",
              "        const buttonEl =\n",
              "          document.querySelector('#df-772e68b8-038b-4eda-acb8-6f962bfa288c button.colab-df-convert');\n",
              "        buttonEl.style.display =\n",
              "          google.colab.kernel.accessAllowed ? 'block' : 'none';\n",
              "\n",
              "        async function convertToInteractive(key) {\n",
              "          const element = document.querySelector('#df-772e68b8-038b-4eda-acb8-6f962bfa288c');\n",
              "          const dataTable =\n",
              "            await google.colab.kernel.invokeFunction('convertToInteractive',\n",
              "                                                     [key], {});\n",
              "          if (!dataTable) return;\n",
              "\n",
              "          const docLinkHtml = 'Like what you see? Visit the ' +\n",
              "            '<a target=\"_blank\" href=https://colab.research.google.com/notebooks/data_table.ipynb>data table notebook</a>'\n",
              "            + ' to learn more about interactive tables.';\n",
              "          element.innerHTML = '';\n",
              "          dataTable['output_type'] = 'display_data';\n",
              "          await google.colab.output.renderOutput(dataTable, element);\n",
              "          const docLink = document.createElement('div');\n",
              "          docLink.innerHTML = docLinkHtml;\n",
              "          element.appendChild(docLink);\n",
              "        }\n",
              "      </script>\n",
              "    </div>\n",
              "  </div>\n",
              "  "
            ]
          },
          "metadata": {},
          "execution_count": 34
        }
      ]
    },
    {
      "cell_type": "markdown",
      "source": [
        "![image.png](data:image/png;base64,iVBORw0KGgoAAAANSUhEUgAAAdIAAAFeCAYAAAAxEp6VAAAgAElEQVR4nOydd5wkVbn3vydUdc/MZjKSM6xkwasILkGSetFXr3hVdAUFBSQpIGC+qCCKgCAoUZGkqAiSRFBQ5OpFJO6SluSyOU/orqoT3j9OVXX37OyC7izsDvXj0+x0qOqqrlNPfn6P8N57KlSoUKFChQr/FuTrfQAVKlSoUKHC6oxKkVaoUKFChQorgEqRVqhQoUKFCiuASpFWqFChQoUKK4BKkVaoUKFChQorgEqRVqhQoUKFCiuASpFWGHGoOrpGJqy1K/07vPfl+qnW0cjBUNfUOdfx74qgUqQVRgSKm8FaixACqAThSIJzDqUUaZrinMN7T5ZlwPBc52Jfxdop/k6SZIX3XeH1hxCiQzZkWYaUEu89Uq64GhQVIUOFkQbvPc45pJTlDTQcN0uF1w9CiPKaDsayXv9X4b1HCFH+a61FKVW+V2H1hbUWrXUpC9qvszEGrfUK7X/Ftq5QYRXBYCFY3CzDcZNUeP3RbgwV17RQoMOh5Ip9Oec6vNL276uw+qK4foVcaA/nDse1rTzSCiMKzjmcc2itmTlzJkKIpQRjhdUThaFUCMM111yzNJyGA4UyXbhwIQMDAyilqrUzQuCcI4oisixj7NixdHd3A63oVRF5+HdRmVkVRgzaPYef/exnXHnllUyYMAFjTBXaXc2hlCrzWgDNZpNvfetb7LjjjsOiTAslumjRIo488shyn0WIt8LqDyklWZax0UYbccEFFwAMm6FdKdIKIwZa61KZTp8+ncMOO4z9998fa+2wVOZVeP0wOGR//vnnM2vWLHbcccdhEYSFt5skCc45zjvvPJxzNJtNenp6KmW6mqM9SvXd7363Qx4Mh5FdKdIKIwZZlhFFEdAqLmgkTaTQCLH8m0WwoorW0SqCl4NeXza8AOHD93skfpBOEL59f648Tl/euibfjyw/376NF0t/v/C0fU9r3+3PhXdLHUtxvK3jeu1Q5C+ttXjvqdVqwPDlLwcrY+ccxnp6Ro0hy7Llrx/hhvH3GHw92q+LZOj11Hq9dW1fzXYFHMJLEGENAuW/iNZ+i3P0orWuhJcd5x7eaz0v3mvf9vVAYWQPVak7HBGNSpFWGBnwEOmofCpVhLEeqWO8FzSShCVLluCcJ45j0tTgvWfMmDGMGdWDt+kKKNNBCs4PUojCgQul98IHhRDV6ljnyGxKpATSOlCSphfISOPTFIBYxRjjEF6glUSSYozBo9FRhCUD4XEuCAjlHZGMMBlEUURiEqQWeAHWZkgPkdJYL3AIhIxCjkgL+vv7GdU1DpzH2gFUrLDk1bKEHJITQXErr4NwzJ/7ldxJ1y7sCu/Rez+MRUD5tZfBpPFIhJZkFhYt6Sc1WWmcee9x1jBu3Djq9TpCSLwzK6hMc0PMS0CAADClwlIiJkstSkucMwgFWirS1BEphRcCkybU4xjjDcal6DjCmaBIpc97ZGVekEcIZZssIYoU3hqUEqAEmfN4kecMpcQZSywVPs0VkfAkIhR/6UwinUdKsN7hhUIohXP5urCWSOny53W0FHH4vRyClb9+2iu724sSi+criipxVGGEQ+KB559/gb5Gg9Q4ksySZBbj4ImpT5HZ4Qr7tu9HdLwupQyCK/eg0mZCljYZM2oUaZoGJagUOI9JUoQQaK3pawyU27rMIEwaFGqthz7j8V7gTEYkM7R0eDQNAyqKSY0tPQTnHPV6HaVUGab01uFt3p+ZGMaOGU+aK3AA4fJCDBnlAn7wubohXl994b0vfxuRG2XzFy7g5Zmz6BtooqIa/Y2E3v4GaWZYuGhxMIaybJh/h5w8oC1qYIwhrum8JUcgcBgTlLfUAuc9Oo4gy5DOouOIzAmckEipkB6Et8F71qpUXLVaDecKj81hXIYQHukdzpncGxekaUoUK/AWLR3Ce0yaIbUCoTAZxFE3mXGkaYoxIZS6vBzz6+WdrgxUHmmFNwTmzZvH+9//fpChbaKrS9FoWJ555pmQLxkWOdi+E0/pqXqwuUeq4wiQRBEY4+ldNJ96HIOFxkBCHEdIqbDeYNImPV01cAZnBTGW2BkyD0u8g1oP3jvqKsU3FyF1N4v9BKKu0Qw0e6lFElyuNL0gSxzknmWEQghHkjWJZIwWmuZAgo41SZbS09VFo9EIAtkYlAieNl4GL1QUHlT++hAh5NUNg9umCq+3p6eL3f9jd3p7+xk3pget4KV/zuSRRx5hvXXXQagIVtgYy0Vx4eELAInwxeuWLGtQq8U0mv3UVRTCzTVJszkAUR3hDdJmaKlZlHh8VEMJjTEZXTKE6630NJMmtagbgcZkCd4LDKDjOgYDOGzWR1yrgYgwThLFEiEcymf41NIVx9hI05806aqPwhPRSD21Wp3MpcFYbCQoGSIjxhgYInVRGLqrO0aOOVmhwjIgoCwkmTFjBtOnT2fKlGeZOXNmR77t30eRhwoYytLWWiOlxjnIrMEYQ6Q8o7u6ENaC1MgoxghNI0vBZtR0CAOnmUVqD6REZoD/3H9fvvS1r9PvBQkxA01DTy3iD3fewY477MLTz7yA9Bm4fqQILEBSxzipEDZF43E2A+Ho6omxNkF6xzf/55ss7m+AjukbaKC0wDmDVqL0ryUgPRSGwlDnvzqjUJ5FRKAICc6eOZv58+fz/PMv8djjT5IkCaNHj8Z7HzzDYT+QYLSE3GTLu/Pe013vwjuLzxK8TYnrET6KcTIiImXa1Ee59pc3kaoa1jsiKSFNQ4QBT9QdI1wThcEbQa3Ww8U/uoQPfeRDLOlfjJKebi0QmcFZhcksGs9A/xJ0TdE0GcZrEBH1yJE1F/O1M89i3uIEky+JtNEkjoLR2Gw2wym1G1sjKJIBlUdaYaRgmZLMAR6lJM1mgysvv5QkSRBCscMOO+BtRpY00cN0X/vyO0MBUZl3dYLMZNTq3aHoQXhsluKTXpSOSdE0RERDaepRN13pfCLnMWo8PhZkfoC6Muj+xai0F2eaeFmnAaj6eJqNl9l/n715ZsqRZNYzWswE24eVdZqiTr+z1KRgNI4YQ68XGKnoSxp06Zh777yDX95wA4cfezK1nm7iyOLcAFJDlqVEchTCi3CCAvB5eLAsbFn9PdIh4UK496abfsX06dOBUNR22Ec/Rn9f7zD2mQaPLXhoEofI/0pBWJx1WOtBCHAZ3QqkhhRLw3l6haDuYbwZ4MRjP81uR3yefl2jZg0qS6gLgZURvULgXUaPSImyDKnWoNEE1RUx4PuINWjvkKmlJur0+Rpx1IVL59JTkyQeGLMGfXQhbT9r0cddd/+BG39xE0cf/yUyb9ECYl3DWkMcxxgJ3oc0Q6FABeQ3y+DiqtUTI8ssqFBhGfDO0d/fz8c//nEmT57MUUcdxbbbbluG81YU0lOGOJ1weajTIX14L5TfxwwkKajgadZjTeQsXzntVDbbdDO222wrTvvymTgR89Tjj7D5Jttzz9334kWNU089jY995MPItIEwCciY/d61P7tstD5nfukUZD3m9nvuZdONt+Cll17G2YxLL/kBm28xkc0225zrrv8FWSawmWevd7yTzbfYmi233IL//dtDPDF1Gp/69FEMNPrZ852TePq555E6QmtNltmWxy58W0HWyBIdBS9NEdoVzubhSMiSlP/8z//kyCOPZPLkyRx22GEYm6GUQmtNJBXDowjaDZJC4ViUD1GFWr0ba0PFqSLjhM8dycYbb8MWm27GGV/6Bt4pvvrFU3jh+flceNbZnHzGlzj55JP5yH//F0nSyyOPPsQ2m2zNn/73H6TNhFO/eAobbr4x2++8Ey/Pmk09ipFmgDnTX2T3t+/JRltty8Ttd2bxgoX0LZzFTrtM5NxLLmPzjbZi4oabcP1VP+GZKY9w1FEn0dfbZPfd9uClf04vSVFiXWNgYCB4+R2h/1eqIl79MLLuhgoVCuTKTOYJmCiKmD9vHi++8DwvvvA8Tzz2KPPnziHLEqQaDq8i3EpDiYcQnsvDhVGEyfOlWdLk+Wef4Rc/v4XrrvwJt9x+F7/71W95euqzaKuJgTgaRZZKnInAKXCgVZ1bfnMnt/z6Jh7782386dfXcMef/8j8qAvGrMlAKvjtnX/gDw/8lYefvJ8H/v5Hzv/+Bdz/p4f4wmlns/abtmHas49wwfnf4zNHfp711t6Wyy64hrH1NXngwT+z4ebr0EybpJmnpnuwKQSPKeTPylaGPL81EnJcZSVwnuuMoggtAOFZ0ruYJx57nOeencZz055l9qyZzJgxg1qthkmaw9Rj2mpXcqJVrSs9CCdRPiJNg1EjvGHq4//HLTffxw03XMEtt/6O26//FXP/OZNvf+1/2GzdLr7w1W9w5tfORFpBV72GilOIMiAiM9388YGHuP7Xt3LXn+7m/v+7j3vv/hMqg7FK8ImPHcpXf3ABf3vheY497hg+99lPkjTmU69HTJu1iH+8MIevnXwal515Jmuvsw4XXHYe8dh1+ONfH2bDjTcpWYKMMcEIkwInCAZm+28+EhZOjiq0W2HEQ3rYfruJvDj9nxhj6O7uptlIMMbw9v94G2maEqvhsylDCKsV3oW8YteH0FyRh1NKsfaaE1h7rOQTkz9Bk4iTvnk+22yxJfMfeg4PJNaCjpE+RlMjtQorIg5634cZ0z2WDdMaG45T3Pq7O9lh7/8CL0ks3HXPn7n/L1PZets9cgegm2nTnuf/HnqcyR/5f2itee/B72a/g45E2S6U7AIE1qUIHaFEhLYSa0GpKLQz5IaJG0HVlgWKvGhZOZ17o+PHjydJEpqNhDRL0FqjlCKKItZff12UUnlz/zBWfod+kPzAgrertMClGcZ4tBCstcbarLMW/Pehh5NKyanfuIiN1tuQ2sCz1KM6ppnQHdfwzpAk/aRuACsN6DrGKZ585jl2e9uurLneWsS1Lj78wQ/xtz/cwRMPPcgz0xZw+CeOgGgsNAZYY5THNZaQDqQccND78NTYcoONqedrIcWTeYHUNaztxWuHEip4+dbjQ8kwvn2yzlJKdPX2UitFWmFEomggL2TSqFHdTNxm67ZPyE6F4Ff+Tdzet1b8N2HCBB78+185//LL+crZl3Du10+n7vo4cMd1MYCNfcgxGYGii4w6VnTjnURakKaONHWclXlPpQEpQGh2e+tOXHLVj6mNHk/qRmEbgt9cfTUqkjgrcDL3KPO2D5UbE2HcVKsn943AClVcm3bSeiEEkRRs9Kb1WRbJhnN5GH9leFdeEUS0wdgGUU3iXQpOsPaam/HXvzzOD666mK9++yLO/tqXqTcH+OIH30HiBVoqMBl1rejDIaTGIcF6tJBIYfFYhJJ4DzESkVniOMYC515zI7tPOoDRyQLWtIswLz3GWKXRGSinyJA0AKkVUoBSEmOysr2qK6rnLFEWIUeg5TUIVWi3wojHsm7jIuwrfVtR0HB8XzuzUBHydQ4pBM7Z0huVUjLlyafZZrvd2Oddk5j23BOss9lmKB2z1rrrMHYNeO6fz5OYhMeeeJw0s7i4hlGOO265gcaShczqbTJrScIhBx2EaPSDsdR1xAH77seURx5jzoy5PP7IE2y37bY89/wz7LT9Vvz+zptpNBpMefIptt12G6Y9NxWpDNZlgKQe9WDTjCRpoHWRPwxVpO4VGKJGPgatk9eo7afwfL0P3LCPP/EE2233Zibtux+PT32U9TbdGB0rTByRSkEURShv2WTjDZgyZQoLexNmzlwIzhKJlK0234C///Vhpj/3MiYRXHPdDXil2Gjjzdlyi7X4/R23IrKMU089nS9+8StI1YN0AtIEhUPoCCMk1ius89isgRIW7y0SQSMZAKDWVS9+qKUYkDqxehtrb/S7osKIRwi7ifJRKNaiGGh4yRiGuqG8AJGTrtfimEhp0jQls45tJr6Z4048mn32+TCbbzaRNdbagPcc8iHWWHcj9pq0L2efcQYf/eiH2WLrzUm1oRlZBsxCPnjQzhz6wXey1V57sct//j/e9Y63sg4p2gvcQMJB++7DIQcfyAF7v5v3vfcDnHzqaWw7cSu+f86XmTPjaSbusCsHHvxeLr38QjbbYj3etOnaLG7M5+277sG0J19ECkFPd0zmGuhYBO/IB2IGXxbCuM7K5BGEwetlmc/9cOX6QsWuIM+LFoVrMsULS2YkwnejZDeZs0zcZQuOPelT7LvP+3nzdm9hjbUm8IHDPkS/Vmy961v49hmn8+UzTmff/fdicZ/hLbvuy1NTp4NPUbaX/SftxqHv24eD9n03b91lT/Y68ADSWFMfPZ4f/uBCbrvqEvbYZF3u+vV9fOHkc+i1Nfo9dNegRpMsa4DSWKnZcKNN8H0Leefbd+WlF58rC7aUEoGswvm86K6zQteLIiS++q+faoxahRGJs846i/XWW4+999570LzKtn7PtldXVBkU27u2bEm7klEyIslSpIqCRyod2lsiMrAWpyP6fJ00XgvpPXHfC9TqioH6BJqZoJaljIkcLpuH1pLExqSqm0TWEHaAcdkM7r37r0w+4Yfc/5eHWH90H94sQNZ6GEDQUDWUt4wzS4icpaEjnO4mMYqa0kRZg8wJ+tUokIK6byBpYr3FO4kW3YDEy4yC33fw7/la4sc//jF77rknBx544DDtMVyn2bPncvTRR3PuuefmcyuXRSG3soS/wwuJ8xEy8FQBIGQ3jWaGijS1yGAGZlKv1UhMD0aPpt9LYmXpsUuwDprd69JIEsbRR2QNxtbwuo6PFGm6iLFyIZoavck6UB+PUb3YdDGjbBMlIYtiDD34bByRgDqzEdoyL1Eo1cVoFePcAKlbgIh7cPJN9A8k1OIGwvcToelsbcm5m3OCCVEq0Nd2/cydO5fvfOc73HDDDcM6Iq/KkVYYESiU4uBbQyxVVtoiY18ZmZt23tDW1wYGoXq9mywLFZ42c0gFiVdIISCFSFpMsjhUjNZGgXPIvn66lMYLaAKOboRx1FQdn2SoGHoiyR9/92cmH/lF3v3Ro6mNq5FIi1QTyGyKiiTd0mMzQ79TjOoaTdqXYRNLVAt9hU1r0XGdusryPleHd4JI17FWBDZA4UovQpS/bd77OAKYjYaGY/krZbjagQqmqDjQ/olA5+d8qID1LiOKQQhLkiREeg2yzKNrESYboCfqxllD5hRxXEc0BhgbRbgUvIxQOiYzhrTRS3dPRDPtQREhYsjMEjyWer0baSK8t2A8WnsM83EImpnDGsOY0V0MNBs0TIaSkkiNwWRg/RK6IkmkBdYprDHonMc597M7zrY1/GBktFNVirTCGw6d00+GA53W9VD711qTJA2k1EQqwuKx3qO0xBpLpCWRUqTO4IzBetBCEQfaeIyWNNMESUysAudqLYqxeNIk4537vYenn3svtms9BpI+GkmTsaPqpAOB5B5jQrgt7qI/cdS6RiEkZLaJcxm6pkFYTNIMLDp4pFI0mylRXC/PxwEIiXoNirPemCg0TO7FASBLzlopw0CGOKqTpimpsYErudkf+ky9w3lBLCw2SQNlX5aBDVXXsVaY1CBkF43UEUeOmhak1pAlFqk01liU0ljTRCiPVjE66sF5Q7PZT1yLMYnByxqeGpEELR3GZtgsw2KRSuK8BUSLJH7wMIcRhEqRVqgwbBhMWp/ziIrgwQUShijncRV44cmcIKrVaCZh+ozNDfO6AJtmiLyNwJsGNSVxREipsdZhU0Otu4cBAyauY01K0reAcd09pC6l2WhSqwUGosyKsF2aEeuIZtaXN8oTclk+BQ+1qI4zHrA4b+keNYpmI0UJSYdr73XOcvT6hOheKxSV3wVaimC4DYmCZtGXY9laI8kceI0QCgiDBAbSRkhZOIVWEbValI8H02RpE6UEcU2RJAlxXMdmYViCcQW1oyCKPAhDkjaIlMbjccajdYwhhVhiU4+UiiRrovPqW5M2ibtGkw5kgMJZgxAWsERdNWzm8kHsFk1Yv0V+tJj+0vqB83Mtf4PVE6vvkVeosBwURSCFMPJC5o+2GaClXmgJxVb4cmn+3M45j8tC8X5nXtZ7QRxFmLSJxwJB2AgV0UwdCIWUGrxHK4HzJj+W0MiuRAiQaREo+5wX1LrqNPoHiJUmSUFFPXTHCpv1E0uPVpCmST7DUyCcQMsIay1RpNCxIo7jVv9keayBPcdLEQgrZEvAh1MrfpvOHNjIwFDXXZaPFuMQgyp285B3x8zO9vfa/11WgZJrM0zaPyPxLhR8CaECwYHyyFqEkBprwBWcv0KgVYzDYa0JhPFpFkgHc8IJIYoK4NA7G8caJUEKj1KC1IQJMMYYolpXmAAjJQ5PPa7jrSBtDCCVQ0pQWqO0QCqBNeE7syx4ysvLQ1aEDBUqrGIQuLynTwfvz6Tc+bvbeXzKY+i4RmbDDe1FGD2l84EvrhBcPuQhUx0KaeKsHvKdIoTXhBYYm6K8I2mkdNVHh2IUMqTwiLwp1eaCtyiqcMKVFYvSOxCmZHjxeTkJyNBaIHyLAUaYvHqzOMNCgJswW5R62C9pIElA59y3DihI1PMxagjwdUAgvUXi2uZCFvt3HW07wQhp9zRDw/zQg71fG4+0GO4thOCxxx5j0qRJef+r6vjcvzOo2XqHFBrrYMHCJVxyySV5SFKEMWHelddD4JCkOOHxKEK1bVg30muskNiCmSgvOHMWsrRJrd6dG0Qa6z3Gg44k3mQAZXuR9CZ/rsFrpMvnwcoMJ4OR5ZAoG+gbvbQI71C+uE7heqr8mAsiDdtmTHaMHGjnkx/SCAiVxMppwGFVEgxSV5x/saZbk2vCNnT8u+y2l9dm/fT395MkSccaaZ9V+u+iUqQVRgyklBScdd4LJk6cyE677hKGFBcEA8KgPEgng0LJx1YVitSoDBBoU0fk4VcvHKlN0ZFk8fy5XHbZ5Zz6ha9gnUNHjjRpUNM1nGgJEpGPF7NyWYo0Z3rxMXiJyocc2/wUXO79Bk+i3RNKc0UaAxA7g/IOR4wVsuT5DW09Lhw/AuGCIhUE74T8/y6XH6u6d1AM1S7IIRYuXBhmpeZKdMUGNTtk/ntrrenu7mbSpEk5m1Pw4GWky7YUgUOKBCcc3hfrKlwn6XQwhqTLjagwwUUi+PkvrmeNtdZkt912QxiJ9QJRq5GmTeoyGEFGhH/jnHXQSNmmSB1eZnjhCHahRuUX0OWj7YrnhcKSbQYASKxoXfPwQdkqHMs94iLMGgyzVoV2oUiFB6ua5doK495W7eBmsT4WLlzICy+80KE4h4Nru1KkFUYEjPOBzcU5EJKo1sUOO23PAQccgMPi8jmcisE1mIMt4pZiLdFmnc+a/TI3/vJX7H/AvngPQrrAEJPvvxiOUkirQjHq4s3iAyLL/4zy1wxFONijOgVTR5Iu/GNFOOKOquQ2T6JoLyiLVYrzK/Kaxf5F2zGvBigI0R955JGyrWkoj6J4r52Mfnnw3gbF6S1jRnez77smhYHqFAxPhUIp1kVG4Yl7BKGsRqOCjUT4g/A7538++ODD7LDLNuy//wHlnNG8ILpjrxLQbR6co5gi69oYuPItXP4/OXgmrMwH3YXjVoScdkcEoji+9pL3ch1G5aA8mb9FoWzz/bcm/+TPVwPMnDmTm266CehcI5VHWqECoGRneC/NbBtxgKDVspELjlJ+yJYSaQttlhCD3hOSrq4uioli3jmkDOGtXKwPeXwehxC0BFd40vYdLbHVcTzlx1rhUy8GCzcKloC2L5Tlcwe5xwuvFRPPykSY7SpLsngp5VLh3MHe6fLb5T1SqFBp6gze23I9hUpZiRjksntUvq6WJYCLdpZygzApJmpRL5IXMum261SsgqA0QSCRAmxuGClhW/ttN8wcuTIdbBh1PltKMQ7ZN9Z6Up5d+V0FF3BnyH9VR2FsFWulHZVHWqFCjpwPvrzza3GMpKVcQ16L1gfawpulZ9f+/mA3LbC3A7rMtwo8SI3LA1xDQRGEYPBYJKpUjEVeyeXCUyFRLQ+zEFiFkHT5a6oz99R2gkP8KG18wr4I24VzVqLlSawu3ijQIQhbLSHyFRXm8sO9Cpc7dd6pUFHtgtBVpdbJ11Jp+wSjarAyDLo1XO9wvPnLHozLMCZMGsV78A4pU0CCq6GKQjgciCz3ZiVC5rlNwJMFij4hQOi80LelCAq/OUReHGqwQi/gZHmsbb8uLZVQ5Nl167zbjbUiqtGWD12V0X79C2NmODzRAqv+L1ChwquAaLesbRY8C5cPQ2YIDy6HByxtIa92K78dbR6vcw7f0QrS4mkROSdtKXR8EGqu/Xs6LPpW4ZErtgWKMXDlOeXVpHbw8Q46l/Lj7YcOIOzSJ8/QL63qKJRlFEVhAMAgT7T9tcHvLwsyv1ZS5Y6dEHnxWtB5rS9oP5C2vwt3UrQiHe2beAFIT0jxymD1yaBMg5HT+my5ZVkl3b63sE7CMnWda2HI05RDv1F6o66sIi+84I4PedfBSVGMzivXabtXuwqjuJ7FgAagzLcPx1CGyiOtMCIgROGVyrzYx6IF+axR35njEYB3CCE7wmmRyBWyaOWmOrxV7xHeUYsUzgqEIPciLIM9Fi9yekCrQUikNLkSDF5pUfzh8wrazpMJCtMDKs9FCRXyaSEzF4qQIgGq6OcknFuRCy2Eqyq92+JbijC0WzqEvApjcDFRkSstPIqimrddabZ7rq8E58L6cTZBSYcQNkQccHhnEWVlsMs9Ubn07+bJi4BkK6eZK2OBJ4oipNZkPqw1vA5WkZQgDR4ZrrfPvd02D1Dn3qUoc5et+Iqg9bnOBEe+FuicdCRaVh/IQonmXlqp0NsUZZELFsX35uc32EtdxSGlRClVjjEcLm8UKkVaYaRAgLOhD05ICc6DyNs88Ghv2wRfaDnJU6WlPZ4BcW6ZZ2gcUIM8jCVACKSUNJsphVwN7Reh2KTztuzMeLVHaYsjKASUbN8y/6AvM2Xh3XbDP/gkefBQ5EK32HN+ju1qs707pf2oluGrrJIolGcRxi0UKTKfVNkAACAASURBVCxdbGSModls0mg0SgW7/BxpUF5KwoIF8zA2wXmLLFpRlCSsDiiuXBFZ6Eg5i7zGSLTtt+1KpM0EIRRCgHWFEaZDSgIbSpbKMupOlViEkItQvCxCwPk68ERtl7kogoKWMi2OonWsRaSjVTI1aD2U94vLj09g8/OX5KmU1QTFOigqvQuja6j2qX8Hr1qRti/WwjocyuIb/FqxXcWNX2Flopg2UWiJKKphHCTeURMeyHLp1QUCEhtSTJrgTTYIMiOWgSS8UKQajybLk10KbyWx6mqJRxUCt0HZ+bwApbDoXW7xi9wPlKSEPJbA5MJLtrSbB68dDpd7Q7mYc6GFQudxP0Xu0VqP1TI/A4nAdgi38pYTLSPC5oI1eD6W1Qnt8qe92b89PyqEIE1TDj/8cKIoKnOoryR/vIVapOjvX4zF4YUKxpFXCAzYRu45RmRIDOE6xB4gA9UIr2Q94XrGLWez0EU1Wcc2TQj1ezAurEHvLFpY8AqsByXIjERqWjl1l+dEc4RcugHRBB+F4/KgZYhYhPXgacU2PBIRVmIetUGC8RFSmLyu3bWK8bwBKXEepPTg+sHXMF7jAidEmIe73LDyqoP2tdMeyh0OJQr/Qo603eJrX8DtJcTFQm5XrO0VddWjeqysR4lcXqYmwXoThhgD2ITnHvsHQnUj5Gi64jFM6BlPf98SHnzoQS780XV5oYbmpptv5lNHnxTkSbG+W7te2mr3ILwBZzEiD+/ZJvgUhMBYBwZsann00SfZ/8CD8T5Y+MaCsfCZww/nvt/fTujzDI3+HoXBIIQLDpEtikg0GM/VP7qMJU1Lmh9GISA88NBDT7DfPvvj0gEKrygzjsM+OZmLL70shCtFiIc7u3op1KEQhpELjDEsXrwYpRTXXHMN1157Lddeey3XXXfdch/X33AdP/npz7jooovp7u4BIDUGITw2STjm8KMYpcajReC5vfjiK7AZnHrCKfTOmQc43EAfb9v1bUx79uWOZKe1Hu9Di1atVsP7oGC1Ap810CILYV4EkICAS6+6kVnzYaDsVAqREuMLH9QCGSR9HD35ML5/0c9KeskIT5jRI/LEgUFjkTYkBqyHGXMXcs0Nv8l7n3Vu+HnwYJKMTx9xBPfdczeYDEjBNpj66D8Yt8ZEevvAGBDSl3UAb3T8S0HidqvOmJzJY5CiLGCtLW/sQFHmq0f1WGkPfPAqvAeUQ9U9QtvgiBkBzmDSjG9ecjULfC/OzOXJB27lysuvIO4ah/ehWeYvjzzNtJlLuOyH5+I9eXhP5fZ68DKlLzJF5WoHnyClJ4Ew+Eqm4BtYKxA6BqnRkcKLFJMNQNOCC9a9i+CSn/yIvfbfE8wAwhkSJ0mQWDyIBsg+cIY0C07LS48+zpdO+SKLF7myAElLhQcS49l5l4n84Q+/Q/oseBdeImUXUsUkSRraO7wH6ZF6FXcnXgWKwdda6zIPBnS0ySwPWR65VVEN7z3Ka7p0DD5FRRFdYzdhzoIBjElwjYXMfu5p+uYvBt1FXF8DmnXOOP0b3PLXe1hj4ptIRDB6smYWfmsFVjtSkyEJxhM+Q4uBYHQ1VVCmeoCHH/kLx578DdIYMhWm/iBSvDQkCpoSQlwjAZGitCeNavQD0g0gfBMI29kiodDIwEdYD0bCSScfzdyFswp1DEisNSBBd0VcetVP2GvSXkhlwSUQSRpaA3WafRApEMKTmYxVnIvhNcG/HNr1PihNrTXGGJRSGGP4/e9/TxzHZFlWMpAU8egiPl2hwsqCNYHLFhxpNsBTTz3FdjvsmKeLBGQJXfUYVBcJgPWkaRPpDJiUSDhmzc248Za7+fKXTsATiOMheBLIok2k6E2FVuES3HHj9Xzwo5+in3EcdtSn+Ol3j+NzR0zmkE9/jbfvtSefO+JT/PehH2DC+huQ9idstcWmvDRzDmeedyXHHDuZT3/yExz58Q+wx1578tlPHs4l1/6G3faZxD13/YZ+m3HCkcdz5U9uoGvN9Zn2xBTO+84F9A9kbLXtm3nm5adYp4u8qAVqWvDAP6Zw+skn8sffXMvvf3kTBxw6GdkzlnfsuTfRLnEwOHzLMB4Jt2fhkRZ51CzLiKKoQ7EuY0uK9s4sCy0qrbeCkaa9wKYWZKgU7u/vpVaLyJKUNHFcffU1HPbpE1DdXQTTC8ARxzWwFq8lSgmccBjnibQIhUgDfeyx46489MIAuqvG3x64nh9cdAW+N2OzDd/JrXddyZlnHMn9t93AlKemceiJ3+D2237LPbfcyWHvO4RxAnbfZ3s2eGsfEXD4Z47lJ1dcyc77vIfbbruF5558luMmf5TZLzzL9Pm9fP2Hl/DWSe/k57+8kZ9ffz2Z1Rx37BEY66gpjfMp3sKRRxzOYR/5Lybt9TbessM2PPbcQvZ774F4oamPgsyAikBqhfMuH2rwxsWrVqQFz2UR4i0ou7z3/OAHP2Dq1KlsttlmpdIsFGj7thUqrCxIrbCZQVpBrVZj/rw+fF5AAgloT2qanPGZT3HGZ08A0c/4eoM5Lz3GtBen01iyiH33PYCjj/4MmnBjWB+qLrUKUlYCeJXzoRYMMAoE3HzHzXz/vLM47JhTg5I1/ySuRSxOLakEbxvE3hCbGs8//SJPP3U/M+ctYue3fYRPTJ6MjsdghOa2W2+ma7TE25l899zvcdGl57HuFrvwhzmSaT7lsvPO5eZfXclJx53Gjb+8l4eff4p6d17WYnzIWSkg1oErt9HH1089hd/eeRe7TdqPt+/8HyFlKkKFs8mVzeqOwQZ+IOaPOmTQ8ndgQQgiFQrKrHAYZ6hJDbZBtuRlNlh3NAOAEZLv/+jH6FFd1GTKb2/5Dcd8+WyennwEXYT6V581QhGYqoUiNTxJox+hQCgBzoKD6Y88xby5i5m1cDG1cd3UmccJJ67JFTd8hikv3svs6XPCCDTbR5ouxkeSxMPJX/gW9912Fzu8YwP22Xlb1vSzuOOW39AfT2C28Zx94aVcfvnPeO/ue/H01H8yffoj3H7/A3zpopv44JFH8cFDP8aeb9mezxzziVA4pCTWZfn9klFXHpzltjvvYO2NNiJ54u/cfttfue2e81jchPGjQtZVjQCCj+HAq1ak3vuOpH1h5TnnMMZw6KGHsu+++yKEGLIwqUKFlQlftH4UOdLvWGxq8Zi8cELgvOCcH1zI4Z89FOFgrADpZiBtg7O+fTZTp/2Tr37xdF54ak8233o9vJAoJfOmdsreucGtcwLDcccdzU67HMiRx57DXnu9lXtv+S7WJhApDCDjGs4LtBfsut1E1hg3lgzN+DXX5bkXl9BsJgghmPrUFC7+0a/40cW/IlPwsWM/xLy0xmbbbY8HTjrhJMaT8fJ90yCfT1nObVGqjbFN02wOkMyfjUkbbLDhxqgIdt/97WGSCOC8GxFKFFr1GkKESsw4jjvCu8uHAyHwzuCco6veEwq4pMa7DKE0PfUai+fMgglrkUiBFQINLFowj/6+Rdz3p7s57Yunc+UPvxUUU1QDb/HeIHISjVHdPS36C+/BOTbYbXcOOeQQ1hzfg5GC399zE6PGvAklFT0ZdKcZo5EIKVCRxomYGbMSnIF11lwPZI09/uPteNfHM888xo2X/5QbL78eZMYHPjGZQ/Y4kB123gVdU6y/4fpkso5XoYgpVq4kDFHI/HcyIB1Js5dIC5564im23nprUDGbb7IVStfK1jAHuBFiiK0oXrU/XizKQikWi7ZQqM1mc0iFufyQSoUKwwNvwjqzebGPlCHEqQvKhUygom6cjrFATYIUoX5Wqjpf/da5jBsPV33/Wxx/2H8zpzfkOkPzuckbDQHhc9J4jUWVLQjb7LAdTTefF6dPZ+aMWYAltU2ef3IKArjrvr8h4lF438+Df7mb6c+8xLyXF7JgcS9rbzCGOJJENuMt20/k00e8j36XkWSGi8+7mN0335Alj9xLj4XvXXgJn/jUsbxpk7XZdIMJWEPZxoO1eSUm2CRl/Ogx1Mb3EMeSebPmkKXw5wf+FxVFuQebt06MkHtUiFCxq5TqoA8s6jmWjZDx9k4hdczAQBPtQ6+kkC4kNPV4rAtFSDVhkc4grWfshHX4+Ec+zFsnrsmh+23PxRdfTgI0rcSKCOtDlZj3nkYjQVqFzwClA1OWgu9c8SOytI/vf/N/+MfUZ1l/463ZauwE1lwCG6aGJ+/7M42F/Tz30hyyJGbdNWrUtGHmzOfBxPzhr08yoMew1Y67cOjkw1jUmM7c/tn8+Idns8AsphmnoATdtW7SJMMBu+2wBcL0Y9AYJNYXteUOvCHqCiVL22+5GVMeeQialqeem461Bq0pawR0VKPi9fkXq3bblWnxd/FvvV4HlmaJqLzRCisdPvfGQjoL4z2CgsUkTPBAd+NEjMkaeRdpvqGPSa0EZ0J4RsKll1zEB973vjZCl2INF3Z4geL2EfzwvAupiTXYeMN1mLT3ntA9ng9+6BOcfNwxrDlqHbbYYisS6xDS8pbddmLvvSaxy867cubXTmXtCSCFppnBO/d7N/fd9yBCdtM9ek1emPYi/++Ag9l2/TVYW9c5+xvf5HvfOxe6JV6lbLP5pvQuzo8w95ilgDjW9A0MwJi1uPb6X7PP3nuz/tobsfEmbyK1obwkiiK8F4jBPYurKbz3xHGM1rp8DpTPl79tSA94Hzy/wHSUM3PENYyMabQRMMRS5BuF2aCQcMh79ufhhx7kd7//C1KBdR6lWt8dRTWkEGgd2l9QmgWz57D1BhswLh7FN776Ffbb72DGjR1FTIPtt9yGddYYxYYbbsiEdbbj0h//lC4hGF+H667/CZMOeS8br7UBa7xpK6yss+/e+/G3+/7AODmBtbo35Nln5qIjj1DgnMRknlExqBS23nIzjjvua1x40cUhp5v3lHoUXkY4NKmF/d77PrbcciJdozbm0iuvQumkHEFY3BUjwwxbMQi/AuZo4ZWeddZZ7LTTThxwwAFLeawVKrwaDF4v//L68SFUKfIw3tlnncWOO27PQQcdRLCygxQ0IvSHKkItbuilDK9DmFOKACNafC+iLbT78oyXOfXU07jqp1eiZPBI7/3jPdz3x7sAiaEHgUP7vB9V9GCFQnmHFA5pm8RKYbIErzRO1Wgazy2//i27vmVnNt5oPQCkqoXRbdIg8AgXIVWNhkmJpaeeJgjhaUYaLyOkj3AmDG8m1iwSji4lGN8YQGSWRtxDFkVkLijRM7/6JRR5ajCXikMTHA3OgXXa3kO2BK0kFBXaUkq+853v8OY3v5mDDz64Y61475k7dy7HH38811133aved5GOmjFjBieffDLXXHNN2G8e9m0RJZCzMLQz/wBk+W/YTozQWjveC8455xx23HFn3vWud5UcvF//8ulIEfp6rZCkUgKa2EQo7xBkeGGwymKEIhU9CA81lxD5NBy7gETlnaJeg1f4ImsnDMpbtE9xAlLVjfeOmlmMkh4nY4xTSBGD0qTpAEp4IqnwPvQlO+cCQ5bqZsDHTHrn3rxr0m459eS/ehVfHxTXd/bs2Zx44olce+21QOg+eTWG1iuhYjaqsEqgPcfV/vzVKtSSIo5wc0RRhJQaY0JLRItqrR0FK1Db63Loz4UbEeI4Jk2baKlKVpQ93jGJd07ahxZfUJuyybWT93llrLeh0EQKsBkowRGTP83T057l+ht/zaabbUAcgXMWJXOiNu/xXpV8sHhHIBu3LJg7gzdvvzMz5/SiVRfWGkaPHc3UGS8yrrub7jSntBOUjHSu7dC89wgvVnmBWAi89rVQCMDhMNiLPKqUkizLyvqPomiyM806iIkKKCj2ilqvwZ8VApIkwdoMKVvr9av/860VPvaAMjneeqnNRQrecWiFcTZFKoHLEi668HxO+vxXyh5qlOL8Cy7guM8eSZoaVKxx1hAJBUKQOYNWYSapd67M/67qKCKqWuvy+hbFacPh9FWKtMIqgcGL2RjDnDlzuOKKK4jj+BW3L3oICwH1l7/8ha222mpYrE1o3Yje+7K4osjFaa1Lz9aXHeq5h5T/r8UAI8IT7yhGi1x+1VVc9hPd4ftF+Qa+pMXLaVt9qLbNz5oJa6zDjNlzgSiw0BBEalJ8n86ZkxQYa5BKB08Uj/MepSTWONQw8o6uDBQCD1rkC7A0PeC/i8IoKpS1EKJDua4onHN0dXWV67Hob1VKlS2DKwY/6F/R8TQoUcB7pNLgHTKK+NyJX+BzJ56Mp14SbFnrcD6kBxwerfJZps6Fv8mV6KB036oOY0IxWTHsYDiPvVKkFVYJtAtGCILz0ksvxVrL7rvv/opN9YXgC3lRy9NPP02tVgMgTdNXpYyXh/aK0DRNy9cHz8IUy3Dtyu2NQemcxUb4PFkWGGKKUV4BLvTnSZ0r8Pw8i4iicQidc8jlelu0hWcjSirVQA3oLJHSecWxb1WPClDRqq1EoTOsWyjVVy4ievUorl+WZUNGRVZUmRZ9re3GQKFEh6fqdRlcfUUvtHFoLYuwSP5vcU4S58MoBCFAq1b1u6TFR5tZQ6zy+6gY57eqhzLaEEURxpiO+p7hIq6vFGmFVQKDB+967xk1ahTbb789+++//6vaR7vCfPTRR8v9rKgSLVCEhrq6ukrFWFqzrbEZQ2+bKzOtdRBMUubx3laCUrcp0TRLiaO47XuCMJS5kBNa59sH/xICFZ2U4bMyV8oe8MK3OEW9R7aF0dtDmEMf+vIFzWspRtuF3qtvbXn1+y56T4trVBhnw+GxFB0O1toO5Vn0uq7weZTj94Z+W2vZFqKWWJOGdaIULl8LHUmJPDeaZVlpkBb3UTGObLh+m9cCg9c7tK75cJzHqm+KVnhDYLAgEULQbDZLz+MVKQJZujqz3YtcUbSHgkKuq7XPV1OvJxCotrxqQMjRhuMMrxibAo44irHOlvSa1nq0luQcEcVB5RHlsD+lRLkf6R04j/Nh7Lj1LigHBN66kgUIIULF8yqOwUIQhneeZPEdhfJQSg3rmK1CYBejvKCTZvW1htIxUsWAQgqNKMYsWIvPf08hJbW4hjMW4wLdprcOSb5mBkWRVmUUirK9vxiGryi28kgrrBIYyiovLN9Xkz9q377oJVywYAFz587tULYrAiEE8+bNI0kSent7GRgYQGsdPJgsr84s78nieYtvOgjQ4BnUorgMEddqNbKc7NXaLLRO5KQCeJnnfcMkE61agiAzCVGkSu8gNVkQ1KKVW0VJEpOhhUYJic2C8FZRHh51uUW+GvQwFOfpnKPRaFCr1YYtRwotheacY8aMGSXlaft7K7LvhQsXMmfOHBYtWkSaph3RlxUV5mIQ4a3vYBwKdK1hndmOnGyRM3R4rM2IVMgRJ1m4h2qqRpIkoIPXJmzRrx0MXC1VWZuwKqOIusyePbuMDBQ58eEYpVYp0gqrBNopKNutx1bV5PIFWXuuMo5jent7ueyyy7jpppuGbVRSweI1depUjjrqKJRSRFFEo9EgynNHy1KkRZjQ5oLIW5fnbNp5qF2YNuKyUoh7J1CqCP9pvBNlvi2uaZxreevhtwpcs85aRPGbaoXwreKWdsOi+N1X9RBde0RAa81TTz3FW9/61mFTosUac87x4osvcuqpp9JsNtFaDxvF6bPPPsv999/P7bff/i9Xpb8Slq1Ii/abYo1Eg747p3KVgRJQCpGnA/ICPhdy0pkItQdRHv0wOIRSSOdXi/VToNFosGTJko4ugdd0HmmFCisbQ92MRUjsX9m+yK+ecsopHHjggcPa0zxr1ixOPPHEpXsUl9FQ6V+hD1MU1UEdnINDkT50fk0nQp9su3DoKCrKc6mD+y3baT8HU3sOV+5oZcB7zznnnDOsPevta2zzzTfn6quvXqH9DYWzzz6bHXbYIe9tHmYMXhiDDDrIr7mQZYFQ2ZJVfrzts8VuClrMIsefK9KCJnCwCmpfQ0UueDijBiuK4v4d7uNZNc6uQoU3MgYLQS9bj1dEy+OFlvw01gSB6XO6J59XjloTKnvzQilnQt60UJxFi0D74OzhyDFXeP0x2Ngo6+SWEdYXg/5WsqU2g5FGmbdubyUpIjdFQdWqokRXJiqPtEKF4cAyHCLxSrbqsnjWlrk/ALe07i28MudBCaSK8fjw/QLwHlNMbMLjXV51qcJc0iK81d4/WRTdDFdovMJKxCs45Nb6pSqzve/0Sjt3t/S69TnJk3eECTY52nPLRRRDSlnWKrwR1k+lSCtUWK2wdK6uQzgKwDm8c3m/ag4p0DJnAkKUDBE+72Et9tEu9KqpHiMHxXX1uQkmCBXey4yID7LUnPHIQnnK1nqxbcpzMDvZ4ArZkYyR73NXqLA6QAx6vOLHZfmgGCXtBEJohNBBabpADVeoXmMcBX1NloSK4VaesUUeWIRynXMY68uxccvMzw6h3Cu8tvCDHi0Moqykk0QhcxbrbOdnh0gpSNW5KNsLpYYisCiIUVbFHPvKQKVIK1R43eAGPVZwb861JUnzXSqBEZBmNjDW5Io00hpv8xBxIQzbqn+BvOdRLDOHVmH1QZnDLJIDPqw3JVVH7jP/UOffRTGcDZkDIQDnQ+9pW0Vzu2IdrmrY1QWVIq1QYViwDGU42FUoXYbOPr+Q92w9lo3Caxi8v3wMWPGdBs44/mTmL1wShlRHQaiddMIJLJm7AIQMXKl4MmeXalIvMGfOPJyrNOmqj+UbY+3FaN65VjuPN8yeM7P8nG//o+2yZ82UE44/Hudc4HyWEjOox7adPcgYw8KFC0MP6hsAlSKtUOHfQrsnacBnoQqjYP7GAVn4V7QGjiMMiCQXVDIfGB7Cpw6XOwASG/Y6SFc6wrjxRnkU5X7zt4UvDitF0cSrrDhCAM79/nmMWWMCWAcWpBfEQiGcCtvniTPrEh557GGu+8WvcaocJLd0+HD5cd8Ky8FQv2NpSPn21wqEoduQ4XFYwjQf70ObiiAfauCH2DcOZxNwYfqMVhrnYMpjj3LTz3/esW5LQ861jkHqmMyCz1KkyGfFxFE4Pg+YLKTdLWBDPv7Mr32dRf0JKe3rd9C5j5C1UynSChVeBVrl/R4hPD4fSOYxYJscfdiHGCMjtFqTiy64HnzGBed8hUgqhIj4+DGn0+fh5M9/hi+fcgyRVPz+5tvZY9s3s0YU88QzU2li2GGbHYhEnT32+yBLXFDFxgf5BCmwgMUzp7Lh+usj1Bg+fuwX6AWOP/FMFs+xMACnH3EkpEvwZiH/deh7GFUXXPSjK8kyOP0Lp5IumM89t95MVySoy1H8+fYHIIO7fvUbhIiIRnczZepDnHv+9zjxuNO49Z4nMLRGsLn875YgdIN6X994WEofDBEx8N6DDD2+1hsMhocffxgpNV2yzrjucSzsX8Q/Z0/nTeusTyTr9HSvzdQnp/PoY1M57eQvsMW6Ezh4n7fz01/8FF2r86mjvg4Wbv/lb+kSii45lrvu+F8yIMXmNIQOfIqUhou/+23qQjGqZx2mPPk8P/je2Xz+cyfw59/ew6nHnsr83vkMmAFO/OwJkMKdv/glkYzY/R0HsaA3I/KGO2/6eeB01j3cesef8AaO+dQn6ZGKSI/l8guv5bm//4OLLjifQw49ggUZZDh8bliWtl75Y7nVXplWirRChX8brbt/7KjxPPrgQ5jeeTw9ZQpJ70I+efjHyfxCmmkvVmr6Eli8oMHB73o3M2fO4PMnn8Sf7rmTX17/U+6+53Zuuvkmzv/hxaS2yTnnXchFP76BzIEWReO7AJ/x9wf/ys+uuIJmYwkXX/jdIJC8IiJ4lbFUICxJMsBFF/+QOc2EZ555ir6+AXCWZm8/d992F42FCc2kj5t/cyvNl+dxzlnnMHv+HF548Vl+++ufc/wxR3PWj3/CHvtMLKfKgEOWnnOON0Y9yQqh6LUUQoT8pJBIJEprJk/+GI20lxuuvZw/P3A/cXcXL788nSxpcuXVV/Pcyy8xkCY8+PD/8eyLT/Oeg/Zj7vw5LEiaPPzwQ8yZabn3rrtoLEpo9C/mtjvuZs7CXjwKpTXWmlyJZUx7dirNpJ/F/bPZdKtNOf7zX+CiC77LO/bbh5oQeCxCh17QZEnKH//0N/p7M2696RZIU3za4O47b8dlhmbSz6133sXCJQkCzTNPTCHrW8zUxx9hs00255TjTuTaG3+OisipQUIh02D+kVfXL71qY/U/gwoVXgMsq/owFG/E6O71WWf9LcGD9gtR9ZiX5syhJsdTr3fx7LSn6IphjN6YnSfuSxN4/2HvR645mk03WZea+v/snXm4HFWd9z9nqerum5tA2ETc2BEE2REUEQXFXRk3RhR0FHEXnVFRx3HGd3D3GZ0RBBfcx3cUZVRGFMQXdx1lEVCWAAGBQEgkJLn3dlfVOef3/nFOVVffXBDNDSSxv8/Tz+1bXXXqVNWp375UXH/TNTzpmCejO9tyxP4H8Lsrr6SjAZ9MtiIgi3jSk5/PW1/zWrbudjnm6KfjB6Craaxy4AOVUVAFJrbYjoVb74giZ6/dHsYdN/8eFfpMr53iG1/7DosWb4PtbMEnPncW1/7hFp7w5Key5VYL2X6rRbzj7e9kgbLMlCUBmobVBo+iwtSaltaIWjcy9K8es6Kv6/Zvw+IEmiDQ7xc85jH7gr4DzR1kWcbCya151SteSqejeNGL/4ZCV+hJy7Of/2ywnkULexz95KfjxfPEx+/MYM01fOurX2bLLReQLdiGj595JiuSb9wDog1BWRyBJz/9KXQ6C8jsJD/85aWspct0iCZaP5iCEAvUh8ywcnpAtWAH9ARsv8iy06IO0yv/yLlfO5dOZul1J/nkp89g6e3LmNzq4Sxa/GBQnkytAa0pfUB3CppyHuk8MePK0TgcNgNBbLz6xxjjL0akloJlpgBlOiABaxzLlt3Gf33t6xThj9x+x81su+VCqCDPtySoSWzWY1ANwIAoRVU69tx9D849/9tMVSu4q1rGp07/V4KPndYEYLXFsQAAIABJREFUn9q+WNAZ/3vd1UyVA57/vBdy45Lr6WaOIH1Wrl7LHWsLyBewZrpgzV2r8L7i2ut+z0Me/hCyLGfrbbfj2L95JmtW/ZFBuZrpwQr2PWh/LvzhRdy1agWlL/j7176BYlAxYXXDRIdqxJBs1ObeTdwyt8FRV4yqqgqtdHMHjdJoAugKRYkSz1lnncWpp55KEUre/b73EhSUQRiUHoylPyixOmNCGVy5mi0XGV74gmdx95oBVbWSmeIWdt/5IdGEHGJkrqCwKuOYZx9LUU3xh+V3csH3LsRqm5ojlKhMyLs9/njXWv5491omt1rEdH+KQQGrVq3irjUrmdxmMX/z/L+hGMxQFFNMTa9kr713YlCBsb1o5hcHmcOFAUrcaLGC2U7hzcQlMGakY4zxZ0JERs1RKmCsx4kDqylKxfbbLOaOW29Dma059gWv5KFbThLWDpjx07hcMxgU9OwCUDmldEAv5hlHP5v3vu5ktlaKrfQ2fPw/vkbQMZgoKCEoB26KH533DTqdLqrT5dJrrmPvfXblyCceyNYPXsQzXvgy1soWOLEYqzj1pJfykImcXfbYE7voQfRdD680Rz3zMfQW52T5YrZevBd/XHM3Z332kzx46x1Y0NuGp7zoeLbdaUc+/I9v5bILf4MVEtEzIFkT5KQbU+/mQRA3FKy1w8pTCXVnI1cBfhIlk1gxHH7oY9j9UY9G6RwJhhtvuIXgDZ3ulsAClF1AKCo0kKseWyzaiqOe9gQWLbKobFsmeruwanVBBuQaCCUWRZgacOgue7JVNsnuD96JN77s79hx0SQfePdb+flPvsfjn3oUW05uy3OOfSkz3tDpwjGH78WiCcWTj3s+K/Icl3ue/OyjsN0JcpuxeOtduf2OgFMCNgOf4R2QT/GIXbfiec95fmPRgPpLQCf7BiPbN2HIeiCEICIi73//++X8889v/m//NsYY9xWz18wHPvABOf/88/+icT74wQ82x87nWrzjjmVy3HEvlBCciHgRqUSCi1/L9KlEJKyW4P4ohYgUIlI5EQnxEFeJOJH4T7FWxA/iISIi/btFyoEUlUhf4n5enPTdQEQGIm6tiJsSkUr6IrJaRKZERNwaET8Q50X6RZqDr/dfLUXoSyUibz7ln2X1immRcJeIrJZQioQyTsUXA5F0aCFeCkkTqOcuPv4NcZ845/qbn7d7/Kdwb883hCDLly+X44477i8a+/bbb/+Ljk235R5/cM7J+973PrngggvEOSeVdxIkPV83iM80Pdd6bTiJa+Du9LcUEXEzIjIjLvh4viAigxkRv1rEDyR4kSrUcxlIXJ8izscxpZwRmZoRcXHZihvEY4u7pXIzMhCRaYlr1nsR8ZWIlLI2xO1eVkvwy+McRGQmzc27NMF6wYc7RcLyZo1Wzb3wIqFqbs3olw2Pv/T5/imMNdIxxgDue1GE2f7AViUY1drkM5RZRC5gQ+y9XUo8gzbR5xm8B2VBaZzz8ez5FqAzchtYtewPPPxBi+goy0TWRZktsBO7ctnvVuKxWCo6eDICYroICgN0TZqiygjSAz1B7ge8+mUvYmW5FrPNBKgtoMpQsbd4nL41jT9LCWTpWkKdV9q0BBm6AAM6lS//6yYlqtHKZ62jdKPqmrPOuVisIBVBUALadED1wOcgFrzHIVQhmkUXAEZSs3aTARkGHZu6A+Q9vPRAdwgS676e+aG3M6m6dFSGMl1sdzEveuOpuKwHCzKcAadBjEO0QJ5jTIYFrI8frQBl8d6yQEEPUEyA3hIhQyFkAlkMRo5pMJrUkm0S1BboIEyk2xDvRe3w37yC1ca1dscYYz0hKlk9G14iKNtJeaKgdfQlaj1MGVEQC8abuM1aEwsRaZL5z/HgHbbmtttuA5MDHTxQ1UTLgzVgCVQEPBlGa6hcYqKRQypL3FlpPnP22czoBVSAR0efVogTlBBQxhJ8iWhFrjKqymMzg7KRZbYdoSZeRjLshnXaaY0xina/U601deyYqrvcKQ2ZJnjBJIHGao9ptciL9z8y0LpOrk/tzJTJcIBNptzXvOUUXvMPbwFZRGl6rIEmN9mHQK4hqECJwpCjiFHEEjy5MY0s4BxYm84tgigLijhPk+r1kjKgam4SFOge3gu5SX1klUI2YxfAmJGOMcafAWmq/mhqUVq1auRKEr0VPnJXNfqKxZJ8UWivc0p83DuN5tKPGuhE7otuGoZ36yQ8AMniWLR4nNZxB+URPIEMoxToDmDoADlRw0GBmFgIQpsoBWRmyDSzzDT5ogqNViFGW6YWbyrVvg9/5drofUHd97VdNq8JBFcQWZxG2chk4+pKFQ6afBEFwQ6P0/WzCYkR1uPloLdK0l2GASbTaToCkIMEDBrDRDwmrQejwRPiMkLT7nuAUil6HAyJg+uAJxAvK1lnTHwPjI4MWNUHNdq6HhHKNgeNdPwGjDHGnwGt9dwNrxMjHRr2Rs29675odVlABbH9dtqnZT9tmUxH5Ph2asVIuGygNVA6pq6nawCLEWLgUDrOt4eYRdza/wqBUM+ide7W6cb4E5B7KVocH0lo1o9K2mdEy1zcEsDCrN9U67lCh2iMjVHBGVGAaviZH9Zdnh1yHXdJ4zbM3iXBcK65y+wh4vY5GeTmuVrGGukYYwB/6gWXWQW514EKSZNI40higim8X6U4xSiPR40xUiWLIvojY0BjFvdSbV+bTgZUEB2aji9t5bThrel8HtMUUVAQfW/3cN0pqSYiGNBDTdQQNZ6ayPu0p6m1JAE1atf+K8Wfd/3rrqA5jheSAJQOqH3xIyb2uBYCycXQPhaAEM3HaCogSybhuhwgOpajbLPsVsXJqBmr+ORjy73YQ001O8YjfVrfKp1bpflI2md4vWli9ZqRRi7YpDFmpGOM8WdAUoeUdbY332YzlSEzjNrbukFNmib+orUltLhgbbqLY49Yd9MuZkSDGGqyerZPSg3nQ3Nsa55qlKDXATRx7rNGa1O/zYEaPuDQ67DTtn2iWQ8tK0f8Oiu4SZjzOWo0XoExrWXA6HoYHjV7JqNNwdv/mFQbOiVHUa/DaJgejqsaW3Sr5u5msmbGjHSMMe4Dai00pM4ZtYYKyWSn2jJ9Yni1eM6QUSr0OmbTxjcK0aeqagIUkFrSD8Nja79oVApcYq1xJJ+iaI20iG+LWNaaJSoSVtOOOG5pmWbWcT4R+drD51VIAsDc/SvHuHe018+IebblPxQ1/K2RU1oMUrWONY1eqUDF5xyFN5t+j/v6xPSUrveu0m+piXuzlNra7+xnHGZ7LpJmXB9bV2MeWk6GGO4n1NaVTR+bx1WMMcYDiLlMvbWk3VSlbfs0Zej3bPHaNFhdoF4jSc4NAHNI7jqF+ahZW0cn0hpftZ1iSWsd8ZHpoTlOQvpExqzb4yXiPTKvzUSzeGAxV/H2WnxJDKntq2ztK81KqC0NQ4+7oJvnqVOjWqEW1toC4OhU7rFcVeN2CM16Vm3BbY7wgWYyzTXd13SzTQNjjXSMMf4M3JOfdM7YH8AkjUBIvqnGqTmL4am4X50auI6JryFQVTNyXQQclZieipqokDIQABV0a8A6YChpoo0TNTRzHzHPpd+bIJY0h6EvOPnX1JiP/rlQI97IkR8ihFbAkW7t2mJAyYwvLZO7kdbxkDKwAqbJ3TRY0S2TalbvHleGSnOT0MhbgiaMTDUyQk1diH74i1OOgJBjQOw6aVFtU+6IELmJL6CxRjrGGPcB0rRRu4dgo3tFbaa9B6ThpJHUafpK1ua7Wgesv43MQPSIKW5dX9ZoPLCebVtO5x56d1t+s3uYdNskd2/KyxgR9xaxGzE0g9aZLqMDzDHmXMPcg0Q3Epktw/U1O2o3Pks9ImA10doju8/NOmoDtczxu6jNTQ8dYqyRjrFZoA4CqlNTlIqJ4N77kdy9vxRKqdTbMX6fnWDf7HcPBKbZ3vItzd6zDuhp/mkdOwzZyNJPs/fT6/xRwwEYBjvpNm9tjlUjx+ghA55TaRoGKulm2/2L+lmP+hrXb7x6zcx+rvNxjnrseu0opVEoqqoiy7LhfiMHzTWSbv62rerrrLqRddaOmh362WefavRZDtfAuit6+PxHxlGQtU3L93qOddf5/YH2s5z97q4Pxox0jM0CNaGC+IKUZcnU1BQrV66cN0JojGHZsmVMTU2xfPlygHkl5mPcM0SEEALWWkSE6elpYJRBrQ/aTLQoClasWEEIQ91pfQmuUoqpqSlWrFjBypUrYxcYrTHGJMY6Xj8bGiEE7r77bpxzzbOG+RGUxox0jM0CRVHQ6XSASLSOOuoo3vve93LOOeeQZRne+z8xwr3De98Q27IsedOb3tRoEm2CO8aGgTGGsiybnp7OOV75ylfOm8UB4jPeZptt2HnnnXnd615Hr9dr1s2fNs3+aaxevZqrrrqK8847D4gdYUIIeO/nTTMaY26EEMiyjLIsOfTQQ5vt8yUEjxnpGJsFOp3OsCC4MRx66KF897vfnVfzDQwZ6kjd1LFGusFRM8zavG5btevm6xlba/He86EPfWid864vakbc1oRqBjpeO/cPnHON8FLf87abZn0wFoPG2GxgrV2H6NXay/qi1kyMMWitG4YKc6e/jDG/qBlR/YxrU+98MdF6/PbYs2vjrg/qNVLPNYSAMQalop90jA2L2i0w2/cN8/P+jhnpGJsF6sCitgm3JlDWrr/hpfZltQlufd4xNjystSMC0WzGtL6on2Pb4jCfqK0lMKpBzw42GmPDoL7f7VgKGH0u64OxaXeMzQK1SReGfo/5ZnZt4lqb/GrtZayVbliISMNMZ2sW8wGtNWVZkuf5SF3lmrGudzDKLGGuPkdt3Rj7SDcsZluP6vd3vt7bMSMdY7PA7HSUtm9rPplcPX577DET3fCo73HNkObbR+29H2Gi9fqZL9NuO72mvWbma/wx7h1tYboWsufTdH+/iUFtZzvEhVtHO86HD2uMBxb1s2wXdW+bQjc0aom+/ruhCNRYc9h40DbXrS/mWi9tWrW+aGtEY8Hr/sdsK0O9bb5wv1GFYSJyTGyvgzZgfnxYYzywmG32rLeNicYYmwramm29douiGGuNmwFq/tPWQmurxnzgftVIZwcI1BLBOGpt80A7uKcO/hljjE0BtS+0XrP19zo3eYxNH7MF+9o3PR+a6f2mCrYvYHZFiSzLxtGPmzhEpIk+rP1L7Xy5sVQ/xsYMY8w667T2o82O9Bxj00Ob/8yOo9ikonZrs27bxDtSo3RsAtzkUUv1s4N8xkRojI0dbZNfbU2pXU7jghubPuqc47oyVh1cBsNCDeuD+42Rtu3RtTpdSwbLli0bayybOKy1VFXVSPFlWdLtdgkhsN122z3Q0xtjjHtFrXWGEFi7di3eewaDAd1ul7Isx0Fmmzhqxa0oCrbZZhvyPG/4z3zE6NxvjLTm+nVUZy3hfeUrX+ELX/gCCxcuvL+mMsYGQG0mqaU+iD7Tfr/PRz/6Ufbee+8HeIZjjHHPqInqzMwMJ598Mt57nHPzGhk8xgMHrTVVVeG9Z7fdduMjH/nIplm0vmai7QmLCLfccgvHH388Rx555HB701NvdvPjkJrdzj/qc/65448eF5DUF1JJ3Vdy2PZIUpNkSdchat3j631r1PORphF03fEvzNkXsB63/jt7rhvq/s3uvlKbeM8880xuvfXWMSMdY6NGTZemp6epqop/+7d/I8uyGLVr85HoTrURdNSUpl3Z6FyG9GL2EaP0o+6RO6QnQGr4PaQTodle0y9Rw365Q7Tn8Odq7uvSvA0FYwzLly/ntNNOm/f4jfvVXjGb69fmXqUUPoDNOqAMlRfQlqA0DkXQBtEmbpO4b02og6/Q68kdRIEXiT3rDRijQDxatXIiRYFqOaa1SscpAjouMC0EFcDEcQSPUQotGqsshPhdY5D0AD0erwLaKgSPBIfREEJkwhqwWqMw+BC3W21Q4tAqEPCgFRqVmvUKSlJvyYY5h6apbv2iDF803WL2fznq59juCTruijLGpgKlBBjGcQiaygVQBicQlMajEG0QdGp+bQiiIm1Yb4SRj0qfBoke+cqR5108Cp3lsSF7iO+3MYbgHLnJcaUnBDBKIx6QSEMaOpZoaRCHwmNTa3cfiHQWH+fgHZkCLRoJCqyiEgfKIKJQBIyO80M8SiVlSQuiQqudfaQz9ae+ZlEhMecNTyu8902FrNmlPtcXG00Cp9aawWBA6R1r1qzBZh2895Tp4ic6HbbaaiuUBdwwoXaoCf3li1kJdDJDVVUMBhW9zgRWWVzlyLodSleR2Sz2sSOglOBcfCCZSuZMY6hcQcDifUXHxu3BBEQZiqKk0+lglKIsC7I8o3IlysR5V1VFZjKclPgQsKYbzeFaIT4QULE0mo/mCatzSu/IOh2KoiDXNkpFSt3rnWjLf6JAj3ndGGNEtIqY1wJhFYSZqTWUlYuF5nXMg8+0Ysstt2yCVyRsmKIytY6QZV2qqsJay8zMDFmeUw0KQnD0ej0Ez6A/oGszKlcwMTGBl4CvSkxmkKDwEgNu8jxnenpAlll6nS7loI8oKMuKiUVbM9PvgwSU1eleKNAG7ytopQmZpAhFd05OWZYQHNoagg8oazAYCJJubVsrni28b9o+6I2GkdYpMLfevCwyzgXR11b2B+R5zq233sqiRYvI7GgO6vwEAQSqQUy87kwswHuFd0KeTdCvptFaoyvoiqUyDp2DqxzeV+TaoAO40tNbMMnAlYQAmc4wmaJwUWNUvZzCC6p0dDKLxoF3ZDpHgkLIURiM1VTeE5yj1+kQigEiAZ0pnK+w2hCCoqw0Np+gKvtREhVFZKGzOeNw8eqR/4fXPsYYY4zWv62ZxZo1a7jzzjvpTSyIgqxWlGXJQIR+WfHg7bZtoj/X69xKN0yz7Z6pMd2fwWYdtNb0LFT9Ab0sg94Cpgd98NDt9HBugLWWQdmPGqMSgisJJpqkulmOL2OhfK0VvnRYbRm4ku6CSYp+iRGLtqkSnc4pkwUwz3M84EJJnqWG5FqjVY7zQtZZgFChNQwGJV2dQ1AUVYm1OcPL0VDrPjLb5LxpYqNhpP1+ZAgrVqzgmc98Jj41Yu12LFPTBeee+80mUCmopFGJoOcpx6tjM6rgGcwUdDo9quBxQVKPwgofCqoQyLOM/mCAaEVmc6T00QSrNUVRoZVGo5mZLun0cpxU5NZQlgXdvAdKcCHgfCDLOkjpMHmHflWBFgZVwHY6WAXlYEBuBGsyCl9ijEaCRylN0AbnPVpbQnAIyaRSS9UyLEcmydw72wI11ws7xhh/rVApLaIsSyCa/fI8Z3JykkMPewyrV08x0evS7VhuW7acyy+/nB0f9tB5cWG038E6HiK+mwFUYGJikjIFy4CQGUFJSVV6rDJIboBAlwJfFWAX471iMtdUVR9RAd0xuLJEK0tItKMoCrodw8TEAqZnBnTyhTjn8SHS106e46oKFyq0UhAcmTFUVYHRmsxAf1Ci88WUXnChIM8U1uYURYHGNBGyI4yz9rWu953bOLDR6NPdbpegYmRVVVXceecKbr75D/zu99exYsWKkbwurfVICs18MFKnBGU0nSzDuYDKDGJAJIXFdxy6J8wUM+S2Q25Sg1ibEYyKizR4eqqHrXJsNkHhFL3elpRlSc8K1WAV3pR4I4jO6ReC0Zq3veWNZLrgiit/w1777c/1S2/BlQUTEwasYqbsx+v1AW2iw19MiaNACWQmB6MRrRq/jajESKXVd6/lMx19cdf79o0xxiYNScywFj7rbjDT09MURcFNN93CmjVruHHpTfzu6iX0+32yLKMK0jDe9YGR4TvpFXhME1CkBaqihKAwysbYDFVirEeqEqtSv03lWMgabv7dZXzq8+cQ8gdRrvZ86D3v565VqymCQ7Si8iVZ16CskPdynPcMBlFr9OIw3QynNSR3lhIh6wSqMAUmIOLJOpYgBb5cy0Q3593v+Qh3rVZ0ulshkoPkZKaLTqbdSHdc4xMV5UCVgEufTRsbiUaqKctoW+90OkxNTXH22Wc3+Yj77rtvs2fT5aNlKIjBAesHXzm0tkgAgsN0NUU1TZZlGK0wrkBEoXWO1x3KELAqIDN30+l2WR1yVNbDDQZ0jYkvptVMFxUm6xL8DL3MUrlA1ukxUzpUbvnkmaezbNkynHPstfd+/Pb3SzFKMeHuhsE03mh8bvAqR4eKnhtQeYdMbsnavqerOhT9AbqnU7ATCFEzlRHtNFlT5tBMxxjjrx2qlQpRa5jWWjqdDiEEvv3tb3PnnXcSQmAwGPDyl53Y9LLsLpjEl8VfHM3bCLWq9h3qJjjQRoKEMXkMftIaqQIdq1CupJv3KIKgbJdiMIObXsPbT3kDjzvpNPoCv7r4J/z317/JSW87Ba0tKIdCqIo+4gNda5JrSBNEYdAUM31CxyJG4weeTAtSTjGRWSoxVMoQikBuO0g1w/nfPY9zvnEer33Tu+mXM+Qq+kSVMqAEkdAKxpgVZZz+bupGsY1GI1VKoUUx6Bd4F3j5y1/OC1/4Qk466ST222+/pltMY94NAWU0zAMTVaLpqZyOWHKd08ktVXEXeafiU2efxS6P2I0n7LU/p//LhzjxxJP59ZXXs/vO+/Hjn/2GhXot73zzK3jBia9iVcjxYYqnPfEA9tnloey1y44svfUOBqrDBRf+gJ0evht77bQHez9iD6YGa/nej87nvR/8ABf/4lcccOBjueyS69hn1/24/obbyMuCd77pNey4027s8cg9OOWfPgD5Ivq33czRB+3Nhz9+Oo/abX92fMRefPO/vkNResow9PHc+/XC7CjBMcb4q0YrirOO1wghUJYlK1eu5Nhjj+WEE07ghBNO4KUvfSlrp6bJO10q5ymKYv1OrSC00uCMRIaqhRS9KzgckhkcQm41+WDAl848g4c/YjcesduuvOAlL2emMvzze07j2htX8cF/fhMveeXzednrXsaq/hoes9+h/GHJH/jEJz/Ozrvuzp677Ma5//l1cglceMH32fuAA/jghz/GnjvuwsH77M//Peccdt9xJ3bbfVd+/POfcMvVV7LbQ/fg3z/5OXbfcT923fUQfnHxb7lpyVJeffJrGayd5rEHHsItt92Gw2GMBhF8WSV6VOfl6BStoaOZVzTIRqLPrQc2KkYK0cR76623cv11S7j11ltZsmQJS5fe2OxT10ac77JdQcXw6Cp4BsVaFnYrLr7wO5z2fz7ERRf/mEt+9TN+dvEFOK+YKhTYBTEE3U+T6z4VgSIo3vmP7+aEE07g+uuu4hOf+Hee9Yxns+rOlXzk/afxsr89luuvupEHPWRH/uub5/L4o5/E29/9Ng573CFc9r//Sycz0O3gvPDpT5/NDy+8mKsu+yX/76c/4/wLzuezZ5+FUSU2wC3LlnPpzbfxtr9/Ox887X2UZYkLHp8WbJ3iYpTC1knl83a3xhhjM4NShFaThdqVlOc5zjmu/t3vufnmm1myZAkrVqxg5cqVTSrF+lfGaQm0alRz0xLTUoYt3WKQ45LrruaM/ziTK377C37+y19y9e+XcNmlV/Le97yX3R62gLe+9//w2c99hk99+mwW9Ca5/JKfcsN1V/DTn/+SK6+5ip//8jd8/OMf58c/+SHKwPTqkkMf9yR+ffGPWNzJuOS3V/HLm5bytL99Pp8446P4wRQZsPSWZfx+2R2c8Yl/5zWvejk7PGR7zjzrDOzkYn5y+W952MMehohvUk263W4yDzMabNT8rfPuNxpW9Bdho5q9945H7r4bg6JPEE+eWbqdnDzLOOTgg6nKASoI+FTQwAdUymdaHwQdKJQj9BSlVOQ2YKvV3HLjddiFO2G32Ak34XnOi59K0AptOhACzg9QHaGUGbSe4u677+D7F/2Sd5z2bzxo9715xWtfjy5Lijtv54j99uC/vnouD997T7Z46C4898UnEEyOwpHRJ9NrsWYKmKLC8dVzvs/r3/TPbDW5Aztu+2DefNKLuPB7X2FGZhhYePqzno3yjt13eShWVzhXkmUZIQS8DJtct01Vc2E0p3SMMf5aodEmGzHrigi9PGP77bdDG4XRil63gwTPVou3ZIcHbw8ppWR9oIh+UIjMxqsAxJz0RlP1gpQFmdWIhp322YOfXf5jnvfc5/K4gw5isHI5mQhdbVEl5GEhNizC0yHYgFLL+eEPzuFXP72EfR75WA5+zOO4464V3HjLtVRKYOHD2HvvQ1mgC/Kwmp0f+UikM8FuuzyYXPdRJlABxzzrGSg94BEPyagGd3Pplb/BW0uorYQtZafdMnNzx0aiU0dpzFrL4sWLWbRoER5pHkg067ror1Q6Ra4Nqf/6a6aaoMEJ2NyAj1KgGxTs88i92WJyIbpjmPEFA++jrBj6dI1QejD5BMoYBoMYev6ud7yL4151PJW2+DBBT3k++P4P8JpXLuWwp53Ir352MS898dV8+ctn4lyJhAIJFd3cgo8vZuEqer0eGiGULl2naa66GDjyrAsEhIrawK1SHqlKwUaS/pdN3gsxxhgbDu3GzyLSlAecmJggyzK2336HkQBHpdSw5KmrUkGHv/Dc9/abCgQBm2kMllpn/p/vnc8bXvNuPv3ZT/DI/R7HE5/+t3gfg3qiFh0QMYlWBopqgLKKAw5+LJ/7/DlMdixGVqPkTi744S9BTSC+i5YSqxxaZfigsVZDSLnrFoyC/mAGYwWliQVhiEGQmlQ/PdFj7z25MVShikVqmmud7S/VTcWkTRUbj0YqQvAVIh5rNR1rMAgqeKyK6SlamFP6W19GqkSTSxdKg3MlaINjAUc96aksufQiVv3htxRTA77xrQtReZdtt1vMoq173LrkKqq+5he/vp7SLeQhO+zIUUccwk9/cC70V/G5s8/iuFe9nDsGBUcc8wJ++ovLufnayzj11NeTqR4hTNBd0E3iaI9+P4OwkI7u8bK/fRYffP9bWXX3H1ihNzZLAAAgAElEQVS1dg2fOPPrHPPUlzBBh04F3WyCmTKMaOPi3TDVpRVsNNcSFaVT7tr8VDYaY4xNGWFW1C7QFGXodDpoCagQY2lzo2OkbFUSqnJesga8HlqGNNE3qgnNu1m4ihJH5Uu89yxfuoyFXdj34IO46Y7bWXXnHxGbM/AFPnMUqgTrmTABKSpUdweOPuY4rvrf37By6Y1cd+317PrIfbj91hsxwYEHo7sEb5CgyVQXvMVVgiiDNuAdfPdb/41VOTffNoOdnODAAw+kKtZgKMAVdLIM5RUiYKylCnUJvlq1jtfVmLFVADWO2p03WBvTSXwYmkra7dZqM2W90Oe9RVdKOs7yHOcrSjXJbnvszz+8+bU85agnsM1CeM5xz+GnNygmt1zMk454LP/6T6dx8be+ySP3OIgr7/YssJa3vfXNPO8ZT+KRex2Cm4Avf+diegsX8rHTP8Nznn4073zv+6A3wRf/5+d0leYh2z+Mn/58Cfsf8jhO/9T/BQ0dKTn5NS9jybU/Z78DH0+h4NknvJkTT3glxdJfENBoV9LTgs7AE7BWj5qI0n1p35+xTjrGGHNjtrZZ/++caxhqWziFIaOtS5Wux9mbd1ORggET34nMVZNnOUXlybMMa+BZx76Q08/6DI/e91AeddAhLNxuW6677jr0QUey66P25WPv+xeuue563vKi59IvZzjwoMM55xvn8qLnPZenHnMEFR3++bR387CH7sI1V9+BkQKl+oRuh8JYqpk1LNCChIDRORIMGthtx1159CN2BV/yxS9+ioneYvbcfU+KNSt4/GGP5oIffI1ddtqBTBuqcgApABLV9ovS+II3F5q00TDSqoqRb9E0GVeR0QCS6kySig5EsyWkvqaSylitl2kg4ILDZpqyrKi8wk5uQ78/4OUnv4GTTz6RheYmPvTJz1EudZiJLfjIxz/Gf7z/n+iQUWGZyXugCsxW23HRL69A9QwDAbKFBOfYba+duXbp9ZQ+kHUWUIgBNcOznvZcjrn+GDI7gfOK63/3I7QKTJer+fDpn+Z9/25wKmPaaZSbYvJhu/PjK5YwUF1CuIvHHnkQl1x9GWUQjNLxXiFoFKI1imiqajv6xz7RMcaYhSSY1yXvFGHoHqkLuNfMrSklCIjHOz8vVrF2vIJOzDRg0BKQSrAolA+44Jl80IP5xW+vJHiNE4u2WxBKxwzTvP9jX+AfyZBc4QdruO7WG6mqjDzP2fu093DaR06jH3KsUsAMTzzqmSy56kScm8EsXMyPrrgEn23BzGA5p7z2NfB3J3Db768CYK899+WKpTfRkTVM2EA5Pc2uO+/L0qW/Q4yh8qspijV0JxeiraAxTXvF0bres1nPpm3a3WgYaV1kAVhH6mtrou1t0Kres57nV9o3LcCyTs5MAVk2SagqtDYElWN0TijXYnG4siLXGaK7BB+wvkA85L0uaMVMWaCtwfdnMBq0AecF2+kyGAwwOp7LeQWqS+k8NjcoGSDi0XmXfukJaJSCBTYWgC4kgyBYcQRX0uvllOKx2oC08rJaGmmImaXx/zETHWOMe0RdHnA2fak11fa2uejRfKDOJo2RrildJAS6eU6/KNBGgzWU3qNFYhGZqk+3kzGockLwTHQ0zhdIr0PlHVp3cM4jOqbQWBwSFBUdlAbDADEFIctjI43+GhZ0OvhK0LpLUF3QoIOnozzGwKAq6XYWEqoAOgaCWjyTkwtYu3Y1WdbBZpGBey+j3bxEgwojmvimjI2GkSpCE34uIo2EGM0sihBGC0rXJfDmC9YoyqrCmFjaKgQLSmONwjnLTNiBl7/iHzn+tQ+iX60mU4LOcqYGRQyCCtHuX4WS4BVadWOnFysoqWLwArEA/USvgw8FEHAF9Ho9UI5BUeDzDpnJmVmzlkULFuEEXKhQUsUyg71JnEhk3lkPlEa5yKhDcLFovdCYVEITnmDugYluHrUuxxhjfVCTnJqR1nSmNvdaoxAZ5rHX+etDGrR+cQZS159l6CNtflOgjaFoNDuoSk+WdQgECu+QFJRpc4tWmqnBDBIck7oHwVKkoKU8n8SVM1gEaw1eiExOB7Sy6FAhkiR/b1GFwuaGR+yxP1cuuQFje1TVFDoXHCBGAMEQFZFu3mEwKLA2x3ZyiqKEIBiTtZhlSLSole6zicdpbDSzF4b2cmMMRlmIGVSpilFAa9DElmHo9AG8r0b68M3FMOZmIsPF6ryn082oygGZ0XTzHF9F/4hXmkoWIGohVH0WaAfB4UPAZBovrona0xiszjBJig0h/mZ1hlWxS0SsU5nhqkCv16MsB5TlICaCO48ExWRvkqIocJIKQ2OY6E6kcHKFMhoXPFXlYwpQSB0rUCMSc0MUNnWRb4wxNiBqfhhCwPuq5f/Mon80+THraN0RzVXFdmKxjWGdE5kqFM1ypdT71Ijl/uqCDCn4b475eQmYzOJT9xWjOwSvY0tJbWN0LYHKlzhx5N0Mk9nYY1SE3FhA8OJi3qtyiK8IHrQ18XoIiI80zCgbWzbaHBc0ynbQeQcVSjrGxfaV2lJ53zBFER+tbSrm3/oy3sdhUf928ZfZBWE2bUH+AdFI6zJ/tXQnClx6kCYVS0YMCkNlHBDIkq9UiaQalJogoFQcixDIOx3WFn20VXRNTtEfYPMOyoAXF48K8ZKDjuNGaIIyFD5gjUYHIUjAaoNI7N4SUmcVk/wiOsZ+o5QHDQ5BicaETly8OqB0zAcTUSgf5UxlKkQJlQNtejhXok2aQwjkyqK8QwIYqyh0CWgynyE+YLQH7zDpZXVKxSL+knoP1iYmVae81AnP9/g05vW51sTFmOgbmU+rwRhjbCgMjWABrSRFzdb9Rk18z+sGDz5SA4XGKxAJaX9SlZ5Ybi9oCLWArWpGW3etMhS+gk7MXdUSQMCIacyeoa5LCwStcSFqpEqiqyYoQOtYhCVEBhiAIA4vHq1jXjzKgqvIVcBLhdMBQ2LCqFgLV0V6aIhcPSSNu6ijFxF0cGgcKhCVgni3kJCO1LHEIEBw0T+qNSkFZy5lRrfo0obX6eog1pr3tE3z60un7ldG2vZ11szUe8/555/PVddcHSeUAoi0WIKCygSCchgJGAETIgPxKi5inSRBEzSlL6GboTWUUwM0Cpt34mLUghbQoe6sEFoPVuOxkZFTJt9EnprhutZ+Q1OECrbRfkNqTKtFo30vpunoClEOr2NTXOstEPCmjJq3dFGiUFSjvoLEII3El6iwAURjfQcjEHQRQ/Elpq84pVM3nHAvzHLDo92kPUr1nm63y6WXXsrjH//4B25iY4zxZ0BEWLVqNZ/+9KfpD0qMzTHGIHiUhEZb1BKTOEZoA2BCbUlrM9KorZUzfSY7C9DJ5RK0whtF6R25MhjRmBCZi+iyKcgQVCqlh8aGyLAD8b33OjJ3m+ThoKKSYCTmdyIZEMcNKuBMlbrKKLRoVFOez8Vrk5o+DiOJg4r00kikz6Tzi6IprP+X1hm+P5FlGXfddRczMzNorXEupt2sf2WqB0Ajnc1MrbXsvdejOOigg5qWXrHeJICm0hqvY+cAIwGbGKFPi6heYLk2lOUAbFz0M6um+NSZZ/IPp74DlMLj0YThgmuZXOJiiNKc6IKgY8EHE8B6G18aRepYEKUrFTKC0pTGIEqwwaUODkmzloAowSuFYIf1JJWL+4QsnltHX+mwXFZo6m2KCjgdXyQd8sR4fZNfNvw9pJdigz++e0XNSGvpTmvNihUrHthJjTHGfYBCUCiUyphcuJjHHn4kSgvWEnPcnac21QIpLn7YBMJpIL33kYbZaNbVjqDie3Hu17/FNou359CDDsZY8FIiWjXtEKEWpAMaR1BCUIaARYfkY1QV4Jr3vxbU25a2oEJipIBkDbMUEs2krucb5zwbkQ7rETpU2EDAkvksXbNH1cyXIUPdWOFcLOizYsUKbrvttqa8I2xiGqn3vnGUtxvoaq058MADOeYpx8Qd6/IXrXAuUTFXUpEYrAC69pzWCzCaZkIq8rxq+R8595xzeepTn5L2a2ltoodhYsOVEOepQHD4WEmXnGy41hTD5OG0OEsVD41yaD2cg3aQD7YZwtTnqnPFVO0faD+K0Lp+3Zp/Gr81H1Eh/Ta3b+X+wlymkhACl19++bz0axxjjA0JlZI3tbLknR7HPO2YxBoqfFVhbZ5yIWe9j+k9jl1CA4aAatWQ9XXNXOCKS37LAfscyJOfenR6kWWY+N2gZkiRzkhN3wKJXgx/i7/Hcw1jRFKbxHqsVhCP1LS1NlHX25o5j+Z1RmU6dm7xSvCYEToT6WlI9LRFUzdSRGvDKs4777xN17Tb7kgy18Sj6UQP2yBAejA+PfxkahBAQvyoKEkGVDLzChofH3WIBZORuOyUkpiHKrphZMOm1skMAhiXgbax7x7RfdBe6wE75H8CuZa0QNvXYxAdzxeSZGBEjQZE6fg6KupEbgGxiAqNNJgSyWKDBFXFsoli4qJvxlLpcmT0LXiA0U6/+VPdaMYY4wGHSHSxqBB7+6bNCoO1dQSjRB9kY8lK77AETPNCZoAiaGHYujoKxpmFLEtCthjQikEQrCb6HiH28oQml75NqyIq2kI6NT0j+jmFqDkjedxUF+VTipAsfUPLlaR2bfHaYgyJSvvH3xUCIuhEP5FkPk6RujbELi/ojb8IqYg0Zt3arViXoV1f3G+MtJ5sWzNtN+uO1S/Siqm1tfhD1ETrwBkFKNNsH5ZvABhG0WmtmZ7uR4EqqYGKJqIgMeHhcagwlN4ELDZqwSqu+XrxNfe8kQ5V/ac5luRtHb6Manic1LvWcq1q9hElqLooZQta1TyyNpsOJ6/an41EImzn29X+0jHG2HgR0gsuUaBXPrYwqyN6lG1eskiLarTeR0iSef0+S/IbRreRUlBVnqIqQCdGCpimM5MepSMjdI0WvWnvZIbCc5L24yi2tZtKMRjDGtxDjqdGhm2fvy56E4mnaihaLUQYVKJVujl4Y6E/c6EW6Nvm3JoPhRDWu7D+/cZI6+CidsSUMabp+Qc1DwqgWqaKVJkxSmy1idBCqJlqkqdEx87tqRpSmYq+Q2329SPrsJbwVNJ2PQatIo9OYXIYHU0zgsaoei0nk4sempSp5x1/iOOj8dSe1/qFor6oeC0KPFnjb5lTb9Mu3YVYGUSoF+zQXPpAm3Vh+HyBpndslmUji3eMMTZWBO/RJkbnqlRJLdIB1XDOlreJOmUj6nG2xYQC4BPjgcYULAAdtO2A0jjXx5ouGQrvAWvjuz1yktDQwyF1qCmFGQr+Iww2G2qpzXbdVEpqUk2aAKbRkedGMh8To3bjvnroIlP3evBGg5omtV1N88FE4X7MI9VaN+kQdXsdiBdSMzyYlVEks13hsu6DS855q8CmkngAmFjoWcefR55z3X0+QGJ6yRFfa7yMjt32SdR7t4+fC+15z32T08vQ8k20XbGj5wuj0yKy1sbNuhFEzNUCEgybIwNjbXSMTQK6sZLFIBTnysjEZtHYNhON/7d8iyO2zTDrmJivWfooVNusl9L8YinUkUDBhuHVlGk2NZnFRFVND1oMt1Eza8ZZn6PWviOTbixts+Y8gpZSE4UEzzC6N8aVbOyo+U5RFDEKe45a5OuDOWn8XMEhc524vV89uXubWE1c62jdWhqom8DGpGaHFp/8iOAaOmwRDDFmDZyCqrEE2ySnDTlsUKBt/B4VpeRLVKPMupKAT6ECiuhbr4WtGLquE8sqQcq0qAzaR4kzSAnK4RkyYu+HgUGGWEJCfFsKAlHRm1uz03tGzWw9IRTN3KtU6WljCuRpl1arUVsdxhjjT6FuTFGjLWz/KTSdjlrNLe7rscOIeR1jELxqChxEl09yrNS8jaEwi4DyQ4NUtH1G86oERR08qxT4EAuxCBrn0vE64EOZjq0vxjfnCClv3vnaB6kj/SCexqfQCCf1b44Q6pQ6j6TAR4UD5UBijnz8Le4XfLS7xTlEAaKJGpGa4pIyZQ2CwblEK4e3ZKNHuwFKbT2br16pDSNtL+C287W9uJ1z6/g6Zyfft/1js8dtTpouor6osiyjvd0HtPIoKfHEx2cNSaAKeBQVlhLwImgNBfETTxYvSVBN7lMD0SgMlYvpJnWUbSyOFHW7IMniQWJ2KLxLwUvik43YQFAorUECOhRARYGmn14aY5JFJuWdhRBQRhMiv455riGGDChAXMvs3Nz4+ClTL1Ln+qmIPwxKMHr0Po8xxqaMmrjVwlgtbHvv71OwWv0e1MEjtbvovga6VS66hzKd4asYAOjxMXhH+0gQykg7BChCYiw1c63ru4jCVxYkQ2mLqgvPtPLmA8ntqsGHCmNVEz8JDhFHCBolGZo8+k+NisK6r7uppJCjNIWkM0T3mVFUrmgikWOQkAPvkhvXxDxUYlU2Y1o0xFjKoiB6Rn3SeD3IAEOgxNIXi8oiHVMCeiwnz62RzhUWXJfGqoNH2pzce0+WZSMvwVxjzUatwfY6Ew0TxBdcc/mvybIOuVlI1yxiu0Vbs/auO7nid5fx/k99kRmgozznffOrvPJ1p1DRlop0kxLTSJSEtMg1udXgiiZfVVKAukehlI78Mll0tEBus7R4LcHHKkWNV70qgQF3334z//cb5+ENvOQlL+NHF5yP8YGszgvV0V+qLFGEBFAeJ/Ht00ahiVVHalxy6e958pOfRZ7FKL5YF7PilSe9is986iwEqMRHASSMmekYmzZqobougdemO/fF/NYOahMRer1oOvXe3yf3Qt2GMDK8aF0SDF48UPGmVxzPwl4Xqw3aZJz+2S9SAm99w6mUd02BqSA4DtnvSdx0w11UVdKGVSwRqrVGBUvesTjvCCFZzbSOAU4atAmgBigd+Mzn/4vlKxw4+MwnPsddqwYEogCtlFAR43er4Brrl3eOqGtqjO7hvUnxF8nuZaITqCKwYuUavvyVr6NVTp1I6BMNzvOcV5x4HBdf+D+IhKTJruWqS37Bom335fbVMAhQpwI2/uS/YjSM9J40m9k+zTpICIaMNssyqqqiSpJcu3/o7PHrhd0OOKqPixbUaXpG+MjHPs6UX0tRrOFnP/4J//nVL+O9I7fRvHvJFdeybMVqPnn6x1qxry00/s30qZ2lgzJGypUF+BKFogRcbE2Ls2mwilR7IaBNBmRo3Y2acfA4BeQ5UPLud7yVO1aupAS+9JXP84QjjwBdgJsCPFXwOKBwxPjzcoYOip6y0TSjNEEcmUp+mgAHHLgX3//+d8D3IQwAi5Ocsl+SmVj0QTcRc+qvfiGPsWmj3duzZoDAiJZ6b5/62Lpl12AwaKxlbbfT3B9wiQQZM+wmVSFReytLFk5krFp+A67qU3nPNdfcyJ3LZ8isRQcP3nPKm97IBT+8iF1224qYdqrxITF3Hy16IYTYGFyTIntLVCjxxXQy6ZZcdtmlvOWt70G05epLbuCfTn0nkMy3yZxbEjVSqzXR7eSwFvpuEBMAVXR1aUmuIQG8oiKjCjlv+fu3MrN2hiqAIpZj1Qpc8KAUZ3/+czzp6KNQ2hFZdmzOUVYdyKJft3KRcjb2679irBNOOVsLBaiqiuuuu45ly5bhnCPP82bBhhD4/e9/T1VV5HmeiqqbxiRTl2KqmWsdwVm/KEuWLGHfffdP0ajJ7lkUUfslRokPJIDpoINnkZ+mv6rP2ef+iH99z2sxwGTjXLgHM44SCAWgWXLVdRx88AFsoeGgIw7hyBccxwFHPYNXn/KvfPu8L3LLtUt51+tO4ifnf5cbL/kNux72OETDeef9nGc85TC++62v8ZwXvhjHAo7/u5fyT694Kmd/4Txmvv7/WBsUt/3yYk568XN4/FMO4/SPfpi3vP2jlMryjYv+l6c8cX9edfyLkKlVfOPbF9Htbc1v77yNickOHWUJKbnZBbj66j/w1lNexYXnnclFF3yfo499Pbq3Ncc84XAQj6sG5FmK0Bubd8fYxFGnSgFNpPfvfvc7li1b1mip94aabnnvWbNmDatWreLCCy8c8YfdMzTW9AjBcdeKW+mXfVxwGG1j0QGlyYyNtMsYKhfjKXKbEVyFQ3H2Z/+Tk075B3pbK5yOrigtgqET/agastzgJcZdqBBNp3fdcj2Pfcyh3Lp8wMKFHZbcdDmfOON0pu8q2HmnQzju6EczNb2SXXbekWuX3sCr33IKX/rSlzjwqGP43ve+xfnf+QYved4LoQLdgzO+9CVefvzJbJnvzNJrruSW25dw8snHc/uyG7n59lV89Iyvc/iRT+CrX/oSX/3S5wjS5aSTXkJW11TQQuEGnPLa1/OC5zyDJx11OAfv/yiuvuYujjn2mUBG0QcmILNdRoKXNvLqRhsSDSOds0hC0ihnZmZ45zvfyWGHHdYECNWd4zudzgiD7ff7DYNt+yuyLGvKNNVaaZ7nLF++HLQQNBjvQAXyPOeU157CKa9/J7iCrbbMWHrDZSy9+SZmpgY8/vCjef2b3lMHe6PEJbtphJ7jG9qBU7z42Jfww3PO54CnHMAT9t8T8Q4nlsosIhgQ3YkZoGv+yEknHs9111+B2WIHjnr889nvB9/n29/8b874tw9y/OvfhgE64Ub+7hVHs+2hx/GqV57IOy79CaIr/ufb3+C7F32PQf92rrxmBfse/lyWLbsBm2mecORj+fTZX+KwQ57AT391CUcc9Vg0il6KgDMaBqnzDDPT/OPb3sZ3L7qIgw4/gsP3PhDlAp0sj76PVl7sGGNsymgzvNtvv513v/vdHHDAAamf5b1rPXXUeF1Pdfny5VxxxRWNJe1PnBkkmlgHM9OUVVICIBaZVzl/vGuaRVs/glJDETRnfO6LbL1lhg8V3zrvO/z929/KdbfcBDq5S11Jz+YjZ4mBQC2HonNs9dDtuebWG8F3ee0rXsmvf/Mb3vjmt/GF/zyZJdf9CnfH7Xzvu1/lqusv54c/uxCVZaytBpz2ic/xyU99nj126HH44/bhwvP/m4+d8Rku/NFPubM/zWG7HcEVV1zJ4q073Ljkem644UpuvP1uHv24v+WGG67gxL97GQftvxevevVLmhBNSSFGSglFf4Ysy7jwwu+x9bZbMfXbX/Pd7/2Wb/7w38lNoqyiU6nAMfH5kxqpiDAYDJiYmODUU09dZ596gT/qUY/imGOOGfGdtmuvtiXD9vcPf/jDsY1Y6NMzHgYl/VL42Flf5KWv/BsWAB03A3o1k7dnvPO9/8G1Ny3hQ2/6F1Y//mAW7r4Yb/IY+dqycI4y0wqhD6Viu8kHsecOe0A5xRGP2QejNULOoEzNrwcKU0GxdgWr7r6D3XZ9NJhF0NmeVWv6vPmN/8CBhxzCa97wfo484mB+cP4HKZmho3MqD0JJaTyX3PwHttt9T1Q349GP3IWD99qX26+/g8rBLnvuBAvu5tDDdsKYTow4jpXngWjC0ZmlKgPVXRXlmortH7otNoODDtov5pTKMEJZQoyBGmOMTRWzNcc8z8nznHe96133KaCuTWtWrlzJjTfeyBvf+EY6nc59KAFX54QKy5ffzVve8hYMmqrsY7MOOFi45SNYsWKazlYToMBJgVWe6f40q9au4qc/v4C3v+1NfPqss2PMru1SBU+mqzqJFKNbJU6FGN6vBpxy0gl8+Qs/pgSOO/llTA0MRrpMWLij0ChrWJDdzdLrfs4Xv/hFvvi5c0AHjn358ez1sCPpdC0qXwNqFXs/+mCCgsOP3IMi3ETH7sx+++7DgsmcBz14KxZvvQ133DmT8kFnUvlVwJVYA1pptDYs6FiCVFx67bXstu9+YHMesf2Do0m3qmuhC5XE/WNw0l8v5vSRzvZttkPL6221pFdrp23/Rv1bO7dwLiZa/59lndhfLwTodMFY+kWJAlztV/z/7L13vCVFmf//rtB9zg0TSAMIKCogSTHiijkQvqKAAReMq2sgSBID+lNxwVWQoJJlBbOYM4ysBFdR2cVFQJIiCAwwMIFJN5zTXVXP74+q6tP3zoioLAwz9+F1mXM6VvepevLzeUKg9oF/O/EUNpwDnz/jWN7xptewfPl4Kl6ZSkpyjVRCFqFEFSXLVizlzrvvAKP5r9/8D16XSIA7fn8VvaVw74K7MbZDZ/YIG8zbmBv/cAsr6xUsH/sD224/hyc97WmMTfZYeMc9LLpvCZOTNU9+8jMILjBiINSTGCVsv90O3HrrHfjKcfPNN3Pj76/j8Y/bLFrrCtCOoOsYXyEusiD5/cZnKMouxciGjMzZiAV33UFN4Oprr05gEgM9UK2/HpUZWkdouvu1n8I7DzYrvc1fsiu4LMsHj6MqAYUa8C+JTaoBUIagC/p1rDWRELBa4+seo3Pn8Ia3vJmn7Lwz++2zN2eedh6p4xomowLp+CeupjAt26XT4ZzPns4znrkrS3p38ea3vIZVvcBjH7cNj3vMpoQ+bLrZXDbdfB7eCTtssz1vfPMbWVEtYklvCV84+7O4Or4rQkxSCiF66SSsZKhb05cJfnPV//Dn2xdw94J7Wb58CVtuNcwOT3oCQ1ojUkdIiQZLWOFDoFfVmKJk++234+abb4Z+YMFdC5FQU5oUFlWSavdnaDUWnIP7azy4JRjbaDV5EudJa61dTYDm/dOFqFIqloWgQXWBDkGblG4Nw/k2ehY9X1DQj2Z0F876/Knst/9rqPwAfVJamA2kRALB4pkNdoSv/uDzvGD/F7PVRo9nwyfszKQaZscdtmSbuYGdNp7Fl77wOfrKwugcPnTc8ez4pCcxu5jNIYd9EC9w1ikfZ/ZQl3lbz+MZL30JQxttz+Mf/yw+dOjhfO6cL1OIUFaO1+3x/3jSJptTDG/GDs98Pl/90TcZ2iBlP+sRYA4+DGN9j2GiValVCd7H5xNPLwTYZGPO+to32Pdl+7D57Hls+tgtqK1ELVdSFt5akGuUf+81ZVnO1JHO0N9KOafib6EpjexbXaYexN1SaEijlWCNwmQ0IVGgFbXuoTotf5vukqEAACAASURBVJcUYIZxSqiC4CnY+//tzfW/+wW/vOQ/ic3LoPIx+1dCwBYmluVkK1BZXrrHvhx82MlsOGdL/nj3Ev54+z3Mnj3EsF7J9ltvgy2XIdazxeOfyzOf8Upu+OXP2VAVbDLr8dzyhyUUukhjH8X7Ai0OIzCqDaGu6JeObZ/2ZF70gr151tOfyw++91U2nA07PXFrjjjkQ5x/ztcbqHHvDQ6FmIJaWbwL7PvyV7DtVlvTHX4c537126gwHuOpFiCgpUZJf60AhXkgaleTtOXVQwXIoORBXOnee+/lqKOO4oILLlijhnfiiSeyyy67sOeeez4gov50SzeEwMknn8yTn/JUdt9rD3QIaCYBTV8PEYAhAvg+sYFtQS+B14+Kg34f1x2hH6CrIxxfhttbcu9CjjzySL789W/Gei3g8p9dyjW/vBjtJxEF35p/KeWWO/PMZz2HeX4CqStcZwN6VY8RlgEO6WzEWABnFF1VM6tahXeB/qzNGO/1me3HMdqyQs+itJrh6n46Mo4KAcphltZdnB5GWYt2fbpuJUWYoFBgOyMsrwvEdmMXBWKSQlUHKIcoCoP078cojWOEWoiNB0OfEz7yMRDBm4jpuza5VrKCBHDyySezyy67sMcee/zV86bPmTyv9tprr/+zsc7Q2kn33nsv73nPe/j617/+N50nIixevJgjjjiCCy644G86D2DRokUcddRRfP3rX0074j/BS4N+NDiHxhSJBloV8yu8B91BtGnEi6HmxE98gqc987nsvsfLmtScT37k/Sg8XnepdYErO4RaMzJhKHCIWQplSZ8Nqfs1s/UqlCm538/GdDrgF9Ox4+DHsJ1RVtZzUEEzXC1FWc/tK8e48CeX8K79/wVrhlhpFWUZGO7dh68dzm6CqC7i+hQdQ09X1L5itulgfR9Vr4gJkOVcxtwwqtiAF7zgBez+oh1QUqGb9TpAaVub6b777ku/7982r/4aPawgqNMFa6NBJlxKpTVSm2S15TmswXSIHQg0BSmioQyqM4wCOnrNP6FSsYIqi+8Xv+Ql7P7S3UD60Otx052LedLzX85B73gzwz5iJ4FqYImEgA+C0iZ2kAEKiTiatYpw+RaJNWHa4gOUyqNUAO+ij1ZZUPHKIhkAIlVfu5qVy5az3Q47sGT5CnzQKNVh9gZz+eOfbmbDDWajQ8wa9AzKRWOgPw0ogJeAMY/sJG4Lweka34xFOkNrO00PbeUpmx2XWiskAaukvhiEIOigUn0nKGUh1GBiBxhEYmWaCEEU5dAodV3jHFgb8X0/dNzxJEgFvCrwEte3zYmw4iPTyPGbEG8uOiK7GQ3BVxSqSA06InavMQ4U/Oa3v+dPN9zFMR/5QKyq0BqtwDAGOE799Kd5/9Hvj1i8xlIT+NRnP8vRBx8UEd2qMSi7oIZSi8k2xSQwo1dvtLG2UeZBIYTV0K8eClor0MQjPGCss7JFN270HtvUq8aJJAhFgwqpBq2FvMTOKVonNK+2yT5ALTJGkVrOw9Aw533pS4yrTrToDNGNU1VQlHgFdYCujtBKgsaLJyiDxqBDPyYqSazZig1mBHSE0FJGRWHpHRhJ4PgW50GZCMqvbcHsjTfk3iX3AQYvNrZtM8SMXGq0LsjJuTGzLlfNJiQXHUEMkUe2jdF0124bou2hcp/M0Aw9HJSh5IApkiPO7cH3jAhkiIhDIqHhWbGZhk7CNPqLXBKCsVl4iqGKj4q2MtSupmNj4+w6BAqjiaUE8fjK1ZRlhFlV0LR3tKYcKOkejAgoSxWEZz3zaVz80/mUGiRUFMoCAYfFAEccdjDvOeoICB2EglqX8ZFDQLxDlbMiqpMZ3C9IrLrTCrQ2rXey9q7z/Htaa1cLXz64EqkHpodNkD6QBhC3p7Ka4FPiksLV/Zg1pxQ+RM0n+BpjiqZsSRP/VUljy+1/Qrb8dGwgpPOttY11T3UFpSbN6ahliiSQBZDg6WjTwCIqA1YZXL9Pp9NB6yLVvkZB33eewpoUm83d6QVMQnjQcZ8xUPX7dDpRQCYJj0hEVKldWiTE5AfvkwaatMEi6cghQ6epCC+m9Zrf7cNFfwnBKiehzdAMrd0ULZY2UEMGZhDJ6G2mwePOSELGxJaOEbLTJoXWgwREPNrEbiOCpt+r6XQ6ce2qVFyqLN47lI25JVHhDlhLhO8L8foYKE2BdwEvgbK0aBPzJLJe7cRhlQUdx515gkluOUUJ3lFLhbIFHoU1s+PJ2QgJ6bm1Rusy+6wbZR7lMEpiwrEpcCFb47A2m6VZWLYx46d70P4Retj8gdNdJ+1kgFhInR4sROtNRLBFdOQKHqsNElyqUXVoJQ00FtCkmEPCyc0LIjhEPF4koghJcreaBL2X/rSCVCUNCqxWSHBYYyNiSj9mt3XKDhIcPuQASdRuCmtocOklJI1OkiUd47o+QF1VdDrRVR01PZsKti3OxQUUZGClG6MipiWDOKj3Hm0VQXJ29P/JT/Z3UTvBI2dQNshVMzRDazlla3RQAhjXV1GYqNQSv3vnMK2Ey5D2BaJnTGmNNobe5GQCpkklba4f0ZM0MZYqCmNLXAgYVASNDxnpXkcQ3cTk6qrCFJqitAhRUPuG6URko4h5BHU/4nxH2NEwAMTXKiWKJsFPAcGSW2cUWpGhd3su+ZmVimOSqCAE7zEGxAeMyYD5aze1w02ZHkpP2SPCgqcz24yS5JxLmJcBUbktUIShlxBLbPq1i2DQKnaLib7vgZD2JLAfHeuvlFYIHqOiVRqUwTkFugAXY7PRNROhsYLEmGMDli1CcEK3UzR3Ucqi1aApLCRrsR2Q1RrVaiIbEkrhlN6cOjXG1Sa1b0p9SRVolWH1wdV1059CZBC3QanYVWYtmMhrmpQZArLT6TwCI5qhGXrw1A5BiEjkARKaks8YchnwGWMtrq6jv1Mk7pNBZYNPJYDdhPkbQraKIlA9EDtyJI+S0SaWv+ls3sUVX/k+mMhjioS7LXicd2hlKaxGgkMhsYtMjPVQFhrloxdtynOqyC99v07O3QJ0QcCgVBmxhkUIAjYL8exKS9nNWpsIaGRo+NqjgXJ8dLr8eSgE6sMaI53u3hUR6rpmcnKS+xYtIfiaUufOLQV18OhQN11PUAbnVUxPFxeFXTnUvCCtLY74kpYtXcr99y9l2ZIl1N5TiQEV3SwdozHKI85jbclkv48tC1yIbmMRoTA6CrCcFq81dd1vNNbcr0UrRUgLxVpLqHsUyYqs6xpJINc+0Ahm56JV6lrXy62SGk2YwQ+c+yPGOt0oPEWlbhmiU+u3tUCaMtXboLVmbGys6cQxQzO0tlLbYpmcnGT58uVx/YZBOY0xJoabkttIRDBW4Z2gdZkEcIW1ESXJew9iI08BqskeixcvZvHixRGfvBIUBQEhqIASz7BROO9xqkSVlrqexKJQ3kS+o2qCAqtshGNVsWTH+xptNbUIBoPysYmIV7E3llXD0UNk+viqz1AxwrhMMOl6aGtQpiDUDpuUhWzESHAp+XPQ4csYg9JCVVWUnRH6VcUjnOv4VylXiSxbtozJyclm20OVcPSIxEjbbt26rjnjjDP43ve+ByR3fHo2UQya0TakV6tZEjJgtUcVJQZh1cr7+fOf/8xhhx2GqNh+TdLjKsCIw0hAiW6a0+a2awMgh/y5da/mvbfqY9O/jcWaSlmaJoXpHvmcwfGheRZBp+fVNEgrzXeQFHeNUIsBo2JLJrRaTUF5JMgYQz/Fj5u4slLcfvvt7Lbbbo/o2GZohjK1LZKpSXGD2tUFCxZwxGGHx5Zn6fgMe5o7XzUt0ULA2pLgFcZo6mqCzrDF1XH9IonFinDLLX/gl78c5qILfxxLSlygsEMRKN4ElAhF8ur2jcbrgBaSIE1YwkbFpCMVPWRag68dWtvIx3QCyglRyY6dWzSiC1wQtBGUdxRYlBZqqtiYW2wEc9AmJkhJ7JzlA5jCDvqqJuaV+aBKvUrlkXFuPmjKRkld1yxfvnxKzPSh4J0Pq0WaJ2UbYHpkZIQPfvCDD6JW8IFLKPJCyCGDZfcv4rB3H8KXvvIVjC0SKEOkHG+MfpscF9XkKAcMBFhKlR3QGt75dEH691BzjeZDSPnGeYK66C5SBmOKZkFPb2n3SNL0OuG6rvn0pz/9CI5ohmYo0vScjDYPyoIRoqK63Xbb8cUvfnFKGGZ6Zmc7Sz2EGI5pylrEpc4vsXQu53KcespJ7LjzDuy1517RlYpqDAcfc/1Txylwpg0DL9gkuXIJis0CjSQIUjlcPD3QcIRkFKRWqbFaIGX3QkCMJ6ByPAwfhELHceFqsMUUTO/U4nSKMTAY6dotTCHWCR999NGNhfpQCdOHNdkoB/Hb3cknJiaarF0YxCTWPFT9F78PmoXHP+diLNXYoqkJy+7+NT90qjNKDW8HLdiYJiFbAn26tdrsH/zl55G/sr+5qmrdN7c/AoJ3GBuFaIzXxLKcqCmv8YEeVmpr+nmSFkXRdACaoRlaWyhDCOZOVZJigjnJTyTmKyCe4GOyTpzCYVAXrRQ+EMMxOuYN2ViZkviZRulcvhe3r1q1KiEmMUjAS4q6yZCfSepqoRGGGQw0eB/7KBMNB9ckGoWGb0SuqKduVyEmTaXzSPeJMrFAE7OFNaTs40RmUFmQBaaoh8ZweCQo48L3+60Q3YPoLPRg6GGPkba7x1hrmTVr1jRYOQ/ovyBMYfDzRfET5+GAUed34lzWIC1apzrm1pmQyl1Q0SoVjWhB8lEZXzipjDEEGcWeZPWvcXO0/NHTRi7EstUcwlSN2NQDIZr2SzOmkJ4pNRJHSGsyDpV4u9rXdE2HFHpd7d4PJ2VhmX/X9vcH01h5hmbo/5Kyh6QoisaDY61ttkEUMo2nJ2XlapNrPU0rU1dF/mLTHBcoLDFmWJYNuhpA7YSOjYrl6OhoWs+aTpHaSQYaIQdJhc45PjIAYYGoPIsC7x2FsY3ADMGjdMOMiFwmmw0A0vBFrbJ1HrOL0260ipaZVhKtYzFk+0YpjYhHVFb91QB8P5mosprrbu2jLHeKohiUNz1EmbsPmyDNE7ZdGNvv9+n1eilj1rRin9IIRxW/kr9MdSmowY70/wyY3+l0qGuftExWD4YLA6lLROaYUk6jTNTk8qxOd5CUBdfaBK1jVAQJo73btG/VFLHoZqqr1mWyb1dJ0mZ1swNxDmUKDDHJ3ZpOFumPeB1XZkDZHdaGCXyk47czNEPZQwIDq1Nr3TBVH2KpWeQbdRSYro7ZqsEjwWMKm+Z5EevcU8aqxCJ0yjIrx4rKSbyeza7fGHaq+rmt2yBB0jNQpL3yqSG3Tpmx0likEFe41VHCOecIKAobywQjC2glmGCm6fcerQOegCFWDKShp3spJGG4eR3HpONpKBs9YPHpVItfmYYHrc2UFfzMn7JbP+PCP2pcu3kSZ80QorD7Wzo8rJmy5ROFsLU6lpEoRVF0YrlIfsqcuCTZFUJLig2o+dpK/GlTaK419RyV9LXpNLh8O56wpv1/iaLFrEwBPlC7aOE1S3ItcO1mFxnQlA613bwzNENrC63W6UopjEkNIGofE/skEAsqBZROgiQKRy/Rxal18p9pFUtPEPoeqgCFVYMSUPFR2GhL2R1K6Go+esqYuv7jKHJmD40rN7uvAlHyBV9hbRSicXUNygVXp8zrVDpSJ8s4XVgNDvPEeK3H4XP9aX4NTaKna07N/rW12xaNhlvug93uTvZQ0cMavKrrmtx8Fwau3gg+MD0zd5rVN4in58IT2i5gm90sdQ1J2xyfmAANvpXAgyRh1vLOtry2QGtSqNCKmbZHx5TZn50a8ZKrC97V477TjpH2Rz0YGBAIaaKmulLtKQppEqcCoPXaJaiy6yyXJeXfe4Zm6JGiLDxzqKHddq1N3vvonnVuoKEqie7dHO5J22sHLskao4UgDm2SgM28JDiMichkfedbFikggg++xTti4w2oItiKSvHRPEQV7U5HQBsPEg2S1u7WA5POd5EnKUA0vZ5HtQDmG6Ui9aIMmPSxj1J1PMzRMDGDT0fk8bRHsPZSjoeXZdlkYLdrSf9RetgEaWao00tgVrdI1zyk6RrPdOGUe3naogCl6E1MMjoyMtWDG4gLIqMSSRR8TQq3ii7TGkDVxIbg7XOzYAtxkSW3cV4ag3jtwJJV2XUC+HYkRFrXV83h1GgcFnAgDo/GoVGi6K8Yp+pPcvV1N3DmuV/BAVqiDunJ43BkRWHNSU5rfp//KE1HDMmus+xCmaEZeiQpx8OsjUhlS5cuZe+99+ZnP/sZiCSgk+SqDSGCqai0jp3j7f/yTgrdweoOHVtw7hmf5tabr+Occ8+nBjxDfOcHP+EdBx8abxiSNZmhSwWMtlGpVArEge9T6oAOAUfMyFUh4CZ6jFUVPcVUoHgfsOIoxEHoc/FPvs+P//OSaDSmhR65QRoAgQa7LVSA4/5lYzh0bJfWui4B3n/o4UyuWg44AsKYm+Tdh3+QKjd8FphS9qdyPnBgekni2kbZpRubBrgm0Qh4SKoeHjZBOh2iKQvPAZN94PTp6R7Y6fFFo3J8Il6n1ApcLEZuLE5Xga+iIM3+iHoFyArAUQGrgFiuOw6MxfOjkgguK24+Xqd2VAp6pO3ZtQl4HIo6yrUqXsMDfVH44NJdxhEq4mKtoQr0052jBlzTIwlIF/j4Rz7CsonAtk/Zhbe9803RdpUKfM2kQB8ISRXICIR5YUks+27eR8jfVzeX/y76S30gZ+KjM/RwUQYM+GuZmCLCRhttRKfT4VWvehW77bYb8y+aHzMXMoPNLV5UDcayyUaPZcm9kzjnCa7PwQe9kcItow6KSeC/b7ybO+4Z43Nnn4klgRElwSM+pgUVSkVIP5WiRhaoxtFSU6mkwLuS4z5wLCudZwyYAKqcvBEcTPSgX4H0mXQT6NFRehAFZXA40nUkxFRiH2U2rOKGqy7hOz+azyRRQNcEau8SmlLgU6efypzhIYaJnjhnR5lkKPKfRisvgE6TFqLw07JC1n7KgvOhLBtcp+oSsmE3+FlDK5HHgVUc8Y53Mlp2sHYjzvnsF0ELZ5/4cYZtQVd3OfSojyHAkYcdzrFHv59CFVz20yvYdaed2Hi44A+3XMe4W8XTdtqZTneI5+6+P2NNjlTUbA0OywRuYinPfPLObDB7Qz52/Alc8vNf8Pubbubcc88BP8HF3/0al156Ia7u8awdt2PW8CjP2/31VAFWLryTbeZtyJxyDu86+IPcdu3vOf2Mz3LgP7+Gq665hjPO/TwV8Pa3vRNTjPCyl+/HSidcfeNNaN2lY0o2mL059y3rJVGtm1hLBpxYu3XIGZqhv41yCMFay7Jly7j44ou5+OKLmT9/PvPnz+fiiy/moosu4tJLL+Wiiy5ir732Yvbs2Vx55ZW84Q0Hsuuuu3Lpzy6hsB0QCz6hi4nHVb0ItxeIwkRVGPporblvKXztgu9xyKFvbcwBk7thQNMBLcIGxpx/l+R8dfddbLvJRowWs/nXd72PP199A2eecSb7v/oVXH3T7znl3AvoA9/6yY+4/JL5IIEXbbcNG9vH8M2vfY7xVQtRwM477kC3M8QL9no9S/rwuxtuobAl2nbZYpONmVx0D2eccw5HHPYeLvrFzdECxlMYm0xYzbFHHMnKRffz45/MZ1Z3hOc/bzeWLxtLDzF4z1M9XWtIMlkPad0RpGnSNvAFGoLSGAEjINLH1ZOEYpibb76d3tIl3HrjNVDVvOFtb2fCjTE5OU6nD24M+ssN++55ACtvv5cPvPsd/OqqC/nyt07j17+4iP+cfxGfOucLLJOa408/jbO++O3oXlEWpRwqrIB6Eb+57If82+mncHv/fv501w14vxIIETJPB4ZLT6n7/Gj+9zj+7LNYHCY45bTT+Pznvs61//0rvvP1L7NqfAXnnf1JnrDjzrz3XW/nh986hzlDq+gWFd+98EK23W1PlgfhkMOO4vzzvkTNKG9951up3EK+95VT+PXV19IjWerTrE8haqJN4tUMzdCjlHKcyznHJptswpvf/Gb++7//m5tuuonf/e53XHfddVx//fVcd911XHXVVVxzzTUsXryYMnV7WrFyBUvvv48rr7wSLTZao7qDUiXg6I3fw6abjqCKeYzM2oxqvEdtIPQn2eP5L+TxW2yBIVl/4lM/4lZoVUGgxnQ1nkA/xATCq676X7751W8x0V/J+eecxON3fAofOPhQLvneVxgKKxGjGAP6tqI/FPjpz37KSZ8/iyXhd7z0udsxr7OSS+d/g5PPPptFrub40z/DWRd8l/vtMG9890EEuZMvf+E4/uf3f+Rfj/44x5xxDs99wfYI0JEiurEc0KvQqosr5/L9n17Oysl7uPj7X6Xrq1jqYgDjiJUMA8exDNp+PKy/99pGa0U/0oeMkjdGCHilCWqQFqc06E5BOWtjNth4c2yh0NIDNHcuvI+nbbozYkue9bxXYhXMHt2cJ+/0bKogvG7/fSlmW7bffgtu/fld3HHHAl532EGgh6ED+77r7Qj7DxQzbUAUC269lZ1e/jwUsM9++2I1qP4kI0YBjrGJlQzP3oQ/3HobH/rAWyEMgx3lgLe+gQ9+5n087yk78atb3sgLX7QnP//WV9GFwvtoX1ZVxaJF9/OSl+xJAP5p1+dwzdW/I+iSHXfcEViFVStQ2tIg3coA4GGgRE5N8pqhGXo0UkaoydmZBx54IDAou8uJb9baBtHmwx/+MHfddRdPeMLWvPo1+3HEEUcwVI5y2GFHIQ6UjTWaEjxFZ4jFi5cwNHd2XDt6MUrgY8f9G7fcupCPv+9D3H7Ts9l6hy2YxDBkAR8bgbepmhjHAKXuEKTmua/Yh2ft+BR+e+cKnvv8l3DF9y6IyEjeUWqDVQoLKKPRHcPtd/2RJ7/4OSCOJz7xiSg8N994Ex96/ydBD4Ed4hWHHMSL/+kZ7LTzk4h8YAxvt2DcFxSdDjUpkJZr8yCa0LVn4T33MW+zTSlVyaabzGPOBnMbC3qQDAXtRE8h9V5dj2kdfPoUB1QJ50MACQRx+BAIumSyVwNCoeG+xUv59vd/Qi09brn9T2z2uA0IBrTtUOsuE9ZSlzoKx1owxTBbPvYJXH7xJUi1iPsnFnH+pz/RJK2HYMGVIHPZYottuf/2WxkmcNutd6FDlzkehuseqMAdixezMmgev92O/OzCS6j6K1jau5vPnf0pKDpccfPNVGGC/V69OwvuvoVKC9Kdw0Q9RFFsxGYbbsavL/kxQ8BVv/ol8zbcCO2FblmA8tS+RisZaEtKr5ZtPEMztC5Qjos24PLONeAvEAVtrhnUWrNixQp+8IMf8N73vpcrrvg1J55wCltusTWqMNS+hyoA+mgdMMUwZnQLJnw33izUUE1gAxz7759k7lz43Cmf4LDXH8BtKydYRoxtBg0iVZNdC5o55QgqaCrvEGWhLLjqlptwYSWv3f+lLFhwA66AcRmlciOU/T6jwC3X34KMO3bYbB73334bqDlcf+tSJtmAbbd/FpfP/zkysYLxyXv5yikfY9RPMEqdEpRM7G1qPbaeZA5x7dcSkjEp4BzDCFtuPMyiu2+nj+LOJWPcN95jpeQ8i2R9im5q7gN9Av1Uf7r+0rojSFcTEOnR8j/KImLwTuiODIPy9FzFhpvM466770WZLm94w4GMjpRM9saYCH1CWTDm+nhbEnv2zUJCwd57voLDD3onQ3Y2G5ZDfOW8/6DAYwix9EwNAxvwwpf/Mxdc8E1KY/jV5f8FzrPNTk/i9M+exqh+Ipf9/GoKO8re/28fDj/kUIbsbDbqbsJZZ5/PTy76KYXZiLK03Hj9NWy10w5ssNnm7LvfgYS6QAfFa/fdnWuu+hUdrTj37DN45zvehAkV4h1QIsUQhnoQxZhaP8SUFzRDM/QoplzH3M7OzfCUuftQr9drkpBGR0e54oorOOmkk9h0002bZMjx8XGMUVH4aQCDCxrnhKIso5/WVBAsSrqDFoEWzvv853jTAW+MyTwQ60+1Bh1rTyElV4bAkCnRwEU/+D6j5SysUfzxlhvYasdt2Xirx/C6172F7Z+4A1844zRGVJdrr/xfSjXE8/d6JYe8+z2M6u24/Bc3oNQc9trjFRx+8GF0y1mMqDl86Zwv0/E1uq5BuvSqAqNLNttwLqce+15+c9kvKYiJgEGI9bJDJSuVY2S4w7577cmcYiNe+6oDcX6CoW6bbSTIQSEV0cT/1neLFHkQtHDhQjnggANERCSEsNr+E044QebPnz9l35qOW9P2fO5DRiH+3bNwsbzu9W8QES8Sagm+JyJeQhDxTkRqEXG1SD0uIj2RUEkQL5PipS8idRBxIvGziEjwIqFK3/xgR6hFqgkR1xOpqrjdizgv4oJIz9USpCff+/4F8sufXyxSrxRx4yK+EglevOulMcZx9yXeV1wtUqUxi6QLxuNqERmvfHwEqaUvtUzGp5B+qOInv1IkTEo/PUPI70a8iHhx+T7Ntofo9f8Dv+//+dyYoUcNLVy4UA488MC/+TzvB3M5hDDlu/d+NR6V9+fPixYtkgMOeJ0EqSRIPVgelYhUQUQqqepVcS16kVV1kL6ISO1EnEjfDdZwrx/PdyHylE+deopcfPH8yEfqXuQddU/E9aWWzE4mREIl3ovUVbp3EHFVHddqrxKpaxEXGZDzIiGk8fl430mfruYmRPyYSOjFY8SLuGUiYVncF+KmWkRWisi4iLh6MvGmdP8QWV8eR3wndXNu3v5oobYseyhpnVEjZNoXJRl2KxZ0KV2Ai5mrItH1i7YxEJJy7RSgQ4JEaNVveYiNxkMBYglVTVTpYnHJsqX3sc3mj2GkLJnVGUGbORRDW3DtzfegTLx+qQ111YsXNgVQIEGjVSfXzoCCEhKOpQXVSeWqqe5VaaQOWIHhIsUrJCSdMGqIpYLgBfQshC7aSxxqqyBW1pSv++jKYJ+hGXpQ1K5bz3XNGJHvpAAAIABJREFUOTGp3dElELFnq6pK2xQ+tBaFBqwn4NG2S65DH7IKhQerCOIpFZQ+Fgl0Sov3ERnJAP26ovZVCjYmpHvTIeiySeDBdkAZqD3WQK4nNwlwJpgixjN1CRJbc6tcLqoh4Ch05gEdRIZAdVKIKyYXnn3SiXTtMFYrClNS6C5vO+q9rAK0LSNzdGA1ICE+X0NrQq6ZoXUo2ajV1iCRiDSgfUY0CQceYwfTQWkba65ULO4q0zEQ51P2gqrm0gFdRmxLMQqFYYPNtuCWRfdGxBCX6mVNKrAGFIa993lNuo+PY9V1PD61L4onJfjAVkKQ0jrWfJoEQ10SUwNTsbehnIaopNCmS0b+MqlR76CrjCdnGDRvat3Rp2ZoPac27Fu7lrT9ud19qtmmAALaxG5RioRpm8MhCT1MMQCLh8xH0nrKMNqktSWtawAFFqtyf1IPtsEIahThDNpiytYdUla9B7C6zR6a8YnK8AsJS7ZJIho8QvywIQe/7985+P3/ni4fEKWZaLDNUwFPw/hSv+bmci3kX0Wri8z6TeuMIJUE5aMkA+AnNJO/oDZlsWuaRZEmzyAVLRqPDT5WSv1N+LtCRs1Nvf5SzarRrcMTwGCcbW3AiRYKULrnahNxCoJ+XGCKEK1QJVFSS578oJupXvxVTVHly8u0jTM0QzPUQieDAVrnYK01pPLxacmruNaF1tpqST2drUJUEo4DdCHVSKPELxpepMg4uvnYAe+iEbIZxnS1xtvTsvSbJEwSb1MRnrXTjnFqEjxi3JZBXRRg0TQtqNIQA6HFR9dPWmcEqcZExKFGk1IYrTFYBqDN7eNpbdMtjYtpxw5EZrQosxs4Ns8VdEvmBaRxFWXorHR+cx89uI/oQRQ/w2+lus4pi7kBT4hiW2VRmEp98t10XvUCg/pQm54iA063Fpzkr6F1rxmaofWPBp6nbP01FekxmaZRhJNnRzHwJEHqqJI2t+u1c4226NjRJa3r0DJ2IQu+qLTrLLaUjiGeRjGPpNO4ovAejGGNK7i9zhN2uDSIukBIIBbJqvVE61w1+N1t3HPXbGvemyRs//Wc1hlBCqCUQahRpAbTmEE2WTNj89fV66F0c1wWLKkIFZ38vLq5hGr2tyluy0I5ykcz7data6ipVmF2z8T9IQlri2bgWglkTXSKXTu4f7OA14Rvm8ac60lbGvXMWpihGVqdslrchD9UBtFNX4nrMSOHmQdUStsQnRaVuEhsZ5xV5Uyru5UG+8K0/W1lPh8RcyfaAt0n27Ll8B4o8emRdOJBZhq/1M3Y9RTh3Yp5rde07ghSSe7dJAgFH5MKGinhEpKPXk1o5FTu+CWe39R+qc7Aw5JosFSiYIrxh4Hrx6jQ1F1NhTsIMVZLjJ9C677kOZ27zYRmEau0UPJSaycLqXSVwXia1zHYn5Kr2g2HaW2fWQgztL7T9ChHK3rK1JihpPWX8FrTia5ZWB6oU5ByKuJPUAFRLonBGG1UjRBLuRKJX2WceJVdwq2xDcarmutPDdMEIpKuxugijcojOAyxVKVByFUBo/RgHI2FaRuvVuYtOVCVx9V+Q+u7Ir5OCdL4a0ZnauwpmKyylK2WhdJq1IqNNtamqhvh+JcA9OLkWf16SjRGJXdruq5XLWsSWoIx33R6slRyxab6M6V04+ydKgzTQmpnRSmSoyk01mvzT6NZr/boMzRDM/RXaBCn1E1CEbTdm2rKAp2i0DZWpx5EVZrtespCXC19oXWh1fqOyvSvLe7SirUq7BRPXKaQ69/zGKYY1aHhc20f3UCtn1HCYV0SpIqUXJS+SkuTmxKPCE1scoqF1hJkcbttFkSeKu0pqNruHhhk+Dau46StpnBHMCmeqrJnKEzNnW0JxJzBpyTHZQcdUeM9BnGTdnIUatB2KVqxgwWlpgnQwcAb/WOGZmi9pfb0b4c4476cG0HKT2il1iiIAAXZao3oP0LuJJzsOZXrB6L1Z7NEUi75dgdWb1y/MV5qctptiOeKzSxlmghr8YPoorWD7YCRzOojPzBTQkMaR0Al63TwApKVzMAIMTI4J/Z3ZoZ3sFb59B4YOH1QyLLajoE1Ke2pkZJ2JHZNywJykKSjB+en2sqceRvno0LSDFGrjS5bimGK4HygZ5ryolV7f1jtuCaLvsnyi4u5sSgfRLbtA/2w8ZU98PueoRlab0hYTXq2V+XUXTnZcKqVOf3AgJ5yXj5+tWzenH8xZXNo+MAgZ3b19RryCYNsoBY/UFHoZ2W7CasOkhjbp7XvPeU6zTmrP2PjSZtxaT14QZoLmTMEVybv/ZTvf2mbtPqQtvfFomiSGzYQPIQcIEg/fqwHjcHy0JpTTQw0AASUyg6TgT8fDUHRNMiu8yk5kTYtGZ+1x1RqGUJ0C7fXWByOw+OQVsJB3OGjcA1AiHEUl4OvKoElkEKvIQvyrO150CHGeMUna5dWCCRl77UTp9p/evC5LYgHrmc9ZdXEj9Ou9QhTu2O9pMbgGfZthtYPEpEGLEFr3Xx+qObA9AbzeZ4BWduOSYrWpDWfV/0gSah2ce36kNumMMUzFU+JOb8hSMszpSmwEFy8XkSLgaDBt2pLcQiCCgaCTa6uweKOwjjyiiABn+Op6RBRUDnfCmG51da34Ad8LfEbTcLkTtV+EnLW/9TnX6PQnuke9bdZpG1h6L3He48xpsG1zGSMmfI9nzP9Wv1+n6GhIZxLggmPVjVaQ+3B6wj+oZJv1mAi0EGa3zqEgT+/HQckTiiZIjjiYTZdczA8jYhJ8QOg7oOv8brDJBbXip0GSTZqiFLOex8FrkmZfI02p4hF2iaOQwMiKPHNfasQE+uDEFPlCKBcUgYghJjsJFkbyINoC1BaCuK0Z320UW6onAVqnl+5q8cMrdskCSe3aaxN7C/axsf9R6kNwJDnWcSbDWBU1IMDhNoh3mHweF+j8OAmUQQKo6ldjdFRIPWDJrbAAETwAUQbnIDRJvENQEPlarQRCFUUpJlvGQh1nfhGrDZAKZwLRJdaAJ17oUbHskUo0mup0vsKIXqtyiIqoD4ZA6jQhD99yE3PY0KmUgoJAS0G3wuxEF4RMYJTuY6vBy7qhq9GRviQ/C7rAj1oQZqFJsSef8aY5nuv15vSfQHij9rW+BYuXMg999wD0EzgTqfTAEorNOIngOXcfN1/UZZdrN0YW8xjzuiWTC7u854j3suSsQpvgLFJXvCMXbnp9pvpqVz3FX98hcbrgNeh0QhNSJphcFgTGmETACcKEQ3Ogxnjlhuu5NPnfZVxojUbvOeG62/gvHPOxYjFqg5KLMYYlBVcqAfCzMfnWb50jLrnybJeyJrlJDdd+1vOPu8LTAJ1giD5wY+/x88unU/Ugz3aFEkqPvBP9GgVnGuitgKWlbPMYGdo3aY2dJ8xBu89VVXR7XYfkutn4dy2eq+++uoofLTGoRCt0Ri0CxQaFBGmT+oJjnrnmxlVho5WjA51Of2MU7j6+t9zynnfYUJBUI4f/uTbvPnQoxkjZvFWRLAD0QGnoLaCLjQYRQgRMaivhFoJuiwQUSCxwtMrMKVqavLee/gHGF9VD7x1PeGYd7+HlctXUhiDr1Pij4D4AEqhdYFg8WgmFdy9fCnaGOq6RolGi4EQk5A+cPgxTI73ERVwoYeMO4565xGMjfWgsK0kq0wta3wGGe3BC9IsNKcLVBFhaGiomZyZ6bU1PoDvfve7POUpT+F973sfCxcubARs7BfYoV87lDEgkxR+glPPOpP73RImwyJWrLiL0dERbN+jxeGA9334o/z4kkt5wjZPSm7flqs+xRab7DVJf76PUjWIx9XQq6Og1BqsCKg++AmkUIx7NejiYAw77bwTBx/8rmjO+hpEqL2LThKd3bQayrhAjvv4Z1ixSpo5JoSoiYYJdnjyNrzjHW+lAoxSiNcEryKYSNJIRYS69k1G/DolMddA08MFQNMKa4bWD2or4dnTtaYw0d9D7e4wuSvMPvvsw6677spPLvwJAUWNUNgSqwtimCdE92xRMGd4iOULb6dfC1Xfc9ihB4H0CXj6wG9vuIE/3XMvZ3/uFHKAqWSArOZCRdnpMNmrAEM2Fkvl0FT0gKAUugbroZYedQ5lOYUJHuVdZDUBEMMJp36GDUaHUIC10Q4ggFIaFSKIhAuRh/3+hmv5xje/Sg9BF53Bi/EOXODEU09gdM4I4j3WlGAsXpUMj3RpL8EHrmNYf+lBC9IcszDGNNqjtRalFFVVMTIy0ghWmOrK9d5z0EEHMW/ePE4++WR22203jjnmGBYsWEBZllRVRafoZvMvomwkP/444FLQbwNjKCeWc+5Zp3HAuw/DbLIBoNAhTK0DVaDFYkKKPSgPMgG65uwTjmdYl8zacDP+8Of7uO6m2zjjtFOAJVz+o69yxRVXslIP85+XXcbjhrdmZNaTWLICrr3xdj7zmdMgjPOs7bamUxj2ePnerJhcQcCx45N2RqmCfznknfz6+uv57Gnn8do3HsqkAy81RkVBThjjthv/h1M/dwqTwfPUHZ9N147y5S98i6Kci2CpnAcl2CK6YKKbd02TNxA1w0d/L8DszcjeDu893W4XrTXOPfqfb4b+OuXfPbt367p+SOPk2UMmIlRVxfHHH8+NN97IW97yFp7+rKdy8SUX0/cVVc7S1UNoXUaXp5RYMwefBBNiKftjzDYrWHz/Sr74/Ut460GHR6EWoEPygFXRFdvVFt+vsGaEECy2ABX6LFlwA0983MYMDY/yprcfCQ4+cvC7GZ9cSp8e7z78ffi+xdQTHPCqfdBmY8447RsAfPSww5hcvpSf/PCbqCFFMaS45PIrwMPl3/kZI3qUoaHNuPEPd3LOqSfzvkOP5JL/+hU9oscYl5pv6MAxR3+QsSUTXP7D/6Srujz9Rbtz56pVTPQHpR05WUq1EJraIbT1mR50+Ytz7i8CQm+zzTYcd9xxPOYxj2kYYdb+2otgzpw5ACxYsIBPfepTfPnLX+aQQw6hLEt8HTA6ulcDiqMPP5qjj/wYSM1nTz2Rw9/weowb4+KLLuTDx36Ma956OD2AGkZbroep1MpAswb649x5558ZG1tMb2RjKuD6399Mp6uBlUi9lFo2QkmHuRtvyoKJ27n1+pV8+evf5/nPfxplR3PZj7/NGWedxLN2fzW/vfFGvvH1LzNv3mM49D3v46B3vZVzzj+TrtW885DDOPbYoykMMZbhXSo2U+jg6FrNZZddxic/fRqveOmzOfnTpzM5OYkPnsIWBIlKidXZhf6XdJ51x62ilMJa23gzNttsMz7zmc/wta99bUaYruOUk8tySKjf7/O73/2OAw444CGJk2fhnOeY955+v8/mm2/ObX++jWXL7+fV++7Dfvu8BmtsFDQIKI2xHVasqJg9bzNWsSGjs0qW33opQ1ZYNbaCl71kD4445P0URIZaaheNAlHYwjR5HMorDEWMAHnBmMD1//Mbvnb+eWz/ktcxpIBVUARwUiFUYIbwArXr8/lzzmTettvxgSM/weSiCYrOMHV/kst/Np+Vq5ai7BAfes+xPG3Hp/Pvn/gM9987xtLg+OzZJ3PUEUfy9Kc/ld1f+Dxck1eicK6HNSUh1Ih3zL/wMibGK+5YPsHRx7wXm4zzGXpg+pvrSLOAVEpR1zXWWl71qlfxwhe+sNnWzr6EgVt4v/32A2JT3e22245jjz2Wa665Blf5KEQ9UJb4osNHTjuXdx10IHOBEV/B+DJWrbqPxatWctHlv+boYz7M5z/7cbqxEcsUpI2IyFERtEslLQoooDPCC/faHTNnEygKvnbZr9lyow2ZrHvABKNdoY9Q2g47P+05VMAmW85iwd03EmRHRAs33XYDH/zQp1mV/Dfv/NfXs+NT4ZkvfS0rgIPf9i8Yp9lIJpjtoKsCUS21MXsqWKRS6F7NPXfczTYveAarLGyzyxNRagKlAwFBKYNOvdxEBol7U2ndmeF5XkVXf0Rjee1rX8see+xBv99fLXlthtYtCiFQliV1HZPslixZwnHHHcdJJ53UzId/lPIcy7HXK6+8kp/+9KcgsN0Tt2PPPffkoEMO5t+O/ShKJHnFYj5Fd3RjFt23gu7Gnchf3J3YeywfPvYMbr3zDk4+/MMsefYz2XqXx+LRTUjHB4/VMRZpMVBLrHE3itAPvPgVr+ZZO+3Eb+96M//03D35zTd/iC87aNPBh0BVVQQDZngOG22yIdTCTltvzKL7VzBWG5YsX8Z3v/1NTj/nS4QAI6Oj7P/qf+YZL9uLzgawmVhO/Ldj+N/rf4fYLsrBSCqRFyUY2yF4T2Fq7lt0D7M2fxyUsNWGw2zStTgHJGMgyd78iwEp+3+mlvTvA2TIffyKomhcvPPmzZsSP82Uhekll1zCH/7wB3bddVc++tGPstdee2GM4frrr8fa9MvqmOnaqwRry0EtlarAaEbmbsDr3/Kv6DlzedXLX8LnPnc+x7zrbU3aN8R6SwgNIENOAxc0UvfY65X7Ie61/HFZ4JQzz+VfXr0vHWVASm64ZQGP3XFbytpx6++vxfJK7r1rAVtvvTVKR7fjjttuy/yLvsA/7b4/jg4lnu/86Edc8YvL2Xmbt3DRhT9jVBd4P4nWPcAmUW5iRq7pgOkybIaYvclmLLzzNnbZdkOuu+Zadnv2U5GY/J5ziOMzrQeTNDO5oigaYVoUBXPmzInzY4bWeWrnWeQ45lZbbfWQXDvPr8y7RIQPf/jDbLLJJuy///4c/u4j2OqxW3LPfXejrQIlKBGUiq5gVQwRMhi26oHSeDEc/6lTmTULzjrz4+yx2/P4xn9dQndOl9gFzWO0EEMv0bMUu1PFMemyA9UEV930J/rFXE4/64vcfucfcaomOBjv9Vm1agwR6LsJ7ll8L1vN2oDb7ridAzaeh1WaORvM5TX//DpOOPF0ukOzcQK9Prz/mH9n6arDGO3Ce99zJG98y/6oUFO2cBqc91hj8T4QnGPevI1ZfP899CtYtXyMyfEeQU0Xnm3BmZKb1HovR/+2OtL8b9vVMr3sZU3nKaVYsWIF559/PldeeWUjRCElluiUlKMFVIm1XezkJMN5gNqAmkVPz8XToQQO2PMZ/Ol/L+HiS66grwYlyy7UBAl0VIGucu0JKByq9rxwu12Yq+aw42bbc/Br3sJznvBEvvSZM+na7bnoV3dSl3MxytFfcD2PM3PY/bm788/7vwFcbM69x8tey9EH/38MdWbRLYY49T++xstf+Rr+cMXFzNWKEz79Hzz9ZXuz8XZbs+fr9mVlHXAM47GgLYihb7uI7rLfHrtz3EGvZ2OluPbXV1P3OkCJxsaU/Awq0e5qM4VWB3R4tFJ7HrUtkBkhuv5QFp45JLQmfvL3UjtpLYTAqlWreNOb3sQVV1zBSSedxFaP3TKVouTswFwn7lA2IXXnuRgKkBEmK4U2MZeDLpx+/lnsvu8BjLmEPhRMwrAVUELtK7zqgQ5xfSvhFxddxGi5AV0zixtvvJmtd9mKF7/0GWw2dwtes/cBsdG4Eaya5NAjD0INz2KjJ+1IOdfQqVbSHeny/D12Z2hkDkp1GZm7HeOTcM6ZxzNvE0V3Vpf9XvUqdtnqMZzy0Q9y4WWXMgH0AWU6KDSF6aLNLApjeOUez2D2bMVe++7HuOqg0lLUpAo/yTkZMZkzQ5+u9wVq8iBo4cKFcsABB0zZFkJ4MKdOoaqqVjv/k5/8pPz4wp+IExEfeiKyQkQmpA4iPS/iRCT4vkgtIlX8XotIkMUiskx6IjIRRHqSjpVaJFSy+O6F8sbXvV4kyOBvciL+9WoJtUjwItKvRcZWiPh4v8E9a5EgUgeRCS/ym2v/KOd8/gsi/UmRyVUi4qUnIiuCSF9ExK8SCRMyKSLLRWQijTP+BalFxHkRER+HUoc4pmoi/qX7uuY5RFyopa77IuLT33TyD7DvkaHp8+KEE06Q+fPnP0KjmaFHKy1cuFAOPPDA/7Pr53nqnEsb4t/di+6RA16/v0hwIqEWkZ5I6Mf12ZfIbGovUo+JhJ6sEJGVIiJSiYRaxtP3vohUtZeGcQUnnzrhRPnp/AtFxMe17SZE/AoRNx75mIiIrBJxS8X7uuEf3kk8zq+QnkSeJCtFPnHokbJkyZ3SlwlxEo+fDCKr+iLiKxEZk8n0aDK5XKReJrX0ZTJdN/NSH9KHiVrEr5JQr5S+iIzHp0/8VkTEx3cSasl8rM2vHg20Jln2UNDDFnjy3jduuyTAG6u2tAWagFKGymucV1iBTgIAQZfRdWtAOY8l4BihLwUlga5q1TeH6G6odY0vUkEzUFVAZwgKA7om5HRxnbYrKGP1Siya0RZRFVat5Jbrr+Q5z38+T/mnF4HtgimAOI5hlQBJdAcvCgsMA0OMs/y+P7Ld5nMZVZohpSjtMMWsLbnulrsprAIVNTuMRXRFoE/u/SICiMXakjas11TSD7BvhmZohjLlJKb8OYN+NFZvMqm0xDwhlAFlgQ5BFTgtUAYYSq5a1YFQMOqEWQA+WrwdB6MkXmSj7VYDXhlEFwRvCV7HnaaDp0RMMUA+C13Qc9EqBnd6IVctlKAKOiFgqpp3HPRG7qpWsuFGmyOUeCx9H92w3RJQBaGyNL4dOwqqw5knHMtcpZhtFVYrinIWbzr8AzGG1gFUF2WGMSGW4RSS28RlBCVNxt9VBEwLV2J9pofNb5YnbHbbZVdeRrMBcD5gzHAsLK6JglMiMogyEc4qCh+DZigCwBMht2yaePgofY21EWwrNdgryoiIZIxGkvvGFkRpKgHnFUrbnFibIpUC9HjKU7ZnfMW9GT0LpQqghuAxqoM1EclI6dwX0AGejTfdiNsW3JkWXYkYxWSK56qQ0JBsJ9WaxatLgqQWUQk6cQBsMkMzNEN/H2V+IyLN58yTmmQ+4pI0IedVRIoiw6ERJAgq9ybWOir6eYGKYAz42qGLWEPqMiBngg41xHVdhcibjO7SDxXIJB3TwQeN0ZoEPkSZPc2qREmAqocqC/7ja18kplJaDFHIFSa7Xz1ohS4LnI+KgdEG6cER7/8gR3zgvUCBqCGWReDCmOBY12CGUDp6uDPL8RJaklI3byW+sHTP9VySPqwBqJxE4pxrYl+5LhU0RpVI7SIMUaGpKkdpSrSOMYqghMJonHdYbSPGggSMTS3HIIHNWrTq4qq4Veu4WLSOaedKmfQZrI2lJY2cSkh/RguCRskcEE2ZJpaTaPUao9Hao8QjdQBrUKnQWhtLDC5olO1EPE2tUApKNRhmvFiNsgU+FFg9mI+i4qJFCdpkgMMZmqEZ+nsol++1Ffhct2qMIlWHYiXEzixJuGZ0Xo9qenlGADWJZe+AVpF/BKWoPNjCRq+Sr+mYQaemwtcYX0eYP63wKQ2xoy0h5UVYa5PlrGK4NgmxIGCUhU4av7gIvEDqVdUo3IGgfOo/qhFdYJSO1XfdIaALyhGoEQJzyBalB2MaNuNc5KuBeP+mYXnWLpRtMprXdyEKDyN3DiE01miuFcwZdKAJLkLOaonJBgFPUWrQ0T2b2uASUBhTIsmNYUwZAZaT20a0iUFwLwQ/gJ2O1msElNBK49O88RLB7UNIYPHZYoRUC9aJQtE5LEl7NclVlLMMU52nUlGTEw+BgkAnYu7qOEGr2mEAqeuYQm91chMPSEKcxDGpawBUsK4kFc3QDD0SlCEnQwiNEK2qqqldzetL2qESGTSAKDAR5jMnISmJglBlvGuNQkVIXIllL0YXaadEz5IKlEOG2HYt+tXEOZDUa0oZnHMopXA+1k1r8r7UIlIUwUtqkxbBSlJOFFpBSNjAkpp8tHldIAr7WoroDnYBIwH6Na72YKIwdz5grY7bmrcxFQpwkFw0w5fgYRSkWRPMhfVt+EDxLmpfdUAVuvUjSUQl0h5xPk1mSyVxhruaOAmVjrNXdEK3hNoHZs2aleZ9FES+34uSioi364MHpVEUmJSe5oB+Cgio3PwPsFbjXU2hUpmqaPT/z955x0tSlen/e0JVd997Z8hJiQIGogooJqJIcFHBuIqLYkJcBONGXfVnWnHBtJgxrxHXRVkXVBAQMRFEkoBEYYAZmHhvd1edc97fH+dUdfedO7jLvTPcGerh08zt6q5T1d1V5znv+z7v++oM75NbRym8j0mfWkertSziKs6F2FsmzyxKILMZItQ1NT2pyqAISsdjIRCcEJzEItZrqGkpNIq5Bg3+Eqp5p7JKq7zVuNHgaeFpUWhLqfXgxvKRbCKhKoLyBFUQ8NioxccmbhUB44VcgdVxovAuIEohGro6sDwUFCJI6nVhtY0EHO3HWAwCMFbjcaAMwWs0ilA6QKErlzRCZjPKYsD42mi8eBSWnHY0hlOjjyCCUmAV0ctmOwSvUXmGyVoE0bFcqg0EJ2TWYIIaVDJKRkZMNQwDL2CDdWuRArXroiLRqtoIUEvPlYrWZ9UqCIgXT7pgtTKgwOZDH6Py31ZbjGLTzTbBqngDSAiY6sYJAcRjdFU4gkhSIUYotSHGQAo3CBQAuTXRRaxA6yy6gE1eD2lMYtng0ErTzlsECShtBrlYAfAepXW8wYa+I5FBXVEJ8TNXn7tBgwYPHZUXDEbjpCKSCrZUaRw6iY2G9w5JUQhohSgd9RpES1MqPkkuW0mt0nwoY9gpLZYXbLIx5DloEzPhRngoVbEdCkdqdD2vhACmyrdXgVKisxkgy6MLrej3iXqRDC0Wkdg3VYjTo9Kp3bgEjOjYQcvEYw7mmIAEH8NJI5PTyLexOh7hc9Q6i5EOl+iqLuLq71AxZH0BV41z9egFrQYa1YFvvlIHCaIiyQmAd9x7911ppSgoHUPqwICw0dOqdRjyoWPRtoO/KwdHtfQQRhRAVfoZygx15gaj9CB/uQ51Ggb/HxwinuNgmJEX14D5Ep6o3PTTk96bnqIN5guqeWemUqe1/j34kaIJqDgH1XMFJsYGVZop1OBercSBSsW5xlRkHd/GquWWMQqeAAAgAElEQVSr8GWoWmkQb/eKlqr3RpWlcrq2Dzyp/WPpMJkm4DHK4KVEV4meCvJ2zCaIn8uMHBuJsdyCPlopjORR0JkN5rTBR05nqNIHqhSPotNrg/ONk21kf+9cNCySesuHaQV6BAa9S/UI986XeeyhYp0R6XDptyo+WgmOtNYzfJPTjGU18s9q21GqJk0Aa9QMrofVDXA17Y/pz9eIIXKdecA1bFJr2L6eo1ooDbvOtNaUZdmU92sw71FPI6kq2shG9LT3PMj1vIabOhY00Jigh94SBkQXIvnUxKOqdwxgMkugjPcWhlxntQd69LCDZ/W6P4ALgs0MEnzUMGUMQl9KzTj5DcYexI718DYV6u3GWgiS0osMRk8j0RHE/TaUOXCdEWlVThAGcYq5xPS2bVXe2EDQ1GBtYliJPd1131ikDTZ0zHSFq2n/mhCJ1NT7DKWSqCRIEh2N4ErQCHhiyo2kcJTVGZQxjqs0FJKyAZRGEvXWdenTM2U0uYktG5WxlCpyp63PXtKx9MD6loFXUKYbAIG0PSp7VZpvjcnQ2oy4u2N6RHTH+Yp0qxirzGRErX9YpwwznUArK7XqPznbsafHQIabQzdYu6hi31XBjUpt3JT4a/BIxGrcMD3eOBD/RjLxkUyVTjIKCYiKiliDQiudKkUMiQ59JDijkwgIYhrNyLSeVLVSAg6ldcxzVYOs9cJ5fEx0YbrLtR5FRWHk9M9SxZXV0DxbvVyTqTH1OQ9potfwRa2fWGezXPUlD7dfq0h0ribbyi1SHWNqamq1YzZYe6iKzsMgb2+QF9egwYaLYXftdAiRiJwGpxVepV6lwyIfrQkS8CqKn4wa3l9QZVT0BpdisjqFLYm1uEOqYVTR1chZSH0WiIRYrCHZrAJgs0F6KJUlG2q3bWU5G5mZ9xQQ0jzuvKBMTN0L3kdhaPX9CINwm9Ijx1zfsU7NhWFCq9x/zjmKopj1ZFs1HR/G2NjYjH1RG6wdVEKjqucjQFEUjVXa4JGB4WDlDNV+oixyhnlIlRCm0NbiGI+ZAyk7oHR9MttKrtHEbYlIY1gzFl+oNxKt3JqIpZI2pZx3nSXHbXx3zwmZVQMCnXZ6VcObgZt46MOk7QHQJvazFDwm9a5S2tRrBUMSddZm6oYVbltnM9xwj9LKCvXeMzExwY9+9COuvfbaWY1fuYyrJOter8fNN9/MaaedVotgGqw9VIuVakFT9Ra95ppreNrTnvZwn16DBmsXtT8zxfwqdWqy4oxA7gM2xPq0AKluINAFvZRz//NcwkZ7c9Ahz8S6OKdlJiPgcUpz1z2L2GnrbepjCTHqaIn1jWorVDEwjOtMCIPznuVLV7Fwo4UoBUvuv5+tttoskmcVXTPp3J2OAVgTUtw1xUqr4cRFVzRRMlRiWbRoETtssyVQgmS18DdlGcZxVCXcSlWRNpAY6Tp17VZioMpyNMbw2te+losuumhOLMZqMq/iok9/+tNHClU3WHvQWteCo2qxZIzhoIMOYv/993+4T69Bg7ULNd0IrWy1weuoMER3VRl4SGVg6OSG5T7OjTZlnkiwKBO4+roruPTiS3jziSel1Badqiq1Y+EkNWQ1SohWbiIuSSIfLxnv+8CHec+73s2tt1/Lr351ISe98Y0pZpuNmp1pIaBIJBFc+gw2nrUaUIcA11xzNb+45CJOfuOJMb81pQUpSXn6KcuhkkJtaKXD17lFOv3vTqfDEUccsa5Oo0GDBg3mFMMG3SDGCKCTYCgqb10GQQvRYgNcAQGestvjuPGWJRz+vKfyN6d+kj/fXnD4U/bknvvuwLQn+M3lv+TTp32I//jq99h758eyclWX573whUDGj35yBYccskeMkIqHYIjEfD9nnnk6J7/13wjACa85mRNPfCef+NiXuPLK63nMjsJ/fP277P6YbelOOY469qWINZxz7k856jkH8a63n0Ans3zgtM/z43N+xLtOPYmbb7+DX1x/LQ/0hbO++h2+9d1zWLm8x51/up5PfOTf+Po3vsouj9uLQw45EAOppKpLuaeVWhdG3LobgDUKG5qjukGDBg0eBlQe1NViifXr0RtX+iK+QWLVtPN/8D3OPPOTLPM3c/CBz6LfW8nmm+bccecfKfpTfOUbX+X2e+7iLe94O2ec8V4OOvAALvrxj+n3VzAVCs4596c8sBSCp7YEkQBG8bKXvYiyvJNufznoCXbZdVve+Ka3c/bZ3+bkU9/CJz/5Xg486CAu+J//ZnJqCVNll59ecCGLFi1h6dIuBx98BPfcfS+nnHIKv7j0Qr7/rbP48f+cSzAZv7n2Nn5/45Wcf8GlfOs7Z3PqW9/Gxz9+Bs855EDcSD0LW9ckB0Zqmsro0/UaDZE2aNCgwSxQxUBNJXStFDYSizAoibmjvlfQzvL4htTI88Ylf2bTHbYEmeRxO29Dp+NpL4DXvv6VZC3NS19+FH3T436Bftahf+efueA/v8d4ayFjrRaf+9RHWXzvyphH6mNNXW9yoMPdi1Yylm1Hx2zEdX/8M04gU0LLgLS2ZMpPMHnPEs797nfZZMHmjGU5nzj9DJYt7bPRwj3Z80nPZ5IOL37Vy2HzFo/acXNUy9DD8OyjX4zJYLttN+Xue/5EkbWQvI0pVjGh+1gJlP0QG0pqm8gygHLxkWKkdQh3PUdDpA0aNGgwl5iJGYIiS/V++72iftOjtn0099x7P+gON1z/J8SXfPYzn+Ht73gLpUzxvg9/kCBClmW0bEZrq634q+ceTW9qOat6fVYVf+bxj18QjyES26IqYfG993H2935Ar5zkjkX38+hHbUvwACspyz6+32csG2d8m205+thjWbZ0CWUZ6Bcr2HXXR1OGFl4MpSjK4GP3KhyiAtpqrr7mahSwZPEitt5iC5xzsQSstbWJmeeakVamGzAaIm3QoEGDWUBIXZx0fFQdUkYeWqFshlKGVqsT1aolHHv4Mfztq97MQv1YLrv8drS0OPjpz2KvvfZBqzFK1+aOP93NYzbdiPf9/du49MILOfj5xzLW2YgJ3Wbzjffg/mVRZCuZgHgsji22WMjdd9+NyhbwguNexfiYRhxst/MEL/3rg9luQeDD734HP//JTzjor17Agk22IDMdxhdux9JV4NQUtiVY5WL3F9VBWgspXQFuOUsX38y27e145tMP5IRXvJrHPWorPvSuf+a8C39FoVqUaJwPZDpggk9pNRrBIsQWcBsSmgS/Bg0aNJglhosLDOcHDGt3+70S52PSSl0kwWiuuPE2UBkigTKLySyFi5UXemnsDpPcvXgpMAZi6Yd4RAeU6QBF2aOVteP4egFnfuE/+NcvdDBALpABp5x6Im8/9TXgA7fecQfk46AMpQt0C0Hn0X78yGnvopXDQrUx733ve4E+j9tjHx635378+robOerQZ3Hut8+iLTAmoNw49yy+j1JleIFMxVZwhLJqjVV/PxsiNqxlQYMGDRqsY1QpIpaoSq0elfCoKnSgtU3WqEJ8AGtjUFPHNi8qs8RGZwLKIB5aQDsAPgM1FtNOdOy3jOpj1QN84eP/SK4VC8YXolWGUgt4+UnvZ4oOY8AEjhyPVmBp4Vw7jmXGEJ9avkmgnSt0iJ+j1UppKyKx8bM3oFpAoCOBcdshIxKm1qDyFqDJgtBKubK+TJXxbWuoQO+G2Qi8sUgbNGjQYC4wrS/YcNF6BVht6E71QSuUTqKjdl7XoQ0S45tqqP6RSsXhIYPUv9gDysYC9cqv5OS3nsTJb/0nILqMnYJJorU6BqjQB50jQUBbrLGRIA2oVCChaj9qUj4qqqqdIMmaTDV+Q8Feu+/NTrs/BQWx7aSUiMrw3mGNoFQALxgbrVAfhtpMbqBoiLRBgwYN5gLDfssZ28EEbKaH3pLyK9VgF8uQC1STOn0H0Bo/raKvoQVq89QLLY+HVAGDppN2NwA6WotK60HViLoW4KC/qAJGypIrBpWHqn/NOKAZY6gAhTJxoVAJjRSROdNYg7rBGy6bNkTaoEGDBrPE/6oAexiw60w8OyPN6DDyemWgDgobdGryGnQGTZZifSA7ah6vdvIPUqavYvSa2YcLK8xw5iPvf+SgIdIGDRo0mCVW440ZWo6NFI8febMDyvR3BmJj/08FCstwE2wzrRi+1DXEQ4rJTmuhpmai56HC8bLhWonrEg2RNmjQoMF8QSJeJYMeo9Xz+Ef1xkiuA0rUI/vXRfNXw4bZfeXhRkOkDRo0aDBbrMm3O2w9Dr8WZBCQVJXml0GMUWLln6pWL3XN3gidHL1mJkIcBFj/8nnXatqGWGeDhkgbNGjQ4OHENLVv/DekNmVm0KFtpBP4NPKbkciHxEX1PkPbV3t/g4eKhkgbNGjQYC1hwJEhWZfpoZJFuhqh6cR9lYIoxkadjq9ZHKtJlarK77V1Gd+LDKxghRvZPnrMBrNFQ6QNGjRosJYhD9rjpLI0Bw26NWYNPGcZKWAr0/6F5Bpe04nowXtqNG7d2aL5Bhs0aNBgLSOEgFKKkFqKiaSO14qkrFV4CbXDVomu01K8SEw3CT5amaIJovFeIqlWPByI+ySyFJWqE82EDaV/2TxBQ6QNGjRosJZhtKlJNIQQ3bpKEbxH0PSCBpVjJKB81CJ5BeIKjHExf1Qbql2dCLoqR+Q87zj5bfRW9FmxZJKiF6hagEbvsSdO9UMOSFX1fGswF2iItEGDBg1mizU01hz03NQEJ2ibxWbXSiNotMkoAnit6XvAefABF5vDoEwPmKQPdAGtgBAwuqCU1I6thFae0e/2eN97P0R3yhPTSwOl9FFVxd86Nhrr61ZoDNPZoyHSBg0aNFjLKMuSPM+je1eSZQpc/vurOPaY57HJwo1Zdu/dPPUJu9NpZex/6IuZDDC56E523XIzxrMJXn/SP0IJf/fmk7ln2SJKVXLqm98KwRCCcN111/GJM8/kRS96KZOTfQCMMjjCmvNLGxadEzRiowYNGjSYJabzkZr2QpZlOOcoyxKtNB7Bi8dklu222Zhi+bVccu6Ped8nP8GzjjyCn197L5/74n/w9M36fPNLX2b3574yDrUCbBgjdCxdPH1nKPuA5Oyx2568/eRT+Yd3/yPj4zaly+iBtTQsUFKDcn8NZo/mm2zQoEGDtY0ghBDIsqwuEhgUeIQ99nwChJVcf/Wv+KujjmLcbs5z992HK6+5igOfcyRvfevbGTOKI5/zAijBZBYfhC5A1iJYkKDR2iI4gsRygyIaH1L/0xGVr16DerfBQ0VjkTZo0KDBHGC1+kAjKSkKa3O8E3wQtFYYDM4LOsvA5Dz+CXvwyx+fzz6HPZslJnGcX8nF194AdgGf+ORnufX26+j6lbTNOA8s63LX4sXQBqVztCiC9ECViOoggFaGIAGjKmmvGZzltLq9DR46Gou0QYMGDeYA1WQ6Y4OVAEpF2U+m4ztEBKM1wWuQMQ446sW86Y0n0bJjbJUv4DOf/zw/+vF5dLJNMTrjmquvYKe9H8vBzzmEbcY346VHv5hW2zDVh0L6iBW23nYrXvLXL2JqqiSEqsm4ZlDEd+1/D49ENBZpgwYNGswSM/LT0EZlIISolq3aoBml2Gf3Pdh3992AEnL4zZ9uBAVF2jcn0A3lIKYpgaOe/wJcKbVBqYGPfvJ9ALzlnW/jLX/3NmCo9aiCQeOz1VucNdw6ezRE2qBBgwZrGSISizAkjJKXBlojKTT58GvDrdDUTP1AmdG3uPoxGqwtNN9ugwYNGqxlKKUwxqBUY/9tiGiItEGDBg3WERoi3TDREGmDBg0arGWEEOoHMOLmbbD+oyHSBg0aNFjL0FpjjMGYGN0ctkwbUl3/0RBpgwYNGqwDaK0b1+4GioZIGzRo0GAtQ0Tw3s/o2m3Idf1HQ6QNGjRokKC1XitxzIosvff1c+fcnI3f4C9DRFBK1b9BWZZzNnaTR9qgQYNHPJxzWGvx3pNlWb09hIDWetakqpSiLMt6HBHB2sH028RJ1z6GU5BEhCzL6u99tl6BhkgbNGjwiEdFasMWafW8smRmiyzLyPO8Ls5QTejQuHfXNqrftLJCK4/A8GJmNmhcuw0aNHjEo3L3VX9772uimyuSK4oC51ysuTs0ZkOiax+V0EspVS+OrLWrVZx6yOPPwTk2aNCgwXoNYwzee0SkTlUB5jSOOewynskqbbD2EEKg3+8PmquH8Jd3+j+gce02aNDgEY8QAsYYsixjcnKSD33oQ4QQaLfbtRU5W1x22WXccsstXHXVVVhra/ei1o09s7bhvSfPc5YvX45zrl4oVb/7bNEQaYMGDR7xqIhy00035YMf/CB33303IlLH0ebCgtlzzz3RWuOcI89zQggNka4jVL9vCIETTzwRSG3sjJmTWGlDpA8Z1Y01xzdB5eVRTd/dBg3WFYbjoXvssQe77bZbPdHOVZx0+jje+zkdv8GaMdN3Xy1g5kJwtM6WQsPB/OkB3pEYgfwfH3OGMHr8ke3TV6NhDdsH+w6GCTMPO8M+w2+Sas+0bbX95/zzzw7Dsv7p25sYUIP1AcMT7XCcdK5Ibvo4cz1+gzVjpu9+Lr/3dUak1coLqNVTw8nJ8xPTiPIh8cFD/YrXQNTzFJXrq/pNh8UU8/f3bdCgQYPZY525dqvE5sqdMRzkLYpiRNE2DLUG8pJqbp4zY6cy/dS0bTM9HerAW22pLDI1upukbUoUomTN5yvps0r06Yrx8Qii07jJRk3PVXWew8d9GDE9ztOQZ4MGDR4pWOcx0opEh0k1z/O/vOM0zP08PY0cFcQ+9GH1t81ApNVzpSoXsR4dToFC1YQ34+kPkbCujq2r5wphJuuuOu6DfLR1iGFhRnWuDak2aNBgQ8Y6I9LKYhkuxVVNsGVZ/t8DvnMedquCjmpo7Gqbrp8KVKZj3C6JVqV6Q/xM063PUBGozPw8PRscVxSRyGXkdUnPp1vq8yEK6Zwjy7L6tx527zZo0KDBhop1apGGEGrCHHbrPhSLdO4xZGWq6dumW6oVyQ29pBjxrw64IzAcJ53OKTNzzPSNo2PMuMfDzFVV7UoYLJaqPLkmTtqgQYMNGeuMSIflxsOu3SVLlvDlL38Zbaclxco04kgu04ElNl2IM1e6qWqcmccfhEmHXLiAIqRzs0Ag6CgW0hJJMGAJCmxye8bXQYmtxx1YtoPXdXUYVcVa0+FlsH2+oGoV1W636ff7GGPodDq8/vWvp91uP9yn16BBgwZrBeuMSKvYaFXrsBIbnXXWWSxbtow9995rdIeHjUjXhAchUhWGCC5+pUE7IGBDICgIRKs7EuuAKJHBT6AAEzRBBZwOoALWazTg5zmRVors4dJqSikuuOACLrzwQo488siH8/QaNGjQYK1hnbp2h5Wd1d9aa/baay+e8YwDyPO8tlx7ZVE/N8aggkRL1kTxSnA+1ccsk9twbRFpFe/zWGvp9/tJUEPq5ODrlI8QwOq4YHChxFqNSZVMtMnSe+JiQpm4mFCkBYZVhDKQB4vJDCtlRbTofBvvHKUqsXkGQRBRKAGtLf2yR6vTxpcPb2/DqkZp9fkq3HjjjY1bt8F6g+GelVWh82oOarD+ovKCAiOZI3NVVWre1KbKsoxer4fWmjL4Om6qlKq7JlhrkaBGijvMfXmtmfM3jTH0+30WLFgwcl5lWaYbLiVXG422ilarhVKGXr+MJBqEoigwxmAyS79boFUUXdksKZhtlO16X6KVRVlD6aKLtBZrhUHubekdnbEJut3uHH8HDRo88jAsjKtItApRNFi/URWqr6pVweot82aDeVMiUETIO23uuXcxN9xwA845xicmWLFiBVmWseMOO7D99tuiAYVBaxmppjN7o0ez5gIIAe8ceWaYmlwJosmyFiE4fAhIcISQoTD0im4kvhDHbLXHCN6jdaDTzim8xxeOTnu8Vrk6V5BbiytKMhNwwWN1m6LXJzcKrQNGGUoX0NqitK7zTouiIM/aIH4N596gQYO/hMpKqT1gyRJttVoP96k1mCNMN7rmskTjvCBSUZEMy6Lgtttu4+ijj2ZsfKyqNYCI8L3vfpdHPepR5MaiNSA+uRHXQuKHCqvFaKM7N1rFRVEgKbZpbbRGBcHYnFB4JIBO+ZRSNZQtPK22RgnkWVa7QCUECIreVJ9Op0VR9tFGgw+0TQtwdMseWd7GakPpY+eCoixQGBQ6LSIebCHQoEGDB8MwiQ5va1qdbRgYJsrpdQzmIvQ0L4i0grU5vX6BoPB+cOF2u12K0mGzjCCCeI8ipLicShf6XJzB6mRUq2iDAwRxJROdMXq9IsZNM0Wv30fZFq4vtPNOjJH6AsETioLxsQWUqoXzgpJIpmgPopCgsDojb2c4X4KxuODomOjmXVX06XQ6uKJEQqDd6uAl4CW6j0MIeFdimg4SDRo8ZAy7/Cr1eZWq1+RCr/8IIdTplxWJVuHDDaf7i2hkSH66fPlyDjjggNqnfdxxx7H11lujtcG7ElEai6rduyK+jlHO5hxqJS4wPXcz/ggGROh2JzEmw5gcHwryPCMohW61KacCPgR0J0Mroa0srj+JtxMEgTGlCKFP13XJWx1cD1q2BRT40tE3GeOtCegtAwImm2CyhDZgFBT9Li5o8s4Y/aLEaEVmLRIeXrFRgwbrMyqrM4TAypUr8d7T6/Vot9sURdG0OlvPUWWL9Pt9Nt9887qNndZ6Trq/zA8iBVqtFisnp8jznAULFnD++T+Ngh7nWLp0Kb++7NKRIveKWIQgBovn8CJXM7tHcxsVwlpbrLIQwBUlKAeZwSP0plYxziZYa1kpyzAUjOPRouiKRsSivKdlDa6lcLrA2gmMshBW0Rlr4/zGdIspxsxUVASzGdq20P5+tDisymll40z2PcpkaBXwoUA3DdcaNHjIqCbVqakp3vCGN+C9H+kV2lik6ze01pRlifeeXXfdlY9+9KMjFdg2iBipAqamphgfH6c7OcXtt99O2Xd0+z3yPKff7ybrNKCVwiA47zGJP6NgZ5YW2QwEWrl1NYFQdFm5YhkHH3oki5euRKmcb3z9yxyw/2684x1/z3IW8Ierb+Tu62/kKU98Imf91zcoypIDDj2CW2/7M329kHe/51844km7c/TzDudbF53D1tvtzAsPO4pHbbYZX/nqadxww9Uc/pITOfeHP+Sb53+Nj57270y6Fu9+3wd53XHP5a3veAc33HY/t915H4/ZcQe+9c2vQBbbPYlv4qMNGjxUVBPp5OQkZVlyxhlnkGVZVO3afETdqdaRFqHKGx/OH//LiOEpRUg575rRIjOjfZRVaoQhqmqGEfPXpR4HEE2oXq/H0TOON59hjOHee+/lAx/4wGqpMLPFvCBSiPmXZb/HzjvtyFVXXkHR7UOVl6hhm222iTHCdoepqVXRHNeCCuBcwWx/yHjBhrrggpbqAgwoPEa6nPaBf+HUk9/M37zhFE7/9Fl89FOf5NCnfADjVnDuBddz8S9/S3HLpRz73GO4/OL/YUVfc8s9Pf7rvMu55fbb+Oe3vo4TzvsKO++Yc+mll3DQEVuzYtUq7r/rTnx/kssuPZ8n7rsjv7/pKs655Fp+d92t+BX3ceThB7P7dm1Ej3P1jXdwyW/+yGbtVVhWoYIniG9WzA0azAIq1c+uylkKmtIFUAYngNJ1rnTFHVVKBYCepehxeoEVUbGQi0YTAJNCVxKilexd7JgVRPASrSprckQU3nlaRvAIQQza2CjmdAWtdiQPCXlsjOELtLYx60ApFAUKofAleW7BeXwAr3O0NfiiR2YNSuJ5Ke3wEtBiqck5zUUhBDRqRKz1cBaQ8d7H78na2gqdq9SmeUKkgSCO3LbZbrvt2GabbciyFAiWuGKoWq31elNYazFW4ZyHUEmYZ38OcRWnCQpUvULTGHEstMLHT/sI3/nZFWy73WNAaZ76tN0IxRQa4fDnv5TWxMZsvvVGbLkRdIxhs+0eQ9HzHHn4EcAUZ3/tM2y2zRa8+GWv4Owf/g8bLdyRzTffhAd8l1/+9g98+7s/4KUnvJxfXvxjrvz1NTzhCU+h7ReTA3++5Qa0hl2fuB8hi51hJjqWbrebJoGGSBs0mBWG+iVXpFkGYWrVCorSxWpsOtaPzrRi4403rsUrs9YoqGmWogxMAw0Ig/Q2pYQ8z3He41wgb7fqSmIhCLnNsLpEvCMoRa8saFlDlhl82cf7WBfbl4Esq6xtwQePQYFWjI2Ps3LVcjpZBqlzVVl4xlsZBE+vX9Aeaz1oWEmp4QYgGzbmjT2eZRlCtKzyPMeYePloAYNiwVgHLYMSg1W81JiM2ebUKgIaF8v3iUUkxymNV7FLiyLgly7hOQc8k09/4wdcestdvO2f3kruJzHZGF6PRWs2lEivR9uA9y122vUJXH/LdbzwJYeTs4rjX3Uc/3nJH9jjWS/klqtu57YrruYVxx3N8W94NZdd+WeWLWtzyJP3pd1dxh5PfyaXXvcnrr35Du688zpe/cpjMf5+sFN4I2TGMbXyAbTxiFq/moA3aDAfUVkpwxWNVqxYwd133127fMuypN/vs3Kqy6L7Fs8+pAQMXKRxMa8IGNHYoNES0sPFhwk45yiDIFharQ7io0ev35si+D5KPEW3j0JTEmhNtHF+CqtASxurJlBi4hFNTqkELz2M9SibEVSLFVN9bGeMrnMoaxAcnVxRdqfAlbRahm53ErxFY2MKYCpjGpARCzQ8Ath03hBpWZY45+qSe2VZAoMavZOTkzjnalO8asOmtZ6bHC8lqbWZRokaWmNpBE23LFi6qsvBzz4Yay1/uvEmDJrJriPoDKFkrK0xJsN7KAJcdNFF7Lf34/inv3sTl//uYtoLxyjtBDvtuhfbbLkNZ33xs+y4/Tbs8Jgd+Pczv8jjHrcPOzz6MbzgqOdxzeW/4r5Fd3Dtn25nq51247Zbb6KlHYSV5LYgSJ+xsTzdyMNxkAYNGjwUqLRAL4oCoO6VPDExwTOesT+Pf/zj2auIyxsAACAASURBVHvvvXnWM5/GzjvvzNKlS2m1WnMw/+j6UTVohLQ0Fl0/j6VRhSxrRS9cKGBqBbaYQimDbY+nQjEBk7UwJqsFVK08pz/VRWtLnuf0+pMYA71egVWWlvUIBX1X0guCNlnMpMgMZSjJVEBcSZYZCvGIUdg8S67kxhs2b2ZfazXWajKrsUahlWA0aB1zOFutVizp5D2IkBkLQSjLctZ+bgG8UnVA3YiQ+0DuARROZchmW3L8Sa/l3979dp66/ZasWNLjD9feRTdAMB4TevjeFF4MzlgK4FkHP51jjnomz9xvf/bc9yAOOvylHPzMgxjPNc974VF0FuTsscde7LP3k9l804058KCD0Au3Z/8DjuTlRz2DYw7ai+cddSRvf+/72Xanx4EIrdBHFyvROKb6BXk2jiab7dffoMEjGlXhlCpGqrWmKAomJyfp9/vcdtudrFixgltuvY1rr7+JbrdLlmWUqfTn7E/AIlhEabwmecM0pbY4bXGiMbaNVm18GQhlQYc+m5rl/PbCH/LTn19El5wiCFiDwzBVeJQLTNgW4iwmG6f0Bb1yOZ2Op2UKbrv+Rr591texZY8vf+5TvOyEV9E3FhGNFROLvQSPdg4dPKUEQmboqUDQBqVtLFaDjPjEKut0Tc83NMyTGGnEcA1dkVQ42pg6z2c418sYVbtfquDxbCDDPUMBIxBUQInGK43tbMxxrz+JV574TiSMI9ImhB4TreV8+EOnM6W3BO/YZKtHc8nvfk83W0DpCz562of4f+99D2F8W/rOYMThXZc3nnIibzjldfSKwCb5Rlx55WV0e/1I5ibjjI98kNP/7SMslXGQErifD5/2CR7QW4Ax5LQoi4JgwDuJ1ZAa926DBg8JaigVohIQWWvroifnnHMO9913HyEEer0er37V8XVcsj0+gS/6s1DzDoSNIcVKJW2rvGQta5mamiKjFbMU8EjZZ/KBRbzj1LfzT188mxJDWwJWPGUAo3O80fScRzvPRLsF4um7kkDMijjl5FM44W+OQ+jxmje9lqNO3JJCtRn3q5ByJcY4bNZCSQfxgbYp6IWCnjfYrINzjpYxOKLR80jFvCHSkIL11WoQomI3+OjirWTK1trkBo6ul6qM12xRycypBEfE+ITSPYIWet5gzEZQBowuKHUJ4pjqGbJsjLzo0Rrr0JvKUoJrgcFThBadhRuxqixpWVDek+U5fb8qfp4sw4US75fTGcsp3RSttmVqqodyjrGsD1ox6cfwQciUoF2Bd0JuFxDwaKuaWrsNGswGIpBUnFmW1YRaFAVLlizhmGOOoduNaXjdbpeVqybJW21KF0NRdlbWVqj/rfoX6zSlGQFwKPEYcXTGFuCEOP8pyzEveCErp+BVxx3P297/QY47dD8OOexglizvYcY25ifXXoOylisuOI9TXvNaWsBYZ4If/uZC3vPBD3HDrbfx9+99N1ffcQGbbf8YfvSrFXz9C1/l82e+jysuOYeNttyI751zOeMTO/Pz837Czpus4n3vfgef/t552E225jWveBWX//Yyvv6NLwFqSKRZ5Q5G42dtVHKdT5hXa4jhXpYjxReUqmMRw61vaqn6nMQohiXoMZcqpJsjxkxzSifoLKcMJUaXaAN5tpDgMzrG0F+5HNPKENsCLJlu4cQy2fMYJeB7ON9DKSEkV45SmiAOYz1CjyAl3gW0bWFtTiZCKBxOtTCdjdEhoFwRpevagHiE/iw/f4MGj3AoFcNGCZWnK8+jDuH6a6/j9ttv56abbmLx4sUsWbKkTqWYi8o4ozmZAS2kR0ATUBIY67SZ6q6iLPuIMmhr+M+zf8Bm4/DFr5zFcX/9Ml76suP42CfO5PYbb+bNb/5bjvubV1OUJad96D286iXHcv2Vf2SLrXfgBz88n/e+/8PsvPMu/L/3vosPvf9dGO1xHvpOo2zg8itu5uS/PYUrLr+MzC7g/PMv4vzzz+fss8/j/J/+jN/++jf893+fgzEPPgc/ElLz1plFWiniZuoBVxFinZMVq9IzrJ32nhFh0aAFTtXXlBExUlUvsypK/JfIVqUi9ZIabnudCtdLaucmBUZDXzxYiwoeJZoynYMKfVqZwvt+jHVIiyBg8CjtYpxBBZSBwju0HicEUBQYpQFPCBplcrxocgkgCo9GaYsWRShKjBKUBkHw4tCUKFztCnq4MPz7VTdOLN8ocyMGa9BgrUKjjR5x64oInTxj6623ZPnylWit6LRbeO/ZdJON2XzzzUECQdbNnVf30SQV1C/jHJcb6PhVLLr1Zm689R5ecPwbyejjALvZtugVK3nWno/lO9/5Pmd958c88RmHcezLj0dJAb6gEwoWFKvYqCwwZYHOND7LeMK+u7DZox+PNZuzxYKF4Ppcu+hednnqXuyww04orfjrlx7NJZdcRAgFsZBpmuvTOVf3/oZOpeuMSIdzs+reoolcly1bxpIlS/7CCGu6VCvrdECwVc5pFUP93zRwrXJIqyoidcUPLKiAokAUOGVRAlYcWiyeDNAY+oDDaxAsQToAGHGgPPWKU3kEQyBHi0JLKjOIIErhydECVkJ0N2PxSiW3s6BwKIGgLCiHpg8ERFoP8h2tfYQQapdYpagOIcxRekCDBmsX1VxUzVNVecCxsTGyLGPrrR9VL+Srzk3VHCaunIMuVMPVh3TtDYsCSA0aXOkwupWIO84PXhwikVgnJyfBWr501lc47Bn7orKc+8noaMenTv8YbzjuKg584ev5zS8v5q+PeyVfO+uzjGcG6/rkQaF8oJ1Z+v0+hQ+Y9himM04oQblJjPRitytjKYtAe8zGohAhVpx7sO91Q8c6jZFOFweFEMjznB/84AdcfPHPZ95n2nNZjSwqkUCMVVQEumrVKpYuXco222yTWqA9mBAgpFxMjRKLCbouseXMQAAAoIONua0SErFmBMCKT+PEcxJ0IuQ0PjpWK9GuLt1lBKyP5x9U3FewaT8Xa5qIJSiNoBAViTQSb/p+Knf0/Al313m+WZaxaNEijjjiiIf7lBo0eFBEAaOpyRQGHWFarVTwIAhaKaxJhFoWA2/LrLhi4E2qMgeq8bwCsJShRJsca1r4fg8VPJkWSgM+g5W6xZP23Jvtt9uSX/z39zniiU/kLe/5R+7feJx/+ae/59gDn8sprz6eW677NWd+89v84Je/phRw/R5GwJtxfL6Aqe4iWlmGMm0me32KsBKDo9UqaYUpdtxqIR+77AoWLVrMJo+a4JvfPpeNFrRB4rylp9VgGMyBGzbW6exbXZiVhWiMwTnHO9/5Tg4//LD/5Sj/O6tr8eLFnHjiiZx99tl/+bwIBDygMGIHXmUd46U+rRJVIr9BYle80AUwpAsmFRmqaw0N8bdoiHQbMOmTqDB044xccSEdZ/B5KzGUqqucKEh9UefL1Vq5civX+8c+9jF6vd7DfVoNGjwoplub1fOY2y718+EwRbXdGFOLIh8ahhbqomO2QFrI66GuVEopVnUnY+k+AJOjxzfGTmzMa195PH/3oY/w+X//JMcceQTf++a30BMb8/2rfsXY2BgfP/NzvOjoIzn1fe+nZ+H7F1/KwomN2GffffmHD/4bv7nhd2y/5z60tKdjSrRXKDLyvI0qwdMHVfC85xzBRc//OYcdcgh280dz3EuO5dqrr0Bpi1I8YsM464xIh4sDV5NsZbmISG1pDrVf/V+NW/1sPsVHq9VkWZZ1v7myLMmyv5xrqasBE4miAoEQCXSYwBWjy64ZTiqoJBJQtmbVSk6g0XH4IUIe7BqSW7naEN06kvaNERIVT1AePlfumjC8oq/c7E0LqgbzHkP1YUNIFYZUFZIC0nMYivspQDzezUGta+XqhbhJj5BUvKICWgnel3TG2vSLErRiVbB0NtqJH198OYVp03eelnfccuttBAWrih7OZmTes9Hjd+WaP91Clhu6IdAlQwu87/TT+fAZH6VlYEW/zytOGEfJMt746uM55fXH03cBpTXnXnAeujfFT372X5xzzk8474KL2GqXPfnS57+Ak5R7myYtEcGk2sT1FDetlvCGhnVGpMOK3Ko+JVAXWpgtKuVcJTiqSLVyMT4YEi2NbpipTKRMf0+o91MzWI4D+kuCKAaWap1zllw51QU2cp2Jrs8jvjus9tp8q75VxUSmL5waNFgfUJUHHJDlQAhZkWW1bbqo7qFjoNgdnkc0KZd96Ny6/SnyrJ0K1Vv6SSDlii7tvIWVDO8dPgt0xtuEoPGFR+ctSgKuDASgbaEouwSV0XVCrxDyvIPG48uS3BqCD6gSbCsnKLCdnP0PfjZbPOp0Dn/OoUALlOX8n/40xUjn2WS0DrHOVbvDUnHnHEVRjAhSBkbacPB9hvGmPa8Iuoq/VtbusCt5zYgxCkUAPUiIDslyrI6nKmtVRR6rKLLmTQVOVZZjLPSMConwYmnnRPdEJ69BlB5tRCR6YBWrKH7yTCN7oW51NF8WeMNiDRhV7j54fLpBg4cfKY20JtKKTKvr1xqFSBiQplLxNqwt0dksFocW4elvrwZ6C4iWsrUZRuLiVAVfn2MpHt3p0HceiwIfCKok4BHaoA1BKcR5MgNKHFo5MoTctnBYTC50+z1Mayxa4N6jxdM2WcwQcBBsTq+1kB/87Bc4OwE2o6WEot9F4VGiBordOnVw3kSd1irWmalQreqq/NCK3LIsi9Zj/c7pBdj1tEe1chsNKw4LipRS9Pv9qChDUtWSOG5dyGpg5oFUJKlBAlUkc/gcAslqrE80uW4rN+xQ7FSGrNARDMdXa2YefEo18mz6/kPfy7CVOk+u0mpCqX7fKqY0VwUzGjRYm6j4MM5R5VD8M9arleS4rIyBEct1xK07uE/X7MbUKNF1yl188yBUIwq8jg0zqtGMznBl3DeEmKVgtKB1nPu895TB4ySQ5TlaGayOy/Z6MWAtPs274vtoHL3eFBDoF13a7dgJRoV4Pi3TiXOqj6pcQeNMjrQnYmF61yf0p8gJ82hJ//BgnfrctNa1ZVj9XcVICR6Fw1Hi8TXplC71DkhzsRcHhHh1xayR5CYNDKefWpvjQ0wYCen1IGWUFUkYGIWBtAIjeWMFROp9Ytwi+vr76QIXDYQSFUqSIilZnQFDwKR1pcgg7hL/JRFfuktExU4PKeE6FLGwQhgmeWJcVOMBjxDjyb766aaR+MONYcu/mmgeCfL3Bus3Bmu9GI9UiRyCKIKYSBzVZexDVPCKBmUIqFRLdtC9RVSob+FImql6migIiowMSkEnstOi0UPkKirUj+oEjdIoYt9PUT6mvnjQQZGHQK4U3ii6CEplKBezC5SSWAQmBJQyhCBR9aEUKhO8KjFG4V2BxmG0oERTOBBj8QqU8gRxiDI4L4gJKFXFhkfv+ZG8fV19Nw9/fHS4TsF00dhsMS9yJmI7TQXek5lAkICQgUCmNSF6QXEIXuU4oOUFjKIg2oYtEqHWqSqhdodG29GjlMb5Hrlpx9hkCmOqYUtTR5dN4Qrath1dsuk9IuAEcp3k8jZd1FRjaJBYxUih8ElSXzUD1prYBFeBKI1WsY9h7Nun0ZkB6aF1HotXK/AOWnZolTtU0XNEHNVwVYMGs4aIsHTpcj7/+c/T7RUYm0evCh4lQ/FKGXipBgQRsCFWRHM6rrhNTaKeyW6X9th41P/7VCvcCs4V5CrqOLxOJJzmMZ1U+apS8FcqXtVNJ1zljydXcAohGUmFZdL5pdEwEiK5UiIKCh2Pa+q89egNMyEeNyhXV3oTNF7ZdA4upu8FUj3y8LAT5V9ClmU88MADTE1N1fUMgDmpTDUviBRIP46G0OOPv7+a3fc9FAkZbTRj4xk33XUtf1x0Dz+85Bre+rrjaGWO//r+9/jWBb/mzE99DEv1YYaINK0CNeCVxeDIjQLpQbBABsog3qFsLLzgERye3LZxPpDFMkKIc3RsFPgMVMCWIMkrU8VYkEjayKDKko/KNxTolEwjOqNfOk498SRe8pKXcODhz8HSB1nOtb++nv0OP5nrb/0D22xafZwUG6nKIw5/d/P8Am7QYL5DERe/SmVMLNiEpz/zIJQWrCV6qJynyg8Han2CSoreoFM8MFmUrvK8Sait27PPPptNttiEp+y7H7mO2g1vDN4JVkUydKZM+xl0sBiJ1qlL2g0dKt2Gi4StYscYVRdpSAaEjMZaQ5odYyGZgEJSxytLQGPEJe2iHdKpBGwssIbTqWRqIvaKqAc1yuc3nHNkWcbixYu566676vKOwJx4zeYJkQ65KctJxnTg9I9/jJP+9o3kfbjh2uv5+je/zhMPOIDM5pTA5X+4gT8vXs6Zn/oYtVQprdYEGbhFUrBbvEJZBWUBNoe8nYopr0Jl4MQSS1xpjM8wCkyV+GnAGg9uErFjqKxFFxAPuYAxpEokjlIcmTLJUNQ4QJl4Dt5DZhQaT196tLOcz376TLCa6GsuIZRMTEzQ9RlFpTsSMygCLRqTBEixUlKjiG3QYLaIlYkUWlnyVofDjzw8zUolviyxNk/3mh7R4q+WwlaFoNLzWvsgcMVVV7LXE/fkiCMOH4SMkiUaSWyGfPbqQDrqO1SVN568UFUeu6qP5dI52KSlqGbHZNkSog6kqpg0NFaFQaodtV0iOqSpUA/y5RmQ6HrApcnbsJQf/ehHI+Q5F0Q6L2ZhqZXTAiYgxRTWZHGTgdIL2rSwwbOJm6S4v+Sr37uEV77hRCywkPSjA9Xl5LXgjKt/4UwDQfPpMz5BS0+g8o342Oe/CLKMN51wDM9/yYvJ7EZsumAPysXA/Z79d9qDrLUZmyzchruuu5KTXvNyzr3oZ1y/ZBkbb/9EfvqL61h2v2P3XXZj5fI7ec3rXkw773DoYYfS7/f53VV/YO+nH8lG2z2Jf/33b8WWZ1gI0FYeFVbyhte+gkv+57+gv4wn77g9G2Xbceo/vAfyLK0AQYKKH9AQL+xUj8FD7XZZL67kBg3mKyTSh6gAZqiZNiaSqMTYTpB030HSKyTtQqXmleHX4usiUdtgMou2efRXiQJlcN4lNUalf7CRLKtoTjU3BkEFGYgMJXnBJBa3T9KOejJNu+AJSOoeo4IkvUeK5FaDSeTWaozqzAMSBxFJPjaFEh8tAhFG/pP141G5dSt9DjAnGo55QaQAUdUd1UOtLOfkk95CW2+NyjbikMMO4BUvfj5t53DLJzn46Yew/da7xJq0xDXidN2cV9GhUsN58I43vvXt9L3noiuv52vf+R50H6Clexx02HO4r1jO1ltuztVXXM19t97Ikvtuo7v0XpYuu5tHP3YXnv/il3D2d77Lsnvvpbh3MV/5yte45Be/5JBnH8ovLv4JrSwQylUccsghfPUrX8a0W1x//Z+4+qYrOelNLwMB7UEpAwjB99HWY6zwsx+dw06P2Z7l5Z854YRXgW1H/VOKrUoVH0kx0eEfbp7ojBo0WE8RkmkZYixUeXSVthFS0poyoGKj62pNG13BCqq8UqLoUKn0WnIAVwKcsixTE/AoUhJifn1U/8f/DApdaTYqc1aRBo2uLVFxvoyhpPiwVDqNwfvieSSBklIjD1UlGE47VhwznQcqVobQgkHF1BoUVWua6jOroc84Xx8QRUbD7twq9DYX6XnzgkhFBfquBBOg7NEtA2d8/hssDvfQleXc+8BtbLJQs5lV/PN7Ps4vfnEJN//y1yy9flks3IwaIpOqEEJ1eRGXW7YAXXLjb69hPNuUA/d+CkZnUcRU9nncE3bDaHjWQbvS4za23H1zjnrJgWyxaUarpfnvX13Orvs9myt/chE///IX+NrnzsCtvIcvfvvLHPHSY/njzTfxpS+cg9YTvP997+fy3/2Goix5/DMPxGfQEmhLSlMtAQwqa1EET88Iv7vzDrZ87M5Al8dutxV0+/H+NlFwpIZXqCkeY6nug3nxMzZosN4i1NaJR4mPZCZQV49nsGCN91wgdl2qFrmj40WCG8oPHcqjVyhK10fwUVPhfZ0Ok3T+o/lwScg4nHMeKmFllXGQiN8nRf+AH5N6JFSx3TRkLVKM4wzkjClbYVjEqOq3pT+kPov1CVVjjWHirGoszxbzZgbOrIHgodXB24xVRUEAegJaBwiBUAY++K8fZeNN4dOfehev+ZsXsXTFymlZn/FHVmLRYfgCDyy7dxGvfOUrueuuO/nFVVdi0eA1ynTwLlq1zq1grCPQ1nziK19gqbuNfz3977jy+pvZbKtH87T9nsJnTv8o++62DX+85hLO/en5bL3dTjx+l1154wlH412Pbtfx2c99LrpVRMgMGEWU/CrARpFSGQLGZEhQPOGxj+OGm26CvnDHXXdBFt3RImCGI9nDCmMGn61BgwYPHTpNpt5HEYpzRSSNaXNsTXR1PvtQzFBG36em3ZdGZzgXt2U2SylwcfsAMS9PCKvd64O094BQJrfyg2CY3NXoGMOjyvStQ59lentGD4OjyvqTPVpZpv1+fyS3fa5y3OeF2CgqzjSQgc4prMGplQC0FWn7xqySDk7fE93AHTjzCx/leS98ET/+6Xm0oPLFoNFkXmOS0hWlQbVYuPkW7PfMvdh6m4U88WnP44EH7mGqm1GoiZhTJdDWY/gp8HctYe999uWPS1ahJya47MqraQE77r07e9+7H4/fayte99pjOPuC23jMDjuy77ZH8oF3/gPGjkNrnGuuvpTMCMqvIJNEpKlSvSSBgMGgQ0bLGQ599oGc941vMjHxWA4/5qUQlmN13C9IgdJ5/V2hqutcR3FBjXmzLmrQYD3C4L6xWKQUrE1FXFQUFSqtk0XG6P1XxRlrsZHUbuIgPip5tcF7jdaWLGult8X0t5qZ8kpXJIgUKJUnMq3OzSXKzlJWebSITQBUVsdSY9AoQcV4Z+VyjgeOY/ogGKWiCleVaKqi+yZaryknXw19NtFQEpKLtxoPlFpDAZp5hqoZwXClu7mwRmGeEClU14FBqRa77/kktt/zmbVgLYhG6w67P3Efdn7yfvEnsyU777YLP//pefSHxqmL34tCj/hiNH9etJhXvPKVvOo1J/LAyjZ5nnPNdXfyspe/gX5m+e0vf8lxx70KEwquuf5mzvrat5lqbYLPWtx3590sufsu9tn/GTzlqXtz2a9/w9Oeuj+7POlYfn3p79iS+/j4xz/LKrslpcm45557cUr44D+9jd9fdjm3uuWosg/ZBL0Q8NrRMpqXvfx4xrKM3154MSe89kRe/OpT6KsOr35zjlvxADK2EGX0oN+LGlyy68tqsEGD+Y4qnUXLcFnQlLWtQkyXK0toRRFkP8Qcd1NFknwJFkRlOCdkVqdYZxTsWKMp+wW+iIRVl6ZNk1wRQBvQIaC0BUJszF2dTRCUVuAd2lgcGQWBts3i3BmiBsiaRH6VDYFP46S0FRUbSeR5O+ovVBRUiV+BMhaYwCdCRogGsqk8gzH2C2rg8taNNwzm1TIi5lq60uK8YQwYIwX1VYaIRmnISSo1pZG8gwXGmRZOgBQ1rdwjUZLmnEfUGEUpLFgAmS1wLkfrhWjnUK5LsDCVGZa1Ld2xHBEPvSk6CNY5sqyFl3HKcgtCsQmb5Rlj2rMqWHp2HIUhF8F4RcsJC6VHp3iAb3/5M/zV4Udx8IEHcNhhh3HEoc/lG2efh2QLWOkVRWdjJm2LMrNkOSzUPbL+clra1mH+CAepuXdKSF1nv1CDBhs0KoERAYdK2gtBUXLKa17Bgk4bqw3aZPz7F79KAbzj5L+nWLoiViYg8OQnP41bbr2XotCEukWiQgIYY8lbGuij6EIo+P/snXe8JFWZ/r8nVHXfMMwMOY+AJIkiiIsiSnJEMKwRw4KrqASBERD1t8KaFmSVIEEXEHRx1V13RTIICMsmTKCg5JHkMMMMA5Puvd1Vdc77++OcU119ZzAxwkX6mU/P7VCxu+q8533f531eKrj4vO+yeEUZHALVglIiUTJQKZXXKCJz2Jco77jgon9n4TLNT+64mz333o8SQWnp5TXFg5S4WB9aEow1QG5NOFcNRQniPUpVHPY37+TaG67H2d73ce8dv2WdmS9medmhwEVClEaUGszkG5gyHilAVXlsNgyArxyZiSw1USHZjgsSfAog6PPmhLyG0emHjbVByiPa9Vg6Yth8863ZfPOtwZWhzZm2QejAA1lsn6QtHuhKgVWWnKiAFAQoKeN+bcwjVBXoSOqTyKZ1ZcxrShFYb5TsvddunHPhhUilIR8l6pJgHeQm5D0KX6F0Hm+hEiof4koYtOppG3liqLiO4STFkz/fbzPAAH/RaHAp0svgpToMMG0446nH52LX3JDKtjn8uL9j4ePjZNYSpYz46JzjuP7GW5gxM4sOgMa7Em1MFMRXdDqdmMaqQGse/vXdnPT/jmf2oX8ddq8A06JMvl8R3xMVCtZZwT133MWxx57MAW95Fy/ZcVtu+NH1ZDIR9GxcEJrRSuMqsJlHpIyhLEPlQxPH0IDbkWUmlLT4Dhd8458o9Pp0AF9BW4OrNEXXMeE9IbkU+jJLXzT3+RHa/XNiypy9oFHGUroqxrANvluBCzF+X3o0BueKwJirSpQXlAebqoKFEPOP6hyioshBLHKWblhGbIY3LYpmJbPXaLGoSJjLVY73UHkHugLpgvJkKhixMthmTAu8EUrp1rqYgVgESIZUnqCgNELpM1Q+jAJahElAFquelRNaKg/lMRAOzGrQnsoVqDr/YXCE1t7BGU3ivwMMMMCfijqF2JDng2A2EMhM6CyFMZSRmJjbDF+ViNdc/E/f56gjTmJkeoaLkc8gfB+8ShRUriDP2hD6roBznH7GSSwdm8e2W27IE089xTsPPQSV5+wx+/V0HNDtssfWO2FbMxldY00euvc2zjzzVNxyYYvN9+WGm+9jn/32haWPcPShb+Sg974JMzzMtLW3ZWyZhomKl281iyFt+eu3vY1sjV2ZtxQKAUUXRRfcMugu4fhDDuZH/3MtBbDdjruh7Nr8D8JnaAAAIABJREFU/ee/gB1qxe8okjxosH5pzEFewJgyI7DzLiTfoVf3k8UCDy8Yq/G+wpo8zIZUKv6AXjK0H36yh9aglBdSobVBpCFmEP9WUcch0xqjTRCbTx1kJDiJ1hJKdgB8hVEm5edrUhFaoWwW+QQZ2g6FD2I9aVAfKxAfExESchbOh/IdF1Xure0VaNc3PD1R7AEGGGA1QAWqYuJZ9FSJLIufHGONtWbRtjnDmeWlO2zLWjMynC+5/MorOO6EE1lzvbVDuRrQrSpqke64bURTVT7ykULc6cTjjmfmsOGBu3/Kz37yI1prjPJUVfKa/d/IBV//Z+becwcLHruPJ+c/yIqxxbxo6y059oQTMUPrMveeG1hnnfWwClReYVSHV+69N/O648xYcyY//fGt3HDFFWy8wQaUEw9yyHveBa2ZdOLxKJrH5hjNhHJ8CVdefQVrbfpilk08wSHvP5SymCApOiXdnITA+dUveGM6ZQyp0UHlIzPhkLyKIg0K0ApPF6WFbuFDLDWGcj0erz2oKj7C9pQk4eUWkCHaQxZyCL6CXIWEvjIgVHW6sdQVypZB3M+VIVyrLCIWMODKQCIgUNhD9xbBYKmcp26GECeiFQoh0Nt9VO/yKRfjPFrpQC7QUYlEVxjtCOL3LVwZa8DilZq6ywwwwACrC3H8oMIrHdSFCPdauGE102bMYtGiMTqlIN5x2N+8jVw7xibGeHL5k/znjy/nhE99qK5it9ZSSlDu9lLFMGsba7PYAMOBsrjudLJylGG9gt/cfyuXXHg+M4fW5vSTTuW22+9gi5234KB37snGG8ykrQz/+ePbWOqHMLYdU6ElzneAkso7XrLFLgwD+716R7LWMn714P1s+pJtIbdsu/ksKFfUsn6uMjjfAjUUPO3xZUynZP5DD7DmZlvRacOLNt6IYd0rV61LfVIQUFQ98XghY0p9A4mKrFRoveOiQhVQG6+mUr+XQEtfWdcoQhK1OVHZQ9zU6KRMEjoAKB2ITBIviUQ40DrcUEElK7qZSqj1Kz0goasMPoR/wqzNU1VVvPh0rbCU2Vjqk4ytRC6uSOgxaNIP4kgqRia5uQ1v2vTmknH9SX9rgczGY4ABBvgd6L9JmnoIoPE6o1uGibh4j9UaV3YYnTGd9xz6XnbYaWve+Ob9OPfc8+p1M5UBGq0sJgq/eB/v+RjyXXfd9dlww43JTc7mszbn3R88jMUTT7BoxcN87atfgkxz1jcuYlm1gH/84if46Z13sc6Gm7DOzDajFqyEVBdaoXSGlpCfddUYrljGDtttw3333AtlxQNz78G2PN6FIJ4xeeSbZOAtqj0NLxmbz9qc+b+9n6ILjz78CHiFRPHgPiEHXQJ+pXrZFyKeVbJR6IfXuzxFhKIo+M53vsMvf/nLvmXrMpawJj0D2SwQjsSAWD/qfewFqi1LlnWY++Bv+MIXTiHLFEgVtib5pPUbUg6pU4IC48PM1EceuaZERS5fOL5wkyiqEFkW22ufhCf3oTtDqTVeaTLv0Z66LZLToeBb1Q19oxHWBQDWB6UTweCV4HXow6ojEzARAsM2NSpOGpwuEV2hRNfHBeDjufV6iYfjrPsoPsM8a2rcHorZw0RDa81PfvITdtppp2e07QEG+POid+0rQj/SWhtIQvio1B1US3rLiwZjqZTQ9cIIGQfNPpDDDjuM/7r+Rey/7wEAlE5jrUYpj1JdrFF4D6I1VqC1QZvCL2edjXfm3ocf4tPHncnaaggZXY/bfnEr67eXsOdLX8rjixymPcINd/6IGTMsa+Ur2H7j7fnWtd8MNZGS41U7ECU92LyFUYbXvvaVfPrYIxlpbcZJp52Mr1bQ1g3PUgj03XwaT+oZjGfrc8D++3L5977LrLbibbMPo1Kj5KpF6HdFjBKWeN/F6FbDQZ1Sflkfai1kqGtI0+vVobWr5A+QdliwYAFz5szhO9/5Tt+B/bEHkNZp/j311FMxxrDjjjv+8UffhFYoJWjxeA9PLZ3gnHPO4e9P/jTedUMoBZBEKRcdlq1PIQpkpbooibHZiDDrqkC5KBSdgWicDkbDSPA8S21QCLkPnVILnQfCnfja6AFBUB9qaTAtwYCn/fdaMgWDV5lgsIMh1VQ6HLOttxn1e1XVMKThhvdxorGyIU2ErN7rP/nrb4hAJx1LpRSXXnopBx10EAcccMAz2v4ALywsWLCAj33sY3z7299+VvaXhsGFCxcyZ84cvv3tb8UPwh/vpFY/6q1D323jpcAoCQWdtECZmgeoqDjtH05hp5fuzv6v35+uC6zY0z91PCazPKVGKTzMUJ7KCcuyUdCeoeoJRrIW5dg0SqPpjC4F8YwuXwMlhu6Iw7mnGK4Wg22xvL0xXrXRy55gDV0w8dhDXH3tVbz50A/w6LKC71/1Pxx88PtYc0hTTSynZTNQBSIrKJVmXK2J1Z411VJ0CVW5ER2d88rZL2e33XdmhjXBo7VdAqMyhwYJaarj8ccfj7/v6r2untPylyTbtO222zJ79uxntK2gnxhmk5UTFi56iiuuuIx99927pqBDEDYIoZeehys0DIxKklmB5t0vs+WpMwWx8a3oQPoxvaAs0OvXB7qvX1/ab5/HPUnKK4mdpFRrrzaMUB+moIrELBvXddFY9kJS8cKup4vNkHezVKbp6a9elGXJbbfdttrUQwYY4M+FyZGyJMeaRPC0VqHe0ui697D3gvYq8CgMGGXxUqJNBqheNxUBowLx0PvQL7QV2fof++xnApFRD4VRJ97PXR8IjQaP6xYY2w6esQpRPRvlBUsJKSP8BIhjTA1htSET0L6CiSe4cZdb+Ow/fIWCFlfddA2/vOPnfGrO8Rhl8C4I0n/lnHM4/MiPEON2GD8WI2XhuJwJVbUuCkcQYn8oyYjp3imNpK/rfYhcro7WaU08q6efDnzyRTsyMvKMNQ+Dux68N2tBacH52CTXZMG1V1LnMAMDt9EuqaZyh+UUgfATFojbFoVomUT9VqQ+gkpCoXIIqTZ+JIkvlevpWoqum+IqSVpcIKJrCUGHx6TlUGG5pBHZo++SPFGPkKH6zit53EaiSksQIQu1uaRpRDjvZ4Ik/tyU38qyrE/XcoABng9IUnJA3yQ3RNF6r42pC9VwThDxWGt6q8VZslaBulSVIfWBgHNVkCE0oZdMMtI+rtyyJBIIJm9H0QRNlia8GopSyDIVPEQ9BAoycT3/0Ankbf77rvtBjVIA2pTs/5qXc/zRR4JTZLpdn2Pojuax1uPFxNIdF4+/DBySVHKHDUZYhciwTKbzTjGk39Nai9a6zwY1x6w/Fc/6PGLyQWsdJKue8ewgel7OOYxRaOVCA+womBBaB1UNDerYaohJOgYqNTOKBZ0qXpbR/gXdSl87cL3mR4HMZNCBfNToeKtUSsiHvn7EgmgF9NoqpJ+iim2aQrhW0di9UhhJOVvq7aN6lCaFhrqxeGOR2uWWfqqSBE2xSfSlPxrJ60y/bfgdTJ0vHWCAqY00ke31rlQq6KOJhOs5y8L96GMZmquqcN0rFY2qxSOIuMBJEEemDF4E8Qqbt7DW4p3DmkiAjKQjlcpLJFbaxcIShcWLD16gOMSrQLBUkGWKoqjIrcW5YJNzFUKvwa00oFr12JgrKCKT2KocbRRJTMHH/RoVjkvrqNqrNF4qtArNkB0lzgm5Hg4iOD7Ye10nT6cmkt1pitU326s9Uzxrge3Jid3kXicv5hlvP/LOkzentcI7F64lgV63hmBsegbU9x6TxZcjtbtvniWRctuwwJpegLTeZvo8FXfHKaqO3q1Pm1qJ8RZMoEI3vOTgRdcdIZqIltbER2qp9ofMDXu29ZlfBun3TGgysAcY4PmC5I32omfBwGSZwblEVolGtFFBkD7DC1qFu9woxURnIrzWCi/CshVL0TYYMO8chVdUcYwpqxKtwce0kIoDfDKsKAnzekXd9s1YVeeARAWvUiugG0sBVQYmC/XyQKYsRg0RuqWqwGtQxF6m8WRESP1XvfdoFUv/MGg0mWl0q1Ep1Du1MZlgNPn5M8Wz5pFOHlAT2QhWz4wgbd5oE6tCVd2xvmd8mkYSwNfrTTZQggqeJdQdVwJsf7iHcAHXJdw1u6DsLSG2fl8RRReoCOJ/9OVilQr7nmwJm7nVfoJU3KeL+zX9QhSKVc2WJrF0V4Ota/6GaWKUBqTV8fsOMMCfE82KAhHBRcOTRGJCHrR3oxhrqcoSm5v6My9xeXF4H8Tlh9pDEL0f5xzDw21CWilG5pShIAzEmc0QX2EaaSpUFXbuVayFC2kkowI73lhL4YsgHIMJkWIH5BYkJJJCr+80fvS16Kb0XRKFIdAwPE6iWpxSYb9a1fXvOo6rlSvJsixwSkRQk/vNTUGk/Gji5oRceO/1M8FzVv6SDj6F/p7p7EAphfMhvqEQXMpHEJkBKUcoEsKZmBjc79Sh1UplVNGq5HQAjUg73Cjx8CoT8oq6iiERrXAq+pqSvDxBlAv78xnE+wAJ6yo8okIYSFOhpArLKSgVQd1TBZleKyGHqnX0VKVAK0UV23prcSiva+sp8Wm6LHSYU4RcrgoZXSXSKzWtr59n/v03n/cNSu739E0cYIDnGE2PZWJigiVLllCWZQilxkHXGENVdqPSWAj/GquonCAmR3lBu4LMaErtqJxDicWYjLKq6HQ6LFy4kEULF2JRFF7oqAxtDUY8ylVoCWNkJfGYXIExBi2WblmistAv1RdxopoZOmWnTt2YKiPTJqilaYXXYVKgJcZ7dej6gg/bQVVUVUVmNZVzVCiyLENXPmif2zworGlBGxAXYrlZKxjyouzQbrdx1SQK8xRDKs976qmnmJiYqN9bXRGzZ9WQNmPUCasiIP3J2zcmMmgVuVdoJ1Q6+HK5UqENEg5UiypOw2zVBVOBXoMKxTIgA9p0CEon0ZDGaaMz4CnIpQSX41s5XYLBy1SQF7SZxD5+CpwPbYhiNHjIlyAKjQkdFHBh1ukVmIxOrFgtgSEF0wAqhZJw0eOWo7Kciixo7ePjPjLStZyyNb0QTSJFxcCvktrSKhUJT6spvzGZDbc6L9YBBvhzwXvqXpWPPvoox3z0aJxz9eQ/paBS7j+Ve3nvMTanFIU1GjUxznDb0nU9lSQI98X999/LLdOHuerqKzBeU1Qe1Rqico5MESoOqioYyrhfERc0ezGTUkE9oyW1NvDK9eBGdMjX6hih8wZEo7Wuz9e7EqMEUYoqvq99KPMTMX317UpsJEmGdFhNBZniet/J7pRlyZIlS/pypqtlfJI/APPnz5d3vetdfe957/+QVVfC5PVOPfVUueaaa/6kbfVtNz6q+HfRvPnyvnceLKWIlCIiUohU4zLnb94lwyCwlnzlrEtE3FI575TjpaURdEvefuznZLGIHHPUwXLyxw4RBXLdVf8lu2y+k0y3bbntgdvlqXKx7LzlZtLCyq77vk0ecyITItKt0sGUItW4LJn3oGy57kyxIAxvKP9373y57Rc/lbZBFEMyc8b6smz5Ilnw2H2y5TrrSo6WQ445Sm6679fyjqOPlqUi8t73HC43XvM/snD+k/Ked7xZZMm9suMW0wSj5dWvO1DGxpbLnb+6R/Z96xGi19pBHltSSCkiVTkRztn3vpdKXPg2fCninIjr/85WB/5cv+8ALyzMnz9fDj744Gd9vwsXLpSDDz5YyrLse9851/fae19f64UPY0ynknBfFd1wj5VF3431pS+dJldfe4WIlCLO992baZvNv388nHhx4qWUKj4XJyJexEkV7/+4Lxce4qVeJo0HRel65xwPxUspPo6kzXPyaT/PEzz++OPy3ve+V7z39W/6p3/fPUztacQfgQaZOUgnKItTFiuxJZl0cFWXMpvBfXfNwz3xBI/c+TPolLzn/R+gU3XojI3T7oJfAd2lmjfOfjtLH3qSE476CP/9syu5+N+/wn/fch3XXnsDX/zav/CklHzu7NM575+/TQEoI3jXAQktktrDLe6beydlNcb3vvcdfjvvMbojM3nHYYfg/WN898LPc8stt/Dz2+/lwq9fQrdwnHv66WyyxnTyJ5fgF3fYeptdue2eR/nNwicYWnsGN/7vjZx73heR8nHO+uJJnHnRN3lcj8AGG/HQE3cwMj0QC4wxIJ6i7NT6n32hl5XoygMM8MKFlyQFGkK21sZcpwsyeDWTNubVUArnoXISG02EptpAIEGIhkTKiTfg8uXL6xByWcYG30LdGztxLkVUzTOQPzTllcTC0fhmoFHCZ4mGWLP5VZ2HSslRUkFCZmNtvda4xiJ9PZ6bZQGTFOKmKlKKqdvt1twN59zqiYY+4y1MITSJNU6FUGa4wALjTecZrWlrsebaG6AzsK4DwG/nL8TqNiPTRrj/7jvIgTVGNmSH7fZAa8vb3/FmhqbDtltvRNWZ4OGHfsvr9p3NiF2X1++yM3fccVu8tlwgJCgHUtJqZ3zkyCOxdoS3v/EARHuWT3TYYaftgSdp62UMjQzzqte+jjnHn0grz9jvdQcyffpM1h8d5sbLvsduu2wLFm67Zy5b7/RX3HP3XN7wuiMY0euwy0tfzv333w9Ws93Ldibc8oEtGGpghSxv45h0mffkjZ4Hl/8AA/z5EWkUdejWVRUoFYRcoiqaqyqUksjt8CijUJFkZDVUZRHVXnR4AFUZWLHiPaOjo5HLoMny0N2z2XzKGNUof4nkxAbXYNUPakOdsjnhpWoSIMKySC32Es4j1a+73kEo+qootI7GPBE34z57b4Xa+Kc/vqnzSOV4WZb1lcGsDvxFGVJIxtQH8YWUCxQN3uHEI9ow1i1C8jyDhU8s5F9/8AM60uHuRx5gg01n4jVoO51STWMsA5eHG6nVKcnsCJtu+iKu/+E1VOVCnhxfzMWnfymyb6Mpdw7KZXznovM5+hOfZZkI/+/0z6P1GGtYw7D3IF2EgvGixA5l/PhXtzMuJQe++xAeXriUjWetzzVXXsI2m7exdin/+oPreMWr3sxLXvQy/vPKSxhzK/C+4OKz/pGhiScY0SVCYgHH3GitzrKKH3rgkQ4wQA3ngthAq9WiLMtQ2lKVwdJ5h5QFxvY8GGM0zifbIhg8rSy0YHPaUFQuGNgsiC2gg8ZuUfTqqsX7ZG9rqGiwVE3kDzlMReQaRE9SpX/Je4j3s4oVBCYtbwAT1JSUNMv+0o5T6V+FSIFXZV1246sgjRgMbiiHSbXtSsX5AiqU6kUuxFR9JG80NT1J71lrV4sx/YszpIiOdaKxQW8ST9BtxFucc7RHc1CO8apgrbXX4bfzHiPL2rznPQczbSRjotOhU5X4zDJWTQQ1wEpjGEFXlgNf9waOOuIwWrrNmtkI37rwotisTeEqF7p922F23v3VbLf9rowMTcOVJQ/eew+q2yHXGTiL6CGUybn0yuvIhlpYk/OL225ni003YPbsA7j2h9ez9rqjvPqVL+M/r72GzWaty2tnv5mPHvNJWmYUa3LOP/tMRrUwXI4zjUCUKquSQPvNKUupb576x07FtgN/dIABwgTUBFJiWTpEXDCgJsYwlUbZIFBgjAoT8lhf6iAIE7gCELre0wV0ZoKRVKFcRVAobWnnQ9ErdcEuQfQC0/MgRQjUKkp/UPlYMqQS7Wpdg17F+vOgfV1PqmvvMlpfcaHahYyJEMDDmHBuwZuNfVr7QrpBlNT3vzUlYW0Y+51zfU01Vtv2V9uWnnP0pPeQUDqiqRDVDaohbohMw5mnfz6INxjLGReeD67g6xd8kwsuuAQhw0m4f04/5+9BQ1uty0knfQ7EsekOe3HETvsCcPfdvwbtUEqQqkSVFTgweU7lANtii5e9iq4rcJHRm4zZy3feHlyH1xz0tzg9SiHQqbqk9qtGYMYOL+O3S8MMcac1t2DiyXuoKsC0+K/7HginikJphYhl6613qtfXUdMTILchl/N014zG4/8C51MDDPCnwDlHnudIVQVDqKOii8Sa7VhGoY2mrEIXJqsJ9XG+AD2CA1IVuZYqeK8EI93zSINFcl6hjarbRKJAGd1g7xJVhtLHqb4UVj0R7kmPNhHtZm8CrQSlonKaeKg6YNsUYROIr1C+AJ2B0pTUwoD0CbjULvXUHkPS95nn+UpSpkne9Jlgap290Dfj6X/pVzHtmXwh6b6ZWVMZKNZJx9eCl6T8YUEMWnSIgrhYCm1SPWaUz1MthFgTWjRmkziWPLGILTfahKGhjMwYWu0RsqH1ueOeBWigrUJ5jJawPecE1CioUcqiS6ZoGNEqkJVEAQalhwFNBgzZeCLagDYxf2JQomgZ0F3QSUFK2/oiT3XkvZBO/8+u8YMo7wAvWCiCkdHEnKD3KJvuHw9VxQcP/RCZbmF1i5bNOP+cM5h7zx187fyLgvFhiO9feiUfPvzI2IcpblulblNgjMVmWfA6xYUaUe1QrllL30XosHDJkxTA44vHKUqCsROPEHoc13rhPe1SUBpXl7NBaPtYxoenKjzj4xXdbvikHk5FgTbc/tOfcN75l4Tx0jtQwjVXXcW1N9zY+LImjx3PD6SQblmWVFXV161qdTTVmELfg+/9ibMmjydUfjYumsbnQTYvQderVwpMpsMNge3VOAUNA7RNAgeAzsMH0TImScGw7QqDD2oeUHcL0rkJER8MSMbM9Tbk/sfnMeGF0guunMBPLOBl26wfBRVCdxavwCVCUjzYVt6KxjqdQbyBjWOyWEjvDKMxVKEmLE0edB7rNqMEok4x3YZAQ8+QhodqyAoOMMBzhWaeqtmdY3XIhza335SybD7XKuQDmwNsSASWiNKss9amPLFggqpy+KrL4R95L1n1FKVXjAH/e/c8frNgjAu/ei5DQFb1OhlHPQPwnlKEKsVftYNqLHAqXCQIsYJf3HkL377sP1gG/N3nz2bZCsAHAmMh0CWMI1CGmHAVpF3GgTFgHCINuRtfLQcmMBo+edJpPDmuEKWpqKK0YRgdXrrrLhz+ofeFsU40FIpSGapIR67HkHpcqVA0O049P5AM5+rsSjX1RtBJv0jvR0q0NOIr3eeP+ip8UEm4HFOxdMgH2th9JW2sqX/bSBlOOozGnK1BdE2avI0jVBpRurcPGh6x1EvVhr9euxHuXWme1zjO9Hk/SWDS8z+GPDQgGg0wxdDU4G4asz7D9gy3X5ZlLVu5ePFizjjjDObPn18vY4xCXNSWlaBe5L1HWU1VdLCJwCehh6ehi9aaBU/CJd/9Pocf+bd1fjIzGuJYlGQGtVKYzOBRFBJYweWCx9h+3bUYsjkjec4Dd9/FV84+lxOOOppzLvwuF513Ae98y9upli5gt5fMom2H2X/fN9EtK26789eceNIXWHezrXnlvvtw2WVXMN1M56gPHAviOPGYozn+7z6FGlqP884+g7n33sU5Z3yFt7313XQL0Ogotu/BF9x126380/nnYYHtt9mBoeERLrz4QoIacEAonSGMgXVpzNQzI882psQ30DQ4xBIsF81HkkvuE4InJPklkorAo02U8dKpY0Noz4Zz9AR1GxBD8P5WfUxGdOSn9cxcT/y+Z0iDEdbRq4xecnObDcMaROXDNqUxjVOTttkMbdf2P35HfaHuAVlogL8gNPNWQ0NDFEUImq4OUoiIkGUZRVEgIqy11lpcfPHF7LHHHsyZcwyP/vZBhBKlFJmOHVPI0bqFL8bpjD3GeuuNoLJ1GZm2PsVYh9KA706w/557sdlGG2CAysWSEKlQKKSiUZbiKKsJwGNVDqLJhob51cP3MVE8ydXfu4THHnmKI486mU+ddT6HffBdHP2RD3D1dy7iv2+5mrPP+jzSXchX//EznP/1i1iuRrn8Z/fz40fm8toD9+WJR+9FnlzKUz+7A5YsZvHYcnbf9208OeGZ+9CjrL/eTI456iNc+f1vM5pTjyf4DugVDOtxctfhe5ddyT98/V9YKMKr9nwZmVuCScY0DUgCNLXFX+CYQmSjqHWpJolgpR8stgbr0cIbiXegLDtkeTuw1hQ48XS6XTD9pyg0Z1ApTBqeC7rfrkqvHqwf9VSsPtZekKB3HkHs3tfnoCS0KZK++csqjKGKyydjWQvh9++jfm+qU+YGGOAPQJJsS1J8RVEwf/781SIzmYx08kiLouAzn/kMhx9+OGed9RWuuPIy3vrWt/K+dx9Ktyr7JtjKaLLWEIsWPcHQjDViGGkRSuDvP/sZ7p87n89+/BP85p5X8KJtNmYMw5AC7Xyv8YUCpQRrVNTBtYgrUNNn8LH3vZtL/vVqSuDS666ikBajw2vRBtrGoRnnoQfu4dgTzsRzGA5452Ef5GWvPYDZb38vSsHMGWvwpj32gAr23mVXyokxRqdP46/22BOPYpPNtufxhSsw2mOo8JXtDY1aoOqiVYmI47cLHmerbV+OF9hsi83J83ySvzGYwE/GlDCkonqGwkevrtkSLCxkUcrHzi7BGAZDq0F5sjzHuRJFhgPa7Zy1112HZOL67Y0GevVcPm2r3ldzOSaFhHtGdGXvUPftJyX963XjCisPCb1+hE4l+nrKg/aHkut8r9K1xzrAAH8JSGIIxhhmzJjB1ltvzTHHHEOe5884V9rUxoVQL9rpdGIdITzy8GOccfrZPDD3YTITI1WqJOhtZ5jRjRh3bYYAfAnVONbDyV84hRkz4ILTT+U1e72Kc27+ITOmDaOAYQhlMUqBzQBNVilaZIEFa3POP/MsPnHypzn9kgs577QvUWTCyMgQxVMTWAcT1Ri0HLNmzeKGay5k1/3fCaqNcyU/u28eQzrWRY57dNeBOHwWSv/ETbDwoV+x9Va7cs/9T/Lud21NJR7nx9F2FOeL2PfYgdYUoinaQ2yw3kYsffQBpm+5Lnc/8DA77LgdYMMQF0lNqDR+pt9lSpiS5wxT5uyb4dDEYF21p5Xyhv3eY1WW2CwL+u06yEAtenxhb/ur2lRMfMYMRsPo0XR7f6fB6ifxrIxkaOv85tNtTNJkKkFzAAAgAElEQVS+fFQn0vFUozHtmwVO2s7Amg7wPEezBMF7T57nnHrqqatNWLzZ2g9CqPeiiy7i8ssvZ80112TTTV/EF77wOXb/q1dw1BGH48sJdB55GCqnqiSoEYmAKaCyKGnTarXCDixcfMHXeMvB7+bfr/xBuD1NP/thYmIikICUQrzDK2HPffZls5fsTgZ8/tSPc/f99/H67V/OaV/4LLtvvy0bb7I+b37b27nq0kt4xStewc/v+SAOOP+8r7DzHnujx5cyCgxpiygDuaMwPlQhVIZPnHgi1191C18+89tMmwEbzVqfd7zrIK666nLarXYYeEsNMkRlp9MpNAe+fjZ7bb0tcx+4h/3f9dfsvMtu4XxW+gnSIDQI704JQyrKN0Kkq467p24DZjI1RwVauLVR1zLaHxOzkc5LXx/BOtyqAoV8Mu9GiD1K4zHUhm0VF0u6hILRTyHdKvqm4asNVZpCPwXXI0rH7fZvr9l3VCX3VqDu46bqTYRz0fHF4GIe4HkMrXVNBkoGNRm91aKF2sizJsN88skns+2223LKKacwe/ZsAObNmxe6reQZlXcYPQJOOONLnwMEsoqyErJ8A7bYaSM+tIOQA2SOzXbanp9c9oOwP2CirGhnNlYPwOjwUGzqXZHrUJW5zXY7MyYdkAKUpiDDk7N4wa+RCmbvtSMfn3MM6JJb7340HEOsFhCBnXfaDg8c/pEPx3aMmo+fdRp0PdP8Wlxw0dmsMXMGw4TB/mPHfYjjjzsEHevt8QqyUUSN8uId1+O4HV+NBX59z53gS5wJ5XaeCpTGpPXiBF9CZenzjrm7ujGFRt+UD6TffZzkSq7EEOsLw2rEh7opa3Wc5TaMaN9qk8g90v8yWVi/EqmnYXqlZ/gaRVnRcKZAcKNKM7HdVoV4DM3s7eSi6pXQO4wBBnjeI8uyPq80YXVIuDW3kVjAl156Kbfffjuve93rEKBbFrWH6RG0tlH7NuZbrMPj0LZNigoNWYXCIUaBOHKBvAqRzzyzFCKIDiz80lWUJPaRB3EonQMtQiC4hcHifBeNJ7dEr0CDaSG0qKfecRiy4sljHapTFm8kLC8GnQ2RmzaaVLlXYHAsWLCAzTbekJZuo20LpYdpjW7IL3/12zCKptICnWHI0NKYvffh+aFq9GxgJY80XXCpmW1SyW92I2gm/8sydkr/PUjKEqk2rEkswAuGeIFrAWVit/l0UMGAVs4T62oRBCTUTIYu7vGEoodWugplszon6SXyhpLxkTLQ0r2p3/M+3EBGK0R5nHcYpfDiEVKXABu/gyBibWL4pmbY1iHagp4WSDw4qTBKwEskHhGbgrtw8arU9hu8OKwYAsWqF8pNRKX+SfoUmg8NMMBqQNODXB0eaXMbqTh/t912qz8TPHlmKSuPUqaf7aAgtWhR2D5GRZj/RoWgRnip1wimMZHXNty/SiFUqLSUEKsIQKuKYZ1IlJpa3UHSPa8QpOch4qLiSoqgacSAmgYnf+UUqsjPsBBKepRmw/U35cF58+JRDgVGsQqVEBCH0wZJUwFmVeI3DIxowkoj8NMx5CY34K6qqqaUA79Xed9aW7cOaoZsWq1WZOkFdf4Qqu2iJP5wqXWJgDUWH9/QCD5qJvYsLiTPNk2q0mRKK3BlFVolQagVQwetyVTrqROrVijFoXQwokYFpl+3W9alNYjD2BhmloZhUwZfligE7yqcC/6oi+HcKgpY9/QlYpcadCislvDaKBW913SFr1xtWv82q3x3gAEG+FMgTdES1Stxk8kEyJVuPN9PDnwaYmGc2tfL9NiJvXiXqqfUjf1Myu702D+J5UFdx1CoIExjqbBB7SF8KpagyG3q9VBBljTrvdOridf0nc9krzSV/b3Q8bQ50maCP7WgSUjd25vKI7+v1quqqj4DnbzRsiyxWQsxJrD2VAFliWppxOtQ7iJACSoDUQqkQjkw2tJ14C3kxFlg9Ny86g+NSukxma27yVelx9pW3T4pGNdIkzeGTBkcLpB+4nZzm1F6IdMaKTtBRsxHbzTWiikLOstAVFjO9+hRIUrTCt62Dl6yRsW8MJENB54SwdFSeSAX9w6BYHr1pDt0kCMdYIBngh5vL9ytrr6fqkBslKaZSjXtPQPWY+5PHlKbxXwa7aPYgypCeikx+2vyYNhHfa+ner+Gg4xS6JibdNBLHsXPTXNs8PE8dBynJL3Xqo8/MZSD5xmqHlw6LipCnEz1jzmRE2IYVA/ApNH36XIR3nu8932q+Un4N4V+fx/OP/985syZUyuJpPWCp9cNP6JR4Ds8fP+vUDpH22GUnc66a76I7tIJjv/osSxbsQyngErYfefdefCheb2TEAjm1GK87gkoKI/KwgUprgBfYU0rGKmY51S6wlFhtAlGsehiJQRFBAuuREmF1ooKUDb4mfOfWEylYM7RJzK+bDweiEK8RUqNUh4jJQZPKUHysAiLBGPqqnBRlsInj57D+NgyPA6DUHnHUUecSGybio8ZW0nnOoirDDDAnxW1kazvt8jyi45lzZioa85/l3fma/6F0NPgBaLXF8eChjFOxrb/iGJNujQH8CquH/KvoeFZXD6Wyvm4bxKZss/hDesrGlUTeFIP0+CRW/pMxtOW873w8LSGtOmNpuehG0HPoE72Sn8X9tlnH771rW/xyle+kjlz5vDYY4/V67ZbLYwA3oFfwVgxwSlfvZhFfpxKlrJo4UO0R4ZYw7QYm1hBF8tHP30Kl9/0v2y+6Ubk8aIKBxVCF8ZbrAS1XoerG+Bq7WJOJF6zAmiHp0NBEZo8eELHBR9FogVQQbeyl1zvcu8dP+efv3cppYEzzvoiI9OGg5KS2GhsAd+FagVGPJnSTAAdFfKxeE+mbZRpUpxyxhmMtIewKByOFd0xUCN992agO0y6sVciRA0wwAB/DJrz0mRMgkHRqKSAFkkQSepTCONOGnuCsXEENdyK3iATolFeeUQX8R42+NgEI7h0QSS+v9wu8CPqUbn2gnXPiDUJj0AtAON8o+4zfJSGO6lDts0TT5OACRQlRpJWsMJhcPEcQnctHc4v1tkOxp6niQc2DaqIkOc5y5Yt44orruDmm2/mhhtu4IYbbuCmm27iqquu4kc/+hHXXXfd73zMnTuXl7/85Tz44IOceeaZ7LnnnhxxxBEAuLIIP2bVAWvIWhbROTGiGyZo5Th0xxhtTeOc8y/iHYd9hKG1M7KcmE+dxMLtK6MJHifGc+0PrqKlc95/6PEcdcTf01kyzglzjuGJiSco6XL0UZ9AVsDNl17NiM3J1DRuvv5/wAtf/fKXaOmcofYoD959J188/TQ+ccIJXH7jbXz8+L+js3gZ994xF6uHadnp/Nf1/w1FwZy//QBWZ7Rszlcv+Pcwp9QQ9MOo7+BPHzOHsbExLrvqMtrD09hv9v4sWzpOGVod9jugg2ngAAM860j3YI9AyO+4MScZGNWrge9n31Z9205eqorbqreoni4QlXKfseGF9uGhfJ9hTl4mMEl7HISMWMhDz7MN5CpFv675IBK2MvoC+qvyQpVSjIyM8L73vY+77rqrZtx2Oh3a7TbOuZqB+7vQZP5mWcaiRYu4/vrrOeyww+K+XKLc0p0o+NSRh/OpI48Hupx1xikcfehbyVnBVf96BSd98hRuf+yDLAdGAOOrel1c+OuUwisNZGi6iF+K8jnX/PDHjC0X7r33ET561EeC/FXWYlwKRrDooovqwDVX3czYspCB/+SJJ/Ly7TZk7iOP0e2sIM81+CUce8KJbLb3e3jVPrtw62XfpPQlH/jgJ1gyb5zRUXjjXruxxzWX44ancduDt7Hpi3bkhMNPwSwDaRPCzQkusJfHVnS55pofsnx8AYsfH+PjHz6b1nDIWaRZo8LTL1349ESkAQYY4PejL/1Hv61o3m8q+qu6uaLyIInnG1JBKhqxwIQNZtd6sDHlpOp1Q37JRfKPqS1W4EH0Qr9l3J0Jnm8f56mXR62S0VMlGgkKcfXJBH5FkGENhtZEEpWLRCrjM4K3SU1CStzI/vBlNB1PV873AkNtSJ9OPSQxa9/xjnespDLSLGP5fRT1JUuWcMYZZ7DWWmsxa9YsPvvZz/KGN7yBU045JZa8EMKi2mBNxhfPPY/3H/YeFDADYHwhS1csZ+byDrfceDOfPv7jXHj2aaERt7W9cEidlI9lIymnoBVPLFrAzOlrYluw1dabsv0O26JNyNEak1FQgjU8+dRSfnDlVZz7zQsQIDeKwz/0Lvbdd1+GWy08cNON32dk3Q0pioIWYaKweNEiDnzdQYzOAEr4m/ceysMPz2dk2kzWXG9tKgpypxlpJCK897E7hKKlLSuWPMWG66+Dpc3a601nxvrrMOao54oGnQJFDIznAAP8+VGPLSnS1Wfg0t/J92OzmryxWLTSmn4ypJ58LzdIjj0r7yPDn759rYrsk7pjKRL5yPexfjU+ZkBXFZiNBazRWif98lWPOQOyETS+laYhXBV5aFUqI3+M8sjFF1/MzJkz+cY3vsHPf/5z3vCGNwDUpCWUAm3BW5RuM+EUBaFM2QpgR7BrrMPbD/0bdtl5Ew7Zaxf+42tnIApWxBmVT9l/DRZBeRcvlBYwxNprbsCKJfORAp5YtoJFy5fh/ASZduQ+46mnxnhs2VKy9aZz4NsPYsXS5YyNL+epsWVsuvWWzH7TbConLHriSW685X8RZRgSaAnkjLL2Guvyn9d8n/LJcM5f+5er2HSTLZHxgswpcm+woQ4bZ6BAo7QO09ZCkYlivRk5Cx97iALLI4uW8djEUiayXqmsoXczonydM5VBnmKAAZ4BelGd1B84PBolL6qxXCMsWovBpHUa+Usd/3kUznuqGHbVOlUZWPCB4Khcz4utgDJZPiGUJpBF39ajvEe55O+GHXsXTKD1kIslwyB4ylgF4JO+eORLpe5WzkvouyyuR0iShpfrJfY/1XiXZhASzfDAiMKzKBF4yCGHMGfOHIC6tjT1CLTWIr5CaQVdRSU57VZOi0bkoBR83kJ0iapy3vTmAzni/YeywVY7s9ferwWIDbkDmcjHFU0dlWkBBR/8yPvJRw27774Ps2bNQhnYe5992GDGJuz0it3ZYpMdsNNgr31fQ2t6G8uajA5ZHpx7C6945a7c9eBidD7M7XfeyrSZa/Glz76bnTbbik6nYHTGdM499x9Za5NhxmlxwzU3YEeGGWpPw7gWORbxS+qwTCUVmcrDHTUC41pBpjnowAOZ3hrlpXvsw7rrbkNmJuU4lNSzxXBbeQY9AQcY4FnA77AazVxm7f1FY6RQaJvFFFivcbkrKkyeB0aj1rjerU2tJi6AVngveB3bdUT6r5ekzQ3agCvBWI0rQVsVu2U5HIJRmrJbkWUWRIW0nAWjFarHXApRsjgZKJXGG4WKZtcYFfkaDqUsqSz+hW5NnzVDuuaaa9bPm/lXYwyIoLSEqVV7BtvtvCuzdtoVATId8t5qaJQvfPnL8YgrkBbnffM7dJWtWXZhm0ELqDIeMYKKgg5eecgyXrzzTpSughWKT37sBLw27HfQQUyMj2FNGy8hp3DQmw6kW3V6EWLX5Y6580BlVF6wWiFoFjx6H0bBG/beDQQ2321rllVLwAiVC8GVk7/4RUoTCEZfOf9TYJcAQwwpA2UHsjbLBT751dPQlMw+4I24TgctrdR4Nc4Oq8gK7IWXFLqXsXmBX8wDDPCc4uloIjVDSdBK4T0o7fEimFYcgrXCOSALHrEWCbWrsaDTOwGrUChKr0KqR6IBpQIcRVHS6Rha7SEeeOBhbv7RjRx++N+SmSwqtZVkLYMQumRpbfA+Vd9pjAq0IuVLkA733/lrLvu/X3HYkR8iVJ56rrv8P5g2NMyee7+OVMI3wLOcZEuEpLIsa2NqjMGl8hllQFmchyEVwroGqHlMVuOqEsSH8hGdkStFRvTYGiFmn1ZK1G+TIWgKqjCFUuB8N8y+yGiZNhZNpgJvSUXhD2ehKxXYFkHuL0gIgkaqwHPThAMV5UMc2jiELsbEII0Bq4j12iVf/uJJWNWmpTNa+RBKKw4//uNMACUaRR4UyaqY14j1rqGqzPcHcVed5BhggAGebaxqIttgx1aVJ8vboX5eCPKBUoEvgApjK3QM6JbKUGpVcym0qtC+CqIvGjAVocwGKtGhArTV5uTPf5HFyys232YWRxz1t2jvwJf4qsDoYERLSrqEenZJUWoFEvzSuO0OW+64DUce+SEqoqPihUoJYjSYIDYDnrLs/jm/1ecFnlVDmgxdlmW1slEKcQgGr0LTW6Ooa56ROOuJF6kzFlEWbQx4wbuQfu+rgSXkCfCuVxAmwXMbJg+NdUfgtAu+Qj40gqoUymt8FbblXWjs61XIMBiTJP4MHh0elQQxa8KxFqXDG40oiyPD0caRIyZMDKRO2A9z3In/QFV1KTolReWQSrjwrNPICQ638z7EaVLaJk/nr+ISk+7YgSc6wADPKWqmr+p/CCGo5AAxmuUTHeoizqKE8XH+apst2Wg04/TPn8CNP7ycn935Sz73T//CU8Cl113HTdf+O6xYyKu22oS2Ubxmvz0pWcLiFY+x/gabktvpfOCYj3Hrr+7hzC+fx5ve+l5+dsdczjrva6CXc8Shb2E0H2KfvV/NivIpfnHPL2m3h2nna9GesSkLFwdGcOWhSKEu6fLor3/KuV89Aw28bKuXsoZZgwsu/i5LRYce0tohVGTZ7xOi+MvHs2pIU/lLWZZ1yyQfjUbQ8smiJJagFVSlC0ayKhBcTBVkTCSNXXHBO0w5+T5j6tFKBZ3MlLOoNNItUQoqytCJQaL4gsScRCTx1EohKaGewtEELnhozZbcQUeWheBytxLAhvorCUZXW2o5YC8Z0AaVg411XwhWQhY3R5HrkMOo4yb1TZnoRo33de/zAQYYYCogsOqbBMDKQZ63yU0erWtopn3TDddyxhmnMG/h3cx74E60d9jWKNKaSQF0pEM+JNx63X/w1bNPwxXLOOOMMzj3wvO57qabuOTib+Kr5Zx91jlsu/32fHjOcVx12XcxRiHGce3Vl7P77rsxUS3l48cexTe/+U26YnnLR45lQbGY73732/zi57dGydU4vqHAaDrdCfJMc83VV3PW2efRqcbYc69XYwg6wEoFrovz7mm+hxcOnjOPNM/zOsRbVRUKhfMxIakEcZ7MGhCHsqHjikfjgNzmMbSro0QQ0atVIQwcGWlaT9L8UaCyXt9SjOBL11vAQFFWGJ0hPvCALRaNAR+MuvaNL00L3pegBO9KlEDLqmjuYr2YBG/UeYdSHqVyysr2PGxxQdQfh/UurhPd6JSfVclka5J4dmDrBllDUQN1kQEGeC6R7vVenrSnOGaAlgZVOspON4xZxoAV7n50Lhu9eENoC2970xto5cOMj3uSr1BIh64a4+5H72avAw5haGgNdt95N269/UHe9JZD+OSxRzKsFbP3ez2+gKGqolVBi4KiKPjN/CW8cr/XA2Ps8dJtWPDoYsTPYPsd9wwVh2MLmWZWYAgCgFXRjak0g83a+Iku8347n5lbbsmYgRfPWo81dAFVCRIcBq3rBNcLFs/a2dcstUjZTh1hlFLkWRsvkGmFS/KDhtpIiVShXhXptSfSkYrd124pPenpAdeaHCqUnaA0Ih6hCpHTvBdC9QJ5HrrUKB0p7c6hJeoJJ2Jbs/7LhJ4JxpiQepW4HyFqCYfljVF4qaiEmE+N+QmjezUtvkpbjV8aA09zgAGed+if1NZcIye02+0wZkX27qabbMKjjz4KSvOre+5jeQl5e5ThcgXTgEfmPkIpLTbdYkuu/eHXmegupag8F5x7AQrDz35xGxOl46/f8g4efWgeSIGTcbRxtNqGDTbYgBtvuAkk48c/+yXrrbdRiLz5cFQjQ4aiuyKMP6UwnLfChEBrKmWx+RAbbbQJjz36CN7Bww8/TBm96TA+GVzKrb6A8awZ0uSNNmtPU89T71wg4wAmS+FOj46JdhU7FxhUL+UJaJtktnpFz8nIFV4oqtTRIML2tmdRQVpQ9TrFpBroLEsNdA1aRT1Mr/sNWwy19tp4Q93nRadj8v1RV2UwqkTH43WxFisEhzXONjoykA48iu7TH8U1aAwWg0XJJDHpAQYY4FlFSiHJpIlv6tBSANIydKsyfhIKRg/c7wD+7ZJ/Y4bdhht/fhfjrRlstdVG/NuXTmJ9pbj15ttxfh32ef3BfPSjJzBkp9NSLS449+tcdfm16KEhVNbi53fezVZbbcTas2bylne/gWXlCkQq3jL71fzy/24lyzfmM2f+Cx8+4sNYlqBlCYpAV3J56EmKVfjKhXp+BYU1dMk5cL/9Ofn972cTO8zNN/+EMT0COsOJa7bReEHjWSt/+d3wk5RCVg5T1tdnNGZ1RcjTeGySiorTOgAayio0B1fxX+UEZdQqHD/9R1wfq0i2JzpcKoLGksSlNZ7Q2zDkWaWeJsS2SCqdVwoPhdmrqvVPGrJfzWMceK8DDDAF0BsP0jOtAjfEtnKcd0FtSBTkOWd+/Ruc+fUuV159Ex0MmYZf3ftLEE+ph0IFgR/jx3feB3YNytJis5DG8hIK4mKDKI477mhOPO5IOjheufPO4Mc475vf4qxLRnAKqnKMXbfbge22C+WFBx4wmxbUA6o2BlcVGDvC1tvvzubbv5Yc+MU9v4Sig4y2GY/FBNqYqJ40SCtNLTemYQiCZqXpt2UN4xE8s9SFYeXTUP1ilCFPWUJmNUgoZEYprFG19mWfHZpsRJsu4aS3o6/d935tyGPZinMlCo2SLOYWYpjYBz3L5FOmGy8UzngcqY1RMqaNXEzzMcAAAzxnSDlS1bgXe9GjcI/nCnQVWjWiAWsoxYHNQLWgqMiqMowktgU2q+mFYYTIEKXQuUoaDeBAVdD20AbaaLRXQTccBWoEVDsIxwGtbAS8ZQgYoaKF58l5j/KitWYyZBSZVth8GmpkA35x97xQr+oEbzowalACQw1ukSsqlNcv+Dn8FPFIIyJjtnct6t7bKy38+2ZBPcmv0P1Fh/CxgFIGFU9d0sWfPMBogFOIJu138uv6uTQ/D/1H6+NWyaC7XmP0BrFJq945IqmWq/8cJBrPlZBIw5MPaoABBpgCaEysBZQEZaFUWVBVgbVos2GggrLgwL9+B5UeqiUCtVIhFRW3QdairEq0VRhlYpMWj7Yh+lUVJViLVhbvI69EQGlTG3UNoUqiKjAqOBNrbrAJDy1cGJbQOaJhIi7rCyHLBBdzoSbSUpxzaGPIs6llQp4rTLlvIXmXatLrOowrvfeTyQrLJgulG+v1DClA6cAYHYWKSkyeN4yXTxuud+7p5Vd9/N/8QU5808jr/vd12kE4eu8diK7zvYrUB1DTPxloQE36O8AAAzyn6J9o6/5JrgJRivGqgxhBFFibAz50fRKgPQ3QGF9hRKOMp3IVyhgcYdwCT24tIHH4EJQNikVIC5NnIW4lHq0tTqpQKUCF1GpsgkLF/YMrPcbqIMIQI2hVATaHSjztLLAwjclwvnc+xgdWpVMG5yFTL+zhaOqEdlUg1dTlKk8bsvSNx9P/eCrRYgkbK6su1upeeYzNG6UzzRV7e/nd+H1C8Y3PRCP1nRauOB97qGqTBSNan2//+dUp0lV8F6HYOzb6HmCAAaYe4n0b7ndQxjQ+06AsmBY+prKURL6haKzJ8WWJwgURmJrRFMa1qgr9W7zuFS+UPmzA1fXvlqryWJ0k6j0KwfsK5yTo8nrBe6nzSlkWHIg8jlVp41oJropjjYbUHs5MHSvynGGKfQXRuDTeUSsZEN2wnquimTffU7UNymwg+3zs6ONYvGgpGBse4oKSEX2rrbTtet99+4LUPHdyrjQ1xE0fBNZyrAGVMBF1aEqBBY8vmrQf6f0/eaZQG9sBBhhgSqPB6TAKcq0ouxNA4EB0vUd00Kv3of8KaEtVpXo8TaY1WoJoPD4HsRCHK5sbCiFwL6hwZZdcqdiVUnAqjKZG56FPc2n5/+2deZAdxX3HP9098/bQroSE2JVAMpdBCBDiCBUqCGFuEisWR1wpEjuuVGyOcCQ4Di47SeUfwKgwTjCCIIwhtiupBENsXAKEDgNysE0FgwQLCCFYQIAQK+xdsdd7M9OdP7p7Zt7b5SikXaTd/lCrZfe96Xlvdl7/un/H94cptM2VyiA1VmPXG/jIlukoAzIT1BI7Ts0Mg0hRkZMGFJLM2N7Iykzu3SjscYZ0RFc+oOGPVIorlp9bJBzV/9YbOJuyo7n5X29i35nTIKthdAIohNPhtYZLAwmKKopq/mGwstD4baANsBvpikaTYteotf1yHeb9IQbIUqyCCBKtKtSQPN/1DP/z43vqroH9GBRx1saU+vKl8G2aAoHAJ0/dur/8uTWSae370D5lqu3YYjSRsuEp7zjTBuf2teqmeTzLe878ZjayBxS9jJUdL44x2rqwDBkSiclKHjfp/hGSTNvKgTxxBBv3RDjVNidJHscCQ4YSTufb75iRSOEig2bEbmfSsQfNwHYVZldXFFu8UZJ87M+lPoHlMZzVMsKlsxmbpWtI0Cbj76/+JoM7+llx4/W0qmaa2jrZsGm7W+T5nNkqmF4Y6uG4efMRspUvXnUVVWDLUy+wT9xGs5rNIyufgFqN25ZdR8esOdyy/HusWPYt5nVM5/bv3sTPVt6HkAKpIlY9/DhKwLr/fpApso3m9tk8tbmb7/7Lt/nqlVewZvVaazSRNmPZFO+7rvQHSi7rUbKNA4HAuGLz6ct+Ip2HqvInADv7hhgaTFFIYiFRaBQJykrO5zKigK2h9zJqKvKjkkn38RdVpExsPTwS6dtnKI0WNTe2tjY3j9dq5/aNULKJQmrUee7c+W1NKdaTpn39hF2wC0kuuZp72WSYgfYgQ/rxGXU9JLTtxuKQSKrerZKmvP7yZoaqffS9t53DjugEfBzDGWOdsP7BlVxx9dcYNoMcefa64ykAAA+VSURBVNRhPL+5i0svuYLeV/sZ/u02rv3Hfyb93U5e6u5m3f8+xpcv+wovb3mdX6xdz6WXXcLPV95PrTbIcJLywOpVbH9ngJu+cwvvbO3h1Vff4Cc/vo+rrrqSm29expnnnEliig+kyG/qsNoLBPZaXOgHPsyzNFp1naxbNEPDXOfcuuWfdSlJMR9LALIKMrHNN/yxuYG1EqPKaY4XOSMZSF/rYl9d3YLByHwRMdlnqQlhSD8akkqlGaTt2nLOOefQ1jSNFjWN9Y89m6v0GaRd9mXw2tZtLDzjTPqBb1zyJea0SU47ewnMAGK45Ivn8fJbPaRTZjD1gBkkEeiWmXTMPgL9+tusvece2iqtNEcxt664mWe3bOL4M85iSkcLB7Yrvv2NvyNTkrS9nZTiBs41+b1rOBjTQGCPpWwI3/cJwnrJjDDO84Q7Iqa+eCIFkRZG11sqh/IG0DQBTaVcDf+4RBI3jJs6Y5mQkVg1ojzzPwEyjNG5pc8y7GugBrheqNiSwfx8+f/U78UnK5PEkNrb3BirgBBFksVLz6d/uI83t7/FujWrUDZv3D0/BtnCAZ86iPWPriUGVq78KS8+/yIPrF5JdRBIM77/g7uYO/dgdCaRSlv5BNnEUFUjO/fj8xecx/B7O0l0Qn//Tk48+QTWPLKK93amoOFvr7iS2uAQtQHbz8/f21EEWWZsaY7TKA4EAnsu9ZGo+p2kcRn+WqZokeZmx+8MvVESFL/QOLvmQ1umtGM15QHcJF5ea5cfF7igZoQXFi1cuqVjtJ1nvJ6+azYKyFxPfGT8t166dDKzx9WRfnzq60itykgh1aWNQAgrIj9UHWTRvON5vvstTNt+/OrJp+yR0naXkVGMSJs5fckF/NdXLmXapV/m9087nbWr1/C9uw6kbZZAM4U1D62mta2d6RhUNSFuglgJokoFZJXTlpxLc9tUajQhZ+zPay9vYcWKbzF9v5hMNfHAmrXMn3MoX/js+Sw4fAGnnnmGrV2VVuQ+f01ZZt0ugUBgz6VsafKkSF+BbkNNRvgdXP0exorCpKWCeU0GRCJzYyk7n+XG1Zf/+XGsG8uIyM4hdcZWYps02uxhRTFbKtdBQ0qJTq3IgrW/wmp4u3OmfsfrT196HyNzVSYfE8KQiryms/wHrf/jShGhjeaGG65HRoL/27wZiEhVE5lPXNMZUkYkBpSagooy7rj7Tu64+4fUZEwGHLVgHonpZ1BPsfJZKVx7/TKyVkGC4IZl/+R8PU0sXnoB1fQLGBFRlfa2m3Pc0QylfQyrqSigdajGljffgjgmK73kNNWu7tVYVaTg3Q0E9lze5/NZH0M0RQISUNd2rcHwWvRIVTdDyYiV9GOEqQvCNsZjfTzUhq+KQQ3SCd3IvKGLzoZRUQpCkCYxxKOZ/jIf/OhkYIK9+1F89W4Fl6YgZWTbpmU1wHaZMcC77/Rw4KyZtMYxzSqiKWom3qeTJ7peBtkCSKIEWjTgeu+1yMRmxMVAS4whQiEwsYEIMipg2sBECA1N2q4J01Qg1VTnaAEqEUSqbj9tMq9kQuHWFQ1fgUBgL0M4F61mVKF3I50b1icLRQgX78zL+0ya18bYSryMNNdgK/ZFXq87l8X1BtzNH66Axgm6SDZueIbbblsBgIoy0Dt4+Gc/Ys0vfkmV0qG58femw59lcsdJJ8SO9EMxMo87KuWqo40AIYgEdHTM5LW333Rxc4mJY4aw90sNqEin7JcBIgajraauSKiZCCltJwbpVOhTnWFUk40duMQhIVKUMaAqGGPLtyTY+z/Teas4cDEKR5aVdHoDgcBeiW1YIZHGZ9OWknSMM575Alniy0gzCtF7+1BUyj9KUdTcYbYFY0nKO5+/NFAhA5GRYWUEfaTU75aPPu4YFiw8BkEKpuqyfDXDxjqNfWPJeuwII3bNk5AJtiO1GWbGQBRFpD791a3LbNxR2yCk8AkBVjILEYOMIYoRBlqN7abgb0ZTboSKr8HSKGnvcG8YrehHXFxY6Y4TEtetHKHtCsYu7mSusVWn6OS+ghENBPZWrMvT/ycyF+dEQpKASXivZysHd05lihJMixSvbtrE0xs30BS109w0k6bOT7O9b4C+t1/iwFltiMo0Pn/5P/DLrle47K+vRNT6uOpLF7L+4ZVs376NC//sInb2D3Hc4cfQLJo59ewL6c3g6Rc28rnzlzJ15mG82wc1DSBRSIzRPPlsF8tX3ALVnSyadzDTxBGsuOuHmMiK6Nskp2LXaUjdwj9C5L2rJi8T6t0LQEYCISBNU5RSTq2jkAq0GXXCGbYidT1PYC/FLfzFyVeAdVerOFI4V43P2BuR3SZKykulht/eRI7WBi4QCOyllGKYdWhhs2YzbdWJshqRSOjeuoWB9Hfcd++PeOW1blIZ8yeXXcG26g6+f/dd/ObJX7Hhicf4j3+/g95aH8tvvY5Pzemk97fvkNQ0hx+5kBe6NtKz7RVmzGhm7aOruGX5rVSTYZbdtJw7f3APVQ0zZ83inbdfYlq7Pb3OMjAQCds0Q5Px8P33svzWm+kzm1i86BSG05SUXPvIGdOiI1U5zDuZmTAzeJomgPRqWjkjd3QuFVz4eMQobgnn+fXNDuxm1NZhleOUxjlIpE93d3eU6+sCkNeM5QkH0qqPYFKE0UUfQ+q/AoHAXsT7fHjLSbZKRTbnQUhrkJSgZcZ0/uayv2RqNJ0/vuDPoSKpRRGHHXMCBmhRCW1miFPPPouvX301+za3sPT0M+msDDC7cx/uvH89c48/A9UseWXTrznxmE+xZcsGTjn3LERlJp854UR+8/QzyLidI48+llYFFQ26agUYDIYsM5AaYtnM6729TD9gfzAJ8w+aS3Nko3+ZfzP5XBchjMwd1JPdmE4QQyqJoya0s6JaQ6VSoaOjwz3esEL8iJbKUK6RcubQKZXYNm6jSBS6Sq3Gz1R5d5v/VJexFwgEJiROLSivCc8ya0zTlLtv/ze+es3X2Wne4robr2FYaxCKOLIK2lFtmMhkEEU8/uyzDA/28xcX/SnbX+/moDlz+emDjzLr4GMxpoV77/kJnzllMYd/+lAeWL2SAb2Dd2tvcPst1zIwVCOOm9CZXcvHFR/W0igl0FqTZCmdnbPZ+sY2SCO6u99EGl2UvHgXnntPgYIJYkihVkuRMrKd4BUMDQ3R09PjCmMKNcw6V0TJgI28L9wOtBDts4FSN4DVt7RobJ1V5uKkyhQ71GKhmjr3b7GiQ0iMoJDtCgQCeyX1Lk7/Ga8XPkiSmhWFiVyqT9zEH5xyOvOOPo1I7s9Q2sqLL72KzGpUhnbSDkRpijCCxx54kCmVTuIpM3j8yec48NAFnHv6Eh5Z9XP27+jg9078LA+v7mL2nAX84dl/xDev/CvahGDfeDq33f6fVFQFgUJLXF9RDSYBbTOJiQRawOeWnMfXLr+G9sp8Hlr/FFltkGZscYLNKk6tBrDI32kQZGACZe1WKpV8xWeMdelWKhWX9ZoXiuLjoMYvrozMYxpGyKLeyn0VHw5/qeyutNxYHMiz7PL08IbC6Tz+6hH5aIFAYKIjoHVKM5lJMcbFGGXEvIUnMKyHyYzAiEo+dRw7/0gqwPlLl4IZBgYYMBfRT5ubVlLmH3s8/e9uQWuYe/x8tvf2MpwlNFdgw8aNICsMR63YoBecdPQ825BbGXSWWMWizE5EC486ioVHzYc04dfPdUNcIRORFajB16H6dMpQN9rIhLkaVlJP5NJ6QggGBgaIVMkAlhjp10/QJCUfbIQidqodsuFIW71lKGKcEaVViQCEr9HSrv1afRzVG1obf5WTfkUXCOzN5MmG75N9k+qMoeqgbYUmZZ5uaHRsxRCERJgaSmuUhmZhS0ZtTmMzyDaMjvMiAG1SMDUqBirGdVqT0NwUW63cuA1UBZVqWnHlKyZh8O1NHDwjohI1I2QLImqj0jqDzS92EyNBWg1fTGR7ktYyImPtrbW5Uf08FgAm0I60kNQrdqQ20Ui64ucGpaNRR2moiTIUrY1GjWeWusW873glCa26LW7DscGSBgITFiVVrlSmjbaSfAg3XxkyXSOSCgTo1CCVIFKQaucJNhFCClc2Z4pG3KnbWVYAY1x1XwzC1qDHEZjMl/xBa8d+dO/oATmdTNjkTOmmp3xOjJX9PRBFysZ0o3LSZuPsGXao42pI0zQliopT5vJ3u4myeIHWKVrbdZ9xOrs5ZaPlMtGEXY85ua1RnloqloZScbJo+G6K59VVh45yzhG/nwCURfYLV3tYvgYmOh/8ebbFcraOVLmG2PnUIQSRiPNxZGlWzu2X6+od50e6B5yBtJmR9Sf3c2HeEBwFqr04D4URzV+PN6pFbR4oNbLyz333JX+TnXE1pFEU2a7uUuZGNUkSsizb5cl2NKOslHLnU6Xx3+88Pjf3w15H/c2aP7/xsFzQ0ox8eALalSzLiKIIKWVuQIUQ1Gq1usVTIDBZ+eA57qMZo2L2aTDcH2lBLkE0jTLWh59wtBLBQMG4zXDecPpuJn5ybW1t5aGHHuK5557bpfGllCRJkv88ODjI1q1bufHGG+vOFxgbhBAkSYKUMt+FCiHo6uri5JNP/qRfXiAQCIwZ42Zd/G40yzLi2DootNZcfPHFrFu3bpddvEqp3Fj7ndDixYttTELr4F4cY8oLJF/PK6Vk0aJFwZAGAoEJzbhu04wxxHFMlmVIKZFSUqlUWLJkyS6P7ccE6nZEoTH2+FCOT/tFi9a65F4PcZRAwBPmpYnFuBrSPPgtRF1MTWu9yzdVkWSk8/hcY+JLYOwoX39vNBu/BwKBwERkXA2p37UIIfKYpTFmt0y03oD6sfy5/MQeVn9jS+Ou0y9iwm40EAhMdMZ1hivvSH3scndNsj5btPyzP1dg7BntegcjGghYgkdsYvOJzXLl3ePuojyen9CDIR1fytc9GNHA3oI3dN5DpkttpHaHESyHmspjlysNAmNPOdynG1uF7QKhJiQQCEx6vKGTUlKtVm3Di9JEu6uLQiEE/f399PT0sGPHjrxUzIefwoJ/7NFa09vbS5qmdSHF3ZH4FQxpIBAIYPMqZs6cySGHHMLll19OS0sLWZYBu2dX2tfXR1dXFytXrgTqSwKD92Zs0VoTxzG1Wo2TTjop//3uyp4WJjjvA4FAAKgv4xrt549Lo+vYjx0SIccPrzPQmLuxO3I5giENBAKTnsZSubLM5Vicozx5J0mSi9QExgZ/vcvXfXdqDQR/QiAQmPT4/USWZWOSKJemaTCinyCNYj2e8t9lVwg70kAgEABqtRqVSqVuh+IN665Oto1lYX5MH4MNMdKxpfHv5132u8t1//83x2+a1OOZiwAAAABJRU5ErkJggg==)"
      ],
      "metadata": {
        "id": "LtjDmzF3QNjN"
      }
    },
    {
      "cell_type": "markdown",
      "source": [
        "## Задание 1"
      ],
      "metadata": {
        "id": "KCkabMN0Nc7K"
      }
    },
    {
      "cell_type": "markdown",
      "source": [
        "Вывести студентов, которые сдавали дисциплину «Основы баз данных», указать дату попытки и результат. Информацию вывести по убыванию результатов тестирования.  \n",
        "https://stepik.org/lesson/310421/step/2?unit=292727"
      ],
      "metadata": {
        "id": "tB4Cd1qoQVy5"
      }
    },
    {
      "cell_type": "code",
      "source": [
        "sql = '''select name_student, date_attempt, result\n",
        "from attempt\n",
        "inner join student using(student_id)\n",
        "inner join subject using(subject_id)\n",
        "where name_subject = 'Основы баз данных'\n",
        "order by result desc'''"
      ],
      "metadata": {
        "id": "4GQjZn63PV9A"
      },
      "execution_count": null,
      "outputs": []
    },
    {
      "cell_type": "code",
      "source": [
        "select(sql)"
      ],
      "metadata": {
        "colab": {
          "base_uri": "https://localhost:8080/",
          "height": 143
        },
        "id": "cFjfYF0PQanA",
        "outputId": "25acd494-b0f8-415f-de71-85656ba878d5"
      },
      "execution_count": null,
      "outputs": [
        {
          "output_type": "execute_result",
          "data": {
            "text/plain": [
              "      name_student date_attempt  result\n",
              "0  Яковлева Галина   2020-04-21     100\n",
              "1    Баранов Павел   2020-03-23      67\n",
              "2  Яковлева Галина   2020-03-26       0"
            ],
            "text/html": [
              "\n",
              "  <div id=\"df-8832251f-5f81-4171-864d-6c5db614c704\">\n",
              "    <div class=\"colab-df-container\">\n",
              "      <div>\n",
              "<style scoped>\n",
              "    .dataframe tbody tr th:only-of-type {\n",
              "        vertical-align: middle;\n",
              "    }\n",
              "\n",
              "    .dataframe tbody tr th {\n",
              "        vertical-align: top;\n",
              "    }\n",
              "\n",
              "    .dataframe thead th {\n",
              "        text-align: right;\n",
              "    }\n",
              "</style>\n",
              "<table border=\"1\" class=\"dataframe\">\n",
              "  <thead>\n",
              "    <tr style=\"text-align: right;\">\n",
              "      <th></th>\n",
              "      <th>name_student</th>\n",
              "      <th>date_attempt</th>\n",
              "      <th>result</th>\n",
              "    </tr>\n",
              "  </thead>\n",
              "  <tbody>\n",
              "    <tr>\n",
              "      <th>0</th>\n",
              "      <td>Яковлева Галина</td>\n",
              "      <td>2020-04-21</td>\n",
              "      <td>100</td>\n",
              "    </tr>\n",
              "    <tr>\n",
              "      <th>1</th>\n",
              "      <td>Баранов Павел</td>\n",
              "      <td>2020-03-23</td>\n",
              "      <td>67</td>\n",
              "    </tr>\n",
              "    <tr>\n",
              "      <th>2</th>\n",
              "      <td>Яковлева Галина</td>\n",
              "      <td>2020-03-26</td>\n",
              "      <td>0</td>\n",
              "    </tr>\n",
              "  </tbody>\n",
              "</table>\n",
              "</div>\n",
              "      <button class=\"colab-df-convert\" onclick=\"convertToInteractive('df-8832251f-5f81-4171-864d-6c5db614c704')\"\n",
              "              title=\"Convert this dataframe to an interactive table.\"\n",
              "              style=\"display:none;\">\n",
              "        \n",
              "  <svg xmlns=\"http://www.w3.org/2000/svg\" height=\"24px\"viewBox=\"0 0 24 24\"\n",
              "       width=\"24px\">\n",
              "    <path d=\"M0 0h24v24H0V0z\" fill=\"none\"/>\n",
              "    <path d=\"M18.56 5.44l.94 2.06.94-2.06 2.06-.94-2.06-.94-.94-2.06-.94 2.06-2.06.94zm-11 1L8.5 8.5l.94-2.06 2.06-.94-2.06-.94L8.5 2.5l-.94 2.06-2.06.94zm10 10l.94 2.06.94-2.06 2.06-.94-2.06-.94-.94-2.06-.94 2.06-2.06.94z\"/><path d=\"M17.41 7.96l-1.37-1.37c-.4-.4-.92-.59-1.43-.59-.52 0-1.04.2-1.43.59L10.3 9.45l-7.72 7.72c-.78.78-.78 2.05 0 2.83L4 21.41c.39.39.9.59 1.41.59.51 0 1.02-.2 1.41-.59l7.78-7.78 2.81-2.81c.8-.78.8-2.07 0-2.86zM5.41 20L4 18.59l7.72-7.72 1.47 1.35L5.41 20z\"/>\n",
              "  </svg>\n",
              "      </button>\n",
              "      \n",
              "  <style>\n",
              "    .colab-df-container {\n",
              "      display:flex;\n",
              "      flex-wrap:wrap;\n",
              "      gap: 12px;\n",
              "    }\n",
              "\n",
              "    .colab-df-convert {\n",
              "      background-color: #E8F0FE;\n",
              "      border: none;\n",
              "      border-radius: 50%;\n",
              "      cursor: pointer;\n",
              "      display: none;\n",
              "      fill: #1967D2;\n",
              "      height: 32px;\n",
              "      padding: 0 0 0 0;\n",
              "      width: 32px;\n",
              "    }\n",
              "\n",
              "    .colab-df-convert:hover {\n",
              "      background-color: #E2EBFA;\n",
              "      box-shadow: 0px 1px 2px rgba(60, 64, 67, 0.3), 0px 1px 3px 1px rgba(60, 64, 67, 0.15);\n",
              "      fill: #174EA6;\n",
              "    }\n",
              "\n",
              "    [theme=dark] .colab-df-convert {\n",
              "      background-color: #3B4455;\n",
              "      fill: #D2E3FC;\n",
              "    }\n",
              "\n",
              "    [theme=dark] .colab-df-convert:hover {\n",
              "      background-color: #434B5C;\n",
              "      box-shadow: 0px 1px 3px 1px rgba(0, 0, 0, 0.15);\n",
              "      filter: drop-shadow(0px 1px 2px rgba(0, 0, 0, 0.3));\n",
              "      fill: #FFFFFF;\n",
              "    }\n",
              "  </style>\n",
              "\n",
              "      <script>\n",
              "        const buttonEl =\n",
              "          document.querySelector('#df-8832251f-5f81-4171-864d-6c5db614c704 button.colab-df-convert');\n",
              "        buttonEl.style.display =\n",
              "          google.colab.kernel.accessAllowed ? 'block' : 'none';\n",
              "\n",
              "        async function convertToInteractive(key) {\n",
              "          const element = document.querySelector('#df-8832251f-5f81-4171-864d-6c5db614c704');\n",
              "          const dataTable =\n",
              "            await google.colab.kernel.invokeFunction('convertToInteractive',\n",
              "                                                     [key], {});\n",
              "          if (!dataTable) return;\n",
              "\n",
              "          const docLinkHtml = 'Like what you see? Visit the ' +\n",
              "            '<a target=\"_blank\" href=https://colab.research.google.com/notebooks/data_table.ipynb>data table notebook</a>'\n",
              "            + ' to learn more about interactive tables.';\n",
              "          element.innerHTML = '';\n",
              "          dataTable['output_type'] = 'display_data';\n",
              "          await google.colab.output.renderOutput(dataTable, element);\n",
              "          const docLink = document.createElement('div');\n",
              "          docLink.innerHTML = docLinkHtml;\n",
              "          element.appendChild(docLink);\n",
              "        }\n",
              "      </script>\n",
              "    </div>\n",
              "  </div>\n",
              "  "
            ]
          },
          "metadata": {},
          "execution_count": 43
        }
      ]
    },
    {
      "cell_type": "markdown",
      "source": [
        "## Задание 2"
      ],
      "metadata": {
        "id": "_TLSrnzvNc-j"
      }
    },
    {
      "cell_type": "markdown",
      "source": [
        "Случайным образом отберите 3 вопроса по дисциплине «Основы баз данных». В результат включите столбцы question_id и name_question.  \n",
        "https://stepik.org/lesson/310421/step/7?unit=292727 "
      ],
      "metadata": {
        "id": "tDA3vLuiNdBD"
      }
    },
    {
      "cell_type": "code",
      "source": [
        "sql = '''\n",
        "select question_id, name_question\n",
        "from question\n",
        "where subject_id = (select subject_id\n",
        "                    from subject\n",
        "                    where name_subject = 'Основы баз данных')\n",
        "order by random()\n",
        "limit 3\n",
        "'''"
      ],
      "metadata": {
        "id": "g68EcgUlNdDg"
      },
      "execution_count": null,
      "outputs": []
    },
    {
      "cell_type": "code",
      "source": [
        "select(sql)"
      ],
      "metadata": {
        "colab": {
          "base_uri": "https://localhost:8080/",
          "height": 143
        },
        "id": "mkYj8YfrNdFu",
        "outputId": "afbb1547-daab-405e-c77e-3c44c02fded5"
      },
      "execution_count": null,
      "outputs": [
        {
          "output_type": "execute_result",
          "data": {
            "text/plain": [
              "   question_id                                      name_question\n",
              "0            6                                 База данных - это:\n",
              "1            7                                   Отношение - это:\n",
              "2            9  Какой тип данных не допустим в реляционной таб..."
            ],
            "text/html": [
              "\n",
              "  <div id=\"df-87fc7018-4bf2-4598-8d87-33fa83d6237a\">\n",
              "    <div class=\"colab-df-container\">\n",
              "      <div>\n",
              "<style scoped>\n",
              "    .dataframe tbody tr th:only-of-type {\n",
              "        vertical-align: middle;\n",
              "    }\n",
              "\n",
              "    .dataframe tbody tr th {\n",
              "        vertical-align: top;\n",
              "    }\n",
              "\n",
              "    .dataframe thead th {\n",
              "        text-align: right;\n",
              "    }\n",
              "</style>\n",
              "<table border=\"1\" class=\"dataframe\">\n",
              "  <thead>\n",
              "    <tr style=\"text-align: right;\">\n",
              "      <th></th>\n",
              "      <th>question_id</th>\n",
              "      <th>name_question</th>\n",
              "    </tr>\n",
              "  </thead>\n",
              "  <tbody>\n",
              "    <tr>\n",
              "      <th>0</th>\n",
              "      <td>6</td>\n",
              "      <td>База данных - это:</td>\n",
              "    </tr>\n",
              "    <tr>\n",
              "      <th>1</th>\n",
              "      <td>7</td>\n",
              "      <td>Отношение - это:</td>\n",
              "    </tr>\n",
              "    <tr>\n",
              "      <th>2</th>\n",
              "      <td>9</td>\n",
              "      <td>Какой тип данных не допустим в реляционной таб...</td>\n",
              "    </tr>\n",
              "  </tbody>\n",
              "</table>\n",
              "</div>\n",
              "      <button class=\"colab-df-convert\" onclick=\"convertToInteractive('df-87fc7018-4bf2-4598-8d87-33fa83d6237a')\"\n",
              "              title=\"Convert this dataframe to an interactive table.\"\n",
              "              style=\"display:none;\">\n",
              "        \n",
              "  <svg xmlns=\"http://www.w3.org/2000/svg\" height=\"24px\"viewBox=\"0 0 24 24\"\n",
              "       width=\"24px\">\n",
              "    <path d=\"M0 0h24v24H0V0z\" fill=\"none\"/>\n",
              "    <path d=\"M18.56 5.44l.94 2.06.94-2.06 2.06-.94-2.06-.94-.94-2.06-.94 2.06-2.06.94zm-11 1L8.5 8.5l.94-2.06 2.06-.94-2.06-.94L8.5 2.5l-.94 2.06-2.06.94zm10 10l.94 2.06.94-2.06 2.06-.94-2.06-.94-.94-2.06-.94 2.06-2.06.94z\"/><path d=\"M17.41 7.96l-1.37-1.37c-.4-.4-.92-.59-1.43-.59-.52 0-1.04.2-1.43.59L10.3 9.45l-7.72 7.72c-.78.78-.78 2.05 0 2.83L4 21.41c.39.39.9.59 1.41.59.51 0 1.02-.2 1.41-.59l7.78-7.78 2.81-2.81c.8-.78.8-2.07 0-2.86zM5.41 20L4 18.59l7.72-7.72 1.47 1.35L5.41 20z\"/>\n",
              "  </svg>\n",
              "      </button>\n",
              "      \n",
              "  <style>\n",
              "    .colab-df-container {\n",
              "      display:flex;\n",
              "      flex-wrap:wrap;\n",
              "      gap: 12px;\n",
              "    }\n",
              "\n",
              "    .colab-df-convert {\n",
              "      background-color: #E8F0FE;\n",
              "      border: none;\n",
              "      border-radius: 50%;\n",
              "      cursor: pointer;\n",
              "      display: none;\n",
              "      fill: #1967D2;\n",
              "      height: 32px;\n",
              "      padding: 0 0 0 0;\n",
              "      width: 32px;\n",
              "    }\n",
              "\n",
              "    .colab-df-convert:hover {\n",
              "      background-color: #E2EBFA;\n",
              "      box-shadow: 0px 1px 2px rgba(60, 64, 67, 0.3), 0px 1px 3px 1px rgba(60, 64, 67, 0.15);\n",
              "      fill: #174EA6;\n",
              "    }\n",
              "\n",
              "    [theme=dark] .colab-df-convert {\n",
              "      background-color: #3B4455;\n",
              "      fill: #D2E3FC;\n",
              "    }\n",
              "\n",
              "    [theme=dark] .colab-df-convert:hover {\n",
              "      background-color: #434B5C;\n",
              "      box-shadow: 0px 1px 3px 1px rgba(0, 0, 0, 0.15);\n",
              "      filter: drop-shadow(0px 1px 2px rgba(0, 0, 0, 0.3));\n",
              "      fill: #FFFFFF;\n",
              "    }\n",
              "  </style>\n",
              "\n",
              "      <script>\n",
              "        const buttonEl =\n",
              "          document.querySelector('#df-87fc7018-4bf2-4598-8d87-33fa83d6237a button.colab-df-convert');\n",
              "        buttonEl.style.display =\n",
              "          google.colab.kernel.accessAllowed ? 'block' : 'none';\n",
              "\n",
              "        async function convertToInteractive(key) {\n",
              "          const element = document.querySelector('#df-87fc7018-4bf2-4598-8d87-33fa83d6237a');\n",
              "          const dataTable =\n",
              "            await google.colab.kernel.invokeFunction('convertToInteractive',\n",
              "                                                     [key], {});\n",
              "          if (!dataTable) return;\n",
              "\n",
              "          const docLinkHtml = 'Like what you see? Visit the ' +\n",
              "            '<a target=\"_blank\" href=https://colab.research.google.com/notebooks/data_table.ipynb>data table notebook</a>'\n",
              "            + ' to learn more about interactive tables.';\n",
              "          element.innerHTML = '';\n",
              "          dataTable['output_type'] = 'display_data';\n",
              "          await google.colab.output.renderOutput(dataTable, element);\n",
              "          const docLink = document.createElement('div');\n",
              "          docLink.innerHTML = docLinkHtml;\n",
              "          element.appendChild(docLink);\n",
              "        }\n",
              "      </script>\n",
              "    </div>\n",
              "  </div>\n",
              "  "
            ]
          },
          "metadata": {},
          "execution_count": 47
        }
      ]
    },
    {
      "cell_type": "markdown",
      "source": [
        "## Внесем данные в БД (Абитуриент)"
      ],
      "metadata": {
        "id": "yY9tTA8to7wF"
      }
    },
    {
      "cell_type": "code",
      "source": [
        "con = sqlite3.connect('data1')"
      ],
      "metadata": {
        "id": "OXoKVb09o0Mc"
      },
      "execution_count": null,
      "outputs": []
    },
    {
      "cell_type": "code",
      "source": [
        "cur = con.cursor()"
      ],
      "metadata": {
        "id": "RxbFURDCo0Md"
      },
      "execution_count": null,
      "outputs": []
    },
    {
      "cell_type": "code",
      "source": [
        "cur.execute(\"\"\"\n",
        "CREATE TABLE department (\n",
        "`department_id` INTEGER PRIMARY KEY AUTOINCREMENT,\n",
        "`name_department` VARCHAR(30)\n",
        ");\n",
        "\"\"\")\n",
        "con.commit()"
      ],
      "metadata": {
        "id": "_NPf9n6QpjiH"
      },
      "execution_count": null,
      "outputs": []
    },
    {
      "cell_type": "code",
      "source": [
        "cur.execute(\"\"\"\n",
        "INSERT INTO department (`department_id`, `name_department`)\n",
        "VALUES (1, 'Инженерная школа'), (2, 'Школа естественных наук');\n",
        "\"\"\")\n",
        "con.commit()"
      ],
      "metadata": {
        "id": "3lLsdaFNpxDM"
      },
      "execution_count": null,
      "outputs": []
    },
    {
      "cell_type": "code",
      "source": [
        "cur.execute(\"\"\"\n",
        "CREATE TABLE subject (\n",
        "    `subject_id` INTEGER PRIMARY KEY AUTOINCREMENT,\n",
        "    `name_subject` VARCHAR(30)\n",
        ");\n",
        "\"\"\")\n",
        "con.commit()"
      ],
      "metadata": {
        "id": "WOT7GUPZp1dk"
      },
      "execution_count": null,
      "outputs": []
    },
    {
      "cell_type": "code",
      "source": [
        "cur.execute(\"\"\"\n",
        "INSERT INTO subject (`subject_id`, `name_subject`)\n",
        "VALUES (1, 'Русский язык'), (2, 'Математика'), (3, 'Физика'), (4, 'Информатика');\n",
        "\"\"\")\n",
        "con.commit()"
      ],
      "metadata": {
        "id": "g-AfeCF4p7a0"
      },
      "execution_count": null,
      "outputs": []
    },
    {
      "cell_type": "code",
      "source": [
        "cur.execute(\"\"\"\n",
        "CREATE TABLE program (\n",
        "    `program_id` INTEGER PRIMARY KEY AUTOINCREMENT,\n",
        "    `name_program` VARCHAR(50),\n",
        "    `department_id` INTEGER,\n",
        "    `plan` INTEGER,\n",
        "    FOREIGN KEY (`department_id`) REFERENCES `department`(`department_id`) ON DELETE CASCADE\n",
        ");\n",
        "\"\"\")\n",
        "con.commit()"
      ],
      "metadata": {
        "id": "GgeslET2qBPE"
      },
      "execution_count": null,
      "outputs": []
    },
    {
      "cell_type": "code",
      "source": [
        "cur.execute(\"\"\"\n",
        "INSERT INTO program (`program_id`, `name_program`, `department_id`, `plan`)\n",
        "VALUES (1, 'Прикладная математика и информатика', 2, 2),\n",
        "(2, 'Математика и компьютерные науки', 2, 1),\n",
        "(3, 'Прикладная механика', 1, 2),\n",
        "(4, 'Мехатроника и робототехника', 1, 3);\n",
        "\"\"\")\n",
        "con.commit()"
      ],
      "metadata": {
        "id": "GVUIGFqKqIws"
      },
      "execution_count": null,
      "outputs": []
    },
    {
      "cell_type": "code",
      "source": [
        "cur.execute(\"\"\"\n",
        "CREATE TABLE enrollee (\n",
        "    `enrollee_id` INTEGER PRIMARY KEY AUTOINCREMENT,\n",
        "    `name_enrollee` VARCHAR(50)\n",
        ");\n",
        "\"\"\")\n",
        "con.commit()"
      ],
      "metadata": {
        "id": "PrY8cYWwqMMd"
      },
      "execution_count": null,
      "outputs": []
    },
    {
      "cell_type": "code",
      "source": [
        "cur.execute(\"\"\"\n",
        "INSERT INTO enrollee (`enrollee_id`, `name_enrollee`)\n",
        "VALUES (1, 'Баранов Павел'), (2, 'Абрамова Катя'), (3, 'Семенов Иван'),\n",
        "(4, 'Яковлева Галина'), (5, 'Попов Илья'), (6, 'Степанова Дарья');\n",
        "\"\"\")\n",
        "con.commit()"
      ],
      "metadata": {
        "id": "RKdnIv0_qW-d"
      },
      "execution_count": null,
      "outputs": []
    },
    {
      "cell_type": "code",
      "source": [
        "cur.execute(\"\"\"\n",
        "CREATE TABLE achievement (\n",
        "    `achievement_id` INTEGER PRIMARY KEY AUTOINCREMENT,\n",
        "    `name_achievement` VARCHAR(30),\n",
        "    `bonus` INTEGER\n",
        ");\n",
        "\"\"\")\n",
        "con.commit()"
      ],
      "metadata": {
        "id": "rmoyckX6qivE"
      },
      "execution_count": null,
      "outputs": []
    },
    {
      "cell_type": "code",
      "source": [
        "cur.execute(\"\"\"\n",
        "INSERT INTO achievement (`achievement_id`, `name_achievement`, `bonus`)\n",
        "VALUES (1, 'Золотая медаль', 5), (2, 'Серебряная медаль', 3),\n",
        "    (3, 'Золотой значок ГТО', 3),(4, 'Серебряный значок ГТО', 1);\n",
        "\"\"\")\n",
        "con.commit()"
      ],
      "metadata": {
        "id": "H1K4IJGfqn_s"
      },
      "execution_count": null,
      "outputs": []
    },
    {
      "cell_type": "code",
      "source": [
        "cur.execute(\"\"\"\n",
        "CREATE TABLE enrollee_achievement (\n",
        "    `enrollee_achiev_id` INTEGER PRIMARY KEY AUTOINCREMENT,\n",
        "    `enrollee_id` INTEGER,\n",
        "    `achievement_id` INTEGER,\n",
        "    FOREIGN KEY (`enrollee_id`) REFERENCES `enrollee`(`enrollee_id`) ON DELETE CASCADE,\n",
        "    FOREIGN KEY (`achievement_id`) REFERENCES `achievement`(`achievement_id`) ON DELETE CASCADE\n",
        ");\n",
        "\"\"\")\n",
        "con.commit()"
      ],
      "metadata": {
        "id": "QgEq6Bf2qq58"
      },
      "execution_count": null,
      "outputs": []
    },
    {
      "cell_type": "code",
      "source": [
        "cur.execute(\"\"\"\n",
        "INSERT INTO enrollee_achievement (`enrollee_achiev_id`, `enrollee_id`, `achievement_id`)\n",
        "VALUES (1, 1, 2), (2, 1, 3), (3, 3, 1), (4, 4, 4), (5, 5, 1),(6, 5, 3);\n",
        "\"\"\")\n",
        "con.commit()"
      ],
      "metadata": {
        "id": "jHSbhNVaqxr8"
      },
      "execution_count": null,
      "outputs": []
    },
    {
      "cell_type": "code",
      "source": [
        "cur.execute(\"\"\"\n",
        "CREATE TABLE program_subject (\n",
        "    `program_subject_id` INTEGER PRIMARY KEY AUTOINCREMENT,\n",
        "    `program_id` INTEGER,\n",
        "    `subject_id` INTEGER,\n",
        "    `min_result` INTEGER,\n",
        "    FOREIGN KEY (`program_id`) REFERENCES `program`(`program_id`)  ON DELETE CASCADE,\n",
        "    FOREIGN KEY (`subject_id`) REFERENCES `subject`(`subject_id`) ON DELETE CASCADE\n",
        ");\n",
        "\"\"\")\n",
        "con.commit()"
      ],
      "metadata": {
        "id": "2fjdGb75q1Xs"
      },
      "execution_count": null,
      "outputs": []
    },
    {
      "cell_type": "code",
      "source": [
        "cur.execute(\"\"\"\n",
        "INSERT INTO program_subject (`program_subject_id`, `program_id`, `subject_id`, `min_result`)\n",
        "VALUES (1, 1, 1, 40),(2, 1, 2, 50), (3, 1, 4, 60), (4, 2, 1, 30),\n",
        "       (5, 2, 2, 50),(6, 2, 4, 60), (7, 3, 1, 30),(8, 3, 2, 45),\n",
        "       (9, 3, 3, 45),(10, 4, 1, 40), (11, 4, 2, 45), (12, 4, 3, 45);\n",
        "\"\"\")\n",
        "con.commit()"
      ],
      "metadata": {
        "id": "YFJPEeXwq7ZU"
      },
      "execution_count": null,
      "outputs": []
    },
    {
      "cell_type": "code",
      "source": [
        "cur.execute(\"\"\"\n",
        "CREATE TABLE program_enrollee (\n",
        "    `program_enrollee_id` INTEGER PRIMARY KEY AUTOINCREMENT,\n",
        "    `program_id` INTEGER,\n",
        "    `enrollee_id` INTEGER,\n",
        "    FOREIGN KEY (`program_id`) REFERENCES `program`(`program_id`) ON DELETE CASCADE,\n",
        "    FOREIGN KEY (`enrollee_id`) REFERENCES enrollee(`enrollee_id`) ON DELETE CASCADE\n",
        ");\n",
        "\"\"\")\n",
        "con.commit()"
      ],
      "metadata": {
        "id": "aewL4t-SrQ9c"
      },
      "execution_count": null,
      "outputs": []
    },
    {
      "cell_type": "code",
      "source": [
        "cur.execute(\"\"\"\n",
        "INSERT INTO program_enrollee (`program_enrollee_id`, `program_id`, `enrollee_id`)\n",
        "VALUES (1, 3, 1), (2, 4, 1), (3, 1, 1), (4, 2, 2), (5, 1, 2),\n",
        "       (6, 1, 3), (7, 2, 3), (8, 4, 3), (9, 3, 4), (10, 3, 5),\n",
        "       (11, 4, 5), (12, 2, 6), (13, 3, 6), (14, 4, 6);\n",
        "\"\"\")\n",
        "con.commit()"
      ],
      "metadata": {
        "id": "TC3mBMeErWjs"
      },
      "execution_count": null,
      "outputs": []
    },
    {
      "cell_type": "code",
      "source": [
        "cur.execute(\"\"\"\n",
        "CREATE TABLE enrollee_subject (\n",
        "    `enrollee_subject_id` INTEGER PRIMARY KEY AUTOINCREMENT,\n",
        "    `enrollee_id` INTEGER,\n",
        "    `subject_id` INTEGER,\n",
        "    `result` INTEGER,\n",
        "    FOREIGN KEY (`enrollee_id`) REFERENCES `enrollee`(`enrollee_id`) ON DELETE CASCADE,\n",
        "    FOREIGN KEY (`subject_id`) REFERENCES `subject`(`subject_id`) ON DELETE CASCADE\n",
        ");\n",
        "\"\"\")\n",
        "con.commit()"
      ],
      "metadata": {
        "id": "g0xZvmtfrZuE"
      },
      "execution_count": null,
      "outputs": []
    },
    {
      "cell_type": "code",
      "source": [
        "cur.execute(\"\"\"\n",
        "INSERT INTO enrollee_subject (`enrollee_subject_id`, `enrollee_id`, `subject_id`, `result`)\n",
        "VALUES (1, 1, 1, 68), (2, 1, 2, 70), (3, 1, 3, 41), (4, 1, 4, 75), (5, 2, 1, 75), (6, 2, 2, 70),\n",
        "       (7, 2, 4, 81), (8, 3, 1, 85), (9, 3, 2, 67), (10, 3, 3, 90), (11, 3, 4, 78), (12, 4, 1, 82),\n",
        "       (13, 4, 2, 86), (14, 4, 3, 70), (15, 5, 1, 65), (16, 5, 2, 67), (17, 5, 3, 60),\n",
        "       (18, 6, 1, 90), (19, 6, 2, 92), (20, 6, 3, 88), (21, 6, 4, 94);\n",
        "\"\"\")\n",
        "con.commit()"
      ],
      "metadata": {
        "id": "Qqjf5QzOrfjM"
      },
      "execution_count": null,
      "outputs": []
    },
    {
      "cell_type": "markdown",
      "source": [
        "![image.png](data:image/png;base64,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)"
      ],
      "metadata": {
        "id": "mZIUgUrRFOAZ"
      }
    },
    {
      "cell_type": "markdown",
      "source": [
        "## Задание 3"
      ],
      "metadata": {
        "id": "WizrXy5So3Av"
      }
    },
    {
      "cell_type": "markdown",
      "source": [
        "Вывести образовательные программы, для которых минимальный балл ЕГЭ по каждому предмету больше или равен 40 баллам. Программы вывести в отсортированном по алфавиту виде.  \n",
        "https://stepik.org/lesson/310418/step/5?unit=292724 "
      ],
      "metadata": {
        "id": "akwFVdBnrqze"
      }
    },
    {
      "cell_type": "code",
      "source": [
        "sql = \"\"\"\n",
        "select distinct(name_program) from program\n",
        "inner join program_subject using(program_id)\n",
        "group by name_program\n",
        "having min(min_result) >= 40 \n",
        "order by name_program\n",
        "\"\"\""
      ],
      "metadata": {
        "id": "iEWk6DsMrqS9"
      },
      "execution_count": null,
      "outputs": []
    },
    {
      "cell_type": "code",
      "source": [
        "select(sql)"
      ],
      "metadata": {
        "colab": {
          "base_uri": "https://localhost:8080/",
          "height": 112
        },
        "id": "6DKnmeYyrzFc",
        "outputId": "25e9a7f5-2605-4dc9-e946-529296360697"
      },
      "execution_count": null,
      "outputs": [
        {
          "output_type": "execute_result",
          "data": {
            "text/plain": [
              "                          name_program\n",
              "0          Мехатроника и робототехника\n",
              "1  Прикладная математика и информатика"
            ],
            "text/html": [
              "\n",
              "  <div id=\"df-49b89ae5-8fea-49ee-8315-3f2fae54204a\">\n",
              "    <div class=\"colab-df-container\">\n",
              "      <div>\n",
              "<style scoped>\n",
              "    .dataframe tbody tr th:only-of-type {\n",
              "        vertical-align: middle;\n",
              "    }\n",
              "\n",
              "    .dataframe tbody tr th {\n",
              "        vertical-align: top;\n",
              "    }\n",
              "\n",
              "    .dataframe thead th {\n",
              "        text-align: right;\n",
              "    }\n",
              "</style>\n",
              "<table border=\"1\" class=\"dataframe\">\n",
              "  <thead>\n",
              "    <tr style=\"text-align: right;\">\n",
              "      <th></th>\n",
              "      <th>name_program</th>\n",
              "    </tr>\n",
              "  </thead>\n",
              "  <tbody>\n",
              "    <tr>\n",
              "      <th>0</th>\n",
              "      <td>Мехатроника и робототехника</td>\n",
              "    </tr>\n",
              "    <tr>\n",
              "      <th>1</th>\n",
              "      <td>Прикладная математика и информатика</td>\n",
              "    </tr>\n",
              "  </tbody>\n",
              "</table>\n",
              "</div>\n",
              "      <button class=\"colab-df-convert\" onclick=\"convertToInteractive('df-49b89ae5-8fea-49ee-8315-3f2fae54204a')\"\n",
              "              title=\"Convert this dataframe to an interactive table.\"\n",
              "              style=\"display:none;\">\n",
              "        \n",
              "  <svg xmlns=\"http://www.w3.org/2000/svg\" height=\"24px\"viewBox=\"0 0 24 24\"\n",
              "       width=\"24px\">\n",
              "    <path d=\"M0 0h24v24H0V0z\" fill=\"none\"/>\n",
              "    <path d=\"M18.56 5.44l.94 2.06.94-2.06 2.06-.94-2.06-.94-.94-2.06-.94 2.06-2.06.94zm-11 1L8.5 8.5l.94-2.06 2.06-.94-2.06-.94L8.5 2.5l-.94 2.06-2.06.94zm10 10l.94 2.06.94-2.06 2.06-.94-2.06-.94-.94-2.06-.94 2.06-2.06.94z\"/><path d=\"M17.41 7.96l-1.37-1.37c-.4-.4-.92-.59-1.43-.59-.52 0-1.04.2-1.43.59L10.3 9.45l-7.72 7.72c-.78.78-.78 2.05 0 2.83L4 21.41c.39.39.9.59 1.41.59.51 0 1.02-.2 1.41-.59l7.78-7.78 2.81-2.81c.8-.78.8-2.07 0-2.86zM5.41 20L4 18.59l7.72-7.72 1.47 1.35L5.41 20z\"/>\n",
              "  </svg>\n",
              "      </button>\n",
              "      \n",
              "  <style>\n",
              "    .colab-df-container {\n",
              "      display:flex;\n",
              "      flex-wrap:wrap;\n",
              "      gap: 12px;\n",
              "    }\n",
              "\n",
              "    .colab-df-convert {\n",
              "      background-color: #E8F0FE;\n",
              "      border: none;\n",
              "      border-radius: 50%;\n",
              "      cursor: pointer;\n",
              "      display: none;\n",
              "      fill: #1967D2;\n",
              "      height: 32px;\n",
              "      padding: 0 0 0 0;\n",
              "      width: 32px;\n",
              "    }\n",
              "\n",
              "    .colab-df-convert:hover {\n",
              "      background-color: #E2EBFA;\n",
              "      box-shadow: 0px 1px 2px rgba(60, 64, 67, 0.3), 0px 1px 3px 1px rgba(60, 64, 67, 0.15);\n",
              "      fill: #174EA6;\n",
              "    }\n",
              "\n",
              "    [theme=dark] .colab-df-convert {\n",
              "      background-color: #3B4455;\n",
              "      fill: #D2E3FC;\n",
              "    }\n",
              "\n",
              "    [theme=dark] .colab-df-convert:hover {\n",
              "      background-color: #434B5C;\n",
              "      box-shadow: 0px 1px 3px 1px rgba(0, 0, 0, 0.15);\n",
              "      filter: drop-shadow(0px 1px 2px rgba(0, 0, 0, 0.3));\n",
              "      fill: #FFFFFF;\n",
              "    }\n",
              "  </style>\n",
              "\n",
              "      <script>\n",
              "        const buttonEl =\n",
              "          document.querySelector('#df-49b89ae5-8fea-49ee-8315-3f2fae54204a button.colab-df-convert');\n",
              "        buttonEl.style.display =\n",
              "          google.colab.kernel.accessAllowed ? 'block' : 'none';\n",
              "\n",
              "        async function convertToInteractive(key) {\n",
              "          const element = document.querySelector('#df-49b89ae5-8fea-49ee-8315-3f2fae54204a');\n",
              "          const dataTable =\n",
              "            await google.colab.kernel.invokeFunction('convertToInteractive',\n",
              "                                                     [key], {});\n",
              "          if (!dataTable) return;\n",
              "\n",
              "          const docLinkHtml = 'Like what you see? Visit the ' +\n",
              "            '<a target=\"_blank\" href=https://colab.research.google.com/notebooks/data_table.ipynb>data table notebook</a>'\n",
              "            + ' to learn more about interactive tables.';\n",
              "          element.innerHTML = '';\n",
              "          dataTable['output_type'] = 'display_data';\n",
              "          await google.colab.output.renderOutput(dataTable, element);\n",
              "          const docLink = document.createElement('div');\n",
              "          docLink.innerHTML = docLinkHtml;\n",
              "          element.appendChild(docLink);\n",
              "        }\n",
              "      </script>\n",
              "    </div>\n",
              "  </div>\n",
              "  "
            ]
          },
          "metadata": {},
          "execution_count": 105
        }
      ]
    },
    {
      "cell_type": "markdown",
      "source": [
        "## Задание 4"
      ],
      "metadata": {
        "id": "gobwD-D_r2al"
      }
    },
    {
      "cell_type": "markdown",
      "source": [
        "Вывести образовательные программы, которые имеют самый большой план набора,  вместе с этой величиной.  \n",
        "https://stepik.org/lesson/310418/step/6?unit=292724 "
      ],
      "metadata": {
        "id": "_xiiVzx8saI0"
      }
    },
    {
      "cell_type": "code",
      "source": [
        "sql = \"\"\"\n",
        "select name_program,plan from program\n",
        "where plan = (select max(plan) from program)\n",
        "\"\"\""
      ],
      "metadata": {
        "id": "c69zl4sGsfMM"
      },
      "execution_count": null,
      "outputs": []
    },
    {
      "cell_type": "code",
      "source": [
        "select(sql)"
      ],
      "metadata": {
        "colab": {
          "base_uri": "https://localhost:8080/",
          "height": 81
        },
        "id": "vzAaT0gbshnc",
        "outputId": "e703fe31-3331-483c-ac8b-88224003116e"
      },
      "execution_count": null,
      "outputs": [
        {
          "output_type": "execute_result",
          "data": {
            "text/plain": [
              "                  name_program  plan\n",
              "0  Мехатроника и робототехника     3"
            ],
            "text/html": [
              "\n",
              "  <div id=\"df-c4ac3504-5176-482f-aed3-e9be3d09cd69\">\n",
              "    <div class=\"colab-df-container\">\n",
              "      <div>\n",
              "<style scoped>\n",
              "    .dataframe tbody tr th:only-of-type {\n",
              "        vertical-align: middle;\n",
              "    }\n",
              "\n",
              "    .dataframe tbody tr th {\n",
              "        vertical-align: top;\n",
              "    }\n",
              "\n",
              "    .dataframe thead th {\n",
              "        text-align: right;\n",
              "    }\n",
              "</style>\n",
              "<table border=\"1\" class=\"dataframe\">\n",
              "  <thead>\n",
              "    <tr style=\"text-align: right;\">\n",
              "      <th></th>\n",
              "      <th>name_program</th>\n",
              "      <th>plan</th>\n",
              "    </tr>\n",
              "  </thead>\n",
              "  <tbody>\n",
              "    <tr>\n",
              "      <th>0</th>\n",
              "      <td>Мехатроника и робототехника</td>\n",
              "      <td>3</td>\n",
              "    </tr>\n",
              "  </tbody>\n",
              "</table>\n",
              "</div>\n",
              "      <button class=\"colab-df-convert\" onclick=\"convertToInteractive('df-c4ac3504-5176-482f-aed3-e9be3d09cd69')\"\n",
              "              title=\"Convert this dataframe to an interactive table.\"\n",
              "              style=\"display:none;\">\n",
              "        \n",
              "  <svg xmlns=\"http://www.w3.org/2000/svg\" height=\"24px\"viewBox=\"0 0 24 24\"\n",
              "       width=\"24px\">\n",
              "    <path d=\"M0 0h24v24H0V0z\" fill=\"none\"/>\n",
              "    <path d=\"M18.56 5.44l.94 2.06.94-2.06 2.06-.94-2.06-.94-.94-2.06-.94 2.06-2.06.94zm-11 1L8.5 8.5l.94-2.06 2.06-.94-2.06-.94L8.5 2.5l-.94 2.06-2.06.94zm10 10l.94 2.06.94-2.06 2.06-.94-2.06-.94-.94-2.06-.94 2.06-2.06.94z\"/><path d=\"M17.41 7.96l-1.37-1.37c-.4-.4-.92-.59-1.43-.59-.52 0-1.04.2-1.43.59L10.3 9.45l-7.72 7.72c-.78.78-.78 2.05 0 2.83L4 21.41c.39.39.9.59 1.41.59.51 0 1.02-.2 1.41-.59l7.78-7.78 2.81-2.81c.8-.78.8-2.07 0-2.86zM5.41 20L4 18.59l7.72-7.72 1.47 1.35L5.41 20z\"/>\n",
              "  </svg>\n",
              "      </button>\n",
              "      \n",
              "  <style>\n",
              "    .colab-df-container {\n",
              "      display:flex;\n",
              "      flex-wrap:wrap;\n",
              "      gap: 12px;\n",
              "    }\n",
              "\n",
              "    .colab-df-convert {\n",
              "      background-color: #E8F0FE;\n",
              "      border: none;\n",
              "      border-radius: 50%;\n",
              "      cursor: pointer;\n",
              "      display: none;\n",
              "      fill: #1967D2;\n",
              "      height: 32px;\n",
              "      padding: 0 0 0 0;\n",
              "      width: 32px;\n",
              "    }\n",
              "\n",
              "    .colab-df-convert:hover {\n",
              "      background-color: #E2EBFA;\n",
              "      box-shadow: 0px 1px 2px rgba(60, 64, 67, 0.3), 0px 1px 3px 1px rgba(60, 64, 67, 0.15);\n",
              "      fill: #174EA6;\n",
              "    }\n",
              "\n",
              "    [theme=dark] .colab-df-convert {\n",
              "      background-color: #3B4455;\n",
              "      fill: #D2E3FC;\n",
              "    }\n",
              "\n",
              "    [theme=dark] .colab-df-convert:hover {\n",
              "      background-color: #434B5C;\n",
              "      box-shadow: 0px 1px 3px 1px rgba(0, 0, 0, 0.15);\n",
              "      filter: drop-shadow(0px 1px 2px rgba(0, 0, 0, 0.3));\n",
              "      fill: #FFFFFF;\n",
              "    }\n",
              "  </style>\n",
              "\n",
              "      <script>\n",
              "        const buttonEl =\n",
              "          document.querySelector('#df-c4ac3504-5176-482f-aed3-e9be3d09cd69 button.colab-df-convert');\n",
              "        buttonEl.style.display =\n",
              "          google.colab.kernel.accessAllowed ? 'block' : 'none';\n",
              "\n",
              "        async function convertToInteractive(key) {\n",
              "          const element = document.querySelector('#df-c4ac3504-5176-482f-aed3-e9be3d09cd69');\n",
              "          const dataTable =\n",
              "            await google.colab.kernel.invokeFunction('convertToInteractive',\n",
              "                                                     [key], {});\n",
              "          if (!dataTable) return;\n",
              "\n",
              "          const docLinkHtml = 'Like what you see? Visit the ' +\n",
              "            '<a target=\"_blank\" href=https://colab.research.google.com/notebooks/data_table.ipynb>data table notebook</a>'\n",
              "            + ' to learn more about interactive tables.';\n",
              "          element.innerHTML = '';\n",
              "          dataTable['output_type'] = 'display_data';\n",
              "          await google.colab.output.renderOutput(dataTable, element);\n",
              "          const docLink = document.createElement('div');\n",
              "          docLink.innerHTML = docLinkHtml;\n",
              "          element.appendChild(docLink);\n",
              "        }\n",
              "      </script>\n",
              "    </div>\n",
              "  </div>\n",
              "  "
            ]
          },
          "metadata": {},
          "execution_count": 107
        }
      ]
    },
    {
      "cell_type": "markdown",
      "source": [
        "## Задание 5"
      ],
      "metadata": {
        "id": "Zm7TQVvOsi2U"
      }
    },
    {
      "cell_type": "markdown",
      "source": [
        "Посчитать, сколько дополнительных баллов получит каждый абитуриент. Столбец с дополнительными баллами назвать Бонус. Информацию вывести в отсортированном по фамилиям виде.  \n",
        "https://stepik.org/lesson/310418/step/7?unit=292724 "
      ],
      "metadata": {
        "id": "UNgThuZZssYc"
      }
    },
    {
      "cell_type": "code",
      "source": [
        "sql = \"\"\"\n",
        "select name_enrollee, sum(iif(bonus is not null,bonus,0)) as Бонус\n",
        "from enrollee\n",
        "left join enrollee_achievement using(enrollee_id)\n",
        "left join achievement using(achievement_id)\n",
        "group by name_enrollee\n",
        "order by name_enrollee\n",
        "\"\"\""
      ],
      "metadata": {
        "id": "YE0e1tcbsm08"
      },
      "execution_count": null,
      "outputs": []
    },
    {
      "cell_type": "code",
      "source": [
        "select(sql)"
      ],
      "metadata": {
        "colab": {
          "base_uri": "https://localhost:8080/",
          "height": 238
        },
        "id": "cQsq9BaNsz60",
        "outputId": "315924e1-b785-4025-bff6-6b2ae775ffa1"
      },
      "execution_count": null,
      "outputs": [
        {
          "output_type": "execute_result",
          "data": {
            "text/plain": [
              "     name_enrollee  Бонус\n",
              "0    Абрамова Катя      0\n",
              "1    Баранов Павел      6\n",
              "2       Попов Илья      8\n",
              "3     Семенов Иван      5\n",
              "4  Степанова Дарья      0\n",
              "5  Яковлева Галина      1"
            ],
            "text/html": [
              "\n",
              "  <div id=\"df-4def2399-778c-46a3-9979-c9b1cf7f28c4\">\n",
              "    <div class=\"colab-df-container\">\n",
              "      <div>\n",
              "<style scoped>\n",
              "    .dataframe tbody tr th:only-of-type {\n",
              "        vertical-align: middle;\n",
              "    }\n",
              "\n",
              "    .dataframe tbody tr th {\n",
              "        vertical-align: top;\n",
              "    }\n",
              "\n",
              "    .dataframe thead th {\n",
              "        text-align: right;\n",
              "    }\n",
              "</style>\n",
              "<table border=\"1\" class=\"dataframe\">\n",
              "  <thead>\n",
              "    <tr style=\"text-align: right;\">\n",
              "      <th></th>\n",
              "      <th>name_enrollee</th>\n",
              "      <th>Бонус</th>\n",
              "    </tr>\n",
              "  </thead>\n",
              "  <tbody>\n",
              "    <tr>\n",
              "      <th>0</th>\n",
              "      <td>Абрамова Катя</td>\n",
              "      <td>0</td>\n",
              "    </tr>\n",
              "    <tr>\n",
              "      <th>1</th>\n",
              "      <td>Баранов Павел</td>\n",
              "      <td>6</td>\n",
              "    </tr>\n",
              "    <tr>\n",
              "      <th>2</th>\n",
              "      <td>Попов Илья</td>\n",
              "      <td>8</td>\n",
              "    </tr>\n",
              "    <tr>\n",
              "      <th>3</th>\n",
              "      <td>Семенов Иван</td>\n",
              "      <td>5</td>\n",
              "    </tr>\n",
              "    <tr>\n",
              "      <th>4</th>\n",
              "      <td>Степанова Дарья</td>\n",
              "      <td>0</td>\n",
              "    </tr>\n",
              "    <tr>\n",
              "      <th>5</th>\n",
              "      <td>Яковлева Галина</td>\n",
              "      <td>1</td>\n",
              "    </tr>\n",
              "  </tbody>\n",
              "</table>\n",
              "</div>\n",
              "      <button class=\"colab-df-convert\" onclick=\"convertToInteractive('df-4def2399-778c-46a3-9979-c9b1cf7f28c4')\"\n",
              "              title=\"Convert this dataframe to an interactive table.\"\n",
              "              style=\"display:none;\">\n",
              "        \n",
              "  <svg xmlns=\"http://www.w3.org/2000/svg\" height=\"24px\"viewBox=\"0 0 24 24\"\n",
              "       width=\"24px\">\n",
              "    <path d=\"M0 0h24v24H0V0z\" fill=\"none\"/>\n",
              "    <path d=\"M18.56 5.44l.94 2.06.94-2.06 2.06-.94-2.06-.94-.94-2.06-.94 2.06-2.06.94zm-11 1L8.5 8.5l.94-2.06 2.06-.94-2.06-.94L8.5 2.5l-.94 2.06-2.06.94zm10 10l.94 2.06.94-2.06 2.06-.94-2.06-.94-.94-2.06-.94 2.06-2.06.94z\"/><path d=\"M17.41 7.96l-1.37-1.37c-.4-.4-.92-.59-1.43-.59-.52 0-1.04.2-1.43.59L10.3 9.45l-7.72 7.72c-.78.78-.78 2.05 0 2.83L4 21.41c.39.39.9.59 1.41.59.51 0 1.02-.2 1.41-.59l7.78-7.78 2.81-2.81c.8-.78.8-2.07 0-2.86zM5.41 20L4 18.59l7.72-7.72 1.47 1.35L5.41 20z\"/>\n",
              "  </svg>\n",
              "      </button>\n",
              "      \n",
              "  <style>\n",
              "    .colab-df-container {\n",
              "      display:flex;\n",
              "      flex-wrap:wrap;\n",
              "      gap: 12px;\n",
              "    }\n",
              "\n",
              "    .colab-df-convert {\n",
              "      background-color: #E8F0FE;\n",
              "      border: none;\n",
              "      border-radius: 50%;\n",
              "      cursor: pointer;\n",
              "      display: none;\n",
              "      fill: #1967D2;\n",
              "      height: 32px;\n",
              "      padding: 0 0 0 0;\n",
              "      width: 32px;\n",
              "    }\n",
              "\n",
              "    .colab-df-convert:hover {\n",
              "      background-color: #E2EBFA;\n",
              "      box-shadow: 0px 1px 2px rgba(60, 64, 67, 0.3), 0px 1px 3px 1px rgba(60, 64, 67, 0.15);\n",
              "      fill: #174EA6;\n",
              "    }\n",
              "\n",
              "    [theme=dark] .colab-df-convert {\n",
              "      background-color: #3B4455;\n",
              "      fill: #D2E3FC;\n",
              "    }\n",
              "\n",
              "    [theme=dark] .colab-df-convert:hover {\n",
              "      background-color: #434B5C;\n",
              "      box-shadow: 0px 1px 3px 1px rgba(0, 0, 0, 0.15);\n",
              "      filter: drop-shadow(0px 1px 2px rgba(0, 0, 0, 0.3));\n",
              "      fill: #FFFFFF;\n",
              "    }\n",
              "  </style>\n",
              "\n",
              "      <script>\n",
              "        const buttonEl =\n",
              "          document.querySelector('#df-4def2399-778c-46a3-9979-c9b1cf7f28c4 button.colab-df-convert');\n",
              "        buttonEl.style.display =\n",
              "          google.colab.kernel.accessAllowed ? 'block' : 'none';\n",
              "\n",
              "        async function convertToInteractive(key) {\n",
              "          const element = document.querySelector('#df-4def2399-778c-46a3-9979-c9b1cf7f28c4');\n",
              "          const dataTable =\n",
              "            await google.colab.kernel.invokeFunction('convertToInteractive',\n",
              "                                                     [key], {});\n",
              "          if (!dataTable) return;\n",
              "\n",
              "          const docLinkHtml = 'Like what you see? Visit the ' +\n",
              "            '<a target=\"_blank\" href=https://colab.research.google.com/notebooks/data_table.ipynb>data table notebook</a>'\n",
              "            + ' to learn more about interactive tables.';\n",
              "          element.innerHTML = '';\n",
              "          dataTable['output_type'] = 'display_data';\n",
              "          await google.colab.output.renderOutput(dataTable, element);\n",
              "          const docLink = document.createElement('div');\n",
              "          docLink.innerHTML = docLinkHtml;\n",
              "          element.appendChild(docLink);\n",
              "        }\n",
              "      </script>\n",
              "    </div>\n",
              "  </div>\n",
              "  "
            ]
          },
          "metadata": {},
          "execution_count": 113
        }
      ]
    },
    {
      "cell_type": "markdown",
      "source": [
        "## Задание 6"
      ],
      "metadata": {
        "id": "8zaN-IvSs37M"
      }
    },
    {
      "cell_type": "markdown",
      "source": [
        "Выведите сколько человек подало заявление на каждую образовательную программу и конкурс на нее (число поданных заявлений деленное на количество мест по плану), округленный до 2-х знаков после запятой. В запросе вывести название факультета, к которому относится образовательная программа, название образовательной программы, план набора абитуриентов на образовательную программу (plan), количество поданных заявлений (Количество) и Конкурс. Информацию отсортировать в порядке убывания конкурса.  \n",
        "https://stepik.org/lesson/310418/step/8?unit=292724 "
      ],
      "metadata": {
        "id": "9S2LNH-ytCUk"
      }
    },
    {
      "cell_type": "code",
      "source": [
        "sql = \"\"\"\n",
        "select name_department,name_program,plan, count(enrollee_id) as Количество, round(count(enrollee_id)/plan,2) as Конкурс\n",
        "from program\n",
        "inner join program_enrollee using(program_id)\n",
        "inner join department using(department_id)\n",
        "group by name_department,name_program,plan\n",
        "order by Конкурс desc\n",
        "\"\"\""
      ],
      "metadata": {
        "id": "4SQDZ3L2tIBy"
      },
      "execution_count": null,
      "outputs": []
    },
    {
      "cell_type": "code",
      "source": [
        "select(sql)"
      ],
      "metadata": {
        "colab": {
          "base_uri": "https://localhost:8080/",
          "height": 175
        },
        "id": "ZAVhPqXrtKz0",
        "outputId": "f9d65095-a5c8-4d1e-92f2-aed0fa174ea9"
      },
      "execution_count": null,
      "outputs": [
        {
          "output_type": "execute_result",
          "data": {
            "text/plain": [
              "           name_department                         name_program  plan  \\\n",
              "0  Школа естественных наук      Математика и компьютерные науки     1   \n",
              "1         Инженерная школа                  Прикладная механика     2   \n",
              "2         Инженерная школа          Мехатроника и робототехника     3   \n",
              "3  Школа естественных наук  Прикладная математика и информатика     2   \n",
              "\n",
              "   Количество  Конкурс  \n",
              "0           3      3.0  \n",
              "1           4      2.0  \n",
              "2           4      1.0  \n",
              "3           3      1.0  "
            ],
            "text/html": [
              "\n",
              "  <div id=\"df-64c61669-b077-43b0-b151-a7e6b7097283\">\n",
              "    <div class=\"colab-df-container\">\n",
              "      <div>\n",
              "<style scoped>\n",
              "    .dataframe tbody tr th:only-of-type {\n",
              "        vertical-align: middle;\n",
              "    }\n",
              "\n",
              "    .dataframe tbody tr th {\n",
              "        vertical-align: top;\n",
              "    }\n",
              "\n",
              "    .dataframe thead th {\n",
              "        text-align: right;\n",
              "    }\n",
              "</style>\n",
              "<table border=\"1\" class=\"dataframe\">\n",
              "  <thead>\n",
              "    <tr style=\"text-align: right;\">\n",
              "      <th></th>\n",
              "      <th>name_department</th>\n",
              "      <th>name_program</th>\n",
              "      <th>plan</th>\n",
              "      <th>Количество</th>\n",
              "      <th>Конкурс</th>\n",
              "    </tr>\n",
              "  </thead>\n",
              "  <tbody>\n",
              "    <tr>\n",
              "      <th>0</th>\n",
              "      <td>Школа естественных наук</td>\n",
              "      <td>Математика и компьютерные науки</td>\n",
              "      <td>1</td>\n",
              "      <td>3</td>\n",
              "      <td>3.0</td>\n",
              "    </tr>\n",
              "    <tr>\n",
              "      <th>1</th>\n",
              "      <td>Инженерная школа</td>\n",
              "      <td>Прикладная механика</td>\n",
              "      <td>2</td>\n",
              "      <td>4</td>\n",
              "      <td>2.0</td>\n",
              "    </tr>\n",
              "    <tr>\n",
              "      <th>2</th>\n",
              "      <td>Инженерная школа</td>\n",
              "      <td>Мехатроника и робототехника</td>\n",
              "      <td>3</td>\n",
              "      <td>4</td>\n",
              "      <td>1.0</td>\n",
              "    </tr>\n",
              "    <tr>\n",
              "      <th>3</th>\n",
              "      <td>Школа естественных наук</td>\n",
              "      <td>Прикладная математика и информатика</td>\n",
              "      <td>2</td>\n",
              "      <td>3</td>\n",
              "      <td>1.0</td>\n",
              "    </tr>\n",
              "  </tbody>\n",
              "</table>\n",
              "</div>\n",
              "      <button class=\"colab-df-convert\" onclick=\"convertToInteractive('df-64c61669-b077-43b0-b151-a7e6b7097283')\"\n",
              "              title=\"Convert this dataframe to an interactive table.\"\n",
              "              style=\"display:none;\">\n",
              "        \n",
              "  <svg xmlns=\"http://www.w3.org/2000/svg\" height=\"24px\"viewBox=\"0 0 24 24\"\n",
              "       width=\"24px\">\n",
              "    <path d=\"M0 0h24v24H0V0z\" fill=\"none\"/>\n",
              "    <path d=\"M18.56 5.44l.94 2.06.94-2.06 2.06-.94-2.06-.94-.94-2.06-.94 2.06-2.06.94zm-11 1L8.5 8.5l.94-2.06 2.06-.94-2.06-.94L8.5 2.5l-.94 2.06-2.06.94zm10 10l.94 2.06.94-2.06 2.06-.94-2.06-.94-.94-2.06-.94 2.06-2.06.94z\"/><path d=\"M17.41 7.96l-1.37-1.37c-.4-.4-.92-.59-1.43-.59-.52 0-1.04.2-1.43.59L10.3 9.45l-7.72 7.72c-.78.78-.78 2.05 0 2.83L4 21.41c.39.39.9.59 1.41.59.51 0 1.02-.2 1.41-.59l7.78-7.78 2.81-2.81c.8-.78.8-2.07 0-2.86zM5.41 20L4 18.59l7.72-7.72 1.47 1.35L5.41 20z\"/>\n",
              "  </svg>\n",
              "      </button>\n",
              "      \n",
              "  <style>\n",
              "    .colab-df-container {\n",
              "      display:flex;\n",
              "      flex-wrap:wrap;\n",
              "      gap: 12px;\n",
              "    }\n",
              "\n",
              "    .colab-df-convert {\n",
              "      background-color: #E8F0FE;\n",
              "      border: none;\n",
              "      border-radius: 50%;\n",
              "      cursor: pointer;\n",
              "      display: none;\n",
              "      fill: #1967D2;\n",
              "      height: 32px;\n",
              "      padding: 0 0 0 0;\n",
              "      width: 32px;\n",
              "    }\n",
              "\n",
              "    .colab-df-convert:hover {\n",
              "      background-color: #E2EBFA;\n",
              "      box-shadow: 0px 1px 2px rgba(60, 64, 67, 0.3), 0px 1px 3px 1px rgba(60, 64, 67, 0.15);\n",
              "      fill: #174EA6;\n",
              "    }\n",
              "\n",
              "    [theme=dark] .colab-df-convert {\n",
              "      background-color: #3B4455;\n",
              "      fill: #D2E3FC;\n",
              "    }\n",
              "\n",
              "    [theme=dark] .colab-df-convert:hover {\n",
              "      background-color: #434B5C;\n",
              "      box-shadow: 0px 1px 3px 1px rgba(0, 0, 0, 0.15);\n",
              "      filter: drop-shadow(0px 1px 2px rgba(0, 0, 0, 0.3));\n",
              "      fill: #FFFFFF;\n",
              "    }\n",
              "  </style>\n",
              "\n",
              "      <script>\n",
              "        const buttonEl =\n",
              "          document.querySelector('#df-64c61669-b077-43b0-b151-a7e6b7097283 button.colab-df-convert');\n",
              "        buttonEl.style.display =\n",
              "          google.colab.kernel.accessAllowed ? 'block' : 'none';\n",
              "\n",
              "        async function convertToInteractive(key) {\n",
              "          const element = document.querySelector('#df-64c61669-b077-43b0-b151-a7e6b7097283');\n",
              "          const dataTable =\n",
              "            await google.colab.kernel.invokeFunction('convertToInteractive',\n",
              "                                                     [key], {});\n",
              "          if (!dataTable) return;\n",
              "\n",
              "          const docLinkHtml = 'Like what you see? Visit the ' +\n",
              "            '<a target=\"_blank\" href=https://colab.research.google.com/notebooks/data_table.ipynb>data table notebook</a>'\n",
              "            + ' to learn more about interactive tables.';\n",
              "          element.innerHTML = '';\n",
              "          dataTable['output_type'] = 'display_data';\n",
              "          await google.colab.output.renderOutput(dataTable, element);\n",
              "          const docLink = document.createElement('div');\n",
              "          docLink.innerHTML = docLinkHtml;\n",
              "          element.appendChild(docLink);\n",
              "        }\n",
              "      </script>\n",
              "    </div>\n",
              "  </div>\n",
              "  "
            ]
          },
          "metadata": {},
          "execution_count": 115
        }
      ]
    },
    {
      "cell_type": "markdown",
      "source": [
        "## Задание 7"
      ],
      "metadata": {
        "id": "-ZkopYQktL-8"
      }
    },
    {
      "cell_type": "markdown",
      "source": [
        "Вывести образовательные программы, на которые для поступления необходимы предмет «Информатика» и «Математика» в отсортированном по названию программ виде.  \n",
        "https://stepik.org/lesson/310418/step/9?unit=292724"
      ],
      "metadata": {
        "id": "sFl65dEitOP0"
      }
    },
    {
      "cell_type": "code",
      "source": [
        "sql = '''\n",
        "select name_program from\n",
        "(\n",
        "select name_program,count(name_subject) as cum from program\n",
        "inner join program_subject using(program_id)\n",
        "inner join subject using(subject_id)\n",
        "where name_subject='Информатика' or name_subject='Математика'\n",
        "group by name_program\n",
        "having count(name_subject) = 2\n",
        ") as table1\n",
        "order by name_program\n",
        "'''"
      ],
      "metadata": {
        "id": "92qi9yaBtT5D"
      },
      "execution_count": null,
      "outputs": []
    },
    {
      "cell_type": "code",
      "source": [
        "select(sql)"
      ],
      "metadata": {
        "colab": {
          "base_uri": "https://localhost:8080/",
          "height": 112
        },
        "id": "ueSfCBH1tXvk",
        "outputId": "9f8fcb80-7234-42ca-c860-3d2fc6821c76"
      },
      "execution_count": null,
      "outputs": [
        {
          "output_type": "execute_result",
          "data": {
            "text/plain": [
              "                          name_program\n",
              "0      Математика и компьютерные науки\n",
              "1  Прикладная математика и информатика"
            ],
            "text/html": [
              "\n",
              "  <div id=\"df-ec4d7110-fd3b-4275-ae8e-70fea0892487\">\n",
              "    <div class=\"colab-df-container\">\n",
              "      <div>\n",
              "<style scoped>\n",
              "    .dataframe tbody tr th:only-of-type {\n",
              "        vertical-align: middle;\n",
              "    }\n",
              "\n",
              "    .dataframe tbody tr th {\n",
              "        vertical-align: top;\n",
              "    }\n",
              "\n",
              "    .dataframe thead th {\n",
              "        text-align: right;\n",
              "    }\n",
              "</style>\n",
              "<table border=\"1\" class=\"dataframe\">\n",
              "  <thead>\n",
              "    <tr style=\"text-align: right;\">\n",
              "      <th></th>\n",
              "      <th>name_program</th>\n",
              "    </tr>\n",
              "  </thead>\n",
              "  <tbody>\n",
              "    <tr>\n",
              "      <th>0</th>\n",
              "      <td>Математика и компьютерные науки</td>\n",
              "    </tr>\n",
              "    <tr>\n",
              "      <th>1</th>\n",
              "      <td>Прикладная математика и информатика</td>\n",
              "    </tr>\n",
              "  </tbody>\n",
              "</table>\n",
              "</div>\n",
              "      <button class=\"colab-df-convert\" onclick=\"convertToInteractive('df-ec4d7110-fd3b-4275-ae8e-70fea0892487')\"\n",
              "              title=\"Convert this dataframe to an interactive table.\"\n",
              "              style=\"display:none;\">\n",
              "        \n",
              "  <svg xmlns=\"http://www.w3.org/2000/svg\" height=\"24px\"viewBox=\"0 0 24 24\"\n",
              "       width=\"24px\">\n",
              "    <path d=\"M0 0h24v24H0V0z\" fill=\"none\"/>\n",
              "    <path d=\"M18.56 5.44l.94 2.06.94-2.06 2.06-.94-2.06-.94-.94-2.06-.94 2.06-2.06.94zm-11 1L8.5 8.5l.94-2.06 2.06-.94-2.06-.94L8.5 2.5l-.94 2.06-2.06.94zm10 10l.94 2.06.94-2.06 2.06-.94-2.06-.94-.94-2.06-.94 2.06-2.06.94z\"/><path d=\"M17.41 7.96l-1.37-1.37c-.4-.4-.92-.59-1.43-.59-.52 0-1.04.2-1.43.59L10.3 9.45l-7.72 7.72c-.78.78-.78 2.05 0 2.83L4 21.41c.39.39.9.59 1.41.59.51 0 1.02-.2 1.41-.59l7.78-7.78 2.81-2.81c.8-.78.8-2.07 0-2.86zM5.41 20L4 18.59l7.72-7.72 1.47 1.35L5.41 20z\"/>\n",
              "  </svg>\n",
              "      </button>\n",
              "      \n",
              "  <style>\n",
              "    .colab-df-container {\n",
              "      display:flex;\n",
              "      flex-wrap:wrap;\n",
              "      gap: 12px;\n",
              "    }\n",
              "\n",
              "    .colab-df-convert {\n",
              "      background-color: #E8F0FE;\n",
              "      border: none;\n",
              "      border-radius: 50%;\n",
              "      cursor: pointer;\n",
              "      display: none;\n",
              "      fill: #1967D2;\n",
              "      height: 32px;\n",
              "      padding: 0 0 0 0;\n",
              "      width: 32px;\n",
              "    }\n",
              "\n",
              "    .colab-df-convert:hover {\n",
              "      background-color: #E2EBFA;\n",
              "      box-shadow: 0px 1px 2px rgba(60, 64, 67, 0.3), 0px 1px 3px 1px rgba(60, 64, 67, 0.15);\n",
              "      fill: #174EA6;\n",
              "    }\n",
              "\n",
              "    [theme=dark] .colab-df-convert {\n",
              "      background-color: #3B4455;\n",
              "      fill: #D2E3FC;\n",
              "    }\n",
              "\n",
              "    [theme=dark] .colab-df-convert:hover {\n",
              "      background-color: #434B5C;\n",
              "      box-shadow: 0px 1px 3px 1px rgba(0, 0, 0, 0.15);\n",
              "      filter: drop-shadow(0px 1px 2px rgba(0, 0, 0, 0.3));\n",
              "      fill: #FFFFFF;\n",
              "    }\n",
              "  </style>\n",
              "\n",
              "      <script>\n",
              "        const buttonEl =\n",
              "          document.querySelector('#df-ec4d7110-fd3b-4275-ae8e-70fea0892487 button.colab-df-convert');\n",
              "        buttonEl.style.display =\n",
              "          google.colab.kernel.accessAllowed ? 'block' : 'none';\n",
              "\n",
              "        async function convertToInteractive(key) {\n",
              "          const element = document.querySelector('#df-ec4d7110-fd3b-4275-ae8e-70fea0892487');\n",
              "          const dataTable =\n",
              "            await google.colab.kernel.invokeFunction('convertToInteractive',\n",
              "                                                     [key], {});\n",
              "          if (!dataTable) return;\n",
              "\n",
              "          const docLinkHtml = 'Like what you see? Visit the ' +\n",
              "            '<a target=\"_blank\" href=https://colab.research.google.com/notebooks/data_table.ipynb>data table notebook</a>'\n",
              "            + ' to learn more about interactive tables.';\n",
              "          element.innerHTML = '';\n",
              "          dataTable['output_type'] = 'display_data';\n",
              "          await google.colab.output.renderOutput(dataTable, element);\n",
              "          const docLink = document.createElement('div');\n",
              "          docLink.innerHTML = docLinkHtml;\n",
              "          element.appendChild(docLink);\n",
              "        }\n",
              "      </script>\n",
              "    </div>\n",
              "  </div>\n",
              "  "
            ]
          },
          "metadata": {},
          "execution_count": 117
        }
      ]
    },
    {
      "cell_type": "markdown",
      "source": [
        "## Задание 8"
      ],
      "metadata": {
        "id": "SrvB7SBOtYrz"
      }
    },
    {
      "cell_type": "markdown",
      "source": [
        "Посчитать количество баллов каждого абитуриента на каждую образовательную программу, на которую он подал заявление, по результатам ЕГЭ. В результат включить название образовательной программы, фамилию и имя абитуриента, а также столбец с суммой баллов, который назвать itog. Информацию вывести в отсортированном сначала по образовательной программе, а потом по убыванию суммы баллов виде.  \n",
        "https://stepik.org/lesson/310418/step/10?unit=292724"
      ],
      "metadata": {
        "id": "csCAUPiAtdiE"
      }
    },
    {
      "cell_type": "code",
      "source": [
        "sql = '''\n",
        "select name_program,name_enrollee,sum(result) as itog\n",
        "from program_enrollee\n",
        "inner join program on program.program_id = program_enrollee.program_id\n",
        "inner join enrollee_subject on enrollee_subject.enrollee_id = program_enrollee.enrollee_id\n",
        "inner join program_subject on program_subject.program_id =program.program_id\n",
        "and enrollee_subject.subject_id = program_subject.subject_id\n",
        "\n",
        "inner join enrollee on enrollee.enrollee_id = program_enrollee.enrollee_id\n",
        "group by name_program,name_enrollee\n",
        "order by name_program, itog desc\n",
        "'''"
      ],
      "metadata": {
        "id": "QV5PRX44thjs"
      },
      "execution_count": null,
      "outputs": []
    },
    {
      "cell_type": "code",
      "source": [
        "select(sql)"
      ],
      "metadata": {
        "colab": {
          "base_uri": "https://localhost:8080/",
          "height": 488
        },
        "id": "NyRzHRm_tkW7",
        "outputId": "ba2b1a55-cd86-49d2-8d46-bb3c46afd567"
      },
      "execution_count": null,
      "outputs": [
        {
          "output_type": "execute_result",
          "data": {
            "text/plain": [
              "                           name_program    name_enrollee  itog\n",
              "0       Математика и компьютерные науки  Степанова Дарья   276\n",
              "1       Математика и компьютерные науки     Семенов Иван   230\n",
              "2       Математика и компьютерные науки    Абрамова Катя   226\n",
              "3           Мехатроника и робототехника  Степанова Дарья   270\n",
              "4           Мехатроника и робототехника     Семенов Иван   242\n",
              "5           Мехатроника и робототехника       Попов Илья   192\n",
              "6           Мехатроника и робототехника    Баранов Павел   179\n",
              "7   Прикладная математика и информатика     Семенов Иван   230\n",
              "8   Прикладная математика и информатика    Абрамова Катя   226\n",
              "9   Прикладная математика и информатика    Баранов Павел   213\n",
              "10                  Прикладная механика  Степанова Дарья   270\n",
              "11                  Прикладная механика  Яковлева Галина   238\n",
              "12                  Прикладная механика       Попов Илья   192\n",
              "13                  Прикладная механика    Баранов Павел   179"
            ],
            "text/html": [
              "\n",
              "  <div id=\"df-35f70696-a4ef-43db-97b0-4c3b79fab3dd\">\n",
              "    <div class=\"colab-df-container\">\n",
              "      <div>\n",
              "<style scoped>\n",
              "    .dataframe tbody tr th:only-of-type {\n",
              "        vertical-align: middle;\n",
              "    }\n",
              "\n",
              "    .dataframe tbody tr th {\n",
              "        vertical-align: top;\n",
              "    }\n",
              "\n",
              "    .dataframe thead th {\n",
              "        text-align: right;\n",
              "    }\n",
              "</style>\n",
              "<table border=\"1\" class=\"dataframe\">\n",
              "  <thead>\n",
              "    <tr style=\"text-align: right;\">\n",
              "      <th></th>\n",
              "      <th>name_program</th>\n",
              "      <th>name_enrollee</th>\n",
              "      <th>itog</th>\n",
              "    </tr>\n",
              "  </thead>\n",
              "  <tbody>\n",
              "    <tr>\n",
              "      <th>0</th>\n",
              "      <td>Математика и компьютерные науки</td>\n",
              "      <td>Степанова Дарья</td>\n",
              "      <td>276</td>\n",
              "    </tr>\n",
              "    <tr>\n",
              "      <th>1</th>\n",
              "      <td>Математика и компьютерные науки</td>\n",
              "      <td>Семенов Иван</td>\n",
              "      <td>230</td>\n",
              "    </tr>\n",
              "    <tr>\n",
              "      <th>2</th>\n",
              "      <td>Математика и компьютерные науки</td>\n",
              "      <td>Абрамова Катя</td>\n",
              "      <td>226</td>\n",
              "    </tr>\n",
              "    <tr>\n",
              "      <th>3</th>\n",
              "      <td>Мехатроника и робототехника</td>\n",
              "      <td>Степанова Дарья</td>\n",
              "      <td>270</td>\n",
              "    </tr>\n",
              "    <tr>\n",
              "      <th>4</th>\n",
              "      <td>Мехатроника и робототехника</td>\n",
              "      <td>Семенов Иван</td>\n",
              "      <td>242</td>\n",
              "    </tr>\n",
              "    <tr>\n",
              "      <th>5</th>\n",
              "      <td>Мехатроника и робототехника</td>\n",
              "      <td>Попов Илья</td>\n",
              "      <td>192</td>\n",
              "    </tr>\n",
              "    <tr>\n",
              "      <th>6</th>\n",
              "      <td>Мехатроника и робототехника</td>\n",
              "      <td>Баранов Павел</td>\n",
              "      <td>179</td>\n",
              "    </tr>\n",
              "    <tr>\n",
              "      <th>7</th>\n",
              "      <td>Прикладная математика и информатика</td>\n",
              "      <td>Семенов Иван</td>\n",
              "      <td>230</td>\n",
              "    </tr>\n",
              "    <tr>\n",
              "      <th>8</th>\n",
              "      <td>Прикладная математика и информатика</td>\n",
              "      <td>Абрамова Катя</td>\n",
              "      <td>226</td>\n",
              "    </tr>\n",
              "    <tr>\n",
              "      <th>9</th>\n",
              "      <td>Прикладная математика и информатика</td>\n",
              "      <td>Баранов Павел</td>\n",
              "      <td>213</td>\n",
              "    </tr>\n",
              "    <tr>\n",
              "      <th>10</th>\n",
              "      <td>Прикладная механика</td>\n",
              "      <td>Степанова Дарья</td>\n",
              "      <td>270</td>\n",
              "    </tr>\n",
              "    <tr>\n",
              "      <th>11</th>\n",
              "      <td>Прикладная механика</td>\n",
              "      <td>Яковлева Галина</td>\n",
              "      <td>238</td>\n",
              "    </tr>\n",
              "    <tr>\n",
              "      <th>12</th>\n",
              "      <td>Прикладная механика</td>\n",
              "      <td>Попов Илья</td>\n",
              "      <td>192</td>\n",
              "    </tr>\n",
              "    <tr>\n",
              "      <th>13</th>\n",
              "      <td>Прикладная механика</td>\n",
              "      <td>Баранов Павел</td>\n",
              "      <td>179</td>\n",
              "    </tr>\n",
              "  </tbody>\n",
              "</table>\n",
              "</div>\n",
              "      <button class=\"colab-df-convert\" onclick=\"convertToInteractive('df-35f70696-a4ef-43db-97b0-4c3b79fab3dd')\"\n",
              "              title=\"Convert this dataframe to an interactive table.\"\n",
              "              style=\"display:none;\">\n",
              "        \n",
              "  <svg xmlns=\"http://www.w3.org/2000/svg\" height=\"24px\"viewBox=\"0 0 24 24\"\n",
              "       width=\"24px\">\n",
              "    <path d=\"M0 0h24v24H0V0z\" fill=\"none\"/>\n",
              "    <path d=\"M18.56 5.44l.94 2.06.94-2.06 2.06-.94-2.06-.94-.94-2.06-.94 2.06-2.06.94zm-11 1L8.5 8.5l.94-2.06 2.06-.94-2.06-.94L8.5 2.5l-.94 2.06-2.06.94zm10 10l.94 2.06.94-2.06 2.06-.94-2.06-.94-.94-2.06-.94 2.06-2.06.94z\"/><path d=\"M17.41 7.96l-1.37-1.37c-.4-.4-.92-.59-1.43-.59-.52 0-1.04.2-1.43.59L10.3 9.45l-7.72 7.72c-.78.78-.78 2.05 0 2.83L4 21.41c.39.39.9.59 1.41.59.51 0 1.02-.2 1.41-.59l7.78-7.78 2.81-2.81c.8-.78.8-2.07 0-2.86zM5.41 20L4 18.59l7.72-7.72 1.47 1.35L5.41 20z\"/>\n",
              "  </svg>\n",
              "      </button>\n",
              "      \n",
              "  <style>\n",
              "    .colab-df-container {\n",
              "      display:flex;\n",
              "      flex-wrap:wrap;\n",
              "      gap: 12px;\n",
              "    }\n",
              "\n",
              "    .colab-df-convert {\n",
              "      background-color: #E8F0FE;\n",
              "      border: none;\n",
              "      border-radius: 50%;\n",
              "      cursor: pointer;\n",
              "      display: none;\n",
              "      fill: #1967D2;\n",
              "      height: 32px;\n",
              "      padding: 0 0 0 0;\n",
              "      width: 32px;\n",
              "    }\n",
              "\n",
              "    .colab-df-convert:hover {\n",
              "      background-color: #E2EBFA;\n",
              "      box-shadow: 0px 1px 2px rgba(60, 64, 67, 0.3), 0px 1px 3px 1px rgba(60, 64, 67, 0.15);\n",
              "      fill: #174EA6;\n",
              "    }\n",
              "\n",
              "    [theme=dark] .colab-df-convert {\n",
              "      background-color: #3B4455;\n",
              "      fill: #D2E3FC;\n",
              "    }\n",
              "\n",
              "    [theme=dark] .colab-df-convert:hover {\n",
              "      background-color: #434B5C;\n",
              "      box-shadow: 0px 1px 3px 1px rgba(0, 0, 0, 0.15);\n",
              "      filter: drop-shadow(0px 1px 2px rgba(0, 0, 0, 0.3));\n",
              "      fill: #FFFFFF;\n",
              "    }\n",
              "  </style>\n",
              "\n",
              "      <script>\n",
              "        const buttonEl =\n",
              "          document.querySelector('#df-35f70696-a4ef-43db-97b0-4c3b79fab3dd button.colab-df-convert');\n",
              "        buttonEl.style.display =\n",
              "          google.colab.kernel.accessAllowed ? 'block' : 'none';\n",
              "\n",
              "        async function convertToInteractive(key) {\n",
              "          const element = document.querySelector('#df-35f70696-a4ef-43db-97b0-4c3b79fab3dd');\n",
              "          const dataTable =\n",
              "            await google.colab.kernel.invokeFunction('convertToInteractive',\n",
              "                                                     [key], {});\n",
              "          if (!dataTable) return;\n",
              "\n",
              "          const docLinkHtml = 'Like what you see? Visit the ' +\n",
              "            '<a target=\"_blank\" href=https://colab.research.google.com/notebooks/data_table.ipynb>data table notebook</a>'\n",
              "            + ' to learn more about interactive tables.';\n",
              "          element.innerHTML = '';\n",
              "          dataTable['output_type'] = 'display_data';\n",
              "          await google.colab.output.renderOutput(dataTable, element);\n",
              "          const docLink = document.createElement('div');\n",
              "          docLink.innerHTML = docLinkHtml;\n",
              "          element.appendChild(docLink);\n",
              "        }\n",
              "      </script>\n",
              "    </div>\n",
              "  </div>\n",
              "  "
            ]
          },
          "metadata": {},
          "execution_count": 119
        }
      ]
    },
    {
      "cell_type": "markdown",
      "source": [
        "## Задание 9"
      ],
      "metadata": {
        "id": "iYT34g2Atli8"
      }
    },
    {
      "cell_type": "markdown",
      "source": [
        "Вывести название образовательной программы и фамилию тех абитуриентов, которые подавали документы на эту образовательную программу, но не могут быть зачислены на нее. Эти абитуриенты имеют результат по одному или нескольким предметам ЕГЭ, необходимым для поступления на эту образовательную программу, меньше минимального балла. Информацию вывести в отсортированном сначала по программам, а потом по фамилиям абитуриентов виде.  \n",
        "https://stepik.org/lesson/310418/step/11?unit=292724"
      ],
      "metadata": {
        "id": "vm8dcCgTton7"
      }
    },
    {
      "cell_type": "code",
      "source": [
        "sql = '''\n",
        "select name_program ,name_enrollee\n",
        "from enrollee_subject\n",
        "inner join subject using(subject_id)\n",
        "inner join program_enrollee using(enrollee_id)\n",
        "inner join program_subject on program_subject.subject_id = subject.subject_id\n",
        "and program_subject.program_id = program_enrollee.program_id\n",
        "inner join program on program.program_id = program_enrollee.program_id\n",
        "inner join enrollee on enrollee.enrollee_id = enrollee_subject.enrollee_id\n",
        "where  result<min_result \n",
        "order by name_program,name_enrollee\n",
        "'''"
      ],
      "metadata": {
        "id": "63C48n3ctvcM"
      },
      "execution_count": null,
      "outputs": []
    },
    {
      "cell_type": "code",
      "source": [
        "select(sql)"
      ],
      "metadata": {
        "colab": {
          "base_uri": "https://localhost:8080/",
          "height": 112
        },
        "id": "z6cfnFVHty98",
        "outputId": "01c68375-5481-48a4-9c43-293e9221c33d"
      },
      "execution_count": null,
      "outputs": [
        {
          "output_type": "execute_result",
          "data": {
            "text/plain": [
              "                  name_program  name_enrollee\n",
              "0  Мехатроника и робототехника  Баранов Павел\n",
              "1          Прикладная механика  Баранов Павел"
            ],
            "text/html": [
              "\n",
              "  <div id=\"df-115d273f-dd90-4e48-bc13-be7c8bc16647\">\n",
              "    <div class=\"colab-df-container\">\n",
              "      <div>\n",
              "<style scoped>\n",
              "    .dataframe tbody tr th:only-of-type {\n",
              "        vertical-align: middle;\n",
              "    }\n",
              "\n",
              "    .dataframe tbody tr th {\n",
              "        vertical-align: top;\n",
              "    }\n",
              "\n",
              "    .dataframe thead th {\n",
              "        text-align: right;\n",
              "    }\n",
              "</style>\n",
              "<table border=\"1\" class=\"dataframe\">\n",
              "  <thead>\n",
              "    <tr style=\"text-align: right;\">\n",
              "      <th></th>\n",
              "      <th>name_program</th>\n",
              "      <th>name_enrollee</th>\n",
              "    </tr>\n",
              "  </thead>\n",
              "  <tbody>\n",
              "    <tr>\n",
              "      <th>0</th>\n",
              "      <td>Мехатроника и робототехника</td>\n",
              "      <td>Баранов Павел</td>\n",
              "    </tr>\n",
              "    <tr>\n",
              "      <th>1</th>\n",
              "      <td>Прикладная механика</td>\n",
              "      <td>Баранов Павел</td>\n",
              "    </tr>\n",
              "  </tbody>\n",
              "</table>\n",
              "</div>\n",
              "      <button class=\"colab-df-convert\" onclick=\"convertToInteractive('df-115d273f-dd90-4e48-bc13-be7c8bc16647')\"\n",
              "              title=\"Convert this dataframe to an interactive table.\"\n",
              "              style=\"display:none;\">\n",
              "        \n",
              "  <svg xmlns=\"http://www.w3.org/2000/svg\" height=\"24px\"viewBox=\"0 0 24 24\"\n",
              "       width=\"24px\">\n",
              "    <path d=\"M0 0h24v24H0V0z\" fill=\"none\"/>\n",
              "    <path d=\"M18.56 5.44l.94 2.06.94-2.06 2.06-.94-2.06-.94-.94-2.06-.94 2.06-2.06.94zm-11 1L8.5 8.5l.94-2.06 2.06-.94-2.06-.94L8.5 2.5l-.94 2.06-2.06.94zm10 10l.94 2.06.94-2.06 2.06-.94-2.06-.94-.94-2.06-.94 2.06-2.06.94z\"/><path d=\"M17.41 7.96l-1.37-1.37c-.4-.4-.92-.59-1.43-.59-.52 0-1.04.2-1.43.59L10.3 9.45l-7.72 7.72c-.78.78-.78 2.05 0 2.83L4 21.41c.39.39.9.59 1.41.59.51 0 1.02-.2 1.41-.59l7.78-7.78 2.81-2.81c.8-.78.8-2.07 0-2.86zM5.41 20L4 18.59l7.72-7.72 1.47 1.35L5.41 20z\"/>\n",
              "  </svg>\n",
              "      </button>\n",
              "      \n",
              "  <style>\n",
              "    .colab-df-container {\n",
              "      display:flex;\n",
              "      flex-wrap:wrap;\n",
              "      gap: 12px;\n",
              "    }\n",
              "\n",
              "    .colab-df-convert {\n",
              "      background-color: #E8F0FE;\n",
              "      border: none;\n",
              "      border-radius: 50%;\n",
              "      cursor: pointer;\n",
              "      display: none;\n",
              "      fill: #1967D2;\n",
              "      height: 32px;\n",
              "      padding: 0 0 0 0;\n",
              "      width: 32px;\n",
              "    }\n",
              "\n",
              "    .colab-df-convert:hover {\n",
              "      background-color: #E2EBFA;\n",
              "      box-shadow: 0px 1px 2px rgba(60, 64, 67, 0.3), 0px 1px 3px 1px rgba(60, 64, 67, 0.15);\n",
              "      fill: #174EA6;\n",
              "    }\n",
              "\n",
              "    [theme=dark] .colab-df-convert {\n",
              "      background-color: #3B4455;\n",
              "      fill: #D2E3FC;\n",
              "    }\n",
              "\n",
              "    [theme=dark] .colab-df-convert:hover {\n",
              "      background-color: #434B5C;\n",
              "      box-shadow: 0px 1px 3px 1px rgba(0, 0, 0, 0.15);\n",
              "      filter: drop-shadow(0px 1px 2px rgba(0, 0, 0, 0.3));\n",
              "      fill: #FFFFFF;\n",
              "    }\n",
              "  </style>\n",
              "\n",
              "      <script>\n",
              "        const buttonEl =\n",
              "          document.querySelector('#df-115d273f-dd90-4e48-bc13-be7c8bc16647 button.colab-df-convert');\n",
              "        buttonEl.style.display =\n",
              "          google.colab.kernel.accessAllowed ? 'block' : 'none';\n",
              "\n",
              "        async function convertToInteractive(key) {\n",
              "          const element = document.querySelector('#df-115d273f-dd90-4e48-bc13-be7c8bc16647');\n",
              "          const dataTable =\n",
              "            await google.colab.kernel.invokeFunction('convertToInteractive',\n",
              "                                                     [key], {});\n",
              "          if (!dataTable) return;\n",
              "\n",
              "          const docLinkHtml = 'Like what you see? Visit the ' +\n",
              "            '<a target=\"_blank\" href=https://colab.research.google.com/notebooks/data_table.ipynb>data table notebook</a>'\n",
              "            + ' to learn more about interactive tables.';\n",
              "          element.innerHTML = '';\n",
              "          dataTable['output_type'] = 'display_data';\n",
              "          await google.colab.output.renderOutput(dataTable, element);\n",
              "          const docLink = document.createElement('div');\n",
              "          docLink.innerHTML = docLinkHtml;\n",
              "          element.appendChild(docLink);\n",
              "        }\n",
              "      </script>\n",
              "    </div>\n",
              "  </div>\n",
              "  "
            ]
          },
          "metadata": {},
          "execution_count": 121
        }
      ]
    },
    {
      "cell_type": "markdown",
      "source": [
        "# Leetcode"
      ],
      "metadata": {
        "id": "cbhd1ZNFwQfb"
      }
    },
    {
      "cell_type": "markdown",
      "source": [
        "**Все запросы написаны на sqlite3**"
      ],
      "metadata": {
        "id": "uj1RltC7XA1w"
      }
    },
    {
      "cell_type": "markdown",
      "source": [
        "## Задачи уровня Easy"
      ],
      "metadata": {
        "id": "aufsa6-9BGZR"
      }
    },
    {
      "cell_type": "markdown",
      "source": [
        "### Задание 10"
      ],
      "metadata": {
        "id": "JayDUIRgHynR"
      }
    },
    {
      "cell_type": "code",
      "source": [
        "con = sqlite3.connect('data3')"
      ],
      "metadata": {
        "id": "oZvTGcEaEJwx"
      },
      "execution_count": null,
      "outputs": []
    },
    {
      "cell_type": "code",
      "source": [
        "cur = con.cursor()"
      ],
      "metadata": {
        "id": "GiVzNlVcEJwy"
      },
      "execution_count": null,
      "outputs": []
    },
    {
      "cell_type": "markdown",
      "source": [
        "Напишите запрос SQL, чтобы сообщить имя, фамилию, город и состояние каждого человека в Person таблице. Если personId отсутствует в Addressтаблице, сообщите null вместо этого.  \n",
        "https://leetcode.com/problems/combine-two-tables/  "
      ],
      "metadata": {
        "id": "BvvRxAJGIU8Y"
      }
    },
    {
      "cell_type": "code",
      "source": [
        "sql = '''\n",
        "Create table If Not Exists Person (personId int, firstName varchar(255), lastName varchar(255))\n",
        "Create table If Not Exists Address (addressId int, personId int, city varchar(255), state varchar(255))\n",
        "insert into Person (personId, lastName, firstName) values ('1', 'Wang', 'Allen')\n",
        "insert into Person (personId, lastName, firstName) values ('2', 'Alice', 'Bob')\n",
        "insert into Address (addressId, personId, city, state) values ('1', '2', 'New York City', 'New York')\n",
        "insert into Address (addressId, personId, city, state) values ('2', '3', 'Leetcode', 'California')\n",
        "'''"
      ],
      "metadata": {
        "id": "_oXq14nWv-jU"
      },
      "execution_count": null,
      "outputs": []
    },
    {
      "cell_type": "code",
      "source": [
        "sql = ';\\n'.join(sql.split('\\n'))"
      ],
      "metadata": {
        "id": "upUfvTsMvqCT"
      },
      "execution_count": null,
      "outputs": []
    },
    {
      "cell_type": "code",
      "source": [
        "cur.executescript(sql)"
      ],
      "metadata": {
        "colab": {
          "base_uri": "https://localhost:8080/"
        },
        "id": "56I4CYxFvZz8",
        "outputId": "e8cfc8db-ecda-4602-ec47-f0152f025450"
      },
      "execution_count": null,
      "outputs": [
        {
          "output_type": "execute_result",
          "data": {
            "text/plain": [
              "<pysqlite3.dbapi2.Cursor at 0x7fb2f70e6b20>"
            ]
          },
          "metadata": {},
          "execution_count": 210
        }
      ]
    },
    {
      "cell_type": "code",
      "source": [
        "sql ='''\n",
        "select p.firstName, p.lastName, a.city, a.state\n",
        "from Person p\n",
        "left join Address a on a.personId = p.personId\n",
        "'''"
      ],
      "metadata": {
        "id": "74aL9SQcvN88"
      },
      "execution_count": null,
      "outputs": []
    },
    {
      "cell_type": "code",
      "source": [
        "select(sql)"
      ],
      "metadata": {
        "colab": {
          "base_uri": "https://localhost:8080/",
          "height": 112
        },
        "id": "dYAQfCMAvAlc",
        "outputId": "a76b9d42-7eca-4a4e-8e13-ab450e1607d7"
      },
      "execution_count": null,
      "outputs": [
        {
          "output_type": "execute_result",
          "data": {
            "text/plain": [
              "  firstName lastName           city     state\n",
              "0     Allen     Wang           None      None\n",
              "1       Bob    Alice  New York City  New York"
            ],
            "text/html": [
              "\n",
              "  <div id=\"df-83c0238c-b2e4-4fe9-b82a-0d9363956985\">\n",
              "    <div class=\"colab-df-container\">\n",
              "      <div>\n",
              "<style scoped>\n",
              "    .dataframe tbody tr th:only-of-type {\n",
              "        vertical-align: middle;\n",
              "    }\n",
              "\n",
              "    .dataframe tbody tr th {\n",
              "        vertical-align: top;\n",
              "    }\n",
              "\n",
              "    .dataframe thead th {\n",
              "        text-align: right;\n",
              "    }\n",
              "</style>\n",
              "<table border=\"1\" class=\"dataframe\">\n",
              "  <thead>\n",
              "    <tr style=\"text-align: right;\">\n",
              "      <th></th>\n",
              "      <th>firstName</th>\n",
              "      <th>lastName</th>\n",
              "      <th>city</th>\n",
              "      <th>state</th>\n",
              "    </tr>\n",
              "  </thead>\n",
              "  <tbody>\n",
              "    <tr>\n",
              "      <th>0</th>\n",
              "      <td>Allen</td>\n",
              "      <td>Wang</td>\n",
              "      <td>None</td>\n",
              "      <td>None</td>\n",
              "    </tr>\n",
              "    <tr>\n",
              "      <th>1</th>\n",
              "      <td>Bob</td>\n",
              "      <td>Alice</td>\n",
              "      <td>New York City</td>\n",
              "      <td>New York</td>\n",
              "    </tr>\n",
              "  </tbody>\n",
              "</table>\n",
              "</div>\n",
              "      <button class=\"colab-df-convert\" onclick=\"convertToInteractive('df-83c0238c-b2e4-4fe9-b82a-0d9363956985')\"\n",
              "              title=\"Convert this dataframe to an interactive table.\"\n",
              "              style=\"display:none;\">\n",
              "        \n",
              "  <svg xmlns=\"http://www.w3.org/2000/svg\" height=\"24px\"viewBox=\"0 0 24 24\"\n",
              "       width=\"24px\">\n",
              "    <path d=\"M0 0h24v24H0V0z\" fill=\"none\"/>\n",
              "    <path d=\"M18.56 5.44l.94 2.06.94-2.06 2.06-.94-2.06-.94-.94-2.06-.94 2.06-2.06.94zm-11 1L8.5 8.5l.94-2.06 2.06-.94-2.06-.94L8.5 2.5l-.94 2.06-2.06.94zm10 10l.94 2.06.94-2.06 2.06-.94-2.06-.94-.94-2.06-.94 2.06-2.06.94z\"/><path d=\"M17.41 7.96l-1.37-1.37c-.4-.4-.92-.59-1.43-.59-.52 0-1.04.2-1.43.59L10.3 9.45l-7.72 7.72c-.78.78-.78 2.05 0 2.83L4 21.41c.39.39.9.59 1.41.59.51 0 1.02-.2 1.41-.59l7.78-7.78 2.81-2.81c.8-.78.8-2.07 0-2.86zM5.41 20L4 18.59l7.72-7.72 1.47 1.35L5.41 20z\"/>\n",
              "  </svg>\n",
              "      </button>\n",
              "      \n",
              "  <style>\n",
              "    .colab-df-container {\n",
              "      display:flex;\n",
              "      flex-wrap:wrap;\n",
              "      gap: 12px;\n",
              "    }\n",
              "\n",
              "    .colab-df-convert {\n",
              "      background-color: #E8F0FE;\n",
              "      border: none;\n",
              "      border-radius: 50%;\n",
              "      cursor: pointer;\n",
              "      display: none;\n",
              "      fill: #1967D2;\n",
              "      height: 32px;\n",
              "      padding: 0 0 0 0;\n",
              "      width: 32px;\n",
              "    }\n",
              "\n",
              "    .colab-df-convert:hover {\n",
              "      background-color: #E2EBFA;\n",
              "      box-shadow: 0px 1px 2px rgba(60, 64, 67, 0.3), 0px 1px 3px 1px rgba(60, 64, 67, 0.15);\n",
              "      fill: #174EA6;\n",
              "    }\n",
              "\n",
              "    [theme=dark] .colab-df-convert {\n",
              "      background-color: #3B4455;\n",
              "      fill: #D2E3FC;\n",
              "    }\n",
              "\n",
              "    [theme=dark] .colab-df-convert:hover {\n",
              "      background-color: #434B5C;\n",
              "      box-shadow: 0px 1px 3px 1px rgba(0, 0, 0, 0.15);\n",
              "      filter: drop-shadow(0px 1px 2px rgba(0, 0, 0, 0.3));\n",
              "      fill: #FFFFFF;\n",
              "    }\n",
              "  </style>\n",
              "\n",
              "      <script>\n",
              "        const buttonEl =\n",
              "          document.querySelector('#df-83c0238c-b2e4-4fe9-b82a-0d9363956985 button.colab-df-convert');\n",
              "        buttonEl.style.display =\n",
              "          google.colab.kernel.accessAllowed ? 'block' : 'none';\n",
              "\n",
              "        async function convertToInteractive(key) {\n",
              "          const element = document.querySelector('#df-83c0238c-b2e4-4fe9-b82a-0d9363956985');\n",
              "          const dataTable =\n",
              "            await google.colab.kernel.invokeFunction('convertToInteractive',\n",
              "                                                     [key], {});\n",
              "          if (!dataTable) return;\n",
              "\n",
              "          const docLinkHtml = 'Like what you see? Visit the ' +\n",
              "            '<a target=\"_blank\" href=https://colab.research.google.com/notebooks/data_table.ipynb>data table notebook</a>'\n",
              "            + ' to learn more about interactive tables.';\n",
              "          element.innerHTML = '';\n",
              "          dataTable['output_type'] = 'display_data';\n",
              "          await google.colab.output.renderOutput(dataTable, element);\n",
              "          const docLink = document.createElement('div');\n",
              "          docLink.innerHTML = docLinkHtml;\n",
              "          element.appendChild(docLink);\n",
              "        }\n",
              "      </script>\n",
              "    </div>\n",
              "  </div>\n",
              "  "
            ]
          },
          "metadata": {},
          "execution_count": 212
        }
      ]
    },
    {
      "cell_type": "markdown",
      "source": [
        "### Задание 11"
      ],
      "metadata": {
        "id": "irr360kqNx8j"
      }
    },
    {
      "cell_type": "markdown",
      "source": [
        "Напишите SQL-запрос, чтобы найти сотрудников, которые зарабатывают больше, чем их менеджеры.  \n",
        "https://leetcode.com/problems/employees-earning-more-than-their-managers/ "
      ],
      "metadata": {
        "id": "VAoNfKB3JnxA"
      }
    },
    {
      "cell_type": "code",
      "source": [
        "con = sqlite3.connect('data4')"
      ],
      "metadata": {
        "id": "k_B5MQGdPQg5"
      },
      "execution_count": null,
      "outputs": []
    },
    {
      "cell_type": "code",
      "source": [
        "cur = con.cursor()"
      ],
      "metadata": {
        "id": "rGWe3ngDPQg5"
      },
      "execution_count": null,
      "outputs": []
    },
    {
      "cell_type": "code",
      "source": [
        "sql = '''\n",
        "Create table If Not Exists Employee (id int, name varchar(255), salary int, managerId int)\n",
        "insert into Employee (id, name, salary, managerId) values ('1', 'Joe', '70000', '3')\n",
        "insert into Employee (id, name, salary, managerId) values ('2', 'Henry', '80000', '4')\n",
        "insert into Employee (id, name, salary, managerId) values ('3', 'Sam', '60000', 'None')\n",
        "insert into Employee (id, name, salary, managerId) values ('4', 'Max', '90000', 'None')\n",
        "'''"
      ],
      "metadata": {
        "id": "_WU7GntlOXF3"
      },
      "execution_count": null,
      "outputs": []
    },
    {
      "cell_type": "code",
      "source": [
        "sql = ';\\n'.join(sql.split('\\n'))"
      ],
      "metadata": {
        "id": "kkMVfbb7JnzD"
      },
      "execution_count": null,
      "outputs": []
    },
    {
      "cell_type": "code",
      "source": [
        "cur.executescript(sql)"
      ],
      "metadata": {
        "colab": {
          "base_uri": "https://localhost:8080/"
        },
        "id": "-7wzg2OGOftv",
        "outputId": "a92147b9-27fe-4955-b196-dd3e0dd3f12c"
      },
      "execution_count": null,
      "outputs": [
        {
          "output_type": "execute_result",
          "data": {
            "text/plain": [
              "<pysqlite3.dbapi2.Cursor at 0x7fb2f70e6500>"
            ]
          },
          "metadata": {},
          "execution_count": 250
        }
      ]
    },
    {
      "cell_type": "code",
      "source": [
        "sql ='''\n",
        "select * from\n",
        "(\n",
        "select\n",
        "case when (e.salary - em.salary) > 0 then e.name end as Employee \n",
        "from Employee e\n",
        "join Employee em on em.id = e.managerId\n",
        ") t\n",
        "where t.Employee is not null\n",
        "'''"
      ],
      "metadata": {
        "id": "_tCytALeOfxq"
      },
      "execution_count": null,
      "outputs": []
    },
    {
      "cell_type": "code",
      "source": [
        "select(sql)"
      ],
      "metadata": {
        "colab": {
          "base_uri": "https://localhost:8080/",
          "height": 81
        },
        "id": "Sr2ZQ0vgOf0h",
        "outputId": "c604ab1b-ef8f-48b2-b9b0-454ffd216cd8"
      },
      "execution_count": null,
      "outputs": [
        {
          "output_type": "execute_result",
          "data": {
            "text/plain": [
              "  Employee\n",
              "0      Joe"
            ],
            "text/html": [
              "\n",
              "  <div id=\"df-d47accf5-1818-4fe0-8e1f-0ac53b0bea58\">\n",
              "    <div class=\"colab-df-container\">\n",
              "      <div>\n",
              "<style scoped>\n",
              "    .dataframe tbody tr th:only-of-type {\n",
              "        vertical-align: middle;\n",
              "    }\n",
              "\n",
              "    .dataframe tbody tr th {\n",
              "        vertical-align: top;\n",
              "    }\n",
              "\n",
              "    .dataframe thead th {\n",
              "        text-align: right;\n",
              "    }\n",
              "</style>\n",
              "<table border=\"1\" class=\"dataframe\">\n",
              "  <thead>\n",
              "    <tr style=\"text-align: right;\">\n",
              "      <th></th>\n",
              "      <th>Employee</th>\n",
              "    </tr>\n",
              "  </thead>\n",
              "  <tbody>\n",
              "    <tr>\n",
              "      <th>0</th>\n",
              "      <td>Joe</td>\n",
              "    </tr>\n",
              "  </tbody>\n",
              "</table>\n",
              "</div>\n",
              "      <button class=\"colab-df-convert\" onclick=\"convertToInteractive('df-d47accf5-1818-4fe0-8e1f-0ac53b0bea58')\"\n",
              "              title=\"Convert this dataframe to an interactive table.\"\n",
              "              style=\"display:none;\">\n",
              "        \n",
              "  <svg xmlns=\"http://www.w3.org/2000/svg\" height=\"24px\"viewBox=\"0 0 24 24\"\n",
              "       width=\"24px\">\n",
              "    <path d=\"M0 0h24v24H0V0z\" fill=\"none\"/>\n",
              "    <path d=\"M18.56 5.44l.94 2.06.94-2.06 2.06-.94-2.06-.94-.94-2.06-.94 2.06-2.06.94zm-11 1L8.5 8.5l.94-2.06 2.06-.94-2.06-.94L8.5 2.5l-.94 2.06-2.06.94zm10 10l.94 2.06.94-2.06 2.06-.94-2.06-.94-.94-2.06-.94 2.06-2.06.94z\"/><path d=\"M17.41 7.96l-1.37-1.37c-.4-.4-.92-.59-1.43-.59-.52 0-1.04.2-1.43.59L10.3 9.45l-7.72 7.72c-.78.78-.78 2.05 0 2.83L4 21.41c.39.39.9.59 1.41.59.51 0 1.02-.2 1.41-.59l7.78-7.78 2.81-2.81c.8-.78.8-2.07 0-2.86zM5.41 20L4 18.59l7.72-7.72 1.47 1.35L5.41 20z\"/>\n",
              "  </svg>\n",
              "      </button>\n",
              "      \n",
              "  <style>\n",
              "    .colab-df-container {\n",
              "      display:flex;\n",
              "      flex-wrap:wrap;\n",
              "      gap: 12px;\n",
              "    }\n",
              "\n",
              "    .colab-df-convert {\n",
              "      background-color: #E8F0FE;\n",
              "      border: none;\n",
              "      border-radius: 50%;\n",
              "      cursor: pointer;\n",
              "      display: none;\n",
              "      fill: #1967D2;\n",
              "      height: 32px;\n",
              "      padding: 0 0 0 0;\n",
              "      width: 32px;\n",
              "    }\n",
              "\n",
              "    .colab-df-convert:hover {\n",
              "      background-color: #E2EBFA;\n",
              "      box-shadow: 0px 1px 2px rgba(60, 64, 67, 0.3), 0px 1px 3px 1px rgba(60, 64, 67, 0.15);\n",
              "      fill: #174EA6;\n",
              "    }\n",
              "\n",
              "    [theme=dark] .colab-df-convert {\n",
              "      background-color: #3B4455;\n",
              "      fill: #D2E3FC;\n",
              "    }\n",
              "\n",
              "    [theme=dark] .colab-df-convert:hover {\n",
              "      background-color: #434B5C;\n",
              "      box-shadow: 0px 1px 3px 1px rgba(0, 0, 0, 0.15);\n",
              "      filter: drop-shadow(0px 1px 2px rgba(0, 0, 0, 0.3));\n",
              "      fill: #FFFFFF;\n",
              "    }\n",
              "  </style>\n",
              "\n",
              "      <script>\n",
              "        const buttonEl =\n",
              "          document.querySelector('#df-d47accf5-1818-4fe0-8e1f-0ac53b0bea58 button.colab-df-convert');\n",
              "        buttonEl.style.display =\n",
              "          google.colab.kernel.accessAllowed ? 'block' : 'none';\n",
              "\n",
              "        async function convertToInteractive(key) {\n",
              "          const element = document.querySelector('#df-d47accf5-1818-4fe0-8e1f-0ac53b0bea58');\n",
              "          const dataTable =\n",
              "            await google.colab.kernel.invokeFunction('convertToInteractive',\n",
              "                                                     [key], {});\n",
              "          if (!dataTable) return;\n",
              "\n",
              "          const docLinkHtml = 'Like what you see? Visit the ' +\n",
              "            '<a target=\"_blank\" href=https://colab.research.google.com/notebooks/data_table.ipynb>data table notebook</a>'\n",
              "            + ' to learn more about interactive tables.';\n",
              "          element.innerHTML = '';\n",
              "          dataTable['output_type'] = 'display_data';\n",
              "          await google.colab.output.renderOutput(dataTable, element);\n",
              "          const docLink = document.createElement('div');\n",
              "          docLink.innerHTML = docLinkHtml;\n",
              "          element.appendChild(docLink);\n",
              "        }\n",
              "      </script>\n",
              "    </div>\n",
              "  </div>\n",
              "  "
            ]
          },
          "metadata": {},
          "execution_count": 254
        }
      ]
    },
    {
      "cell_type": "markdown",
      "source": [
        "### Задание 12"
      ],
      "metadata": {
        "id": "nySSA40cBn4d"
      }
    },
    {
      "cell_type": "markdown",
      "source": [
        "Напишите запрос SQL, чтобы сообщить обо всех повторяющихся электронных письмах.  \n",
        "https://leetcode.com/problems/duplicate-emails/ "
      ],
      "metadata": {
        "id": "I0X95W7uBn4d"
      }
    },
    {
      "cell_type": "code",
      "source": [
        "sql = '''\n",
        "Create table If Not Exists Person (id int, email varchar(255))\n",
        "insert into Person (id, email) values ('1', 'a@b.com')\n",
        "insert into Person (id, email) values ('2', 'c@d.com')\n",
        "insert into Person (id, email) values ('3', 'a@b.com')\n",
        "'''"
      ],
      "metadata": {
        "id": "Ef1r8hh0Bn4e"
      },
      "execution_count": null,
      "outputs": []
    },
    {
      "cell_type": "code",
      "source": [
        "sql = ';\\n'.join(sql.split('\\n'))"
      ],
      "metadata": {
        "id": "MMRNqwOIBn4e"
      },
      "execution_count": null,
      "outputs": []
    },
    {
      "cell_type": "code",
      "source": [
        "cur.executescript(sql)"
      ],
      "metadata": {
        "colab": {
          "base_uri": "https://localhost:8080/"
        },
        "outputId": "efbff991-84f0-4c0c-ff8f-ade682191353",
        "id": "c5_l-KpJBn4e"
      },
      "execution_count": null,
      "outputs": [
        {
          "output_type": "execute_result",
          "data": {
            "text/plain": [
              "<pysqlite3.dbapi2.Cursor at 0x7fb2f70e6500>"
            ]
          },
          "metadata": {},
          "execution_count": 260
        }
      ]
    },
    {
      "cell_type": "code",
      "source": [
        "sql = '''\n",
        "select p.email\n",
        "from Person p\n",
        "group by p.email\n",
        "having count(*) > 1\n",
        "'''"
      ],
      "metadata": {
        "id": "ZiQ0ZckBBn4e"
      },
      "execution_count": null,
      "outputs": []
    },
    {
      "cell_type": "code",
      "source": [
        "select(sql)"
      ],
      "metadata": {
        "colab": {
          "base_uri": "https://localhost:8080/",
          "height": 81
        },
        "outputId": "39957ec8-8b2c-41dc-c110-cb2c0a75e04f",
        "id": "HtW2695dBn4e"
      },
      "execution_count": null,
      "outputs": [
        {
          "output_type": "execute_result",
          "data": {
            "text/plain": [
              "     email\n",
              "0  a@b.com"
            ],
            "text/html": [
              "\n",
              "  <div id=\"df-fe679cd4-e5f9-40cd-af27-5ca716aceb76\">\n",
              "    <div class=\"colab-df-container\">\n",
              "      <div>\n",
              "<style scoped>\n",
              "    .dataframe tbody tr th:only-of-type {\n",
              "        vertical-align: middle;\n",
              "    }\n",
              "\n",
              "    .dataframe tbody tr th {\n",
              "        vertical-align: top;\n",
              "    }\n",
              "\n",
              "    .dataframe thead th {\n",
              "        text-align: right;\n",
              "    }\n",
              "</style>\n",
              "<table border=\"1\" class=\"dataframe\">\n",
              "  <thead>\n",
              "    <tr style=\"text-align: right;\">\n",
              "      <th></th>\n",
              "      <th>email</th>\n",
              "    </tr>\n",
              "  </thead>\n",
              "  <tbody>\n",
              "    <tr>\n",
              "      <th>0</th>\n",
              "      <td>a@b.com</td>\n",
              "    </tr>\n",
              "  </tbody>\n",
              "</table>\n",
              "</div>\n",
              "      <button class=\"colab-df-convert\" onclick=\"convertToInteractive('df-fe679cd4-e5f9-40cd-af27-5ca716aceb76')\"\n",
              "              title=\"Convert this dataframe to an interactive table.\"\n",
              "              style=\"display:none;\">\n",
              "        \n",
              "  <svg xmlns=\"http://www.w3.org/2000/svg\" height=\"24px\"viewBox=\"0 0 24 24\"\n",
              "       width=\"24px\">\n",
              "    <path d=\"M0 0h24v24H0V0z\" fill=\"none\"/>\n",
              "    <path d=\"M18.56 5.44l.94 2.06.94-2.06 2.06-.94-2.06-.94-.94-2.06-.94 2.06-2.06.94zm-11 1L8.5 8.5l.94-2.06 2.06-.94-2.06-.94L8.5 2.5l-.94 2.06-2.06.94zm10 10l.94 2.06.94-2.06 2.06-.94-2.06-.94-.94-2.06-.94 2.06-2.06.94z\"/><path d=\"M17.41 7.96l-1.37-1.37c-.4-.4-.92-.59-1.43-.59-.52 0-1.04.2-1.43.59L10.3 9.45l-7.72 7.72c-.78.78-.78 2.05 0 2.83L4 21.41c.39.39.9.59 1.41.59.51 0 1.02-.2 1.41-.59l7.78-7.78 2.81-2.81c.8-.78.8-2.07 0-2.86zM5.41 20L4 18.59l7.72-7.72 1.47 1.35L5.41 20z\"/>\n",
              "  </svg>\n",
              "      </button>\n",
              "      \n",
              "  <style>\n",
              "    .colab-df-container {\n",
              "      display:flex;\n",
              "      flex-wrap:wrap;\n",
              "      gap: 12px;\n",
              "    }\n",
              "\n",
              "    .colab-df-convert {\n",
              "      background-color: #E8F0FE;\n",
              "      border: none;\n",
              "      border-radius: 50%;\n",
              "      cursor: pointer;\n",
              "      display: none;\n",
              "      fill: #1967D2;\n",
              "      height: 32px;\n",
              "      padding: 0 0 0 0;\n",
              "      width: 32px;\n",
              "    }\n",
              "\n",
              "    .colab-df-convert:hover {\n",
              "      background-color: #E2EBFA;\n",
              "      box-shadow: 0px 1px 2px rgba(60, 64, 67, 0.3), 0px 1px 3px 1px rgba(60, 64, 67, 0.15);\n",
              "      fill: #174EA6;\n",
              "    }\n",
              "\n",
              "    [theme=dark] .colab-df-convert {\n",
              "      background-color: #3B4455;\n",
              "      fill: #D2E3FC;\n",
              "    }\n",
              "\n",
              "    [theme=dark] .colab-df-convert:hover {\n",
              "      background-color: #434B5C;\n",
              "      box-shadow: 0px 1px 3px 1px rgba(0, 0, 0, 0.15);\n",
              "      filter: drop-shadow(0px 1px 2px rgba(0, 0, 0, 0.3));\n",
              "      fill: #FFFFFF;\n",
              "    }\n",
              "  </style>\n",
              "\n",
              "      <script>\n",
              "        const buttonEl =\n",
              "          document.querySelector('#df-fe679cd4-e5f9-40cd-af27-5ca716aceb76 button.colab-df-convert');\n",
              "        buttonEl.style.display =\n",
              "          google.colab.kernel.accessAllowed ? 'block' : 'none';\n",
              "\n",
              "        async function convertToInteractive(key) {\n",
              "          const element = document.querySelector('#df-fe679cd4-e5f9-40cd-af27-5ca716aceb76');\n",
              "          const dataTable =\n",
              "            await google.colab.kernel.invokeFunction('convertToInteractive',\n",
              "                                                     [key], {});\n",
              "          if (!dataTable) return;\n",
              "\n",
              "          const docLinkHtml = 'Like what you see? Visit the ' +\n",
              "            '<a target=\"_blank\" href=https://colab.research.google.com/notebooks/data_table.ipynb>data table notebook</a>'\n",
              "            + ' to learn more about interactive tables.';\n",
              "          element.innerHTML = '';\n",
              "          dataTable['output_type'] = 'display_data';\n",
              "          await google.colab.output.renderOutput(dataTable, element);\n",
              "          const docLink = document.createElement('div');\n",
              "          docLink.innerHTML = docLinkHtml;\n",
              "          element.appendChild(docLink);\n",
              "        }\n",
              "      </script>\n",
              "    </div>\n",
              "  </div>\n",
              "  "
            ]
          },
          "metadata": {},
          "execution_count": 262
        }
      ]
    },
    {
      "cell_type": "markdown",
      "source": [
        "### Задание 13"
      ],
      "metadata": {
        "id": "Mo38667RBw30"
      }
    },
    {
      "cell_type": "markdown",
      "source": [
        "Напишите SQL-запрос, чтобы сообщить обо всех клиентах, которые никогда ничего не заказывали.\n",
        "https://leetcode.com/problems/customers-who-never-order/ "
      ],
      "metadata": {
        "id": "G7cCjzg0Bw30"
      }
    },
    {
      "cell_type": "code",
      "source": [
        "sql = '''\n",
        "Create table If Not Exists Customers (id int, name varchar(255))\n",
        "Create table If Not Exists Orders (id int, customerId int)\n",
        "insert into Customers (id, name) values ('1', 'Joe')\n",
        "insert into Customers (id, name) values ('2', 'Henry')\n",
        "insert into Customers (id, name) values ('3', 'Sam')\n",
        "insert into Customers (id, name) values ('4', 'Max')\n",
        "insert into Orders (id, customerId) values ('1', '3')\n",
        "insert into Orders (id, customerId) values ('2', '1')\n",
        "'''"
      ],
      "metadata": {
        "id": "T_2JRjjsBw30"
      },
      "execution_count": null,
      "outputs": []
    },
    {
      "cell_type": "code",
      "source": [
        "sql = ';\\n'.join(sql.split('\\n'))"
      ],
      "metadata": {
        "id": "_TmPbLA3Bw31"
      },
      "execution_count": null,
      "outputs": []
    },
    {
      "cell_type": "code",
      "source": [
        "cur.executescript(sql)"
      ],
      "metadata": {
        "colab": {
          "base_uri": "https://localhost:8080/"
        },
        "outputId": "91275328-85d5-4699-c40a-e8670c12c410",
        "id": "zp9c7QbxBw31"
      },
      "execution_count": null,
      "outputs": [
        {
          "output_type": "execute_result",
          "data": {
            "text/plain": [
              "<pysqlite3.dbapi2.Cursor at 0x7fb2f70e6500>"
            ]
          },
          "metadata": {},
          "execution_count": 265
        }
      ]
    },
    {
      "cell_type": "code",
      "source": [
        "sql = '''\n",
        "select name as Customers \n",
        "from Customers c\n",
        "left join Orders o on o.customerId = c.id\n",
        "where o.customerId is null\n",
        "'''"
      ],
      "metadata": {
        "id": "V1QwVvQiBw31"
      },
      "execution_count": null,
      "outputs": []
    },
    {
      "cell_type": "code",
      "source": [
        "select(sql)"
      ],
      "metadata": {
        "colab": {
          "base_uri": "https://localhost:8080/",
          "height": 112
        },
        "outputId": "3fcd7e87-87fe-4a35-a8e8-43a169fd2e2d",
        "id": "DH1Bz35uBw31"
      },
      "execution_count": null,
      "outputs": [
        {
          "output_type": "execute_result",
          "data": {
            "text/plain": [
              "  Customers\n",
              "0     Henry\n",
              "1       Max"
            ],
            "text/html": [
              "\n",
              "  <div id=\"df-591211b9-4196-44ec-9018-356f5597eb9e\">\n",
              "    <div class=\"colab-df-container\">\n",
              "      <div>\n",
              "<style scoped>\n",
              "    .dataframe tbody tr th:only-of-type {\n",
              "        vertical-align: middle;\n",
              "    }\n",
              "\n",
              "    .dataframe tbody tr th {\n",
              "        vertical-align: top;\n",
              "    }\n",
              "\n",
              "    .dataframe thead th {\n",
              "        text-align: right;\n",
              "    }\n",
              "</style>\n",
              "<table border=\"1\" class=\"dataframe\">\n",
              "  <thead>\n",
              "    <tr style=\"text-align: right;\">\n",
              "      <th></th>\n",
              "      <th>Customers</th>\n",
              "    </tr>\n",
              "  </thead>\n",
              "  <tbody>\n",
              "    <tr>\n",
              "      <th>0</th>\n",
              "      <td>Henry</td>\n",
              "    </tr>\n",
              "    <tr>\n",
              "      <th>1</th>\n",
              "      <td>Max</td>\n",
              "    </tr>\n",
              "  </tbody>\n",
              "</table>\n",
              "</div>\n",
              "      <button class=\"colab-df-convert\" onclick=\"convertToInteractive('df-591211b9-4196-44ec-9018-356f5597eb9e')\"\n",
              "              title=\"Convert this dataframe to an interactive table.\"\n",
              "              style=\"display:none;\">\n",
              "        \n",
              "  <svg xmlns=\"http://www.w3.org/2000/svg\" height=\"24px\"viewBox=\"0 0 24 24\"\n",
              "       width=\"24px\">\n",
              "    <path d=\"M0 0h24v24H0V0z\" fill=\"none\"/>\n",
              "    <path d=\"M18.56 5.44l.94 2.06.94-2.06 2.06-.94-2.06-.94-.94-2.06-.94 2.06-2.06.94zm-11 1L8.5 8.5l.94-2.06 2.06-.94-2.06-.94L8.5 2.5l-.94 2.06-2.06.94zm10 10l.94 2.06.94-2.06 2.06-.94-2.06-.94-.94-2.06-.94 2.06-2.06.94z\"/><path d=\"M17.41 7.96l-1.37-1.37c-.4-.4-.92-.59-1.43-.59-.52 0-1.04.2-1.43.59L10.3 9.45l-7.72 7.72c-.78.78-.78 2.05 0 2.83L4 21.41c.39.39.9.59 1.41.59.51 0 1.02-.2 1.41-.59l7.78-7.78 2.81-2.81c.8-.78.8-2.07 0-2.86zM5.41 20L4 18.59l7.72-7.72 1.47 1.35L5.41 20z\"/>\n",
              "  </svg>\n",
              "      </button>\n",
              "      \n",
              "  <style>\n",
              "    .colab-df-container {\n",
              "      display:flex;\n",
              "      flex-wrap:wrap;\n",
              "      gap: 12px;\n",
              "    }\n",
              "\n",
              "    .colab-df-convert {\n",
              "      background-color: #E8F0FE;\n",
              "      border: none;\n",
              "      border-radius: 50%;\n",
              "      cursor: pointer;\n",
              "      display: none;\n",
              "      fill: #1967D2;\n",
              "      height: 32px;\n",
              "      padding: 0 0 0 0;\n",
              "      width: 32px;\n",
              "    }\n",
              "\n",
              "    .colab-df-convert:hover {\n",
              "      background-color: #E2EBFA;\n",
              "      box-shadow: 0px 1px 2px rgba(60, 64, 67, 0.3), 0px 1px 3px 1px rgba(60, 64, 67, 0.15);\n",
              "      fill: #174EA6;\n",
              "    }\n",
              "\n",
              "    [theme=dark] .colab-df-convert {\n",
              "      background-color: #3B4455;\n",
              "      fill: #D2E3FC;\n",
              "    }\n",
              "\n",
              "    [theme=dark] .colab-df-convert:hover {\n",
              "      background-color: #434B5C;\n",
              "      box-shadow: 0px 1px 3px 1px rgba(0, 0, 0, 0.15);\n",
              "      filter: drop-shadow(0px 1px 2px rgba(0, 0, 0, 0.3));\n",
              "      fill: #FFFFFF;\n",
              "    }\n",
              "  </style>\n",
              "\n",
              "      <script>\n",
              "        const buttonEl =\n",
              "          document.querySelector('#df-591211b9-4196-44ec-9018-356f5597eb9e button.colab-df-convert');\n",
              "        buttonEl.style.display =\n",
              "          google.colab.kernel.accessAllowed ? 'block' : 'none';\n",
              "\n",
              "        async function convertToInteractive(key) {\n",
              "          const element = document.querySelector('#df-591211b9-4196-44ec-9018-356f5597eb9e');\n",
              "          const dataTable =\n",
              "            await google.colab.kernel.invokeFunction('convertToInteractive',\n",
              "                                                     [key], {});\n",
              "          if (!dataTable) return;\n",
              "\n",
              "          const docLinkHtml = 'Like what you see? Visit the ' +\n",
              "            '<a target=\"_blank\" href=https://colab.research.google.com/notebooks/data_table.ipynb>data table notebook</a>'\n",
              "            + ' to learn more about interactive tables.';\n",
              "          element.innerHTML = '';\n",
              "          dataTable['output_type'] = 'display_data';\n",
              "          await google.colab.output.renderOutput(dataTable, element);\n",
              "          const docLink = document.createElement('div');\n",
              "          docLink.innerHTML = docLinkHtml;\n",
              "          element.appendChild(docLink);\n",
              "        }\n",
              "      </script>\n",
              "    </div>\n",
              "  </div>\n",
              "  "
            ]
          },
          "metadata": {},
          "execution_count": 267
        }
      ]
    },
    {
      "cell_type": "markdown",
      "source": [
        "## Задачи уровня Medium"
      ],
      "metadata": {
        "id": "c5l_LQrJBNcF"
      }
    },
    {
      "cell_type": "markdown",
      "source": [
        "### Задание 14"
      ],
      "metadata": {
        "id": "qg7fiQPDu-r0"
      }
    },
    {
      "cell_type": "markdown",
      "source": [
        "Напишите SQL-запрос, чтобы сообщить вторую по величине зарплату из Employee таблицы. Если нет второй по величине зарплаты, запрос должен сообщить null.  \n",
        "https://leetcode.com/problems/second-highest-salary/ "
      ],
      "metadata": {
        "id": "wcus8LBqJSug"
      }
    },
    {
      "cell_type": "code",
      "source": [
        "sql = '''\n",
        "Create table If Not Exists Employee (id int, salary int)\n",
        "insert into Employee (id, salary) values ('1', '100')\n",
        "insert into Employee (id, salary) values ('2', '200')\n",
        "insert into Employee (id, salary) values ('3', '300')\n",
        "'''"
      ],
      "metadata": {
        "id": "ChmSSippJQp3"
      },
      "execution_count": null,
      "outputs": []
    },
    {
      "cell_type": "code",
      "source": [
        "sql = ';\\n'.join(sql.split('\\n'))"
      ],
      "metadata": {
        "id": "XQZrs5NpJioH"
      },
      "execution_count": null,
      "outputs": []
    },
    {
      "cell_type": "code",
      "source": [
        "cur.executescript(sql)"
      ],
      "metadata": {
        "colab": {
          "base_uri": "https://localhost:8080/"
        },
        "id": "2Awjhj01JQyo",
        "outputId": "80252873-6f90-4d08-9957-addd9a684256"
      },
      "execution_count": null,
      "outputs": [
        {
          "output_type": "execute_result",
          "data": {
            "text/plain": [
              "<pysqlite3.dbapi2.Cursor at 0x7fb2f70e6b20>"
            ]
          },
          "metadata": {},
          "execution_count": 218
        }
      ]
    },
    {
      "cell_type": "code",
      "source": [
        "sql ='''\n",
        "select \n",
        "case when (dense_rank() over (order by salary desc)) = 2 then salary else null end as SecondHighestSalary \n",
        "from Employee e\n",
        "order by SecondHighestSalary desc\n",
        "limit 1\n",
        "'''"
      ],
      "metadata": {
        "id": "Tg3-oO9YJnkn"
      },
      "execution_count": null,
      "outputs": []
    },
    {
      "cell_type": "code",
      "source": [
        "select(sql)"
      ],
      "metadata": {
        "colab": {
          "base_uri": "https://localhost:8080/",
          "height": 81
        },
        "id": "y3MrUGgLJwTY",
        "outputId": "188ffdd5-db92-4219-9c35-229ea40de744"
      },
      "execution_count": null,
      "outputs": [
        {
          "output_type": "execute_result",
          "data": {
            "text/plain": [
              "   SecondHighestSalary\n",
              "0                  200"
            ],
            "text/html": [
              "\n",
              "  <div id=\"df-f95105e9-d0b4-49d3-9521-6e9260979d69\">\n",
              "    <div class=\"colab-df-container\">\n",
              "      <div>\n",
              "<style scoped>\n",
              "    .dataframe tbody tr th:only-of-type {\n",
              "        vertical-align: middle;\n",
              "    }\n",
              "\n",
              "    .dataframe tbody tr th {\n",
              "        vertical-align: top;\n",
              "    }\n",
              "\n",
              "    .dataframe thead th {\n",
              "        text-align: right;\n",
              "    }\n",
              "</style>\n",
              "<table border=\"1\" class=\"dataframe\">\n",
              "  <thead>\n",
              "    <tr style=\"text-align: right;\">\n",
              "      <th></th>\n",
              "      <th>SecondHighestSalary</th>\n",
              "    </tr>\n",
              "  </thead>\n",
              "  <tbody>\n",
              "    <tr>\n",
              "      <th>0</th>\n",
              "      <td>200</td>\n",
              "    </tr>\n",
              "  </tbody>\n",
              "</table>\n",
              "</div>\n",
              "      <button class=\"colab-df-convert\" onclick=\"convertToInteractive('df-f95105e9-d0b4-49d3-9521-6e9260979d69')\"\n",
              "              title=\"Convert this dataframe to an interactive table.\"\n",
              "              style=\"display:none;\">\n",
              "        \n",
              "  <svg xmlns=\"http://www.w3.org/2000/svg\" height=\"24px\"viewBox=\"0 0 24 24\"\n",
              "       width=\"24px\">\n",
              "    <path d=\"M0 0h24v24H0V0z\" fill=\"none\"/>\n",
              "    <path d=\"M18.56 5.44l.94 2.06.94-2.06 2.06-.94-2.06-.94-.94-2.06-.94 2.06-2.06.94zm-11 1L8.5 8.5l.94-2.06 2.06-.94-2.06-.94L8.5 2.5l-.94 2.06-2.06.94zm10 10l.94 2.06.94-2.06 2.06-.94-2.06-.94-.94-2.06-.94 2.06-2.06.94z\"/><path d=\"M17.41 7.96l-1.37-1.37c-.4-.4-.92-.59-1.43-.59-.52 0-1.04.2-1.43.59L10.3 9.45l-7.72 7.72c-.78.78-.78 2.05 0 2.83L4 21.41c.39.39.9.59 1.41.59.51 0 1.02-.2 1.41-.59l7.78-7.78 2.81-2.81c.8-.78.8-2.07 0-2.86zM5.41 20L4 18.59l7.72-7.72 1.47 1.35L5.41 20z\"/>\n",
              "  </svg>\n",
              "      </button>\n",
              "      \n",
              "  <style>\n",
              "    .colab-df-container {\n",
              "      display:flex;\n",
              "      flex-wrap:wrap;\n",
              "      gap: 12px;\n",
              "    }\n",
              "\n",
              "    .colab-df-convert {\n",
              "      background-color: #E8F0FE;\n",
              "      border: none;\n",
              "      border-radius: 50%;\n",
              "      cursor: pointer;\n",
              "      display: none;\n",
              "      fill: #1967D2;\n",
              "      height: 32px;\n",
              "      padding: 0 0 0 0;\n",
              "      width: 32px;\n",
              "    }\n",
              "\n",
              "    .colab-df-convert:hover {\n",
              "      background-color: #E2EBFA;\n",
              "      box-shadow: 0px 1px 2px rgba(60, 64, 67, 0.3), 0px 1px 3px 1px rgba(60, 64, 67, 0.15);\n",
              "      fill: #174EA6;\n",
              "    }\n",
              "\n",
              "    [theme=dark] .colab-df-convert {\n",
              "      background-color: #3B4455;\n",
              "      fill: #D2E3FC;\n",
              "    }\n",
              "\n",
              "    [theme=dark] .colab-df-convert:hover {\n",
              "      background-color: #434B5C;\n",
              "      box-shadow: 0px 1px 3px 1px rgba(0, 0, 0, 0.15);\n",
              "      filter: drop-shadow(0px 1px 2px rgba(0, 0, 0, 0.3));\n",
              "      fill: #FFFFFF;\n",
              "    }\n",
              "  </style>\n",
              "\n",
              "      <script>\n",
              "        const buttonEl =\n",
              "          document.querySelector('#df-f95105e9-d0b4-49d3-9521-6e9260979d69 button.colab-df-convert');\n",
              "        buttonEl.style.display =\n",
              "          google.colab.kernel.accessAllowed ? 'block' : 'none';\n",
              "\n",
              "        async function convertToInteractive(key) {\n",
              "          const element = document.querySelector('#df-f95105e9-d0b4-49d3-9521-6e9260979d69');\n",
              "          const dataTable =\n",
              "            await google.colab.kernel.invokeFunction('convertToInteractive',\n",
              "                                                     [key], {});\n",
              "          if (!dataTable) return;\n",
              "\n",
              "          const docLinkHtml = 'Like what you see? Visit the ' +\n",
              "            '<a target=\"_blank\" href=https://colab.research.google.com/notebooks/data_table.ipynb>data table notebook</a>'\n",
              "            + ' to learn more about interactive tables.';\n",
              "          element.innerHTML = '';\n",
              "          dataTable['output_type'] = 'display_data';\n",
              "          await google.colab.output.renderOutput(dataTable, element);\n",
              "          const docLink = document.createElement('div');\n",
              "          docLink.innerHTML = docLinkHtml;\n",
              "          element.appendChild(docLink);\n",
              "        }\n",
              "      </script>\n",
              "    </div>\n",
              "  </div>\n",
              "  "
            ]
          },
          "metadata": {},
          "execution_count": 220
        }
      ]
    },
    {
      "cell_type": "markdown",
      "source": [
        "### Задание 15"
      ],
      "metadata": {
        "id": "wwDBpye6M0LY"
      }
    },
    {
      "cell_type": "markdown",
      "source": [
        "Напишите SQL-запрос для ранжирования результатов. Рейтинг должен рассчитываться по следующим правилам:\n",
        "\n",
        "+ Оценки должны быть ранжированы от самого высокого к самому низкому.\n",
        "+ Если есть ничья между двумя результатами, оба должны иметь одинаковый рейтинг.\n",
        "+ После ничьей следующим номером рейтинга должно быть следующее последовательное целое число. Другими словами, между рядами не должно быть отверстий.  \n",
        "https://leetcode.com/problems/rank-scores/ "
      ],
      "metadata": {
        "id": "fqPcTgsBNbZx"
      }
    },
    {
      "cell_type": "code",
      "source": [
        "sql = '''\n",
        "Create table If Not Exists Scores (id int, score DECIMAL(3,2))\n",
        "insert into Scores (id, score) values ('1', '3.5')\n",
        "insert into Scores (id, score) values ('2', '3.65')\n",
        "insert into Scores (id, score) values ('3', '4.0')\n",
        "insert into Scores (id, score) values ('4', '3.85')\n",
        "insert into Scores (id, score) values ('5', '4.0')\n",
        "insert into Scores (id, score) values ('6', '3.65')\n",
        "'''"
      ],
      "metadata": {
        "id": "ULxrhsXJJnq3"
      },
      "execution_count": null,
      "outputs": []
    },
    {
      "cell_type": "code",
      "source": [
        "sql = ';\\n'.join(sql.split('\\n'))"
      ],
      "metadata": {
        "id": "Wo1ZwduONaCH"
      },
      "execution_count": null,
      "outputs": []
    },
    {
      "cell_type": "code",
      "source": [
        "cur.executescript(sql)"
      ],
      "metadata": {
        "colab": {
          "base_uri": "https://localhost:8080/"
        },
        "id": "V2o9TMynNY5f",
        "outputId": "e5d02315-9337-48c2-bd1d-77bd9883b59e"
      },
      "execution_count": null,
      "outputs": [
        {
          "output_type": "execute_result",
          "data": {
            "text/plain": [
              "<pysqlite3.dbapi2.Cursor at 0x7fb2f70e6b20>"
            ]
          },
          "metadata": {},
          "execution_count": 226
        }
      ]
    },
    {
      "cell_type": "code",
      "source": [
        "sql ='''\n",
        "select s.score,\n",
        "dense_rank() over (order by s.score desc) as \"rank\" \n",
        "from Scores s\n",
        "'''"
      ],
      "metadata": {
        "id": "S4RWjxlAJnt3"
      },
      "execution_count": null,
      "outputs": []
    },
    {
      "cell_type": "code",
      "source": [
        "select(sql)"
      ],
      "metadata": {
        "colab": {
          "base_uri": "https://localhost:8080/",
          "height": 238
        },
        "id": "XLpu9IS_NxuZ",
        "outputId": "3b9c0952-9c15-4546-e532-eb974ac247d5"
      },
      "execution_count": null,
      "outputs": [
        {
          "output_type": "execute_result",
          "data": {
            "text/plain": [
              "   score  rank\n",
              "0   4.00     1\n",
              "1   4.00     1\n",
              "2   3.85     2\n",
              "3   3.65     3\n",
              "4   3.65     3\n",
              "5   3.50     4"
            ],
            "text/html": [
              "\n",
              "  <div id=\"df-fab2a775-e08f-4c71-b673-b8fdcf658d42\">\n",
              "    <div class=\"colab-df-container\">\n",
              "      <div>\n",
              "<style scoped>\n",
              "    .dataframe tbody tr th:only-of-type {\n",
              "        vertical-align: middle;\n",
              "    }\n",
              "\n",
              "    .dataframe tbody tr th {\n",
              "        vertical-align: top;\n",
              "    }\n",
              "\n",
              "    .dataframe thead th {\n",
              "        text-align: right;\n",
              "    }\n",
              "</style>\n",
              "<table border=\"1\" class=\"dataframe\">\n",
              "  <thead>\n",
              "    <tr style=\"text-align: right;\">\n",
              "      <th></th>\n",
              "      <th>score</th>\n",
              "      <th>rank</th>\n",
              "    </tr>\n",
              "  </thead>\n",
              "  <tbody>\n",
              "    <tr>\n",
              "      <th>0</th>\n",
              "      <td>4.00</td>\n",
              "      <td>1</td>\n",
              "    </tr>\n",
              "    <tr>\n",
              "      <th>1</th>\n",
              "      <td>4.00</td>\n",
              "      <td>1</td>\n",
              "    </tr>\n",
              "    <tr>\n",
              "      <th>2</th>\n",
              "      <td>3.85</td>\n",
              "      <td>2</td>\n",
              "    </tr>\n",
              "    <tr>\n",
              "      <th>3</th>\n",
              "      <td>3.65</td>\n",
              "      <td>3</td>\n",
              "    </tr>\n",
              "    <tr>\n",
              "      <th>4</th>\n",
              "      <td>3.65</td>\n",
              "      <td>3</td>\n",
              "    </tr>\n",
              "    <tr>\n",
              "      <th>5</th>\n",
              "      <td>3.50</td>\n",
              "      <td>4</td>\n",
              "    </tr>\n",
              "  </tbody>\n",
              "</table>\n",
              "</div>\n",
              "      <button class=\"colab-df-convert\" onclick=\"convertToInteractive('df-fab2a775-e08f-4c71-b673-b8fdcf658d42')\"\n",
              "              title=\"Convert this dataframe to an interactive table.\"\n",
              "              style=\"display:none;\">\n",
              "        \n",
              "  <svg xmlns=\"http://www.w3.org/2000/svg\" height=\"24px\"viewBox=\"0 0 24 24\"\n",
              "       width=\"24px\">\n",
              "    <path d=\"M0 0h24v24H0V0z\" fill=\"none\"/>\n",
              "    <path d=\"M18.56 5.44l.94 2.06.94-2.06 2.06-.94-2.06-.94-.94-2.06-.94 2.06-2.06.94zm-11 1L8.5 8.5l.94-2.06 2.06-.94-2.06-.94L8.5 2.5l-.94 2.06-2.06.94zm10 10l.94 2.06.94-2.06 2.06-.94-2.06-.94-.94-2.06-.94 2.06-2.06.94z\"/><path d=\"M17.41 7.96l-1.37-1.37c-.4-.4-.92-.59-1.43-.59-.52 0-1.04.2-1.43.59L10.3 9.45l-7.72 7.72c-.78.78-.78 2.05 0 2.83L4 21.41c.39.39.9.59 1.41.59.51 0 1.02-.2 1.41-.59l7.78-7.78 2.81-2.81c.8-.78.8-2.07 0-2.86zM5.41 20L4 18.59l7.72-7.72 1.47 1.35L5.41 20z\"/>\n",
              "  </svg>\n",
              "      </button>\n",
              "      \n",
              "  <style>\n",
              "    .colab-df-container {\n",
              "      display:flex;\n",
              "      flex-wrap:wrap;\n",
              "      gap: 12px;\n",
              "    }\n",
              "\n",
              "    .colab-df-convert {\n",
              "      background-color: #E8F0FE;\n",
              "      border: none;\n",
              "      border-radius: 50%;\n",
              "      cursor: pointer;\n",
              "      display: none;\n",
              "      fill: #1967D2;\n",
              "      height: 32px;\n",
              "      padding: 0 0 0 0;\n",
              "      width: 32px;\n",
              "    }\n",
              "\n",
              "    .colab-df-convert:hover {\n",
              "      background-color: #E2EBFA;\n",
              "      box-shadow: 0px 1px 2px rgba(60, 64, 67, 0.3), 0px 1px 3px 1px rgba(60, 64, 67, 0.15);\n",
              "      fill: #174EA6;\n",
              "    }\n",
              "\n",
              "    [theme=dark] .colab-df-convert {\n",
              "      background-color: #3B4455;\n",
              "      fill: #D2E3FC;\n",
              "    }\n",
              "\n",
              "    [theme=dark] .colab-df-convert:hover {\n",
              "      background-color: #434B5C;\n",
              "      box-shadow: 0px 1px 3px 1px rgba(0, 0, 0, 0.15);\n",
              "      filter: drop-shadow(0px 1px 2px rgba(0, 0, 0, 0.3));\n",
              "      fill: #FFFFFF;\n",
              "    }\n",
              "  </style>\n",
              "\n",
              "      <script>\n",
              "        const buttonEl =\n",
              "          document.querySelector('#df-fab2a775-e08f-4c71-b673-b8fdcf658d42 button.colab-df-convert');\n",
              "        buttonEl.style.display =\n",
              "          google.colab.kernel.accessAllowed ? 'block' : 'none';\n",
              "\n",
              "        async function convertToInteractive(key) {\n",
              "          const element = document.querySelector('#df-fab2a775-e08f-4c71-b673-b8fdcf658d42');\n",
              "          const dataTable =\n",
              "            await google.colab.kernel.invokeFunction('convertToInteractive',\n",
              "                                                     [key], {});\n",
              "          if (!dataTable) return;\n",
              "\n",
              "          const docLinkHtml = 'Like what you see? Visit the ' +\n",
              "            '<a target=\"_blank\" href=https://colab.research.google.com/notebooks/data_table.ipynb>data table notebook</a>'\n",
              "            + ' to learn more about interactive tables.';\n",
              "          element.innerHTML = '';\n",
              "          dataTable['output_type'] = 'display_data';\n",
              "          await google.colab.output.renderOutput(dataTable, element);\n",
              "          const docLink = document.createElement('div');\n",
              "          docLink.innerHTML = docLinkHtml;\n",
              "          element.appendChild(docLink);\n",
              "        }\n",
              "      </script>\n",
              "    </div>\n",
              "  </div>\n",
              "  "
            ]
          },
          "metadata": {},
          "execution_count": 230
        }
      ]
    },
    {
      "cell_type": "markdown",
      "source": [
        "### Задание 16"
      ],
      "metadata": {
        "id": "VKQ60F4GQt1n"
      }
    },
    {
      "cell_type": "markdown",
      "source": [
        "Напишите SQL-запрос, чтобы найти сотрудников с самой высокой зарплатой в каждом из отделов.  \n",
        "https://leetcode.com/problems/department-highest-salary/"
      ],
      "metadata": {
        "id": "U3VIuqYTRWBb"
      }
    },
    {
      "cell_type": "code",
      "source": [
        "con = sqlite3.connect('data5')"
      ],
      "metadata": {
        "id": "mxzkTAJyRpyA"
      },
      "execution_count": null,
      "outputs": []
    },
    {
      "cell_type": "code",
      "source": [
        "cur = con.cursor()"
      ],
      "metadata": {
        "id": "Ief3EgzCRpyA"
      },
      "execution_count": null,
      "outputs": []
    },
    {
      "cell_type": "code",
      "source": [
        "sql = '''\n",
        "Create table If Not Exists Employee (id int, name varchar(255), salary int, departmentId int)\n",
        "Create table If Not Exists Department (id int, name varchar(255))\n",
        "insert into Employee (id, name, salary, departmentId) values ('1', 'Joe', '70000', '1')\n",
        "insert into Employee (id, name, salary, departmentId) values ('2', 'Jim', '90000', '1')\n",
        "insert into Employee (id, name, salary, departmentId) values ('3', 'Henry', '80000', '2')\n",
        "insert into Employee (id, name, salary, departmentId) values ('4', 'Sam', '60000', '2')\n",
        "insert into Employee (id, name, salary, departmentId) values ('5', 'Max', '90000', '1')\n",
        "insert into Department (id, name) values ('1', 'IT')\n",
        "insert into Department (id, name) values ('2', 'Sales')\n",
        "'''"
      ],
      "metadata": {
        "id": "OtTuTOfrRMqe"
      },
      "execution_count": null,
      "outputs": []
    },
    {
      "cell_type": "code",
      "source": [
        "sql = ';\\n'.join(sql.split('\\n'))"
      ],
      "metadata": {
        "id": "ZktoSsVlRgSe"
      },
      "execution_count": null,
      "outputs": []
    },
    {
      "cell_type": "code",
      "source": [
        "cur.executescript(sql)"
      ],
      "metadata": {
        "colab": {
          "base_uri": "https://localhost:8080/"
        },
        "id": "Vy-i4GZhRga5",
        "outputId": "370966d7-4cd8-4a13-f810-0d9f8c02bf21"
      },
      "execution_count": null,
      "outputs": [
        {
          "output_type": "execute_result",
          "data": {
            "text/plain": [
              "<pysqlite3.dbapi2.Cursor at 0x7fb2f708a340>"
            ]
          },
          "metadata": {},
          "execution_count": 275
        }
      ]
    },
    {
      "cell_type": "code",
      "source": [
        "sql = '''select distinct d.name as Department ,t.name as Employee , t.salary as Salary \n",
        "from (\n",
        "select e.*,\n",
        "dense_rank() over (partition by e.departmentId order by e.salary desc) as rnk\n",
        "from Employee e\n",
        ") t\n",
        "left join Department d on d.id = t.departmentId\n",
        "where  t.rnk = 1'''"
      ],
      "metadata": {
        "id": "qmi28OR6Rgja"
      },
      "execution_count": null,
      "outputs": []
    },
    {
      "cell_type": "code",
      "source": [
        "select(sql)"
      ],
      "metadata": {
        "colab": {
          "base_uri": "https://localhost:8080/",
          "height": 143
        },
        "id": "e7Jh0rCMR0ef",
        "outputId": "0450f95b-ce71-42d7-8151-37fbca42cabb"
      },
      "execution_count": null,
      "outputs": [
        {
          "output_type": "execute_result",
          "data": {
            "text/plain": [
              "  Department Employee  Salary\n",
              "0         IT      Jim   90000\n",
              "1         IT      Max   90000\n",
              "2      Sales    Henry   80000"
            ],
            "text/html": [
              "\n",
              "  <div id=\"df-434ba088-bc78-4306-be8a-d41bb32b6bad\">\n",
              "    <div class=\"colab-df-container\">\n",
              "      <div>\n",
              "<style scoped>\n",
              "    .dataframe tbody tr th:only-of-type {\n",
              "        vertical-align: middle;\n",
              "    }\n",
              "\n",
              "    .dataframe tbody tr th {\n",
              "        vertical-align: top;\n",
              "    }\n",
              "\n",
              "    .dataframe thead th {\n",
              "        text-align: right;\n",
              "    }\n",
              "</style>\n",
              "<table border=\"1\" class=\"dataframe\">\n",
              "  <thead>\n",
              "    <tr style=\"text-align: right;\">\n",
              "      <th></th>\n",
              "      <th>Department</th>\n",
              "      <th>Employee</th>\n",
              "      <th>Salary</th>\n",
              "    </tr>\n",
              "  </thead>\n",
              "  <tbody>\n",
              "    <tr>\n",
              "      <th>0</th>\n",
              "      <td>IT</td>\n",
              "      <td>Jim</td>\n",
              "      <td>90000</td>\n",
              "    </tr>\n",
              "    <tr>\n",
              "      <th>1</th>\n",
              "      <td>IT</td>\n",
              "      <td>Max</td>\n",
              "      <td>90000</td>\n",
              "    </tr>\n",
              "    <tr>\n",
              "      <th>2</th>\n",
              "      <td>Sales</td>\n",
              "      <td>Henry</td>\n",
              "      <td>80000</td>\n",
              "    </tr>\n",
              "  </tbody>\n",
              "</table>\n",
              "</div>\n",
              "      <button class=\"colab-df-convert\" onclick=\"convertToInteractive('df-434ba088-bc78-4306-be8a-d41bb32b6bad')\"\n",
              "              title=\"Convert this dataframe to an interactive table.\"\n",
              "              style=\"display:none;\">\n",
              "        \n",
              "  <svg xmlns=\"http://www.w3.org/2000/svg\" height=\"24px\"viewBox=\"0 0 24 24\"\n",
              "       width=\"24px\">\n",
              "    <path d=\"M0 0h24v24H0V0z\" fill=\"none\"/>\n",
              "    <path d=\"M18.56 5.44l.94 2.06.94-2.06 2.06-.94-2.06-.94-.94-2.06-.94 2.06-2.06.94zm-11 1L8.5 8.5l.94-2.06 2.06-.94-2.06-.94L8.5 2.5l-.94 2.06-2.06.94zm10 10l.94 2.06.94-2.06 2.06-.94-2.06-.94-.94-2.06-.94 2.06-2.06.94z\"/><path d=\"M17.41 7.96l-1.37-1.37c-.4-.4-.92-.59-1.43-.59-.52 0-1.04.2-1.43.59L10.3 9.45l-7.72 7.72c-.78.78-.78 2.05 0 2.83L4 21.41c.39.39.9.59 1.41.59.51 0 1.02-.2 1.41-.59l7.78-7.78 2.81-2.81c.8-.78.8-2.07 0-2.86zM5.41 20L4 18.59l7.72-7.72 1.47 1.35L5.41 20z\"/>\n",
              "  </svg>\n",
              "      </button>\n",
              "      \n",
              "  <style>\n",
              "    .colab-df-container {\n",
              "      display:flex;\n",
              "      flex-wrap:wrap;\n",
              "      gap: 12px;\n",
              "    }\n",
              "\n",
              "    .colab-df-convert {\n",
              "      background-color: #E8F0FE;\n",
              "      border: none;\n",
              "      border-radius: 50%;\n",
              "      cursor: pointer;\n",
              "      display: none;\n",
              "      fill: #1967D2;\n",
              "      height: 32px;\n",
              "      padding: 0 0 0 0;\n",
              "      width: 32px;\n",
              "    }\n",
              "\n",
              "    .colab-df-convert:hover {\n",
              "      background-color: #E2EBFA;\n",
              "      box-shadow: 0px 1px 2px rgba(60, 64, 67, 0.3), 0px 1px 3px 1px rgba(60, 64, 67, 0.15);\n",
              "      fill: #174EA6;\n",
              "    }\n",
              "\n",
              "    [theme=dark] .colab-df-convert {\n",
              "      background-color: #3B4455;\n",
              "      fill: #D2E3FC;\n",
              "    }\n",
              "\n",
              "    [theme=dark] .colab-df-convert:hover {\n",
              "      background-color: #434B5C;\n",
              "      box-shadow: 0px 1px 3px 1px rgba(0, 0, 0, 0.15);\n",
              "      filter: drop-shadow(0px 1px 2px rgba(0, 0, 0, 0.3));\n",
              "      fill: #FFFFFF;\n",
              "    }\n",
              "  </style>\n",
              "\n",
              "      <script>\n",
              "        const buttonEl =\n",
              "          document.querySelector('#df-434ba088-bc78-4306-be8a-d41bb32b6bad button.colab-df-convert');\n",
              "        buttonEl.style.display =\n",
              "          google.colab.kernel.accessAllowed ? 'block' : 'none';\n",
              "\n",
              "        async function convertToInteractive(key) {\n",
              "          const element = document.querySelector('#df-434ba088-bc78-4306-be8a-d41bb32b6bad');\n",
              "          const dataTable =\n",
              "            await google.colab.kernel.invokeFunction('convertToInteractive',\n",
              "                                                     [key], {});\n",
              "          if (!dataTable) return;\n",
              "\n",
              "          const docLinkHtml = 'Like what you see? Visit the ' +\n",
              "            '<a target=\"_blank\" href=https://colab.research.google.com/notebooks/data_table.ipynb>data table notebook</a>'\n",
              "            + ' to learn more about interactive tables.';\n",
              "          element.innerHTML = '';\n",
              "          dataTable['output_type'] = 'display_data';\n",
              "          await google.colab.output.renderOutput(dataTable, element);\n",
              "          const docLink = document.createElement('div');\n",
              "          docLink.innerHTML = docLinkHtml;\n",
              "          element.appendChild(docLink);\n",
              "        }\n",
              "      </script>\n",
              "    </div>\n",
              "  </div>\n",
              "  "
            ]
          },
          "metadata": {},
          "execution_count": 277
        }
      ]
    },
    {
      "cell_type": "markdown",
      "source": [
        "# Stratascratch "
      ],
      "metadata": {
        "id": "tzutcyEnR4zu"
      }
    },
    {
      "cell_type": "markdown",
      "source": [
        "**Все запросы написаны на MySql**"
      ],
      "metadata": {
        "id": "siCxDWhhYoOI"
      }
    },
    {
      "cell_type": "markdown",
      "source": [
        "## Задачи уровня Easy"
      ],
      "metadata": {
        "id": "rs0r7eTRCWK9"
      }
    },
    {
      "cell_type": "markdown",
      "source": [
        "### Задание 17"
      ],
      "metadata": {
        "id": "BGSoAhUKVedN"
      }
    },
    {
      "cell_type": "markdown",
      "source": [
        "Сравните зарплату каждого сотрудника со средней зарплатой соответствующего отдела. Выведите отдел, имя и зарплату сотрудников, а также среднюю зарплату этого отдела.  \n",
        "https://platform.stratascratch.com/coding/9917-average-salaries?code_type=3  "
      ],
      "metadata": {
        "id": "3UsfMVE8VhVP"
      }
    },
    {
      "cell_type": "code",
      "source": [
        "sql = '''select t.department ,t.first_name, t.salary, a.mean_salary\n",
        "from employee t\n",
        "left join \n",
        "(\n",
        "select t.department, avg(t.salary)  as mean_salary\n",
        "from employee t\n",
        "group by t.department\n",
        ") a on a.department = t.department'''"
      ],
      "metadata": {
        "id": "v7Wr8V_cVyGl"
      },
      "execution_count": null,
      "outputs": []
    },
    {
      "cell_type": "markdown",
      "source": [
        "### Задание 18"
      ],
      "metadata": {
        "id": "JPEqO6tiDiMU"
      }
    },
    {
      "cell_type": "markdown",
      "source": [
        "Найдите детали заказа, сделанного Джилл и Евой. Считайте Джилл и Еву первыми именами клиентов. Выведите дату заказа, детали и стоимость вместе с именем. Записи заказов на основе идентификатора клиента в порядке возрастания.  \n",
        "https://platform.stratascratch.com/coding/9913-order-details?code_type=3"
      ],
      "metadata": {
        "id": "dJfwU8QVDiMU"
      }
    },
    {
      "cell_type": "code",
      "source": [
        "sql = '''\n",
        "select order_date,order_details,total_order_cost,first_name from customers \n",
        "inner join orders  on orders.cust_id = customers.id\n",
        "where first_name in ('Jill','Eva')\n",
        "'''"
      ],
      "metadata": {
        "id": "r1NhWlLIDiMU"
      },
      "execution_count": null,
      "outputs": []
    },
    {
      "cell_type": "markdown",
      "source": [
        "### Задание 19"
      ],
      "metadata": {
        "id": "dtsetEDkDiMV"
      }
    },
    {
      "cell_type": "markdown",
      "source": [
        "Напишите запрос, вычисляющий разницу между самыми высокими зарплатами в отделах маркетинга и инженерии. Выведите только абсолютную разницу в зарплатах.  \n",
        "https://platform.stratascratch.com/coding/10308-salaries-differences?code_type=3"
      ],
      "metadata": {
        "id": "yMrAApoEDiMV"
      }
    },
    {
      "cell_type": "code",
      "source": [
        "sql = '''\n",
        "select abs(max(salary) - (select max(salary) \n",
        "from db_employee\n",
        "inner join db_dept on db_dept.id = db_employee.department_id\n",
        "where department = 'engineering'))\n",
        "from db_employee\n",
        "inner join db_dept on db_dept.id = db_employee.department_id\n",
        "where department = 'marketing';\n",
        "'''"
      ],
      "metadata": {
        "id": "Za7Cwm0PDiMV"
      },
      "execution_count": null,
      "outputs": []
    },
    {
      "cell_type": "markdown",
      "source": [
        "## Задачи уровня Medium"
      ],
      "metadata": {
        "id": "N3PBxAxWCY3b"
      }
    },
    {
      "cell_type": "markdown",
      "source": [
        "### Задание 20"
      ],
      "metadata": {
        "id": "AbKQJfsnRgrE"
      }
    },
    {
      "cell_type": "markdown",
      "source": [
        "Найдите подходящие пары хозяев и гостей, чтобы они были одного пола и национальности. Выведите идентификатор хоста и идентификатор гостя совпадающей пары.  \n",
        "https://platform.stratascratch.com/coding/10078-find-matching-hosts-and-guests-in-a-way-that-they-are-both-of-the-same-gender-and-nationality?code_type=3 "
      ],
      "metadata": {
        "id": "MxpOC7UjVuDR"
      }
    },
    {
      "cell_type": "code",
      "source": [
        "sql = '''\n",
        "select distinct(a.host_id), t.guest_id\n",
        "from airbnb_guests t\n",
        "left join airbnb_hosts a on a.nationality = t.nationality and\n",
        "a.gender = t.gender\n",
        "'''"
      ],
      "metadata": {
        "id": "SKOtsZJ1V5vB"
      },
      "execution_count": null,
      "outputs": []
    },
    {
      "cell_type": "markdown",
      "source": [
        "### Задание 21"
      ],
      "metadata": {
        "id": "JKRjNfacOgKu"
      }
    },
    {
      "cell_type": "markdown",
      "source": [
        "Найдите количество квартир по национальностям, принадлежащих лицам моложе 30 лет. Выведите национальность вместе с количеством квартир. Отсортировать записи по количеству квартир в порядке убывания.  \n",
        "https://platform.stratascratch.com/coding/10156-number-of-units-per-nationality?code_type=3"
      ],
      "metadata": {
        "id": "LZuUhC-GWB9h"
      }
    },
    {
      "cell_type": "code",
      "source": [
        "sql = '''\n",
        "with\n",
        "group_host as (\n",
        "select t.* \n",
        "from  airbnb_units t\n",
        ")\n",
        "\n",
        "\n",
        "select t.nationality, count(*)\n",
        "from \n",
        "(\n",
        "select distinct t.unit_id, a.nationality\n",
        "from group_host t\n",
        "left join airbnb_hosts a on a.host_id = t.host_id\n",
        "where a.age < 30 and t.unit_type = 'Apartment'\n",
        ") t\n",
        "'''"
      ],
      "metadata": {
        "id": "kQoOErSQJn1z"
      },
      "execution_count": null,
      "outputs": []
    },
    {
      "cell_type": "markdown",
      "source": [
        "### Задание 22"
      ],
      "metadata": {
        "id": "0BZ1BnULJn4X"
      }
    },
    {
      "cell_type": "markdown",
      "source": [
        "Найдите лучшие бизнес-категории на основе общего количества отзывов. Выведите категорию вместе с общим количеством отзывов. Упорядочить по общему количеству отзывов в порядке убывания.  \n",
        "https://platform.stratascratch.com/coding/10049-reviews-of-categories?code_type=3"
      ],
      "metadata": {
        "id": "vAuYsUAPWgeq"
      }
    },
    {
      "cell_type": "code",
      "source": [
        "sql = '''\n",
        "WITH numbers AS (\n",
        "    SELECT 1 AS n\n",
        "    UNION ALL\n",
        "    SELECT 2 AS n\n",
        "    UNION ALL\n",
        "    SELECT 3 AS n\n",
        "    UNION ALL\n",
        "    SELECT 4 AS n\n",
        "    UNION ALL\n",
        "    SELECT 5 AS n\n",
        "    UNION ALL\n",
        "    SELECT 6 AS n\n",
        "    UNION ALL\n",
        "    SELECT 7 AS n\n",
        "    UNION ALL\n",
        "    SELECT 8 AS n\n",
        "    UNION ALL\n",
        "    SELECT 9 AS n\n",
        "    UNION ALL\n",
        "    SELECT 10 AS n\n",
        "    UNION ALL\n",
        "    SELECT 11 AS n\n",
        "    UNION ALL\n",
        "    SELECT 12 AS n\n",
        ")\n",
        "\n",
        "select\n",
        "    SUBSTRING_INDEX(SUBSTRING_INDEX(t1.categories, ';', t2.n), ';',-1) AS category,\n",
        "    SUM(t1.review_count) AS review_cnt\n",
        "from yelp_business as t1\n",
        "JOIN numbers AS t2 ON LENGTH(t1.categories)-LENGTH(REPLACE(t1.categories, ';', ''))>=t2.n-1\n",
        "group by category\n",
        "order by review_cnt desc\n",
        "'''"
      ],
      "metadata": {
        "id": "4tJM9-aLWjUZ"
      },
      "execution_count": null,
      "outputs": []
    },
    {
      "cell_type": "markdown",
      "source": [
        "### Задание 23"
      ],
      "metadata": {
        "id": "OSG9BKjwWqZ0"
      }
    },
    {
      "cell_type": "markdown",
      "source": [
        "Найдите сотрудника с самой высокой зарплатой в каждом отделе. Выведите название отдела, имя сотрудника и соответствующую зарплату.  \n",
        "https://platform.stratascratch.com/coding/9897-highest-salary-in-department?code_type=3"
      ],
      "metadata": {
        "id": "g3JlACDcWsNJ"
      }
    },
    {
      "cell_type": "code",
      "source": [
        "sql = '''\n",
        "select * \n",
        "from employee t\n",
        "where t.salary in (\n",
        "select max(t.salary) as max_sal\n",
        "from employee t\n",
        "group by t.department\n",
        ")\n",
        "'''"
      ],
      "metadata": {
        "id": "USCcgb3QW12q"
      },
      "execution_count": null,
      "outputs": []
    },
    {
      "cell_type": "markdown",
      "source": [
        "### Задание 24"
      ],
      "metadata": {
        "id": "muWgxAFHJQ1P"
      }
    },
    {
      "cell_type": "markdown",
      "source": [
        "Какие песни вошли в топ-10 рейтинга 2010 года? Выведите ранг, название группы и название песни, но не показывайте одну и ту же песню дважды. Отсортируйте результат на основе year_rank в порядке возрастания.  \n",
        "https://platform.stratascratch.com/coding/9650-find-the-top-10-ranked-songs-in-2010?code_type=3  "
      ],
      "metadata": {
        "id": "XCxYiBtyW6zJ"
      }
    },
    {
      "cell_type": "code",
      "source": [
        "sql = '''\n",
        "select distinct(t.group_name), t.year_rank , t.song_name  from\n",
        "(select * \n",
        "from billboard_top_100_year_end t\n",
        "where t.year = 2010) t\n",
        "where t.year_rank between 1 and 10\n",
        "order by  t.year_rank\n",
        "'''"
      ],
      "metadata": {
        "id": "h1WWYK_oXGMa"
      },
      "execution_count": null,
      "outputs": []
    },
    {
      "cell_type": "markdown",
      "source": [
        "### Задание 25"
      ],
      "metadata": {
        "id": "3pXLqQgNJQ4b"
      }
    },
    {
      "cell_type": "markdown",
      "source": [
        "Каков общий уровень принятия друзей по дате? В вашем выводе должна быть скорость принятия на дату отправки запроса. Заказ от самой ранней даты до самой поздней.\n",
        "\n",
        "\n",
        "Предположим, что каждый запрос на добавление в друзья начинается с отправки пользователем (т. е. user_id_sender) запроса на добавление в друзья другому пользователю (т. е. user_id_receiver), который зарегистрирован в таблице с действием = 'sent'. Если запрос принят, в таблице записывается action = 'accepted'. Если запрос не принят, запись о действии = «принято» не регистрируется.  \n",
        "https://platform.stratascratch.com/coding/10285-acceptance-rate-by-date?tabname=question "
      ],
      "metadata": {
        "id": "EU6EO7bLXSAJ"
      }
    },
    {
      "cell_type": "code",
      "source": [
        "sql = '''\n",
        "with\n",
        "date_04 as (\n",
        "select t.*,\n",
        "lag(t.date) over (partition by t.user_id_sender order by t.action) as data_accept,\n",
        "case when lag(t.date) over (partition by t.user_id_sender order by t.action)\n",
        "is not null then 1 else 0 end as result\n",
        "from fb_friend_requests t\n",
        "order by user_id_sender\n",
        ")\n",
        "'''"
      ],
      "metadata": {
        "id": "6X29PgznXOYc"
      },
      "execution_count": null,
      "outputs": []
    },
    {
      "cell_type": "markdown",
      "source": [
        "### Задание 26"
      ],
      "metadata": {
        "id": "6cUbxo33XrA6"
      }
    },
    {
      "cell_type": "markdown",
      "source": [
        "Найдите клиента с самой высокой суммой дневных заказов в период с 01.02.2019 по 01.05.2019. Если у клиента было более одного заказа в определенный день, суммируйте стоимость заказа ежедневно. Выведите имя клиента, общую стоимость его товаров и дату.  \n",
        "https://platform.stratascratch.com/coding/9915-highest-cost-orders?code_type=3"
      ],
      "metadata": {
        "id": "aZAFv2wvXsTI"
      }
    },
    {
      "cell_type": "code",
      "source": [
        "sql = '''\n",
        "select t.first_name, sum(o.total_order_cost) as sum_ord, o.order_date\n",
        "from customers t\n",
        "left join orders o on o.cust_id = t.id\n",
        "where order_date BETWEEN '2019-02-01' AND '2019-05-01'\n",
        "group by t.id, o.order_date\n",
        "order by sum_ord desc\n",
        "limit 1\n",
        "'''"
      ],
      "metadata": {
        "id": "OUsKQCH5XoNJ"
      },
      "execution_count": null,
      "outputs": []
    },
    {
      "cell_type": "markdown",
      "source": [
        "### Задание 27"
      ],
      "metadata": {
        "id": "ynmYgDuNYXBi"
      }
    },
    {
      "cell_type": "markdown",
      "source": [
        "Классифицируйте каждое предприятие как ресторан, кафе, школу или другое. В названии ресторана должно быть слово \"restaurant\". Для кафе в названии могут быть слова \"cafe\", «café» или «coffee». «School» должна быть в названии школы. Все другие предприятия следует классифицировать как «other». Выведите название компании и рассчитанную классификацию.  \n",
        "https://platform.stratascratch.com/coding/9726-classify-business-type?code_type=3"
      ],
      "metadata": {
        "id": "Jt4IIRezYZwA"
      }
    },
    {
      "cell_type": "code",
      "source": [
        "sql = '''\n",
        "select business_name, type from\n",
        "(select distinct(binary business_name), business_name,\n",
        "    case\n",
        "        when business_name like '%restaurant%' then 'restaurant'\n",
        "        when business_name like '%cafe%' then 'cafe'\n",
        "        when business_name like '%café%' then 'cafe'\n",
        "        when business_name like '%coffee%' then 'cafe'\n",
        "        when business_name like '%school%' then 'school'\n",
        "        else 'other'\n",
        "    end type\n",
        "from sf_restaurant_health_violations) res;\n",
        "'''"
      ],
      "metadata": {
        "id": "hPuTGc6SXOgO"
      },
      "execution_count": null,
      "outputs": []
    },
    {
      "cell_type": "markdown",
      "source": [
        "### Задание 28"
      ],
      "metadata": {
        "id": "oBliqd8GY1C5"
      }
    },
    {
      "cell_type": "markdown",
      "source": [
        "Найдите олимпиаду с наибольшим количеством спортсменов. Олимпийская игра представляет собой комбинацию года и сезона и находится в столбце 'games'. Выведите Олимпиаду вместе с соответствующим количеством спортсменов.  \n",
        "https://platform.stratascratch.com/coding/9942-largest-olympics?code_type=3"
      ],
      "metadata": {
        "id": "QP_WJiz3Y2bY"
      }
    },
    {
      "cell_type": "code",
      "source": [
        "sql = '''\n",
        "select t.games,count(distinct t.name) as num\n",
        "from olympics_athletes_events t\n",
        "group by t.games\n",
        "order by num desc\n",
        "limit 1\n",
        "'''"
      ],
      "metadata": {
        "id": "aoNpAiZ1aU4k"
      },
      "execution_count": null,
      "outputs": []
    },
    {
      "cell_type": "markdown",
      "source": [
        "### Задание 29"
      ],
      "metadata": {
        "id": "aqDeuQ2iaY9o"
      }
    },
    {
      "cell_type": "markdown",
      "source": [
        "Найдите среднюю общую компенсацию на основе должностей сотрудников и пола. Общая компенсация рассчитывается путем сложения как оклада, так и премии каждого сотрудника. Однако не каждый сотрудник получает бонус, поэтому не учитывайте при расчете сотрудников без бонусов. Сотрудник может получить более одного бонуса. Выведите должность сотрудника, пол (т. е. пол), а также среднюю общую компенсацию.  \n",
        "https://platform.stratascratch.com/coding/10077-income-by-title-and-gender?code_type=3 "
      ],
      "metadata": {
        "id": "EXzC5eL-aclo"
      }
    },
    {
      "cell_type": "code",
      "source": [
        "sql = '''\n",
        "with \n",
        "bonus as (\n",
        "select t.worker_ref_id, sum(t.bonus) as bonus\n",
        "from sf_bonus t\n",
        "group by t.worker_ref_id\n",
        ")\n",
        "\n",
        "select s.employee_title, s.sex, avg(s.salary + t.bonus)\n",
        "from bonus t\n",
        "inner join sf_employee s on s.id = t.worker_ref_id \n",
        "group by  s.employee_title, s.sex\n",
        "'''"
      ],
      "metadata": {
        "id": "ODAAiCafXOh2"
      },
      "execution_count": null,
      "outputs": []
    },
    {
      "cell_type": "markdown",
      "source": [
        "### Задание 30"
      ],
      "metadata": {
        "id": "X28ckX-MaoWQ"
      }
    },
    {
      "cell_type": "markdown",
      "source": [
        "Найдите песни, которые заняли первое место. Выведите название трека и количество раз, когда он занимал первое место. Отсортируйте свои записи по количеству раз, когда песня была на верхней позиции в порядке убывания.  \n",
        "https://platform.stratascratch.com/coding/9991-top-ranked-songs?code_type=3"
      ],
      "metadata": {
        "id": "1nC_AlYEaudA"
      }
    },
    {
      "cell_type": "code",
      "source": [
        "sql = '''\n",
        "select t.trackname, count(*) as num\n",
        "from spotify_worldwide_daily_song_ranking t\n",
        "group by t.position,t.trackname\n",
        "having t.position = 1\n",
        "order by num desc\n",
        "'''"
      ],
      "metadata": {
        "id": "saBhNpOda3EX"
      },
      "execution_count": null,
      "outputs": []
    },
    {
      "cell_type": "markdown",
      "source": [
        "### Задание 31"
      ],
      "metadata": {
        "id": "0mWM2CzXeOB4"
      }
    },
    {
      "cell_type": "markdown",
      "source": [
        "Найдите самую высокую цель, достигнутую сотрудником или сотрудниками, работающими под идентификатором менеджера 13. Выведите имя сотрудника и достигнутую цель. Решение должно показывать самую высокую цель, достигнутую при manager_id=13, и какие сотрудники ее достигли.  \n",
        "https://platform.stratascratch.com/coding/9905-highest-target-under-manager?code_type=3"
      ],
      "metadata": {
        "id": "gFVYV-2NeQLp"
      }
    },
    {
      "cell_type": "code",
      "source": [
        "sql = '''\n",
        "select *\n",
        "from (select * \n",
        "from salesforce_employees t\n",
        "where t.manager_id = 13) t\n",
        "where t.target = (\n",
        "select max(t.target) from \n",
        "salesforce_employees t\n",
        "where t.manager_id = 13\n",
        ")\n",
        "'''"
      ],
      "metadata": {
        "id": "p9OuA72DegEH"
      },
      "execution_count": null,
      "outputs": []
    },
    {
      "cell_type": "markdown",
      "source": [
        "### Задание 32"
      ],
      "metadata": {
        "id": "Lid3RUEhei4A"
      }
    },
    {
      "cell_type": "markdown",
      "source": [
        "Найдите все винодельни, производящие вина с ароматами сливы, вишни, розы или лесного ореха. Чтобы было проще, ищите только единичные формы упомянутых ароматов. Выводить только уникальные значения винодельни.  \n",
        "https://platform.stratascratch.com/coding/10026-find-all-wineries-which-produce-wines-by-possessing-aromas-of-plum-cherry-rose-or-hazelnut?code_type=3"
      ],
      "metadata": {
        "id": "JMDDYozRekh_"
      }
    },
    {
      "cell_type": "code",
      "source": [
        "sql = '''\n",
        "select t.winery\n",
        "from winemag_p1 t\n",
        "where (lower(description) like '%plum%' and  description not like '%plump%' \n",
        "and  description not like '%plummy%')\n",
        "or lower(description) like '%cherry%' \n",
        "or lower(description) like 'rose%' \n",
        "or lower(description) like '%hazelnut%'\n",
        "group by winery\n",
        "'''"
      ],
      "metadata": {
        "id": "JHw2hV6YfADv"
      },
      "execution_count": null,
      "outputs": []
    },
    {
      "cell_type": "markdown",
      "source": [
        "### Задание 33"
      ],
      "metadata": {
        "id": "AgTPFJX6fERH"
      }
    },
    {
      "cell_type": "markdown",
      "source": [
        "Напишите запрос, который будет идентифицировать возвращающихся активных пользователей. Вернувшийся активный пользователь — это пользователь, совершивший вторую покупку в течение 7 дней после любой другой покупки. Выведите список user_id этих вернувшихся активных пользователей.  \n",
        "https://platform.stratascratch.com/coding/10322-finding-user-purchases?code_type=3"
      ],
      "metadata": {
        "id": "Ou0USxsEfFsf"
      }
    },
    {
      "cell_type": "code",
      "source": [
        "sql = '''\n",
        "with\n",
        "table_data as (\n",
        "select t.user_id, t.created_at,\n",
        "lag(t.created_at) over (partition by t.user_id order by t.created_at) as last_data\n",
        "from amazon_transactions t\n",
        "),\n",
        "\n",
        "main_table as (\n",
        "select t.*, \n",
        "case when last_data is not null then abs(DATEDIFF(t.last_data,t.created_at)) end as diff_data\n",
        "from table_data t\n",
        "),\n",
        "\n",
        "active_user_table as ( select t.*,\n",
        "case when t.diff_data <= 7  then 1 else 0 end as active_user_id\n",
        "from main_table t\n",
        ")\n",
        "\n",
        "select distinct t.user_id\n",
        "from active_user_table t\n",
        "where t.active_user_id = 1\n",
        "'''"
      ],
      "metadata": {
        "id": "3moxbeI0fLBX"
      },
      "execution_count": null,
      "outputs": []
    },
    {
      "cell_type": "markdown",
      "source": [
        "## Задачи уровня Hard"
      ],
      "metadata": {
        "id": "NWoHUOs5C6jf"
      }
    },
    {
      "cell_type": "markdown",
      "source": [
        "### Задание 34"
      ],
      "metadata": {
        "id": "uCb0oV79a6mq"
      }
    },
    {
      "cell_type": "markdown",
      "source": [
        "Найдите, сколько раз слова «bull» и «bear» встречаются в тексте. Мы подсчитываем, сколько раз встречаются слова, поэтому такие слова, как «bullish», не должны включаться в наш подсчет. Выведите слова «bull» и «bear» вместе с соответствующим количеством вхождений.  \n",
        "https://platform.stratascratch.com/coding/9814-counting-instances-in-text?code_type=3"
      ],
      "metadata": {
        "id": "mcXnEAgobAMo"
      }
    },
    {
      "cell_type": "code",
      "source": [
        "sql = '''\n",
        "with\n",
        "main as (select \n",
        "case when t.contents like '%bull%' then 'bull' end as ber,\n",
        "count(case when t.contents like '%bull%' then 1 end) as cnt\n",
        "from google_file_store t\n",
        "union all\n",
        "select \n",
        "case when t.contents like '%bear%' then 'bear' end as ber,\n",
        "count(case when t.contents like '%bear%' then 1 end) as cnt\n",
        "from google_file_store t\n",
        "group by ber\n",
        "order by cnt desc\n",
        "limit 2\n",
        ")\n",
        "\n",
        "select distinct t.bear, m.cnt from (\n",
        "select \n",
        "case when t.contents like '%bear%' then 'bear' else 'bull' end as bear\n",
        "from google_file_store t\n",
        ") t\n",
        "left join main m on m.ber = t.bear\n",
        "'''"
      ],
      "metadata": {
        "id": "hBptckIIXOjj"
      },
      "execution_count": null,
      "outputs": []
    },
    {
      "cell_type": "markdown",
      "source": [
        "### Задание 35"
      ],
      "metadata": {
        "id": "pZCFrxb1bWk6"
      }
    },
    {
      "cell_type": "markdown",
      "source": [
        "Найдите 5 лучших штатов с наибольшим количеством 5-звездочных компаний. Выведите название штата вместе с количеством 5-звездочных предприятий и упорядочите записи по количеству 5-звездочных предприятий в порядке убывания. В случае совпадения количества предприятий вернуть все уникальные состояния. Если два состояния имеют одинаковый результат, отсортируйте их в алфавитном порядке.  \n",
        "https://platform.stratascratch.com/coding/10046-top-5-states-with-5-star-businesses?code_type=3"
      ],
      "metadata": {
        "id": "lGeX9leAbYwC"
      }
    },
    {
      "cell_type": "code",
      "source": [
        "sql = '''\n",
        "select t.state, t.cnt \n",
        "from (\n",
        "select t.state, count(t.stars) as cnt,\n",
        "dense_rank() over (order by count(t.stars) desc) as rnk\n",
        "from yelp_business t\n",
        "where t.stars = 5\n",
        "group by t.state\n",
        ") t\n",
        "where rnk < 5\n",
        "'''"
      ],
      "metadata": {
        "id": "-MNMsWzebf6o"
      },
      "execution_count": null,
      "outputs": []
    },
    {
      "cell_type": "markdown",
      "source": [
        "### Задание 36"
      ],
      "metadata": {
        "id": "HQVbDD-zbjQL"
      }
    },
    {
      "cell_type": "markdown",
      "source": [
        "Имея таблицу покупок по дате, рассчитайте процентное изменение дохода по месяцам. Выходные данные должны включать дату года-месяца (ГГГГ-ММ) и процентное изменение, округленное до 2-го десятичного знака, и отсортированное от начала года до конца года. Столбец процентного изменения будет заполняться, начиная со второго месяца, и может быть рассчитан как ((доход в этом месяце - доход в прошлом месяце) / доход в прошлом месяце) * 100.  \n",
        "https://platform.stratascratch.com/coding/10319-monthly-percentage-difference?code_type=3"
      ],
      "metadata": {
        "id": "nsKJtOxGbkz7"
      }
    },
    {
      "cell_type": "code",
      "source": [
        "sql = '''\n",
        "select t.date,\n",
        "round(((val - LAG(t.val) over ()) / LAG(t.val) over ()) * 100, 2)\n",
        "from (\n",
        "select \n",
        "DATE_FORMAT(created_at,'%Y-%m') as date, sum(value) as val\n",
        "from sf_transactions t\n",
        "group by date\n",
        ") t\n",
        "'''"
      ],
      "metadata": {
        "id": "iuSSUYqgbsvA"
      },
      "execution_count": null,
      "outputs": []
    },
    {
      "cell_type": "markdown",
      "source": [
        "### Задание 37"
      ],
      "metadata": {
        "id": "q3p-uuOrbwRJ"
      }
    },
    {
      "cell_type": "markdown",
      "source": [
        "У вас есть таблица покупок в приложении по пользователям. Пользователи, совершившие первую покупку в приложении, участвуют в маркетинговой кампании, где видят призывы к действию для дополнительных покупок в приложении. Найдите количество пользователей, которые сделали дополнительные покупки в приложении благодаря успеху маркетинговой кампании.\n",
        "\n",
        "\n",
        "Маркетинговая кампания начинается только через день после первоначальной покупки в приложении, поэтому пользователи, совершившие только одну или несколько покупок в первый день, не учитываются, а также мы не учитываем пользователей, которые со временем покупают только те продукты, которые они приобрели в первый день.\n",
        "https://platform.stratascratch.com/coding/514-marketing-campaign-success-advanced?code_type=3  "
      ],
      "metadata": {
        "id": "Y77HSHX-bx_Q"
      }
    },
    {
      "cell_type": "code",
      "source": [
        "sql = '''\n",
        "select  count(distinct user_id)\n",
        "from\n",
        "(\n",
        "select *,\n",
        "DENSE_RANK() over (partition by t.user_id order by t.created_at) as rnk_date,\n",
        "DENSE_RANK() over (partition by t.user_id,product_id order by created_at) as rnk_prod\n",
        "from marketing_campaign t\n",
        ") t\n",
        "where t.rnk_date != 1 and t.rnk_prod = 1\n",
        "'''"
      ],
      "metadata": {
        "id": "4kSOqYNJb5GI"
      },
      "execution_count": null,
      "outputs": []
    },
    {
      "cell_type": "markdown",
      "source": [
        "### Задание 38"
      ],
      "metadata": {
        "id": "jo-mVInVb8lo"
      }
    },
    {
      "cell_type": "markdown",
      "source": [
        "Найдите общее количество загрузок для платных и бесплатных пользователей по дате. Включайте только те записи, в которых неоплачиваемые клиенты имеют больше загрузок, чем платные клиенты. Вывод должен быть сначала отсортирован по самой ранней дате и содержать дату в 3 столбцах, бесплатные загрузки, платные загрузки.  \n",
        "https://platform.stratascratch.com/coding/10300-premium-vs-freemium?code_type=3"
      ],
      "metadata": {
        "id": "gIl8DSmfb_DY"
      }
    },
    {
      "cell_type": "code",
      "source": [
        "sql = '''\n",
        "with\n",
        "non_paying as (\n",
        "select  d.date, a.paying_customer, sum(d.downloads) as non_paying\n",
        "from ms_user_dimension u\n",
        "left join ms_acc_dimension a on u.acc_id = a.acc_id\n",
        "left join ms_download_facts d on u.user_id = d.user_id\n",
        "where paying_customer = 'no'\n",
        "group by  d.date, a.paying_customer\n",
        "order by date),\n",
        "\n",
        "yes_paying as (\n",
        "select  d.date, a.paying_customer, sum(d.downloads) as yes_paying\n",
        "from ms_user_dimension u\n",
        "left join ms_acc_dimension a on u.acc_id = a.acc_id\n",
        "left join ms_download_facts d on u.user_id = d.user_id\n",
        "where paying_customer = 'yes'\n",
        "group by  d.date, a.paying_customer\n",
        "order by date),\n",
        "\n",
        "main as (select distinct d.date, n.non_paying\n",
        "from ms_user_dimension u\n",
        "left join ms_acc_dimension a on u.acc_id = a.acc_id\n",
        "left join ms_download_facts d on u.user_id = d.user_id\n",
        "join non_paying n on n.paying_customer = a.paying_customer\n",
        "and n.date = d.date\n",
        "\n",
        "having date not in (\n",
        "select t.date\n",
        "from (\n",
        "select *,\n",
        "lag(t.sum_down) over (order by date,paying_customer) as pred\n",
        "from \n",
        "(\n",
        "select a.paying_customer, d.date, sum(d.downloads) as sum_down\n",
        "from ms_user_dimension u\n",
        "left join ms_acc_dimension a on u.acc_id = a.acc_id\n",
        "left join ms_download_facts d on u.user_id = d.user_id\n",
        "group by a.paying_customer, d.date\n",
        "order by date\n",
        ") t\n",
        "order by date,paying_customer\n",
        ") t\n",
        "where paying_customer = 'yes' and (sum_down-pred) >= 0\n",
        ")\n",
        "order by date)\n",
        "\n",
        "select t.date,non_paying,yes_paying\n",
        "from main t\n",
        "join yes_paying y on y.date = t.date\n",
        "'''"
      ],
      "metadata": {
        "id": "HB-RB1ZVXOli"
      },
      "execution_count": null,
      "outputs": []
    },
    {
      "cell_type": "markdown",
      "source": [
        "### Задание 39"
      ],
      "metadata": {
        "id": "rMUj0067cMvR"
      }
    },
    {
      "cell_type": "markdown",
      "source": [
        "Вам предоставляется таблица поиска арендной недвижимости пользователями. Таблица состоит из результатов поиска и выводит информацию о хосте для искателей. Найдите минимальную, среднюю и максимальную цены аренды для рейтинга популярности каждого хоста. Рейтинг популярности хоста определяется следующим образом: 0 отзывов: Новый От 1 до 5 отзывов: Поднимается От 6 до 15 отзывов: В тренде От 16 до 40 отзывов: Популярный Более 40 отзывов:\n",
        "\n",
        "Выведите рейтинг популярности хостов и их минимальную, среднюю и максимальную стоимость аренды.  \n",
        "https://platform.stratascratch.com/coding/9632-host-popularity-rental-prices?code_type=3"
      ],
      "metadata": {
        "id": "fNB_xrb2cPSj"
      }
    },
    {
      "cell_type": "code",
      "source": [
        "sql = '''\n",
        "select t.type, min(t.price) as min_price, avg(t.price) as avg_price, max(t.price) as max_prica\n",
        "from (\n",
        "select *, concat(price, room_type, host_since, zipcode,number_of_reviews) as id_house, sum(number_of_reviews) as num_sum,\n",
        "case \n",
        "when sum(number_of_reviews) = 0 then 'New' \n",
        "when (sum(number_of_reviews) >= 1 and sum(number_of_reviews) <= 5) then 'Rising' \n",
        "when sum(number_of_reviews) >= 6 and sum(number_of_reviews) <= 15 then 'Trending Up' \n",
        "when sum(number_of_reviews) >= 16 and sum(number_of_reviews) <= 40 then 'Popular' \n",
        "when sum(number_of_reviews) > 40  then 'Hot'\n",
        "end as type\n",
        "from airbnb_host_searches\n",
        "group  by id_house\n",
        ") t\n",
        "group by t.type\n",
        "'''"
      ],
      "metadata": {
        "id": "clQTN9Uwcbvn"
      },
      "execution_count": null,
      "outputs": []
    },
    {
      "cell_type": "markdown",
      "source": [
        "### Задание 40"
      ],
      "metadata": {
        "id": "rfAbcRPhXOnE"
      }
    },
    {
      "cell_type": "markdown",
      "source": [
        "Найдите процент популярности каждого пользователя на Meta/Facebook. Процент популярности определяется как общее количество друзей, которых пользователь разделил на общее количество пользователей на платформе, а затем преобразовал в процент, умножив на 100. Выведите каждого пользователя вместе с его процентом популярности. Упорядочить записи в порядке возрастания по идентификатору пользователя. Столбцы «user1» и «user2» — это пары друзей.  \n",
        "https://platform.stratascratch.com/coding/10284-popularity-percentage?code_type=3"
      ],
      "metadata": {
        "id": "nXnXtP5Cc8Qo"
      }
    },
    {
      "cell_type": "code",
      "source": [
        "sql = '''\n",
        "select t.user1, (t.sum_fr / (select count(*) from facebook_friends)) * 100 as popularity \n",
        "from\n",
        "(select t.user1, count(*) as sum_fr\n",
        "from (\n",
        "select t.user1, t.user2 \n",
        "from facebook_friends t\n",
        "union all\n",
        "select t.user2, t.user1 \n",
        "from facebook_friends t\n",
        ") t\n",
        "group by t.user1) t\n",
        "order by t.user1\n",
        "'''"
      ],
      "metadata": {
        "id": "3t9jdL5fdAPK"
      },
      "execution_count": null,
      "outputs": []
    },
    {
      "cell_type": "markdown",
      "source": [
        "# IT Resume"
      ],
      "metadata": {
        "id": "9ohZZ99EXOs2"
      }
    },
    {
      "cell_type": "markdown",
      "source": [
        "**Все запросы написаны на Postgresql**"
      ],
      "metadata": {
        "id": "8P6kdWTqcqCl"
      }
    },
    {
      "cell_type": "markdown",
      "source": [
        "## Задачи уровня Medium"
      ],
      "metadata": {
        "id": "XJxx_NO8EmOL"
      }
    },
    {
      "cell_type": "markdown",
      "source": [
        "### Задание 41"
      ],
      "metadata": {
        "id": "l0JGU6mcnXve"
      }
    },
    {
      "cell_type": "markdown",
      "source": [
        "Вывести клиентов из таблицы clients, у которых почта удовлетворяет шаблону:\n",
        "\n",
        "* в основной части почтового адреса присутствует хотя бы одна буква а\n",
        "* после символа @ идет либо iitp.ru, либо mail.ru  \n",
        "https://itresume.ru/problems/company-regexp-where"
      ],
      "metadata": {
        "id": "6r0KpyItnfrH"
      }
    },
    {
      "cell_type": "code",
      "source": [
        "sql = '''\n",
        "select id_cl, email\n",
        "from clients\n",
        "where email SIMILAR TO '%a%@%' and\n",
        "(email SIMILAR TO '%@iitp.ru' or email SIMILAR TO '%@mail.ru')\n",
        "'''"
      ],
      "metadata": {
        "id": "ubwJSP4XXOu1"
      },
      "execution_count": null,
      "outputs": []
    },
    {
      "cell_type": "markdown",
      "source": [
        "### Задание 42"
      ],
      "metadata": {
        "id": "ExZ6KB76XOwt"
      }
    },
    {
      "cell_type": "markdown",
      "source": [
        "Вывести названия категорий из таблицы category_an, которые не встречаются в таблице orderitems.  \n",
        "https://itresume.ru/problems/company-categories-that-not-sold"
      ],
      "metadata": {
        "id": "_rfe2i9Enynv"
      }
    },
    {
      "cell_type": "code",
      "source": [
        "sql = '''\n",
        "select c.name from orderitems o\n",
        "left join analysis a on a.id_an = o.id_an\n",
        "full join category_an c on a.id_cat_an = c.id_cat_an\n",
        "where a.id_cat_an is null\n",
        "order by c.name \n",
        "'''"
      ],
      "metadata": {
        "id": "eABCRHayXOyh"
      },
      "execution_count": null,
      "outputs": []
    },
    {
      "cell_type": "markdown",
      "source": [
        "### Задание 43"
      ],
      "metadata": {
        "id": "m2fm8f2MXO0N"
      }
    },
    {
      "cell_type": "markdown",
      "source": [
        "В таблице transactions в какой-то момент появилась дублирующаяся строка. Выведите эту строку с помощью оператора GROUP BY.  \n",
        "https://itresume.ru/problems/company-find-duplicates-with-grouping"
      ],
      "metadata": {
        "id": "zFmtQDHfoIBH"
      }
    },
    {
      "cell_type": "code",
      "source": [
        "sql = '''\n",
        "select id_transaction,card_id,maincard_id,date,sum,\n",
        "type,employee,doc_id, cash_id,  shop_id, doc_type,disc_id,disc_source from transactions \n",
        "group by id_transaction,card_id,maincard_id,date,sum,\n",
        "type,employee,doc_id, cash_id,  shop_id, doc_type,disc_id,disc_source\n",
        "having count(*) > 1\n",
        "'''"
      ],
      "metadata": {
        "id": "IwqWgCpToLiJ"
      },
      "execution_count": null,
      "outputs": []
    },
    {
      "cell_type": "markdown",
      "source": [
        "### Задание 44"
      ],
      "metadata": {
        "id": "WPfBbYl6oO6r"
      }
    },
    {
      "cell_type": "markdown",
      "source": [
        "Для каждой строки вывести предыдущее и следующее значение sum в рамках текущего документа. Если предыдущего/следующего значения нет, вывести NULL.   \n",
        "https://itresume.ru/problems/company-next-and-prev"
      ],
      "metadata": {
        "id": "C7irVR2boQcm"
      }
    },
    {
      "cell_type": "code",
      "source": [
        "sql = '''\n",
        "select id,doc_id,sum,\n",
        "lead(sum) over(partition by doc_id ORDER BY id) as ld,\n",
        "lag(sum) over(partition by doc_id ORDER BY id) as lg\n",
        "from transactions\n",
        "order by id\n",
        "'''"
      ],
      "metadata": {
        "id": "x2Tlg5vxoVou"
      },
      "execution_count": null,
      "outputs": []
    },
    {
      "cell_type": "markdown",
      "source": [
        "### Задание 45"
      ],
      "metadata": {
        "id": "61mvBF5QofSQ"
      }
    },
    {
      "cell_type": "markdown",
      "source": [
        "Вывести:\n",
        "* ID анализа\n",
        "* его количество продаж в штуках в течение предыдущего года от 01.03.2019 до 01.03.2020 (включительно)\n",
        "* поле Группа (gr)\n",
        "\n",
        "Правило формирования групп:\n",
        "* если количество чеков от 10 (не включительно) до 20 (включительно), то Группа = 1\n",
        "* если больше 20, то Группа = 2\n",
        "* если меньше 10 (включительно), то Группа = 0  \n",
        "https://itresume.ru/problems/year-sales-group"
      ],
      "metadata": {
        "id": "UEcgep9Uoh_G"
      }
    },
    {
      "cell_type": "code",
      "source": [
        "sql = '''\n",
        "select an_id, count(*) as amount,\n",
        "case \n",
        "when count(*) <= 10 then 0\n",
        "when count(*) <= 20 then 1\n",
        "when count(*) > 20 then 2\n",
        "end gr\n",
        "from Analysis\n",
        "left join Orders on ord_an = an_id\n",
        "left join Groups on gr_id = an_id\n",
        "where ord_datetime::DATE >= '2019-03-01' and \n",
        "ord_datetime::DATE <= '2020-03-01'\n",
        "group by an_id\n",
        "order by an_id\n",
        "'''"
      ],
      "metadata": {
        "id": "vF4ogpZjovne"
      },
      "execution_count": null,
      "outputs": []
    },
    {
      "cell_type": "markdown",
      "source": [
        "### Задание 46"
      ],
      "metadata": {
        "id": "ItXa-44ro1Ne"
      }
    },
    {
      "cell_type": "markdown",
      "source": [
        "Нарастающим итогом рассчитать, как увеличивалось количество проданных тестов каждый месяц каждого года с разбивкой по группе.  \n",
        "https://itresume.ru/problems/monthly-sales-increase"
      ],
      "metadata": {
        "id": "vEnzVA49o4C-"
      }
    },
    {
      "cell_type": "code",
      "source": [
        "sql = '''\n",
        "with sales as (\n",
        "select  \n",
        "TO_CHAR(ord_datetime::date, 'yyyy') as year,\n",
        "TO_CHAR(ord_datetime::date, 'mm') as month,\n",
        "gr_id as group,\n",
        "count(ord_an) as cnt\n",
        "from Orders \n",
        "left join Analysis on an_id = ord_an\n",
        "left join Groups on gr_id = an_group\n",
        "group by \n",
        "TO_CHAR(ord_datetime::date, 'yyyy'),\n",
        "TO_CHAR(ord_datetime::date, 'mm'),\n",
        "gr_id\n",
        "  )\n",
        "  \n",
        "select s.year, s.month,\n",
        "s.group, \n",
        "sum(s.cnt) over (partition by s.group,s.year order by s.year, s.month)::integer\n",
        "from sales s\n",
        "order by s.group, s.year, s.month\n",
        "'''"
      ],
      "metadata": {
        "id": "WG216VU4o8v_"
      },
      "execution_count": null,
      "outputs": []
    },
    {
      "cell_type": "markdown",
      "source": [
        "### Задание 47"
      ],
      "metadata": {
        "id": "Jacpo4YGotk2"
      }
    },
    {
      "cell_type": "markdown",
      "source": [
        "Задание\n",
        "Вывести:\n",
        "* id транзакции\n",
        "* сумму текущего списания/начисления для данной транзакции\n",
        "общий баланс (списания - начисления) нарастающим итогом  \n",
        "https://itresume.ru/problems/company-cumsum "
      ],
      "metadata": {
        "id": "DuRotMSNR2wa"
      }
    },
    {
      "cell_type": "code",
      "source": [
        "sql = '''\n",
        "with table1 as (\n",
        "select id_transaction,\n",
        "case\n",
        "when type = 0 then sum\n",
        "else 0-sum end as summ \n",
        "from transactions)\n",
        "\n",
        "select id_transaction, summ,\n",
        "sum(summ) over (order by id_transaction) as cumsum \n",
        "from table1\n",
        "order by id_transaction \n",
        "'''"
      ],
      "metadata": {
        "id": "AjuSW-yBoT_O"
      },
      "execution_count": null,
      "outputs": []
    },
    {
      "cell_type": "markdown",
      "source": [
        "## Задачи уровня Hard"
      ],
      "metadata": {
        "id": "Dy2yJqhDE0C1"
      }
    },
    {
      "cell_type": "markdown",
      "source": [
        "### Задание 48"
      ],
      "metadata": {
        "id": "GwnqL4EFXO2S"
      }
    },
    {
      "cell_type": "markdown",
      "source": [
        "Задание\n",
        "* Необходимо вывести среднюю стоимость 5-ой покупки с разбивкой по городам.\n",
        "\n",
        "Примечание. Если один и тот же человек совершал покупки, но в разное время, то это считаем за разные покупки.  \n",
        "https://itresume.ru/problems/alpha-bank-avg-5th-purchase-price"
      ],
      "metadata": {
        "id": "ukjQ3I-xSMyN"
      }
    },
    {
      "cell_type": "code",
      "source": [
        "sql = '''\n",
        "with table1 as (\n",
        "select id_customer, town, created_at, price,\n",
        "row_number() over (partition by town, id_customer order by created_at, p.id) as rw\n",
        "from Customer c\n",
        "left join Purchases p on c.id_customer = p.user_id\n",
        "left join SKUS s on s.id = p.sku_id\n",
        "  )\n",
        "  \n",
        "select town, avg(price) as avg_price_5th_purchase from table1\n",
        "where rw = 5\n",
        "group by town\n",
        "order by avg_price_5th_purchase desc\n",
        "'''"
      ],
      "metadata": {
        "id": "IAOs_0e9XO4q"
      },
      "execution_count": null,
      "outputs": []
    },
    {
      "cell_type": "markdown",
      "source": [
        "### Задание 49"
      ],
      "metadata": {
        "id": "jM3aymGVXO6T"
      }
    },
    {
      "cell_type": "markdown",
      "source": [
        "![image.png](data:image/png;base64,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)"
      ],
      "metadata": {
        "id": "Bd3z3I4TdbHM"
      }
    },
    {
      "cell_type": "markdown",
      "source": [
        "Задание\n",
        "Задача состоит в том, чтобы вернуть интервалы подряд идущих чисел.  \n",
        "https://itresume.ru/problems/consecutive-numbers"
      ],
      "metadata": {
        "id": "E0ve12YCSfiU"
      }
    },
    {
      "cell_type": "code",
      "source": [
        "sql = '''\n",
        "with table1 as (\n",
        "select a, \n",
        "row_number() over () as rnk,\n",
        "a - row_number() over () as iter\n",
        "from Numbers\n",
        "  ),\n",
        "  \n",
        "table2 as (select distinct\n",
        "min(a) over (partition by iter) as start,\n",
        "max(a) over (partition by iter) as end\n",
        "from table1)\n",
        "\n",
        "select * from table2 t\n",
        "order by t.start asc\n",
        "'''"
      ],
      "metadata": {
        "id": "nvgRxgYpXO8Q"
      },
      "execution_count": null,
      "outputs": []
    },
    {
      "cell_type": "markdown",
      "source": [
        "### Задание 50"
      ],
      "metadata": {
        "id": "L3-u4je9XO_P"
      }
    },
    {
      "cell_type": "markdown",
      "source": [
        "Необходимо вывести сотрудников и дни, когда они находились на рабочем месте менее 8 часов.  \n",
        "https://itresume.ru/problems/employee-gate"
      ],
      "metadata": {
        "id": "oYMBZBRSSqeI"
      }
    },
    {
      "cell_type": "code",
      "source": [
        "sql = '''\n",
        "with table1 as (\n",
        "select employee, check_time::DATE AS check_date,\n",
        "coalesce(\n",
        "case\n",
        "  when is_entered = False\n",
        "  then check_time - LAG(check_time) over(partition by employee, check_time::date\n",
        "                                        order by check_time)\n",
        "  end,\n",
        "  interval '0'\n",
        ") as diff\n",
        "from gate\n",
        ")\n",
        "\n",
        "select employee, check_date, SUM(diff) from table1\n",
        "group by employee, check_date\n",
        "having SUM(diff) < interval '8 hours'\n",
        "'''"
      ],
      "metadata": {
        "id": "xN6gGLpGXPB9"
      },
      "execution_count": null,
      "outputs": []
    }
  ]
}